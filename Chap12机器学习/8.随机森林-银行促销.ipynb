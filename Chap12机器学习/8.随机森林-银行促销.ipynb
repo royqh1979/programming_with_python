{
 "cells": [
  {
   "cell_type": "code",
   "id": "71a5e0ea-dbae-47c2-825a-0837c952bfbe",
   "metadata": {
    "ExecuteTime": {
     "end_time": "2025-05-25T07:16:05.674241Z",
     "start_time": "2025-05-25T07:16:05.280390Z"
    }
   },
   "source": [
    "import matplotlib.pyplot as plt\n",
    "import matplotlib as mpl\n",
    "\n",
    "#使用中文字体\n",
    "mpl.rcParams['font.family']=['Microsoft Yahei','sans-serif']\n",
    "mpl.rcParams['axes.unicode_minus']=False\n",
    "\n",
    "#使用svg格式，避免图形模糊\n",
    "%matplotlib inline\n",
    "%config InlineBackend.figure_format=\"svg\""
   ],
   "outputs": [],
   "execution_count": 1
  },
  {
   "cell_type": "code",
   "id": "c2bad039-b686-440b-b125-aa01a5b7a413",
   "metadata": {
    "ExecuteTime": {
     "end_time": "2025-05-25T07:16:05.999139Z",
     "start_time": "2025-05-25T07:16:05.679226Z"
    }
   },
   "source": [
    "import pandas as pd\n",
    "df = pd.read_csv(\"bank.csv\")\n",
    "df.head()"
   ],
   "outputs": [
    {
     "data": {
      "text/plain": [
       "   age  default  balance  housing   loan  day  month  campaign  pdays  \\\n",
       "0   27    False       35    False  False    4      7         1     -1   \n",
       "1   54    False      466    False  False    4      7         1     -1   \n",
       "2   43    False      105    False  False    4      7         2     -1   \n",
       "3   31    False       19    False  False    4      7         2     -1   \n",
       "4   27    False      126    False  False    4      7         4     -1   \n",
       "\n",
       "   previous  ...  marital_single  education_primary  education_secondary  \\\n",
       "0         0  ...            True              False                 True   \n",
       "1         0  ...           False               True                False   \n",
       "2         0  ...           False              False                 True   \n",
       "3         0  ...            True              False                 True   \n",
       "4         0  ...            True              False                 True   \n",
       "\n",
       "   education_tertiary  contact_cellular  contact_telephone  poutcome_failure  \\\n",
       "0               False              True              False             False   \n",
       "1               False              True              False             False   \n",
       "2               False              True              False             False   \n",
       "3               False             False               True             False   \n",
       "4               False              True              False             False   \n",
       "\n",
       "   poutcome_other  poutcome_success  poutcome_unknown  \n",
       "0           False             False              True  \n",
       "1           False             False              True  \n",
       "2           False             False              True  \n",
       "3           False             False              True  \n",
       "4           False             False              True  \n",
       "\n",
       "[5 rows x 34 columns]"
      ],
      "text/html": [
       "<div>\n",
       "<style scoped>\n",
       "    .dataframe tbody tr th:only-of-type {\n",
       "        vertical-align: middle;\n",
       "    }\n",
       "\n",
       "    .dataframe tbody tr th {\n",
       "        vertical-align: top;\n",
       "    }\n",
       "\n",
       "    .dataframe thead th {\n",
       "        text-align: right;\n",
       "    }\n",
       "</style>\n",
       "<table border=\"1\" class=\"dataframe\">\n",
       "  <thead>\n",
       "    <tr style=\"text-align: right;\">\n",
       "      <th></th>\n",
       "      <th>age</th>\n",
       "      <th>default</th>\n",
       "      <th>balance</th>\n",
       "      <th>housing</th>\n",
       "      <th>loan</th>\n",
       "      <th>day</th>\n",
       "      <th>month</th>\n",
       "      <th>campaign</th>\n",
       "      <th>pdays</th>\n",
       "      <th>previous</th>\n",
       "      <th>...</th>\n",
       "      <th>marital_single</th>\n",
       "      <th>education_primary</th>\n",
       "      <th>education_secondary</th>\n",
       "      <th>education_tertiary</th>\n",
       "      <th>contact_cellular</th>\n",
       "      <th>contact_telephone</th>\n",
       "      <th>poutcome_failure</th>\n",
       "      <th>poutcome_other</th>\n",
       "      <th>poutcome_success</th>\n",
       "      <th>poutcome_unknown</th>\n",
       "    </tr>\n",
       "  </thead>\n",
       "  <tbody>\n",
       "    <tr>\n",
       "      <th>0</th>\n",
       "      <td>27</td>\n",
       "      <td>False</td>\n",
       "      <td>35</td>\n",
       "      <td>False</td>\n",
       "      <td>False</td>\n",
       "      <td>4</td>\n",
       "      <td>7</td>\n",
       "      <td>1</td>\n",
       "      <td>-1</td>\n",
       "      <td>0</td>\n",
       "      <td>...</td>\n",
       "      <td>True</td>\n",
       "      <td>False</td>\n",
       "      <td>True</td>\n",
       "      <td>False</td>\n",
       "      <td>True</td>\n",
       "      <td>False</td>\n",
       "      <td>False</td>\n",
       "      <td>False</td>\n",
       "      <td>False</td>\n",
       "      <td>True</td>\n",
       "    </tr>\n",
       "    <tr>\n",
       "      <th>1</th>\n",
       "      <td>54</td>\n",
       "      <td>False</td>\n",
       "      <td>466</td>\n",
       "      <td>False</td>\n",
       "      <td>False</td>\n",
       "      <td>4</td>\n",
       "      <td>7</td>\n",
       "      <td>1</td>\n",
       "      <td>-1</td>\n",
       "      <td>0</td>\n",
       "      <td>...</td>\n",
       "      <td>False</td>\n",
       "      <td>True</td>\n",
       "      <td>False</td>\n",
       "      <td>False</td>\n",
       "      <td>True</td>\n",
       "      <td>False</td>\n",
       "      <td>False</td>\n",
       "      <td>False</td>\n",
       "      <td>False</td>\n",
       "      <td>True</td>\n",
       "    </tr>\n",
       "    <tr>\n",
       "      <th>2</th>\n",
       "      <td>43</td>\n",
       "      <td>False</td>\n",
       "      <td>105</td>\n",
       "      <td>False</td>\n",
       "      <td>False</td>\n",
       "      <td>4</td>\n",
       "      <td>7</td>\n",
       "      <td>2</td>\n",
       "      <td>-1</td>\n",
       "      <td>0</td>\n",
       "      <td>...</td>\n",
       "      <td>False</td>\n",
       "      <td>False</td>\n",
       "      <td>True</td>\n",
       "      <td>False</td>\n",
       "      <td>True</td>\n",
       "      <td>False</td>\n",
       "      <td>False</td>\n",
       "      <td>False</td>\n",
       "      <td>False</td>\n",
       "      <td>True</td>\n",
       "    </tr>\n",
       "    <tr>\n",
       "      <th>3</th>\n",
       "      <td>31</td>\n",
       "      <td>False</td>\n",
       "      <td>19</td>\n",
       "      <td>False</td>\n",
       "      <td>False</td>\n",
       "      <td>4</td>\n",
       "      <td>7</td>\n",
       "      <td>2</td>\n",
       "      <td>-1</td>\n",
       "      <td>0</td>\n",
       "      <td>...</td>\n",
       "      <td>True</td>\n",
       "      <td>False</td>\n",
       "      <td>True</td>\n",
       "      <td>False</td>\n",
       "      <td>False</td>\n",
       "      <td>True</td>\n",
       "      <td>False</td>\n",
       "      <td>False</td>\n",
       "      <td>False</td>\n",
       "      <td>True</td>\n",
       "    </tr>\n",
       "    <tr>\n",
       "      <th>4</th>\n",
       "      <td>27</td>\n",
       "      <td>False</td>\n",
       "      <td>126</td>\n",
       "      <td>False</td>\n",
       "      <td>False</td>\n",
       "      <td>4</td>\n",
       "      <td>7</td>\n",
       "      <td>4</td>\n",
       "      <td>-1</td>\n",
       "      <td>0</td>\n",
       "      <td>...</td>\n",
       "      <td>True</td>\n",
       "      <td>False</td>\n",
       "      <td>True</td>\n",
       "      <td>False</td>\n",
       "      <td>True</td>\n",
       "      <td>False</td>\n",
       "      <td>False</td>\n",
       "      <td>False</td>\n",
       "      <td>False</td>\n",
       "      <td>True</td>\n",
       "    </tr>\n",
       "  </tbody>\n",
       "</table>\n",
       "<p>5 rows × 34 columns</p>\n",
       "</div>"
      ]
     },
     "execution_count": 2,
     "metadata": {},
     "output_type": "execute_result"
    }
   ],
   "execution_count": 2
  },
  {
   "cell_type": "code",
   "id": "b03b3ab4-ec5b-46ad-9772-45869c8563bc",
   "metadata": {
    "ExecuteTime": {
     "end_time": "2025-05-25T07:16:06.083134Z",
     "start_time": "2025-05-25T07:16:06.079355Z"
    }
   },
   "source": [
    "x = df.drop(columns=[\"y\"])\n",
    "y = df[\"y\"]"
   ],
   "outputs": [],
   "execution_count": 3
  },
  {
   "cell_type": "code",
   "id": "7c20857a-6321-4151-b88a-c86c6a2f689e",
   "metadata": {
    "ExecuteTime": {
     "end_time": "2025-05-25T07:16:06.667409Z",
     "start_time": "2025-05-25T07:16:06.126830Z"
    }
   },
   "source": [
    "#将数据分为训练集和验证集\n",
    "from sklearn.model_selection import train_test_split\n",
    "\n",
    "train_x,val_x,train_y,val_y=train_test_split(\n",
    "    x,y,train_size=0.7)"
   ],
   "outputs": [],
   "execution_count": 4
  },
  {
   "cell_type": "code",
   "id": "002715fd-da4a-4fac-b603-0ef30aa91607",
   "metadata": {
    "ExecuteTime": {
     "end_time": "2025-05-25T07:16:10.334026Z",
     "start_time": "2025-05-25T07:16:06.670425Z"
    }
   },
   "source": [
    "from sklearn.ensemble import RandomForestClassifier\n",
    "model = RandomForestClassifier(n_estimators=200)\n",
    "model = model.fit(train_x, train_y)"
   ],
   "outputs": [],
   "execution_count": 5
  },
  {
   "cell_type": "code",
   "id": "bdc29d08-cbe8-4963-afc3-6808bc1b4a21",
   "metadata": {
    "ExecuteTime": {
     "end_time": "2025-05-25T07:16:10.623380Z",
     "start_time": "2025-05-25T07:16:10.354874Z"
    }
   },
   "source": [
    "# 计算模型的指标值\n",
    "from sklearn.metrics import classification_report\n",
    "classification_report(val_y,model.predict(val_x), output_dict=True)"
   ],
   "outputs": [
    {
     "data": {
      "text/plain": [
       "{'False': {'precision': 0.8783799072293246,\n",
       "  'recall': 0.9820389577536048,\n",
       "  'f1-score': 0.9273215885338907,\n",
       "  'support': 7906.0},\n",
       " 'True': {'precision': 0.6728110599078341,\n",
       "  'recall': 0.21360643745427946,\n",
       "  'f1-score': 0.3242642976124375,\n",
       "  'support': 1367.0},\n",
       " 'accuracy': 0.8687587619971961,\n",
       " 'macro avg': {'precision': 0.7755954835685793,\n",
       "  'recall': 0.5978226976039421,\n",
       "  'f1-score': 0.6257929430731641,\n",
       "  'support': 9273.0},\n",
       " 'weighted avg': {'precision': 0.8480755166018601,\n",
       "  'recall': 0.8687587619971961,\n",
       "  'f1-score': 0.8384205514704132,\n",
       "  'support': 9273.0}}"
      ]
     },
     "execution_count": 6,
     "metadata": {},
     "output_type": "execute_result"
    }
   ],
   "execution_count": 6
  },
  {
   "cell_type": "code",
   "id": "c202a546-74c0-4884-897e-e1154f9144c8",
   "metadata": {
    "ExecuteTime": {
     "end_time": "2025-05-25T07:16:10.644828Z",
     "start_time": "2025-05-25T07:16:10.642814Z"
    }
   },
   "source": [],
   "outputs": [],
   "execution_count": null
  }
 ],
 "metadata": {
  "kernelspec": {
   "display_name": "Python 3 (ipykernel)",
   "language": "python",
   "name": "python3"
  },
  "language_info": {
   "codemirror_mode": {
    "name": "ipython",
    "version": 3
   },
   "file_extension": ".py",
   "mimetype": "text/x-python",
   "name": "python",
   "nbconvert_exporter": "python",
   "pygments_lexer": "ipython3",
   "version": "3.11.9"
  }
 },
 "nbformat": 4,
 "nbformat_minor": 5
}
