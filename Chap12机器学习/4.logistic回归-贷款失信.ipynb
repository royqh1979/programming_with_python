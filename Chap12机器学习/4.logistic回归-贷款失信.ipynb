{
 "cells": [
  {
   "cell_type": "code",
   "id": "c60a6c61-17ee-412d-92b1-b465090ee87d",
   "metadata": {
    "ExecuteTime": {
     "end_time": "2025-05-25T07:17:37.381025Z",
     "start_time": "2025-05-25T07:17:37.368051Z"
    }
   },
   "source": [
    "import matplotlib.pyplot as plt\n",
    "import matplotlib as mpl\n",
    "\n",
    "#使用中文字体\n",
    "mpl.rcParams['font.family']=['Microsoft Yahei','sans-serif']\n",
    "mpl.rcParams['axes.unicode_minus']=False\n",
    "\n",
    "#使用svg格式，避免图形模糊\n",
    "%matplotlib inline\n",
    "%config InlineBackend.figure_format=\"svg\""
   ],
   "outputs": [],
   "execution_count": 1
  },
  {
   "cell_type": "code",
   "id": "4123c76b-16c1-4a76-8278-3e38121428fb",
   "metadata": {
    "ExecuteTime": {
     "end_time": "2025-05-25T07:17:37.406298Z",
     "start_time": "2025-05-25T07:17:37.387Z"
    }
   },
   "source": [
    "import pandas as pd\n",
    "df = pd.read_csv(\"default.csv\", index_col=\"no\")\n",
    "df.head()"
   ],
   "outputs": [
    {
     "data": {
      "text/plain": [
       "   default student      balance        income\n",
       "no                                           \n",
       "1       No      No   729.526495  44361.625074\n",
       "2       No     Yes   817.180407  12106.134700\n",
       "3       No      No  1073.549164  31767.138947\n",
       "4       No      No   529.250605  35704.493935\n",
       "5       No      No   785.655883  38463.495879"
      ],
      "text/html": [
       "<div>\n",
       "<style scoped>\n",
       "    .dataframe tbody tr th:only-of-type {\n",
       "        vertical-align: middle;\n",
       "    }\n",
       "\n",
       "    .dataframe tbody tr th {\n",
       "        vertical-align: top;\n",
       "    }\n",
       "\n",
       "    .dataframe thead th {\n",
       "        text-align: right;\n",
       "    }\n",
       "</style>\n",
       "<table border=\"1\" class=\"dataframe\">\n",
       "  <thead>\n",
       "    <tr style=\"text-align: right;\">\n",
       "      <th></th>\n",
       "      <th>default</th>\n",
       "      <th>student</th>\n",
       "      <th>balance</th>\n",
       "      <th>income</th>\n",
       "    </tr>\n",
       "    <tr>\n",
       "      <th>no</th>\n",
       "      <th></th>\n",
       "      <th></th>\n",
       "      <th></th>\n",
       "      <th></th>\n",
       "    </tr>\n",
       "  </thead>\n",
       "  <tbody>\n",
       "    <tr>\n",
       "      <th>1</th>\n",
       "      <td>No</td>\n",
       "      <td>No</td>\n",
       "      <td>729.526495</td>\n",
       "      <td>44361.625074</td>\n",
       "    </tr>\n",
       "    <tr>\n",
       "      <th>2</th>\n",
       "      <td>No</td>\n",
       "      <td>Yes</td>\n",
       "      <td>817.180407</td>\n",
       "      <td>12106.134700</td>\n",
       "    </tr>\n",
       "    <tr>\n",
       "      <th>3</th>\n",
       "      <td>No</td>\n",
       "      <td>No</td>\n",
       "      <td>1073.549164</td>\n",
       "      <td>31767.138947</td>\n",
       "    </tr>\n",
       "    <tr>\n",
       "      <th>4</th>\n",
       "      <td>No</td>\n",
       "      <td>No</td>\n",
       "      <td>529.250605</td>\n",
       "      <td>35704.493935</td>\n",
       "    </tr>\n",
       "    <tr>\n",
       "      <th>5</th>\n",
       "      <td>No</td>\n",
       "      <td>No</td>\n",
       "      <td>785.655883</td>\n",
       "      <td>38463.495879</td>\n",
       "    </tr>\n",
       "  </tbody>\n",
       "</table>\n",
       "</div>"
      ]
     },
     "execution_count": 2,
     "metadata": {},
     "output_type": "execute_result"
    }
   ],
   "execution_count": 2
  },
  {
   "cell_type": "code",
   "id": "b7acb6c0-0697-4027-966a-f7950e920e83",
   "metadata": {
    "ExecuteTime": {
     "end_time": "2025-05-25T07:17:37.492770Z",
     "start_time": "2025-05-25T07:17:37.485053Z"
    }
   },
   "source": [
    "# 将default列转换为0-1变量\n",
    "isyes = (df[\"default\"] == 'Yes')\n",
    "df[\"default\"] = isyes.astype(int)\n",
    "df.groupby(\"default\").count()"
   ],
   "outputs": [
    {
     "data": {
      "text/plain": [
       "         student  balance  income\n",
       "default                          \n",
       "0           9667     9667    9667\n",
       "1            333      333     333"
      ],
      "text/html": [
       "<div>\n",
       "<style scoped>\n",
       "    .dataframe tbody tr th:only-of-type {\n",
       "        vertical-align: middle;\n",
       "    }\n",
       "\n",
       "    .dataframe tbody tr th {\n",
       "        vertical-align: top;\n",
       "    }\n",
       "\n",
       "    .dataframe thead th {\n",
       "        text-align: right;\n",
       "    }\n",
       "</style>\n",
       "<table border=\"1\" class=\"dataframe\">\n",
       "  <thead>\n",
       "    <tr style=\"text-align: right;\">\n",
       "      <th></th>\n",
       "      <th>student</th>\n",
       "      <th>balance</th>\n",
       "      <th>income</th>\n",
       "    </tr>\n",
       "    <tr>\n",
       "      <th>default</th>\n",
       "      <th></th>\n",
       "      <th></th>\n",
       "      <th></th>\n",
       "    </tr>\n",
       "  </thead>\n",
       "  <tbody>\n",
       "    <tr>\n",
       "      <th>0</th>\n",
       "      <td>9667</td>\n",
       "      <td>9667</td>\n",
       "      <td>9667</td>\n",
       "    </tr>\n",
       "    <tr>\n",
       "      <th>1</th>\n",
       "      <td>333</td>\n",
       "      <td>333</td>\n",
       "      <td>333</td>\n",
       "    </tr>\n",
       "  </tbody>\n",
       "</table>\n",
       "</div>"
      ]
     },
     "execution_count": 3,
     "metadata": {},
     "output_type": "execute_result"
    }
   ],
   "execution_count": 3
  },
  {
   "cell_type": "code",
   "id": "d14aed7b-89ea-497b-9574-1d88a4bfcbb1",
   "metadata": {
    "ExecuteTime": {
     "end_time": "2025-05-25T07:17:37.537424Z",
     "start_time": "2025-05-25T07:17:37.529439Z"
    }
   },
   "source": [
    "# 将student列转换为0-1变量\n",
    "isyes = (df[\"student\"] == 'Yes')\n",
    "df[\"student\"] = isyes.astype(int)\n",
    "df.groupby(\"student\").count()"
   ],
   "outputs": [
    {
     "data": {
      "text/plain": [
       "         default  balance  income\n",
       "student                          \n",
       "0           7056     7056    7056\n",
       "1           2944     2944    2944"
      ],
      "text/html": [
       "<div>\n",
       "<style scoped>\n",
       "    .dataframe tbody tr th:only-of-type {\n",
       "        vertical-align: middle;\n",
       "    }\n",
       "\n",
       "    .dataframe tbody tr th {\n",
       "        vertical-align: top;\n",
       "    }\n",
       "\n",
       "    .dataframe thead th {\n",
       "        text-align: right;\n",
       "    }\n",
       "</style>\n",
       "<table border=\"1\" class=\"dataframe\">\n",
       "  <thead>\n",
       "    <tr style=\"text-align: right;\">\n",
       "      <th></th>\n",
       "      <th>default</th>\n",
       "      <th>balance</th>\n",
       "      <th>income</th>\n",
       "    </tr>\n",
       "    <tr>\n",
       "      <th>student</th>\n",
       "      <th></th>\n",
       "      <th></th>\n",
       "      <th></th>\n",
       "    </tr>\n",
       "  </thead>\n",
       "  <tbody>\n",
       "    <tr>\n",
       "      <th>0</th>\n",
       "      <td>7056</td>\n",
       "      <td>7056</td>\n",
       "      <td>7056</td>\n",
       "    </tr>\n",
       "    <tr>\n",
       "      <th>1</th>\n",
       "      <td>2944</td>\n",
       "      <td>2944</td>\n",
       "      <td>2944</td>\n",
       "    </tr>\n",
       "  </tbody>\n",
       "</table>\n",
       "</div>"
      ]
     },
     "execution_count": 4,
     "metadata": {},
     "output_type": "execute_result"
    }
   ],
   "execution_count": 4
  },
  {
   "cell_type": "code",
   "id": "f0b58528-dab1-4303-bd98-36a3dd0f334f",
   "metadata": {
    "ExecuteTime": {
     "end_time": "2025-05-25T07:17:37.655343Z",
     "start_time": "2025-05-25T07:17:37.647688Z"
    }
   },
   "source": [
    "df"
   ],
   "outputs": [
    {
     "data": {
      "text/plain": [
       "       default  student      balance        income\n",
       "no                                                \n",
       "1            0        0   729.526495  44361.625074\n",
       "2            0        1   817.180407  12106.134700\n",
       "3            0        0  1073.549164  31767.138947\n",
       "4            0        0   529.250605  35704.493935\n",
       "5            0        0   785.655883  38463.495879\n",
       "...        ...      ...          ...           ...\n",
       "9996         0        0   711.555020  52992.378914\n",
       "9997         0        0   757.962918  19660.721768\n",
       "9998         0        0   845.411989  58636.156984\n",
       "9999         0        0  1569.009053  36669.112365\n",
       "10000        0        1   200.922183  16862.952321\n",
       "\n",
       "[10000 rows x 4 columns]"
      ],
      "text/html": [
       "<div>\n",
       "<style scoped>\n",
       "    .dataframe tbody tr th:only-of-type {\n",
       "        vertical-align: middle;\n",
       "    }\n",
       "\n",
       "    .dataframe tbody tr th {\n",
       "        vertical-align: top;\n",
       "    }\n",
       "\n",
       "    .dataframe thead th {\n",
       "        text-align: right;\n",
       "    }\n",
       "</style>\n",
       "<table border=\"1\" class=\"dataframe\">\n",
       "  <thead>\n",
       "    <tr style=\"text-align: right;\">\n",
       "      <th></th>\n",
       "      <th>default</th>\n",
       "      <th>student</th>\n",
       "      <th>balance</th>\n",
       "      <th>income</th>\n",
       "    </tr>\n",
       "    <tr>\n",
       "      <th>no</th>\n",
       "      <th></th>\n",
       "      <th></th>\n",
       "      <th></th>\n",
       "      <th></th>\n",
       "    </tr>\n",
       "  </thead>\n",
       "  <tbody>\n",
       "    <tr>\n",
       "      <th>1</th>\n",
       "      <td>0</td>\n",
       "      <td>0</td>\n",
       "      <td>729.526495</td>\n",
       "      <td>44361.625074</td>\n",
       "    </tr>\n",
       "    <tr>\n",
       "      <th>2</th>\n",
       "      <td>0</td>\n",
       "      <td>1</td>\n",
       "      <td>817.180407</td>\n",
       "      <td>12106.134700</td>\n",
       "    </tr>\n",
       "    <tr>\n",
       "      <th>3</th>\n",
       "      <td>0</td>\n",
       "      <td>0</td>\n",
       "      <td>1073.549164</td>\n",
       "      <td>31767.138947</td>\n",
       "    </tr>\n",
       "    <tr>\n",
       "      <th>4</th>\n",
       "      <td>0</td>\n",
       "      <td>0</td>\n",
       "      <td>529.250605</td>\n",
       "      <td>35704.493935</td>\n",
       "    </tr>\n",
       "    <tr>\n",
       "      <th>5</th>\n",
       "      <td>0</td>\n",
       "      <td>0</td>\n",
       "      <td>785.655883</td>\n",
       "      <td>38463.495879</td>\n",
       "    </tr>\n",
       "    <tr>\n",
       "      <th>...</th>\n",
       "      <td>...</td>\n",
       "      <td>...</td>\n",
       "      <td>...</td>\n",
       "      <td>...</td>\n",
       "    </tr>\n",
       "    <tr>\n",
       "      <th>9996</th>\n",
       "      <td>0</td>\n",
       "      <td>0</td>\n",
       "      <td>711.555020</td>\n",
       "      <td>52992.378914</td>\n",
       "    </tr>\n",
       "    <tr>\n",
       "      <th>9997</th>\n",
       "      <td>0</td>\n",
       "      <td>0</td>\n",
       "      <td>757.962918</td>\n",
       "      <td>19660.721768</td>\n",
       "    </tr>\n",
       "    <tr>\n",
       "      <th>9998</th>\n",
       "      <td>0</td>\n",
       "      <td>0</td>\n",
       "      <td>845.411989</td>\n",
       "      <td>58636.156984</td>\n",
       "    </tr>\n",
       "    <tr>\n",
       "      <th>9999</th>\n",
       "      <td>0</td>\n",
       "      <td>0</td>\n",
       "      <td>1569.009053</td>\n",
       "      <td>36669.112365</td>\n",
       "    </tr>\n",
       "    <tr>\n",
       "      <th>10000</th>\n",
       "      <td>0</td>\n",
       "      <td>1</td>\n",
       "      <td>200.922183</td>\n",
       "      <td>16862.952321</td>\n",
       "    </tr>\n",
       "  </tbody>\n",
       "</table>\n",
       "<p>10000 rows × 4 columns</p>\n",
       "</div>"
      ]
     },
     "execution_count": 5,
     "metadata": {},
     "output_type": "execute_result"
    }
   ],
   "execution_count": 5
  },
  {
   "cell_type": "code",
   "id": "65d7f488-65b3-4717-83fc-1d84e7b8c3e8",
   "metadata": {
    "ExecuteTime": {
     "end_time": "2025-05-25T07:17:37.736229Z",
     "start_time": "2025-05-25T07:17:37.731968Z"
    }
   },
   "source": [
    "#将df分成x(属性矩阵)和y(标签列)两部分\n",
    "x = df[[\"student\",\"balance\",\"income\"]]\n",
    "y = df[\"default\"]"
   ],
   "outputs": [],
   "execution_count": 6
  },
  {
   "cell_type": "code",
   "id": "b05de424-6bf4-471b-859d-c8d4032c3966",
   "metadata": {
    "ExecuteTime": {
     "end_time": "2025-05-25T07:17:37.948641Z",
     "start_time": "2025-05-25T07:17:37.831859Z"
    }
   },
   "source": [
    "#将数据分为训练集和验证集\n",
    "from sklearn.model_selection import train_test_split\n",
    "\n",
    "train_x,val_x,train_y,val_y=train_test_split(\n",
    "    x,y,train_size=0.7)"
   ],
   "outputs": [],
   "execution_count": 7
  },
  {
   "cell_type": "code",
   "id": "45229c66-1062-4b9a-afea-28d5c12bf538",
   "metadata": {
    "ExecuteTime": {
     "end_time": "2025-05-25T07:17:38.152716Z",
     "start_time": "2025-05-25T07:17:38.067264Z"
    }
   },
   "source": [
    "#拟合模型\n",
    "from sklearn.linear_model import LogisticRegression\n",
    "model = LogisticRegression(penalty=None).fit(train_x,train_y)"
   ],
   "outputs": [],
   "execution_count": 10
  },
  {
   "cell_type": "code",
   "id": "e6a76e71-73c9-43f3-b794-a15bc4bfad9c",
   "metadata": {
    "ExecuteTime": {
     "end_time": "2025-05-25T07:17:38.165632Z",
     "start_time": "2025-05-25T07:17:38.159695Z"
    }
   },
   "source": [
    "#计算验证集中各样本为正例的概率\n",
    "pred_prob = model.predict_proba(val_x)\n",
    "pred_prob"
   ],
   "outputs": [
    {
     "data": {
      "text/plain": [
       "array([[9.98034681e-01, 1.96531875e-03],\n",
       "       [9.47005073e-01, 5.29949275e-02],\n",
       "       [8.04624182e-01, 1.95375818e-01],\n",
       "       ...,\n",
       "       [9.94281395e-01, 5.71860505e-03],\n",
       "       [9.93809497e-01, 6.19050305e-03],\n",
       "       [9.99823398e-01, 1.76601686e-04]])"
      ]
     },
     "execution_count": 11,
     "metadata": {},
     "output_type": "execute_result"
    }
   ],
   "execution_count": 11
  },
  {
   "cell_type": "code",
   "id": "52977ef1-640a-4a9e-a803-8dc7ae1575d6",
   "metadata": {
    "ExecuteTime": {
     "end_time": "2025-05-25T07:17:38.196316Z",
     "start_time": "2025-05-25T07:17:38.192558Z"
    }
   },
   "source": [
    "#我们仅需要第2列\n",
    "pred_prob = pred_prob[:,1]\n",
    "pred_prob"
   ],
   "outputs": [
    {
     "data": {
      "text/plain": [
       "array([1.96531875e-03, 5.29949275e-02, 1.95375818e-01, ...,\n",
       "       5.71860505e-03, 6.19050305e-03, 1.76601686e-04])"
      ]
     },
     "execution_count": 12,
     "metadata": {},
     "output_type": "execute_result"
    }
   ],
   "execution_count": 12
  },
  {
   "cell_type": "code",
   "id": "7440d553-973a-4c57-bd7e-329d92cf04fb",
   "metadata": {
    "ExecuteTime": {
     "end_time": "2025-05-25T07:17:38.252333Z",
     "start_time": "2025-05-25T07:17:38.246189Z"
    }
   },
   "source": [
    "#判断验证集中各样本是否为正例（scikit-learn使用0.5作为阈值）\n",
    "pred_y = model.predict(val_x)\n",
    "pred_y"
   ],
   "outputs": [
    {
     "data": {
      "text/plain": [
       "array([0, 0, 0, ..., 0, 0, 0])"
      ]
     },
     "execution_count": 13,
     "metadata": {},
     "output_type": "execute_result"
    }
   ],
   "execution_count": 13
  },
  {
   "cell_type": "code",
   "id": "74e79756-485b-4e19-92a4-71a0c88f61b5",
   "metadata": {
    "ExecuteTime": {
     "end_time": "2025-05-25T07:17:38.304887Z",
     "start_time": "2025-05-25T07:17:38.291226Z"
    }
   },
   "source": [
    "# 计算模型的指标值\n",
    "from sklearn.metrics import classification_report\n",
    "classification_report(val_y,pred_y, output_dict=True)"
   ],
   "outputs": [
    {
     "data": {
      "text/plain": [
       "{'0': {'precision': 0.9763433592429875,\n",
       "  'recall': 0.9958634953464323,\n",
       "  'f1-score': 0.9860068259385666,\n",
       "  'support': 2901.0},\n",
       " '1': {'precision': 0.7073170731707317,\n",
       "  'recall': 0.29292929292929293,\n",
       "  'f1-score': 0.4142857142857143,\n",
       "  'support': 99.0},\n",
       " 'accuracy': 0.9726666666666667,\n",
       " 'macro avg': {'precision': 0.8418302162068596,\n",
       "  'recall': 0.6443963941378625,\n",
       "  'f1-score': 0.7001462701121405,\n",
       "  'support': 3000.0},\n",
       " 'weighted avg': {'precision': 0.9674654918026031,\n",
       "  'recall': 0.9726666666666667,\n",
       "  'f1-score': 0.9671400292540224,\n",
       "  'support': 3000.0}}"
      ]
     },
     "execution_count": 14,
     "metadata": {},
     "output_type": "execute_result"
    }
   ],
   "execution_count": 14
  }
 ],
 "metadata": {
  "kernelspec": {
   "display_name": "Python 3 (ipykernel)",
   "language": "python",
   "name": "python3"
  },
  "language_info": {
   "codemirror_mode": {
    "name": "ipython",
    "version": 3
   },
   "file_extension": ".py",
   "mimetype": "text/x-python",
   "name": "python",
   "nbconvert_exporter": "python",
   "pygments_lexer": "ipython3",
   "version": "3.11.9"
  }
 },
 "nbformat": 4,
 "nbformat_minor": 5
}
