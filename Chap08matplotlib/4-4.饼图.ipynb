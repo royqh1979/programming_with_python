{
 "cells": [
  {
   "cell_type": "code",
   "id": "bc60cd31-3856-48d0-8e93-ea79b1d15227",
   "metadata": {
    "ExecuteTime": {
     "end_time": "2025-05-01T10:33:47.139511Z",
     "start_time": "2025-05-01T10:33:46.732015Z"
    }
   },
   "source": [
    "import numpy as np\n",
    "#导入pyplot模块\n",
    "import matplotlib.pyplot as plt\n",
    "\n",
    "#使用中文字体\n",
    "import matplotlib as mpl\n",
    "mpl.rcParams['font.family']=['Microsoft Yahei', 'sans-serif']\n",
    "mpl.rcParams['axes.unicode_minus']=False\n",
    "\n",
    "#使用svg格式，避免图形模糊\n",
    "#自动显示图形\n",
    "%matplotlib inline\n",
    "%config InlineBackend.figure_format=\"svg\""
   ],
   "outputs": [],
   "execution_count": 1
  },
  {
   "cell_type": "code",
   "id": "a480274a-46da-4cac-8e31-871d9693148f",
   "metadata": {
    "scrolled": true,
    "ExecuteTime": {
     "end_time": "2025-05-01T10:33:49.914969Z",
     "start_time": "2025-05-01T10:33:49.829547Z"
    }
   },
   "source": [
    "years=[2000,2001,2002,2003,2004,2005,2006]\n",
    "numbers =  [35,67,43,92,21,100,77]\n",
    "\n",
    "colors = plt.get_cmap('Spectral')(np.linspace(0.2,0.8,len(years)))\n",
    "plt.figure(figsize=[10,3])\n",
    "wedges, texts= plt.pie(numbers, labels = numbers,\n",
    "        colors=colors, labeldistance=0.7,\n",
    "        wedgeprops={\"linewidth\": 1, \"edgecolor\": \"white\"},\n",
    "        frame=False,\n",
    "        textprops={\"color\":\"darkgreen\"},)\n",
    "plt.legend(wedges,years,loc=\"upper right\",bbox_to_anchor=(1, 0, 0.5, 1))\n",
    "plt.show() "
   ],
   "outputs": [
    {
     "data": {
      "text/plain": [
       "<Figure size 1000x300 with 1 Axes>"
      ],
      "image/svg+xml": "<?xml version=\"1.0\" encoding=\"utf-8\" standalone=\"no\"?>\n<!DOCTYPE svg PUBLIC \"-//W3C//DTD SVG 1.1//EN\"\n  \"http://www.w3.org/Graphics/SVG/1.1/DTD/svg11.dtd\">\n<svg xmlns:xlink=\"http://www.w3.org/1999/xlink\" width=\"258.88pt\" height=\"180.72pt\" viewBox=\"0 0 258.88 180.72\" xmlns=\"http://www.w3.org/2000/svg\" version=\"1.1\">\n <metadata>\n  <rdf:RDF xmlns:dc=\"http://purl.org/dc/elements/1.1/\" xmlns:cc=\"http://creativecommons.org/ns#\" xmlns:rdf=\"http://www.w3.org/1999/02/22-rdf-syntax-ns#\">\n   <cc:Work>\n    <dc:type rdf:resource=\"http://purl.org/dc/dcmitype/StillImage\"/>\n    <dc:date>2025-05-01T18:33:49.892379</dc:date>\n    <dc:format>image/svg+xml</dc:format>\n    <dc:creator>\n     <cc:Agent>\n      <dc:title>Matplotlib v3.10.1, https://matplotlib.org/</dc:title>\n     </cc:Agent>\n    </dc:creator>\n   </cc:Work>\n  </rdf:RDF>\n </metadata>\n <defs>\n  <style type=\"text/css\">*{stroke-linejoin: round; stroke-linecap: butt}</style>\n </defs>\n <g id=\"figure_1\">\n  <g id=\"patch_1\">\n   <path d=\"M 0 180.72 \nL 258.88 180.72 \nL 258.88 0 \nL 0 0 \nz\n\" style=\"fill: #ffffff\"/>\n  </g>\n  <g id=\"axes_1\">\n   <g id=\"patch_2\">\n    <path d=\"M 156.888 90.36 \nC 156.888 84.747081 156.177663 79.156658 154.773936 73.722101 \nC 153.370208 68.287544 151.284342 63.052416 148.5661 58.141609 \nL 90.36 90.36 \nz\n\" style=\"fill: #f46d43; stroke: #ffffff; stroke-linejoin: miter\"/>\n   </g>\n   <g id=\"patch_3\">\n    <path d=\"M 148.5661 58.141609 \nC 143.344301 48.707849 135.906479 40.683486 126.895427 34.762002 \nC 117.884375 28.840519 107.567378 25.197557 96.836053 24.14795 \nL 90.36 90.36 \nz\n\" style=\"fill: #fdad60; stroke: #ffffff; stroke-linejoin: miter\"/>\n   </g>\n   <g id=\"patch_4\">\n    <path d=\"M 96.836053 24.14795 \nC 89.9683 23.476231 83.037661 23.877105 76.293154 25.336169 \nC 69.548647 26.795233 63.072026 29.294801 57.095996 32.745064 \nL 90.36 90.36 \nz\n\" style=\"fill: #fee08b; stroke: #ffffff; stroke-linejoin: miter\"/>\n   </g>\n   <g id=\"patch_5\">\n    <path d=\"M 57.095996 32.745064 \nC 44.219494 40.179317 34.199599 51.719909 28.646358 65.512441 \nC 23.093117 79.304974 22.320802 94.568888 26.453513 108.851504 \nL 90.36 90.36 \nz\n\" style=\"fill: #ffffbe; stroke: #ffffff; stroke-linejoin: miter\"/>\n   </g>\n   <g id=\"patch_6\">\n    <path d=\"M 26.453513 108.851504 \nC 27.388787 112.083804 28.567943 115.240493 29.980824 118.294386 \nC 31.393706 121.348278 33.036246 124.290583 34.894298 127.095959 \nL 90.36 90.36 \nz\n\" style=\"fill: #e6f598; stroke: #ffffff; stroke-linejoin: miter\"/>\n   </g>\n   <g id=\"patch_7\">\n    <path d=\"M 34.894298 127.095959 \nC 43.832859 140.591824 57.396927 150.372056 73.025294 154.589921 \nC 88.653661 158.807786 105.29659 157.179977 119.811514 150.013861 \nL 90.36 90.36 \nz\n\" style=\"fill: #aadca4; stroke: #ffffff; stroke-linejoin: miter\"/>\n   </g>\n   <g id=\"patch_8\">\n    <path d=\"M 119.811514 150.013861 \nC 130.940052 144.519626 140.312222 136.019405 146.863651 125.478545 \nC 153.41508 114.937684 156.888 102.770919 156.888 90.359998 \nL 90.36 90.36 \nz\n\" style=\"fill: #66c2a5; stroke: #ffffff; stroke-linejoin: miter\"/>\n   </g>\n   <g id=\"matplotlib.axis_1\"/>\n   <g id=\"matplotlib.axis_2\"/>\n   <g id=\"text_1\">\n    <!-- 35 -->\n    <g style=\"fill: #006400\" transform=\"translate(135.449755 81.467377) scale(0.1 -0.1)\">\n     <defs>\n      <path id=\"MicrosoftYaHei-33\" d=\"M 447 809 \nQ 944 425 1569 425 \nQ 2069 425 2361 670 \nQ 2653 916 2653 1328 \nQ 2653 2247 1338 2247 \nL 934 2247 \nL 934 2753 \nL 1319 2753 \nQ 2484 2753 2484 3616 \nQ 2484 4413 1594 4413 \nQ 1084 4413 634 4069 \nL 634 4647 \nQ 1109 4922 1744 4922 \nQ 2363 4922 2738 4598 \nQ 3113 4275 3113 3759 \nQ 3113 2809 2144 2538 \nL 2144 2525 \nQ 2669 2469 2973 2155 \nQ 3278 1841 3278 1372 \nQ 3278 719 2808 319 \nQ 2338 -81 1556 -81 \nQ 869 -81 447 175 \nL 447 809 \nz\n\" transform=\"scale(0.015625)\"/>\n      <path id=\"MicrosoftYaHei-35\" d=\"M 3294 1494 \nQ 3294 784 2823 350 \nQ 2353 -84 1559 -84 \nQ 878 -84 544 119 \nL 544 744 \nQ 1034 425 1544 425 \nQ 2050 425 2361 704 \nQ 2672 984 2672 1447 \nQ 2672 1909 2348 2167 \nQ 2025 2425 1434 2425 \nQ 978 2425 613 2384 \nL 791 4841 \nL 3053 4841 \nL 3053 4303 \nL 1306 4303 \nL 1206 2931 \nL 1647 2950 \nQ 2416 2950 2855 2567 \nQ 3294 2184 3294 1494 \nz\n\" transform=\"scale(0.015625)\"/>\n     </defs>\n     <use xlink:href=\"#MicrosoftYaHei-33\"/>\n     <use xlink:href=\"#MicrosoftYaHei-35\" transform=\"translate(58.642578 0)\"/>\n    </g>\n   </g>\n   <g id=\"text_2\">\n    <!-- 67 -->\n    <g style=\"fill: #006400\" transform=\"translate(115.934799 54.195308) scale(0.1 -0.1)\">\n     <defs>\n      <path id=\"MicrosoftYaHei-36\" d=\"M 3181 4219 \nQ 2803 4413 2391 4413 \nQ 1763 4413 1381 3866 \nQ 1000 3319 994 2372 \nL 1009 2372 \nQ 1353 3038 2106 3038 \nQ 2734 3038 3109 2628 \nQ 3484 2219 3484 1541 \nQ 3484 831 3051 375 \nQ 2619 -81 1947 -81 \nQ 1209 -81 789 495 \nQ 369 1072 369 2131 \nQ 369 3413 920 4167 \nQ 1472 4922 2372 4922 \nQ 2888 4922 3181 4781 \nL 3181 4219 \nz\nM 1031 1584 \nQ 1031 1106 1286 765 \nQ 1541 425 1963 425 \nQ 2363 425 2613 719 \nQ 2863 1013 2863 1475 \nQ 2863 1975 2627 2253 \nQ 2391 2531 1956 2531 \nQ 1544 2531 1287 2250 \nQ 1031 1969 1031 1584 \nz\n\" transform=\"scale(0.015625)\"/>\n      <path id=\"MicrosoftYaHei-37\" d=\"M 3422 4463 \nQ 2659 3131 2223 1998 \nQ 1788 866 1684 0 \nL 1047 0 \nQ 1163 853 1594 1947 \nQ 2025 3041 2747 4300 \nL 347 4300 \nL 347 4841 \nL 3422 4841 \nL 3422 4463 \nz\n\" transform=\"scale(0.015625)\"/>\n     </defs>\n     <use xlink:href=\"#MicrosoftYaHei-36\"/>\n     <use xlink:href=\"#MicrosoftYaHei-37\" transform=\"translate(58.642578 0)\"/>\n    </g>\n   </g>\n   <g id=\"text_3\">\n    <!-- 43 -->\n    <g style=\"fill: #006400\" transform=\"translate(68.785083 47.597224) scale(0.1 -0.1)\">\n     <defs>\n      <path id=\"MicrosoftYaHei-34\" d=\"M 2906 4841 \nL 2906 1644 \nL 3631 1644 \nL 3631 1138 \nL 2906 1138 \nL 2906 0 \nL 2313 0 \nL 2313 1138 \nL 53 1138 \nL 53 1616 \nQ 656 2294 1265 3178 \nQ 1875 4063 2272 4841 \nL 2906 4841 \nz\nM 741 1644 \nL 2313 1644 \nL 2313 3950 \nQ 1988 3366 1616 2817 \nQ 1244 2269 741 1644 \nz\n\" transform=\"scale(0.015625)\"/>\n     </defs>\n     <use xlink:href=\"#MicrosoftYaHei-34\"/>\n     <use xlink:href=\"#MicrosoftYaHei-33\" transform=\"translate(58.642578 0)\"/>\n    </g>\n   </g>\n   <g id=\"text_4\">\n    <!-- 92 -->\n    <g style=\"fill: #006400\" transform=\"translate(35.432326 75.720615) scale(0.1 -0.1)\">\n     <defs>\n      <path id=\"MicrosoftYaHei-39\" d=\"M 578 656 \nQ 978 425 1441 425 \nQ 2091 425 2448 937 \nQ 2806 1450 2806 2394 \nQ 2800 2388 2794 2394 \nQ 2475 1788 1722 1788 \nQ 1113 1788 713 2206 \nQ 313 2625 313 3294 \nQ 313 4006 750 4464 \nQ 1188 4922 1884 4922 \nQ 2606 4922 3012 4355 \nQ 3419 3788 3419 2703 \nQ 3419 1363 2894 641 \nQ 2369 -81 1441 -81 \nQ 931 -81 578 84 \nL 578 656 \nz\nM 931 3372 \nQ 931 2884 1181 2598 \nQ 1431 2313 1872 2313 \nQ 2253 2313 2512 2573 \nQ 2772 2834 2772 3206 \nQ 2772 3728 2514 4070 \nQ 2256 4413 1834 4413 \nQ 1444 4413 1187 4116 \nQ 931 3819 931 3372 \nz\n\" transform=\"scale(0.015625)\"/>\n      <path id=\"MicrosoftYaHei-32\" d=\"M 2666 3572 \nQ 2666 3963 2419 4186 \nQ 2172 4409 1747 4409 \nQ 1447 4409 1140 4256 \nQ 834 4103 569 3819 \nL 569 4413 \nQ 806 4659 1107 4790 \nQ 1409 4922 1816 4922 \nQ 2472 4922 2872 4570 \nQ 3272 4219 3272 3619 \nQ 3272 3084 3026 2693 \nQ 2781 2303 2188 1894 \nQ 1581 1475 1376 1294 \nQ 1172 1113 1090 947 \nQ 1009 781 1009 544 \nL 3416 544 \nL 3416 0 \nL 372 0 \nL 372 241 \nQ 372 659 486 951 \nQ 600 1244 862 1520 \nQ 1125 1797 1681 2184 \nQ 2250 2584 2458 2886 \nQ 2666 3188 2666 3572 \nz\n\" transform=\"scale(0.015625)\"/>\n     </defs>\n     <use xlink:href=\"#MicrosoftYaHei-39\"/>\n     <use xlink:href=\"#MicrosoftYaHei-32\" transform=\"translate(58.642578 0)\"/>\n    </g>\n   </g>\n   <g id=\"text_5\">\n    <!-- 21 -->\n    <g style=\"fill: #006400\" transform=\"translate(36.366452 112.667976) scale(0.1 -0.1)\">\n     <defs>\n      <path id=\"MicrosoftYaHei-31\" d=\"M 1781 0 \nL 1781 4141 \nQ 1638 3997 1295 3819 \nQ 953 3641 663 3569 \nL 663 4169 \nQ 1047 4275 1484 4508 \nQ 1922 4741 2156 4947 \nL 2388 4947 \nL 2388 0 \nL 1781 0 \nz\n\" transform=\"scale(0.015625)\"/>\n     </defs>\n     <use xlink:href=\"#MicrosoftYaHei-32\"/>\n     <use xlink:href=\"#MicrosoftYaHei-31\" transform=\"translate(58.642578 0)\"/>\n    </g>\n   </g>\n   <g id=\"text_6\">\n    <!-- 100 -->\n    <g style=\"fill: #006400\" transform=\"translate(60.633518 138.074851) scale(0.1 -0.1)\">\n     <defs>\n      <path id=\"MicrosoftYaHei-30\" d=\"M 284 2325 \nQ 284 3606 709 4264 \nQ 1134 4922 1941 4922 \nQ 3478 4922 3478 2441 \nQ 3478 1216 3045 567 \nQ 2613 -81 1831 -81 \nQ 1094 -81 689 534 \nQ 284 1150 284 2325 \nz\nM 909 2353 \nQ 909 425 1888 425 \nQ 2850 425 2850 2384 \nQ 2850 4413 1906 4413 \nQ 909 4413 909 2353 \nz\n\" transform=\"scale(0.015625)\"/>\n     </defs>\n     <use xlink:href=\"#MicrosoftYaHei-31\"/>\n     <use xlink:href=\"#MicrosoftYaHei-30\" transform=\"translate(58.642578 0)\"/>\n     <use xlink:href=\"#MicrosoftYaHei-30\" transform=\"translate(117.285156 0)\"/>\n    </g>\n   </g>\n   <g id=\"text_7\">\n    <!-- 77 -->\n    <g style=\"fill: #006400\" transform=\"translate(129.912556 117.696887) scale(0.1 -0.1)\">\n     <use xlink:href=\"#MicrosoftYaHei-37\"/>\n     <use xlink:href=\"#MicrosoftYaHei-37\" transform=\"translate(58.642578 0)\"/>\n    </g>\n   </g>\n   <g id=\"legend_1\">\n    <g id=\"patch_9\">\n     <path d=\"M 194.22375 123.557813 \nL 249.68 123.557813 \nQ 251.68 123.557813 251.68 121.557813 \nL 251.68 14.2 \nQ 251.68 12.2 249.68 12.2 \nL 194.22375 12.2 \nQ 192.22375 12.2 192.22375 14.2 \nL 192.22375 121.557813 \nQ 192.22375 123.557813 194.22375 123.557813 \nz\n\" style=\"fill: #ffffff; opacity: 0.8; stroke: #cccccc; stroke-linejoin: miter\"/>\n    </g>\n    <g id=\"patch_10\">\n     <path d=\"M 196.22375 24.19375 \nL 216.22375 24.19375 \nL 216.22375 17.19375 \nL 196.22375 17.19375 \nz\n\" style=\"fill: #f46d43; stroke: #ffffff; stroke-linejoin: miter\"/>\n    </g>\n    <g id=\"text_8\">\n     <!-- 2000 -->\n     <g transform=\"translate(224.22375 24.19375) scale(0.1 -0.1)\">\n      <use xlink:href=\"#MicrosoftYaHei-32\"/>\n      <use xlink:href=\"#MicrosoftYaHei-30\" transform=\"translate(58.642578 0)\"/>\n      <use xlink:href=\"#MicrosoftYaHei-30\" transform=\"translate(117.285156 0)\"/>\n      <use xlink:href=\"#MicrosoftYaHei-30\" transform=\"translate(175.927734 0)\"/>\n     </g>\n    </g>\n    <g id=\"patch_11\">\n     <path d=\"M 196.22375 39.673438 \nL 216.22375 39.673438 \nL 216.22375 32.673438 \nL 196.22375 32.673438 \nz\n\" style=\"fill: #fdad60; stroke: #ffffff; stroke-linejoin: miter\"/>\n    </g>\n    <g id=\"text_9\">\n     <!-- 2001 -->\n     <g transform=\"translate(224.22375 39.673438) scale(0.1 -0.1)\">\n      <use xlink:href=\"#MicrosoftYaHei-32\"/>\n      <use xlink:href=\"#MicrosoftYaHei-30\" transform=\"translate(58.642578 0)\"/>\n      <use xlink:href=\"#MicrosoftYaHei-30\" transform=\"translate(117.285156 0)\"/>\n      <use xlink:href=\"#MicrosoftYaHei-31\" transform=\"translate(175.927734 0)\"/>\n     </g>\n    </g>\n    <g id=\"patch_12\">\n     <path d=\"M 196.22375 55.153125 \nL 216.22375 55.153125 \nL 216.22375 48.153125 \nL 196.22375 48.153125 \nz\n\" style=\"fill: #fee08b; stroke: #ffffff; stroke-linejoin: miter\"/>\n    </g>\n    <g id=\"text_10\">\n     <!-- 2002 -->\n     <g transform=\"translate(224.22375 55.153125) scale(0.1 -0.1)\">\n      <use xlink:href=\"#MicrosoftYaHei-32\"/>\n      <use xlink:href=\"#MicrosoftYaHei-30\" transform=\"translate(58.642578 0)\"/>\n      <use xlink:href=\"#MicrosoftYaHei-30\" transform=\"translate(117.285156 0)\"/>\n      <use xlink:href=\"#MicrosoftYaHei-32\" transform=\"translate(175.927734 0)\"/>\n     </g>\n    </g>\n    <g id=\"patch_13\">\n     <path d=\"M 196.22375 70.632813 \nL 216.22375 70.632813 \nL 216.22375 63.632813 \nL 196.22375 63.632813 \nz\n\" style=\"fill: #ffffbe; stroke: #ffffff; stroke-linejoin: miter\"/>\n    </g>\n    <g id=\"text_11\">\n     <!-- 2003 -->\n     <g transform=\"translate(224.22375 70.632813) scale(0.1 -0.1)\">\n      <use xlink:href=\"#MicrosoftYaHei-32\"/>\n      <use xlink:href=\"#MicrosoftYaHei-30\" transform=\"translate(58.642578 0)\"/>\n      <use xlink:href=\"#MicrosoftYaHei-30\" transform=\"translate(117.285156 0)\"/>\n      <use xlink:href=\"#MicrosoftYaHei-33\" transform=\"translate(175.927734 0)\"/>\n     </g>\n    </g>\n    <g id=\"patch_14\">\n     <path d=\"M 196.22375 86.1125 \nL 216.22375 86.1125 \nL 216.22375 79.1125 \nL 196.22375 79.1125 \nz\n\" style=\"fill: #e6f598; stroke: #ffffff; stroke-linejoin: miter\"/>\n    </g>\n    <g id=\"text_12\">\n     <!-- 2004 -->\n     <g transform=\"translate(224.22375 86.1125) scale(0.1 -0.1)\">\n      <use xlink:href=\"#MicrosoftYaHei-32\"/>\n      <use xlink:href=\"#MicrosoftYaHei-30\" transform=\"translate(58.642578 0)\"/>\n      <use xlink:href=\"#MicrosoftYaHei-30\" transform=\"translate(117.285156 0)\"/>\n      <use xlink:href=\"#MicrosoftYaHei-34\" transform=\"translate(175.927734 0)\"/>\n     </g>\n    </g>\n    <g id=\"patch_15\">\n     <path d=\"M 196.22375 101.592188 \nL 216.22375 101.592188 \nL 216.22375 94.592188 \nL 196.22375 94.592188 \nz\n\" style=\"fill: #aadca4; stroke: #ffffff; stroke-linejoin: miter\"/>\n    </g>\n    <g id=\"text_13\">\n     <!-- 2005 -->\n     <g transform=\"translate(224.22375 101.592188) scale(0.1 -0.1)\">\n      <use xlink:href=\"#MicrosoftYaHei-32\"/>\n      <use xlink:href=\"#MicrosoftYaHei-30\" transform=\"translate(58.642578 0)\"/>\n      <use xlink:href=\"#MicrosoftYaHei-30\" transform=\"translate(117.285156 0)\"/>\n      <use xlink:href=\"#MicrosoftYaHei-35\" transform=\"translate(175.927734 0)\"/>\n     </g>\n    </g>\n    <g id=\"patch_16\">\n     <path d=\"M 196.22375 117.071875 \nL 216.22375 117.071875 \nL 216.22375 110.071875 \nL 196.22375 110.071875 \nz\n\" style=\"fill: #66c2a5; stroke: #ffffff; stroke-linejoin: miter\"/>\n    </g>\n    <g id=\"text_14\">\n     <!-- 2006 -->\n     <g transform=\"translate(224.22375 117.071875) scale(0.1 -0.1)\">\n      <use xlink:href=\"#MicrosoftYaHei-32\"/>\n      <use xlink:href=\"#MicrosoftYaHei-30\" transform=\"translate(58.642578 0)\"/>\n      <use xlink:href=\"#MicrosoftYaHei-30\" transform=\"translate(117.285156 0)\"/>\n      <use xlink:href=\"#MicrosoftYaHei-36\" transform=\"translate(175.927734 0)\"/>\n     </g>\n    </g>\n   </g>\n  </g>\n </g>\n</svg>\n"
     },
     "metadata": {},
     "output_type": "display_data"
    }
   ],
   "execution_count": 2
  },
  {
   "cell_type": "code",
   "execution_count": null,
   "id": "c32da8ad-f43e-4207-a5f5-b93512fcfe62",
   "metadata": {},
   "outputs": [],
   "source": []
  }
 ],
 "metadata": {
  "kernelspec": {
   "display_name": "Python 3 (ipykernel)",
   "language": "python",
   "name": "python3"
  },
  "language_info": {
   "codemirror_mode": {
    "name": "ipython",
    "version": 3
   },
   "file_extension": ".py",
   "mimetype": "text/x-python",
   "name": "python",
   "nbconvert_exporter": "python",
   "pygments_lexer": "ipython3",
   "version": "3.12.6"
  }
 },
 "nbformat": 4,
 "nbformat_minor": 5
}
