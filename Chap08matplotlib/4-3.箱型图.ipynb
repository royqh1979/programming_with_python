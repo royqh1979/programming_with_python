{
 "cells": [
  {
   "cell_type": "code",
   "id": "bc60cd31-3856-48d0-8e93-ea79b1d15227",
   "metadata": {
    "ExecuteTime": {
     "end_time": "2025-05-01T10:33:17.719039Z",
     "start_time": "2025-05-01T10:33:17.285987Z"
    }
   },
   "source": [
    "import numpy as np\n",
    "#导入pyplot模块\n",
    "import matplotlib.pyplot as plt\n",
    "\n",
    "#使用中文字体\n",
    "import matplotlib as mpl\n",
    "mpl.rcParams['font.family']=['Microsoft Yahei', 'sans-serif']\n",
    "mpl.rcParams['axes.unicode_minus']=False\n",
    "\n",
    "#使用svg格式，避免图形模糊\n",
    "#自动显示图形\n",
    "%matplotlib inline\n",
    "%config InlineBackend.figure_format=\"svg\""
   ],
   "outputs": [],
   "execution_count": 1
  },
  {
   "cell_type": "code",
   "id": "a480274a-46da-4cac-8e31-871d9693148f",
   "metadata": {
    "scrolled": true,
    "ExecuteTime": {
     "end_time": "2025-05-01T10:33:25.855439Z",
     "start_time": "2025-05-01T10:33:20.204542Z"
    }
   },
   "source": [
    "from sklearn import datasets\n",
    "import pandas as pd\n",
    "\n",
    "iris_data=datasets.load_iris()\n",
    "df = pd.DataFrame(data=iris_data.data, \n",
    "                  columns=iris_data.feature_names)\n",
    "df"
   ],
   "outputs": [
    {
     "data": {
      "text/plain": [
       "     sepal length (cm)  sepal width (cm)  petal length (cm)  petal width (cm)\n",
       "0                  5.1               3.5                1.4               0.2\n",
       "1                  4.9               3.0                1.4               0.2\n",
       "2                  4.7               3.2                1.3               0.2\n",
       "3                  4.6               3.1                1.5               0.2\n",
       "4                  5.0               3.6                1.4               0.2\n",
       "..                 ...               ...                ...               ...\n",
       "145                6.7               3.0                5.2               2.3\n",
       "146                6.3               2.5                5.0               1.9\n",
       "147                6.5               3.0                5.2               2.0\n",
       "148                6.2               3.4                5.4               2.3\n",
       "149                5.9               3.0                5.1               1.8\n",
       "\n",
       "[150 rows x 4 columns]"
      ],
      "text/html": [
       "<div>\n",
       "<style scoped>\n",
       "    .dataframe tbody tr th:only-of-type {\n",
       "        vertical-align: middle;\n",
       "    }\n",
       "\n",
       "    .dataframe tbody tr th {\n",
       "        vertical-align: top;\n",
       "    }\n",
       "\n",
       "    .dataframe thead th {\n",
       "        text-align: right;\n",
       "    }\n",
       "</style>\n",
       "<table border=\"1\" class=\"dataframe\">\n",
       "  <thead>\n",
       "    <tr style=\"text-align: right;\">\n",
       "      <th></th>\n",
       "      <th>sepal length (cm)</th>\n",
       "      <th>sepal width (cm)</th>\n",
       "      <th>petal length (cm)</th>\n",
       "      <th>petal width (cm)</th>\n",
       "    </tr>\n",
       "  </thead>\n",
       "  <tbody>\n",
       "    <tr>\n",
       "      <th>0</th>\n",
       "      <td>5.1</td>\n",
       "      <td>3.5</td>\n",
       "      <td>1.4</td>\n",
       "      <td>0.2</td>\n",
       "    </tr>\n",
       "    <tr>\n",
       "      <th>1</th>\n",
       "      <td>4.9</td>\n",
       "      <td>3.0</td>\n",
       "      <td>1.4</td>\n",
       "      <td>0.2</td>\n",
       "    </tr>\n",
       "    <tr>\n",
       "      <th>2</th>\n",
       "      <td>4.7</td>\n",
       "      <td>3.2</td>\n",
       "      <td>1.3</td>\n",
       "      <td>0.2</td>\n",
       "    </tr>\n",
       "    <tr>\n",
       "      <th>3</th>\n",
       "      <td>4.6</td>\n",
       "      <td>3.1</td>\n",
       "      <td>1.5</td>\n",
       "      <td>0.2</td>\n",
       "    </tr>\n",
       "    <tr>\n",
       "      <th>4</th>\n",
       "      <td>5.0</td>\n",
       "      <td>3.6</td>\n",
       "      <td>1.4</td>\n",
       "      <td>0.2</td>\n",
       "    </tr>\n",
       "    <tr>\n",
       "      <th>...</th>\n",
       "      <td>...</td>\n",
       "      <td>...</td>\n",
       "      <td>...</td>\n",
       "      <td>...</td>\n",
       "    </tr>\n",
       "    <tr>\n",
       "      <th>145</th>\n",
       "      <td>6.7</td>\n",
       "      <td>3.0</td>\n",
       "      <td>5.2</td>\n",
       "      <td>2.3</td>\n",
       "    </tr>\n",
       "    <tr>\n",
       "      <th>146</th>\n",
       "      <td>6.3</td>\n",
       "      <td>2.5</td>\n",
       "      <td>5.0</td>\n",
       "      <td>1.9</td>\n",
       "    </tr>\n",
       "    <tr>\n",
       "      <th>147</th>\n",
       "      <td>6.5</td>\n",
       "      <td>3.0</td>\n",
       "      <td>5.2</td>\n",
       "      <td>2.0</td>\n",
       "    </tr>\n",
       "    <tr>\n",
       "      <th>148</th>\n",
       "      <td>6.2</td>\n",
       "      <td>3.4</td>\n",
       "      <td>5.4</td>\n",
       "      <td>2.3</td>\n",
       "    </tr>\n",
       "    <tr>\n",
       "      <th>149</th>\n",
       "      <td>5.9</td>\n",
       "      <td>3.0</td>\n",
       "      <td>5.1</td>\n",
       "      <td>1.8</td>\n",
       "    </tr>\n",
       "  </tbody>\n",
       "</table>\n",
       "<p>150 rows × 4 columns</p>\n",
       "</div>"
      ]
     },
     "execution_count": 2,
     "metadata": {},
     "output_type": "execute_result"
    }
   ],
   "execution_count": 2
  },
  {
   "cell_type": "code",
   "id": "99dc586b-04f9-42de-ab8b-569acd525fbd",
   "metadata": {
    "ExecuteTime": {
     "end_time": "2025-05-01T10:33:32.320999Z",
     "start_time": "2025-05-01T10:33:32.228363Z"
    }
   },
   "source": [
    "plt.boxplot(df)\n",
    "plt.xticks(np.arange(4)+1, list(df.columns))\n",
    "plt.show()"
   ],
   "outputs": [
    {
     "data": {
      "text/plain": [
       "<Figure size 640x480 with 1 Axes>"
      ],
      "image/svg+xml": "<?xml version=\"1.0\" encoding=\"utf-8\" standalone=\"no\"?>\n<!DOCTYPE svg PUBLIC \"-//W3C//DTD SVG 1.1//EN\"\n  \"http://www.w3.org/Graphics/SVG/1.1/DTD/svg11.dtd\">\n<svg xmlns:xlink=\"http://www.w3.org/1999/xlink\" width=\"384.384062pt\" height=\"298.0495pt\" viewBox=\"0 0 384.384062 298.0495\" xmlns=\"http://www.w3.org/2000/svg\" version=\"1.1\">\n <metadata>\n  <rdf:RDF xmlns:dc=\"http://purl.org/dc/elements/1.1/\" xmlns:cc=\"http://creativecommons.org/ns#\" xmlns:rdf=\"http://www.w3.org/1999/02/22-rdf-syntax-ns#\">\n   <cc:Work>\n    <dc:type rdf:resource=\"http://purl.org/dc/dcmitype/StillImage\"/>\n    <dc:date>2025-05-01T18:33:32.297178</dc:date>\n    <dc:format>image/svg+xml</dc:format>\n    <dc:creator>\n     <cc:Agent>\n      <dc:title>Matplotlib v3.10.1, https://matplotlib.org/</dc:title>\n     </cc:Agent>\n    </dc:creator>\n   </cc:Work>\n  </rdf:RDF>\n </metadata>\n <defs>\n  <style type=\"text/css\">*{stroke-linejoin: round; stroke-linecap: butt}</style>\n </defs>\n <g id=\"figure_1\">\n  <g id=\"patch_1\">\n   <path d=\"M 0 298.0495 \nL 384.384062 298.0495 \nL 384.384062 0 \nL 0 0 \nz\n\" style=\"fill: #ffffff\"/>\n  </g>\n  <g id=\"axes_1\">\n   <g id=\"patch_2\">\n    <path d=\"M 20.064062 273.312 \nL 377.184063 273.312 \nL 377.184063 7.2 \nL 20.064062 7.2 \nz\n\" style=\"fill: #ffffff\"/>\n   </g>\n   <g id=\"matplotlib.axis_1\">\n    <g id=\"xtick_1\">\n     <g id=\"line2d_1\">\n      <defs>\n       <path id=\"mc2bd7c14cc\" d=\"M 0 0 \nL 0 3.5 \n\" style=\"stroke: #000000; stroke-width: 0.8\"/>\n      </defs>\n      <g>\n       <use xlink:href=\"#mc2bd7c14cc\" x=\"64.704063\" y=\"273.312\" style=\"stroke: #000000; stroke-width: 0.8\"/>\n      </g>\n     </g>\n     <g id=\"text_1\">\n      <!-- sepal length (cm) -->\n      <g transform=\"translate(23.4525 288.30575) scale(0.1 -0.1)\">\n       <defs>\n        <path id=\"MicrosoftYaHei-73\" d=\"M 353 747 \nQ 816 413 1350 413 \nQ 2066 413 2066 881 \nQ 2066 1081 1909 1211 \nQ 1753 1341 1275 1519 \nQ 700 1750 528 1976 \nQ 356 2203 356 2525 \nQ 356 2984 745 3261 \nQ 1134 3538 1703 3538 \nQ 2144 3538 2522 3384 \nL 2522 2794 \nQ 2134 3044 1644 3044 \nQ 1350 3044 1165 2916 \nQ 981 2788 981 2578 \nQ 981 2372 1114 2256 \nQ 1247 2141 1703 1959 \nQ 2281 1744 2484 1512 \nQ 2688 1281 2688 941 \nQ 2688 466 2298 192 \nQ 1909 -81 1291 -81 \nQ 753 -81 353 122 \nL 353 747 \nz\n\" transform=\"scale(0.015625)\"/>\n        <path id=\"MicrosoftYaHei-65\" d=\"M 3363 1572 \nL 944 1572 \nQ 959 1019 1246 717 \nQ 1534 416 2050 416 \nQ 2631 416 3116 788 \nL 3116 241 \nQ 2659 -81 1906 -81 \nQ 1156 -81 736 394 \nQ 316 869 316 1713 \nQ 316 2506 777 3022 \nQ 1238 3538 1922 3538 \nQ 2600 3538 2981 3102 \nQ 3363 2666 3363 1881 \nL 3363 1572 \nz\nM 2750 2063 \nQ 2747 2531 2528 2787 \nQ 2309 3044 1913 3044 \nQ 1547 3044 1280 2772 \nQ 1013 2500 944 2063 \nL 2750 2063 \nz\n\" transform=\"scale(0.015625)\"/>\n        <path id=\"MicrosoftYaHei-70\" d=\"M 1159 488 \nL 1159 -1591 \nL 547 -1591 \nL 547 3456 \nL 1159 3456 \nL 1159 2859 \nL 1172 2859 \nQ 1578 3538 2359 3538 \nQ 3022 3538 3398 3073 \nQ 3775 2609 3775 1828 \nQ 3775 966 3348 442 \nQ 2922 -81 2200 -81 \nQ 1534 -81 1172 488 \nL 1159 488 \nz\nM 1156 1425 \nQ 1156 1003 1428 714 \nQ 1700 425 2109 425 \nQ 2597 425 2872 800 \nQ 3147 1175 3147 1838 \nQ 3147 2397 2890 2714 \nQ 2634 3031 2191 3031 \nQ 1738 3031 1447 2709 \nQ 1156 2388 1156 1884 \nL 1156 1425 \nz\n\" transform=\"scale(0.015625)\"/>\n        <path id=\"MicrosoftYaHei-61\" d=\"M 628 3216 \nQ 1144 3538 1819 3538 \nQ 3069 3538 3069 2225 \nL 3069 0 \nL 2463 0 \nL 2463 534 \nL 2447 534 \nQ 2088 -81 1388 -81 \nQ 884 -81 587 191 \nQ 291 463 291 925 \nQ 291 1894 1438 2053 \nL 2463 2197 \nQ 2463 3044 1763 3044 \nQ 1141 3044 628 2625 \nL 628 3216 \nz\nM 1653 1625 \nQ 1228 1569 1067 1412 \nQ 906 1256 906 975 \nQ 906 728 1081 572 \nQ 1256 416 1544 416 \nQ 1944 416 2203 697 \nQ 2463 978 2463 1403 \nL 2463 1734 \nL 1653 1625 \nz\n\" transform=\"scale(0.015625)\"/>\n        <path id=\"MicrosoftYaHei-6c\" d=\"M 544 0 \nL 544 5116 \nL 1156 5116 \nL 1156 0 \nL 544 0 \nz\n\" transform=\"scale(0.015625)\"/>\n        <path id=\"MicrosoftYaHei-20\" transform=\"scale(0.015625)\"/>\n        <path id=\"MicrosoftYaHei-6e\" d=\"M 3469 0 \nL 2859 0 \nL 2859 1966 \nQ 2859 3031 2081 3031 \nQ 1678 3031 1418 2731 \nQ 1159 2431 1159 1972 \nL 1159 0 \nL 547 0 \nL 547 3456 \nL 1159 3456 \nL 1159 2884 \nL 1172 2884 \nQ 1563 3538 2306 3538 \nQ 2875 3538 3172 3173 \nQ 3469 2809 3469 2113 \nL 3469 0 \nz\n\" transform=\"scale(0.015625)\"/>\n        <path id=\"MicrosoftYaHei-67\" d=\"M 3547 291 \nQ 3547 -1628 1684 -1628 \nQ 1041 -1628 566 -1388 \nL 566 -797 \nQ 1144 -1119 1675 -1119 \nQ 2934 -1119 2934 206 \nL 2934 572 \nL 2922 572 \nQ 2528 -81 1747 -81 \nQ 1097 -81 706 384 \nQ 316 850 316 1619 \nQ 316 2503 747 3020 \nQ 1178 3538 1897 3538 \nQ 2588 3538 2922 2988 \nL 2934 2988 \nL 2934 3456 \nL 3547 3456 \nL 3547 291 \nz\nM 2934 2056 \nQ 2938 2456 2666 2743 \nQ 2394 3031 1997 3031 \nQ 1497 3031 1219 2664 \nQ 941 2297 941 1656 \nQ 941 1106 1209 765 \nQ 1478 425 1922 425 \nQ 2369 425 2653 750 \nQ 2938 1075 2934 1575 \nL 2934 2056 \nz\n\" transform=\"scale(0.015625)\"/>\n        <path id=\"MicrosoftYaHei-74\" d=\"M 2206 34 \nQ 2006 -75 1666 -75 \nQ 738 -75 738 953 \nL 738 2950 \nL 144 2950 \nL 144 3456 \nL 738 3456 \nL 738 4288 \nL 1347 4481 \nL 1347 3456 \nL 2206 3456 \nL 2206 2950 \nL 1347 2950 \nL 1347 1063 \nQ 1347 722 1462 575 \nQ 1578 428 1847 428 \nQ 2053 428 2206 544 \nL 2206 34 \nz\n\" transform=\"scale(0.015625)\"/>\n        <path id=\"MicrosoftYaHei-68\" d=\"M 3466 0 \nL 2856 0 \nL 2856 1988 \nQ 2856 3031 2081 3031 \nQ 1684 3031 1421 2726 \nQ 1159 2422 1159 1959 \nL 1159 0 \nL 547 0 \nL 547 5116 \nL 1159 5116 \nL 1159 2888 \nL 1172 2888 \nQ 1569 3538 2300 3538 \nQ 3466 3538 3466 2128 \nL 3466 0 \nz\n\" transform=\"scale(0.015625)\"/>\n        <path id=\"MicrosoftYaHei-28\" d=\"M 1531 -1100 \nQ 478 100 478 1847 \nQ 478 3594 1531 4841 \nL 2072 4841 \nQ 1016 3544 1016 1853 \nQ 1016 166 2066 -1100 \nL 1531 -1100 \nz\n\" transform=\"scale(0.015625)\"/>\n        <path id=\"MicrosoftYaHei-63\" d=\"M 2934 156 \nQ 2538 -81 1978 -81 \nQ 1228 -81 772 400 \nQ 316 881 316 1647 \nQ 316 2497 808 3017 \nQ 1300 3538 2125 3538 \nQ 2600 3538 2938 3369 \nL 2938 2763 \nQ 2572 3031 2125 3031 \nQ 1600 3031 1270 2667 \nQ 941 2303 941 1697 \nQ 941 1100 1252 762 \nQ 1563 425 2091 425 \nQ 2538 425 2934 719 \nL 2934 156 \nz\n\" transform=\"scale(0.015625)\"/>\n        <path id=\"MicrosoftYaHei-6d\" d=\"M 5522 0 \nL 4909 0 \nL 4909 1984 \nQ 4909 2547 4734 2789 \nQ 4559 3031 4159 3031 \nQ 3822 3031 3581 2715 \nQ 3341 2400 3341 1969 \nL 3341 0 \nL 2728 0 \nL 2728 2047 \nQ 2728 3031 1969 3031 \nQ 1619 3031 1389 2731 \nQ 1159 2431 1159 1966 \nL 1159 0 \nL 547 0 \nL 547 3456 \nL 1159 3456 \nL 1159 2909 \nL 1172 2909 \nQ 1541 3538 2250 3538 \nQ 2597 3538 2862 3347 \nQ 3128 3156 3231 2831 \nQ 3616 3538 4381 3538 \nQ 5522 3538 5522 2131 \nL 5522 0 \nz\n\" transform=\"scale(0.015625)\"/>\n        <path id=\"MicrosoftYaHei-29\" d=\"M 78 -1100 \nQ 1131 163 1131 1853 \nQ 1131 3547 72 4841 \nL 616 4841 \nQ 1672 3603 1672 1847 \nQ 1672 91 616 -1100 \nL 78 -1100 \nz\n\" transform=\"scale(0.015625)\"/>\n       </defs>\n       <use xlink:href=\"#MicrosoftYaHei-73\"/>\n       <use xlink:href=\"#MicrosoftYaHei-65\" transform=\"translate(46.289062 0)\"/>\n       <use xlink:href=\"#MicrosoftYaHei-70\" transform=\"translate(103.027344 0)\"/>\n       <use xlink:href=\"#MicrosoftYaHei-61\" transform=\"translate(165.519531 0)\"/>\n       <use xlink:href=\"#MicrosoftYaHei-6c\" transform=\"translate(220.792969 0)\"/>\n       <use xlink:href=\"#MicrosoftYaHei-20\" transform=\"translate(247.404297 0)\"/>\n       <use xlink:href=\"#MicrosoftYaHei-6c\" transform=\"translate(276.994141 0)\"/>\n       <use xlink:href=\"#MicrosoftYaHei-65\" transform=\"translate(303.605469 0)\"/>\n       <use xlink:href=\"#MicrosoftYaHei-6e\" transform=\"translate(360.34375 0)\"/>\n       <use xlink:href=\"#MicrosoftYaHei-67\" transform=\"translate(421.964844 0)\"/>\n       <use xlink:href=\"#MicrosoftYaHei-74\" transform=\"translate(485.929688 0)\"/>\n       <use xlink:href=\"#MicrosoftYaHei-68\" transform=\"translate(523.185547 0)\"/>\n       <use xlink:href=\"#MicrosoftYaHei-20\" transform=\"translate(584.757812 0)\"/>\n       <use xlink:href=\"#MicrosoftYaHei-28\" transform=\"translate(614.347656 0)\"/>\n       <use xlink:href=\"#MicrosoftYaHei-63\" transform=\"translate(647.746094 0)\"/>\n       <use xlink:href=\"#MicrosoftYaHei-6d\" transform=\"translate(697.892578 0)\"/>\n       <use xlink:href=\"#MicrosoftYaHei-29\" transform=\"translate(791.59375 0)\"/>\n      </g>\n     </g>\n    </g>\n    <g id=\"xtick_2\">\n     <g id=\"line2d_2\">\n      <g>\n       <use xlink:href=\"#mc2bd7c14cc\" x=\"153.984063\" y=\"273.312\" style=\"stroke: #000000; stroke-width: 0.8\"/>\n      </g>\n     </g>\n     <g id=\"text_2\">\n      <!-- sepal width (cm) -->\n      <g transform=\"translate(114.702813 288.30575) scale(0.1 -0.1)\">\n       <defs>\n        <path id=\"MicrosoftYaHei-77\" d=\"M 4975 3456 \nL 3944 0 \nL 3306 0 \nL 2619 2425 \nQ 2575 2581 2563 2756 \nL 2550 2756 \nQ 2541 2625 2478 2431 \nL 1734 0 \nL 1116 0 \nL 78 3456 \nL 716 3456 \nL 1406 894 \nQ 1438 778 1453 578 \nL 1478 578 \nQ 1491 750 1538 903 \nL 2281 3456 \nL 2847 3456 \nL 3572 891 \nQ 3603 778 3622 572 \nL 3650 572 \nQ 3656 709 3706 891 \nL 4381 3456 \nL 4975 3456 \nz\n\" transform=\"scale(0.015625)\"/>\n        <path id=\"MicrosoftYaHei-69\" d=\"M 472 4675 \nQ 472 4838 583 4948 \nQ 694 5059 856 5059 \nQ 1022 5059 1136 4950 \nQ 1250 4841 1250 4675 \nQ 1250 4513 1136 4405 \nQ 1022 4297 856 4297 \nQ 691 4297 581 4405 \nQ 472 4513 472 4675 \nz\nM 544 0 \nL 544 3456 \nL 1156 3456 \nL 1156 0 \nL 544 0 \nz\n\" transform=\"scale(0.015625)\"/>\n        <path id=\"MicrosoftYaHei-64\" d=\"M 3547 0 \nL 2934 0 \nL 2934 575 \nL 2922 575 \nQ 2544 -81 1747 -81 \nQ 1091 -81 703 386 \nQ 316 853 316 1647 \nQ 316 2503 753 3020 \nQ 1191 3538 1897 3538 \nQ 2603 3538 2922 2988 \nL 2934 2988 \nL 2934 5116 \nL 3547 5116 \nL 3547 0 \nz\nM 2938 2056 \nQ 2938 2472 2664 2751 \nQ 2391 3031 1991 3031 \nQ 1503 3031 1222 2667 \nQ 941 2303 941 1675 \nQ 941 1097 1211 761 \nQ 1481 425 1931 425 \nQ 2375 425 2656 754 \nQ 2938 1084 2938 1575 \nL 2938 2056 \nz\n\" transform=\"scale(0.015625)\"/>\n       </defs>\n       <use xlink:href=\"#MicrosoftYaHei-73\"/>\n       <use xlink:href=\"#MicrosoftYaHei-65\" transform=\"translate(46.289062 0)\"/>\n       <use xlink:href=\"#MicrosoftYaHei-70\" transform=\"translate(103.027344 0)\"/>\n       <use xlink:href=\"#MicrosoftYaHei-61\" transform=\"translate(165.519531 0)\"/>\n       <use xlink:href=\"#MicrosoftYaHei-6c\" transform=\"translate(220.792969 0)\"/>\n       <use xlink:href=\"#MicrosoftYaHei-20\" transform=\"translate(247.404297 0)\"/>\n       <use xlink:href=\"#MicrosoftYaHei-77\" transform=\"translate(276.994141 0)\"/>\n       <use xlink:href=\"#MicrosoftYaHei-69\" transform=\"translate(355.949219 0)\"/>\n       <use xlink:href=\"#MicrosoftYaHei-64\" transform=\"translate(382.560547 0)\"/>\n       <use xlink:href=\"#MicrosoftYaHei-74\" transform=\"translate(446.525391 0)\"/>\n       <use xlink:href=\"#MicrosoftYaHei-68\" transform=\"translate(483.78125 0)\"/>\n       <use xlink:href=\"#MicrosoftYaHei-20\" transform=\"translate(545.353516 0)\"/>\n       <use xlink:href=\"#MicrosoftYaHei-28\" transform=\"translate(574.943359 0)\"/>\n       <use xlink:href=\"#MicrosoftYaHei-63\" transform=\"translate(608.341797 0)\"/>\n       <use xlink:href=\"#MicrosoftYaHei-6d\" transform=\"translate(658.488281 0)\"/>\n       <use xlink:href=\"#MicrosoftYaHei-29\" transform=\"translate(752.189453 0)\"/>\n      </g>\n     </g>\n    </g>\n    <g id=\"xtick_3\">\n     <g id=\"line2d_3\">\n      <g>\n       <use xlink:href=\"#mc2bd7c14cc\" x=\"243.264063\" y=\"273.312\" style=\"stroke: #000000; stroke-width: 0.8\"/>\n      </g>\n     </g>\n     <g id=\"text_3\">\n      <!-- petal length (cm) -->\n      <g transform=\"translate(202.396094 288.30575) scale(0.1 -0.1)\">\n       <use xlink:href=\"#MicrosoftYaHei-70\"/>\n       <use xlink:href=\"#MicrosoftYaHei-65\" transform=\"translate(63.867188 0)\"/>\n       <use xlink:href=\"#MicrosoftYaHei-74\" transform=\"translate(120.605469 0)\"/>\n       <use xlink:href=\"#MicrosoftYaHei-61\" transform=\"translate(157.861328 0)\"/>\n       <use xlink:href=\"#MicrosoftYaHei-6c\" transform=\"translate(213.134766 0)\"/>\n       <use xlink:href=\"#MicrosoftYaHei-20\" transform=\"translate(239.746094 0)\"/>\n       <use xlink:href=\"#MicrosoftYaHei-6c\" transform=\"translate(269.335938 0)\"/>\n       <use xlink:href=\"#MicrosoftYaHei-65\" transform=\"translate(295.947266 0)\"/>\n       <use xlink:href=\"#MicrosoftYaHei-6e\" transform=\"translate(352.685547 0)\"/>\n       <use xlink:href=\"#MicrosoftYaHei-67\" transform=\"translate(414.306641 0)\"/>\n       <use xlink:href=\"#MicrosoftYaHei-74\" transform=\"translate(478.271484 0)\"/>\n       <use xlink:href=\"#MicrosoftYaHei-68\" transform=\"translate(515.527344 0)\"/>\n       <use xlink:href=\"#MicrosoftYaHei-20\" transform=\"translate(577.099609 0)\"/>\n       <use xlink:href=\"#MicrosoftYaHei-28\" transform=\"translate(606.689453 0)\"/>\n       <use xlink:href=\"#MicrosoftYaHei-63\" transform=\"translate(640.087891 0)\"/>\n       <use xlink:href=\"#MicrosoftYaHei-6d\" transform=\"translate(690.234375 0)\"/>\n       <use xlink:href=\"#MicrosoftYaHei-29\" transform=\"translate(783.935547 0)\"/>\n      </g>\n     </g>\n    </g>\n    <g id=\"xtick_4\">\n     <g id=\"line2d_4\">\n      <g>\n       <use xlink:href=\"#mc2bd7c14cc\" x=\"332.544063\" y=\"273.312\" style=\"stroke: #000000; stroke-width: 0.8\"/>\n      </g>\n     </g>\n     <g id=\"text_4\">\n      <!-- petal width (cm) -->\n      <g transform=\"translate(293.646406 288.30575) scale(0.1 -0.1)\">\n       <use xlink:href=\"#MicrosoftYaHei-70\"/>\n       <use xlink:href=\"#MicrosoftYaHei-65\" transform=\"translate(63.867188 0)\"/>\n       <use xlink:href=\"#MicrosoftYaHei-74\" transform=\"translate(120.605469 0)\"/>\n       <use xlink:href=\"#MicrosoftYaHei-61\" transform=\"translate(157.861328 0)\"/>\n       <use xlink:href=\"#MicrosoftYaHei-6c\" transform=\"translate(213.134766 0)\"/>\n       <use xlink:href=\"#MicrosoftYaHei-20\" transform=\"translate(239.746094 0)\"/>\n       <use xlink:href=\"#MicrosoftYaHei-77\" transform=\"translate(269.335938 0)\"/>\n       <use xlink:href=\"#MicrosoftYaHei-69\" transform=\"translate(348.291016 0)\"/>\n       <use xlink:href=\"#MicrosoftYaHei-64\" transform=\"translate(374.902344 0)\"/>\n       <use xlink:href=\"#MicrosoftYaHei-74\" transform=\"translate(438.867188 0)\"/>\n       <use xlink:href=\"#MicrosoftYaHei-68\" transform=\"translate(476.123047 0)\"/>\n       <use xlink:href=\"#MicrosoftYaHei-20\" transform=\"translate(537.695312 0)\"/>\n       <use xlink:href=\"#MicrosoftYaHei-28\" transform=\"translate(567.285156 0)\"/>\n       <use xlink:href=\"#MicrosoftYaHei-63\" transform=\"translate(600.683594 0)\"/>\n       <use xlink:href=\"#MicrosoftYaHei-6d\" transform=\"translate(650.830078 0)\"/>\n       <use xlink:href=\"#MicrosoftYaHei-29\" transform=\"translate(744.53125 0)\"/>\n      </g>\n     </g>\n    </g>\n   </g>\n   <g id=\"matplotlib.axis_2\">\n    <g id=\"ytick_1\">\n     <g id=\"line2d_5\">\n      <defs>\n       <path id=\"m9797004b6d\" d=\"M 0 0 \nL -3.5 0 \n\" style=\"stroke: #000000; stroke-width: 0.8\"/>\n      </defs>\n      <g>\n       <use xlink:href=\"#m9797004b6d\" x=\"20.064062\" y=\"264.317538\" style=\"stroke: #000000; stroke-width: 0.8\"/>\n      </g>\n     </g>\n     <g id=\"text_5\">\n      <!-- 0 -->\n      <g transform=\"translate(7.2 268.314413) scale(0.1 -0.1)\">\n       <defs>\n        <path id=\"MicrosoftYaHei-30\" d=\"M 284 2325 \nQ 284 3606 709 4264 \nQ 1134 4922 1941 4922 \nQ 3478 4922 3478 2441 \nQ 3478 1216 3045 567 \nQ 2613 -81 1831 -81 \nQ 1094 -81 689 534 \nQ 284 1150 284 2325 \nz\nM 909 2353 \nQ 909 425 1888 425 \nQ 2850 425 2850 2384 \nQ 2850 4413 1906 4413 \nQ 909 4413 909 2353 \nz\n\" transform=\"scale(0.015625)\"/>\n       </defs>\n       <use xlink:href=\"#MicrosoftYaHei-30\"/>\n      </g>\n     </g>\n    </g>\n    <g id=\"ytick_2\">\n     <g id=\"line2d_6\">\n      <g>\n       <use xlink:href=\"#m9797004b6d\" x=\"20.064062\" y=\"233.302154\" style=\"stroke: #000000; stroke-width: 0.8\"/>\n      </g>\n     </g>\n     <g id=\"text_6\">\n      <!-- 1 -->\n      <g transform=\"translate(7.2 237.299029) scale(0.1 -0.1)\">\n       <defs>\n        <path id=\"MicrosoftYaHei-31\" d=\"M 1781 0 \nL 1781 4141 \nQ 1638 3997 1295 3819 \nQ 953 3641 663 3569 \nL 663 4169 \nQ 1047 4275 1484 4508 \nQ 1922 4741 2156 4947 \nL 2388 4947 \nL 2388 0 \nL 1781 0 \nz\n\" transform=\"scale(0.015625)\"/>\n       </defs>\n       <use xlink:href=\"#MicrosoftYaHei-31\"/>\n      </g>\n     </g>\n    </g>\n    <g id=\"ytick_3\">\n     <g id=\"line2d_7\">\n      <g>\n       <use xlink:href=\"#m9797004b6d\" x=\"20.064062\" y=\"202.286769\" style=\"stroke: #000000; stroke-width: 0.8\"/>\n      </g>\n     </g>\n     <g id=\"text_7\">\n      <!-- 2 -->\n      <g transform=\"translate(7.2 206.283644) scale(0.1 -0.1)\">\n       <defs>\n        <path id=\"MicrosoftYaHei-32\" d=\"M 2666 3572 \nQ 2666 3963 2419 4186 \nQ 2172 4409 1747 4409 \nQ 1447 4409 1140 4256 \nQ 834 4103 569 3819 \nL 569 4413 \nQ 806 4659 1107 4790 \nQ 1409 4922 1816 4922 \nQ 2472 4922 2872 4570 \nQ 3272 4219 3272 3619 \nQ 3272 3084 3026 2693 \nQ 2781 2303 2188 1894 \nQ 1581 1475 1376 1294 \nQ 1172 1113 1090 947 \nQ 1009 781 1009 544 \nL 3416 544 \nL 3416 0 \nL 372 0 \nL 372 241 \nQ 372 659 486 951 \nQ 600 1244 862 1520 \nQ 1125 1797 1681 2184 \nQ 2250 2584 2458 2886 \nQ 2666 3188 2666 3572 \nz\n\" transform=\"scale(0.015625)\"/>\n       </defs>\n       <use xlink:href=\"#MicrosoftYaHei-32\"/>\n      </g>\n     </g>\n    </g>\n    <g id=\"ytick_4\">\n     <g id=\"line2d_8\">\n      <g>\n       <use xlink:href=\"#m9797004b6d\" x=\"20.064062\" y=\"171.271385\" style=\"stroke: #000000; stroke-width: 0.8\"/>\n      </g>\n     </g>\n     <g id=\"text_8\">\n      <!-- 3 -->\n      <g transform=\"translate(7.2 175.26826) scale(0.1 -0.1)\">\n       <defs>\n        <path id=\"MicrosoftYaHei-33\" d=\"M 447 809 \nQ 944 425 1569 425 \nQ 2069 425 2361 670 \nQ 2653 916 2653 1328 \nQ 2653 2247 1338 2247 \nL 934 2247 \nL 934 2753 \nL 1319 2753 \nQ 2484 2753 2484 3616 \nQ 2484 4413 1594 4413 \nQ 1084 4413 634 4069 \nL 634 4647 \nQ 1109 4922 1744 4922 \nQ 2363 4922 2738 4598 \nQ 3113 4275 3113 3759 \nQ 3113 2809 2144 2538 \nL 2144 2525 \nQ 2669 2469 2973 2155 \nQ 3278 1841 3278 1372 \nQ 3278 719 2808 319 \nQ 2338 -81 1556 -81 \nQ 869 -81 447 175 \nL 447 809 \nz\n\" transform=\"scale(0.015625)\"/>\n       </defs>\n       <use xlink:href=\"#MicrosoftYaHei-33\"/>\n      </g>\n     </g>\n    </g>\n    <g id=\"ytick_5\">\n     <g id=\"line2d_9\">\n      <g>\n       <use xlink:href=\"#m9797004b6d\" x=\"20.064062\" y=\"140.256\" style=\"stroke: #000000; stroke-width: 0.8\"/>\n      </g>\n     </g>\n     <g id=\"text_9\">\n      <!-- 4 -->\n      <g transform=\"translate(7.2 144.252875) scale(0.1 -0.1)\">\n       <defs>\n        <path id=\"MicrosoftYaHei-34\" d=\"M 2906 4841 \nL 2906 1644 \nL 3631 1644 \nL 3631 1138 \nL 2906 1138 \nL 2906 0 \nL 2313 0 \nL 2313 1138 \nL 53 1138 \nL 53 1616 \nQ 656 2294 1265 3178 \nQ 1875 4063 2272 4841 \nL 2906 4841 \nz\nM 741 1644 \nL 2313 1644 \nL 2313 3950 \nQ 1988 3366 1616 2817 \nQ 1244 2269 741 1644 \nz\n\" transform=\"scale(0.015625)\"/>\n       </defs>\n       <use xlink:href=\"#MicrosoftYaHei-34\"/>\n      </g>\n     </g>\n    </g>\n    <g id=\"ytick_6\">\n     <g id=\"line2d_10\">\n      <g>\n       <use xlink:href=\"#m9797004b6d\" x=\"20.064062\" y=\"109.240615\" style=\"stroke: #000000; stroke-width: 0.8\"/>\n      </g>\n     </g>\n     <g id=\"text_10\">\n      <!-- 5 -->\n      <g transform=\"translate(7.2 113.23749) scale(0.1 -0.1)\">\n       <defs>\n        <path id=\"MicrosoftYaHei-35\" d=\"M 3294 1494 \nQ 3294 784 2823 350 \nQ 2353 -84 1559 -84 \nQ 878 -84 544 119 \nL 544 744 \nQ 1034 425 1544 425 \nQ 2050 425 2361 704 \nQ 2672 984 2672 1447 \nQ 2672 1909 2348 2167 \nQ 2025 2425 1434 2425 \nQ 978 2425 613 2384 \nL 791 4841 \nL 3053 4841 \nL 3053 4303 \nL 1306 4303 \nL 1206 2931 \nL 1647 2950 \nQ 2416 2950 2855 2567 \nQ 3294 2184 3294 1494 \nz\n\" transform=\"scale(0.015625)\"/>\n       </defs>\n       <use xlink:href=\"#MicrosoftYaHei-35\"/>\n      </g>\n     </g>\n    </g>\n    <g id=\"ytick_7\">\n     <g id=\"line2d_11\">\n      <g>\n       <use xlink:href=\"#m9797004b6d\" x=\"20.064062\" y=\"78.225231\" style=\"stroke: #000000; stroke-width: 0.8\"/>\n      </g>\n     </g>\n     <g id=\"text_11\">\n      <!-- 6 -->\n      <g transform=\"translate(7.2 82.222106) scale(0.1 -0.1)\">\n       <defs>\n        <path id=\"MicrosoftYaHei-36\" d=\"M 3181 4219 \nQ 2803 4413 2391 4413 \nQ 1763 4413 1381 3866 \nQ 1000 3319 994 2372 \nL 1009 2372 \nQ 1353 3038 2106 3038 \nQ 2734 3038 3109 2628 \nQ 3484 2219 3484 1541 \nQ 3484 831 3051 375 \nQ 2619 -81 1947 -81 \nQ 1209 -81 789 495 \nQ 369 1072 369 2131 \nQ 369 3413 920 4167 \nQ 1472 4922 2372 4922 \nQ 2888 4922 3181 4781 \nL 3181 4219 \nz\nM 1031 1584 \nQ 1031 1106 1286 765 \nQ 1541 425 1963 425 \nQ 2363 425 2613 719 \nQ 2863 1013 2863 1475 \nQ 2863 1975 2627 2253 \nQ 2391 2531 1956 2531 \nQ 1544 2531 1287 2250 \nQ 1031 1969 1031 1584 \nz\n\" transform=\"scale(0.015625)\"/>\n       </defs>\n       <use xlink:href=\"#MicrosoftYaHei-36\"/>\n      </g>\n     </g>\n    </g>\n    <g id=\"ytick_8\">\n     <g id=\"line2d_12\">\n      <g>\n       <use xlink:href=\"#m9797004b6d\" x=\"20.064062\" y=\"47.209846\" style=\"stroke: #000000; stroke-width: 0.8\"/>\n      </g>\n     </g>\n     <g id=\"text_12\">\n      <!-- 7 -->\n      <g transform=\"translate(7.2 51.206721) scale(0.1 -0.1)\">\n       <defs>\n        <path id=\"MicrosoftYaHei-37\" d=\"M 3422 4463 \nQ 2659 3131 2223 1998 \nQ 1788 866 1684 0 \nL 1047 0 \nQ 1163 853 1594 1947 \nQ 2025 3041 2747 4300 \nL 347 4300 \nL 347 4841 \nL 3422 4841 \nL 3422 4463 \nz\n\" transform=\"scale(0.015625)\"/>\n       </defs>\n       <use xlink:href=\"#MicrosoftYaHei-37\"/>\n      </g>\n     </g>\n    </g>\n    <g id=\"ytick_9\">\n     <g id=\"line2d_13\">\n      <g>\n       <use xlink:href=\"#m9797004b6d\" x=\"20.064062\" y=\"16.194462\" style=\"stroke: #000000; stroke-width: 0.8\"/>\n      </g>\n     </g>\n     <g id=\"text_13\">\n      <!-- 8 -->\n      <g transform=\"translate(7.2 20.191337) scale(0.1 -0.1)\">\n       <defs>\n        <path id=\"MicrosoftYaHei-38\" d=\"M 306 1350 \nQ 306 1769 556 2122 \nQ 806 2475 1200 2625 \nQ 884 2803 700 3081 \nQ 516 3359 516 3684 \nQ 516 4028 692 4312 \nQ 869 4597 1183 4759 \nQ 1497 4922 1875 4922 \nQ 2256 4922 2572 4761 \nQ 2888 4600 3063 4315 \nQ 3238 4031 3238 3684 \nQ 3238 3366 3058 3086 \nQ 2878 2806 2559 2625 \nQ 2953 2472 3200 2119 \nQ 3447 1766 3447 1350 \nQ 3447 938 3250 611 \nQ 3053 284 2690 103 \nQ 2328 -78 1875 -78 \nQ 1425 -78 1065 103 \nQ 706 284 506 612 \nQ 306 941 306 1350 \nz\nM 906 1378 \nQ 906 947 1172 687 \nQ 1438 428 1878 428 \nQ 2309 428 2582 692 \nQ 2856 956 2856 1378 \nQ 2856 1778 2579 2051 \nQ 2303 2325 1878 2325 \nQ 1456 2325 1181 2058 \nQ 906 1791 906 1378 \nz\nM 1081 3634 \nQ 1081 3309 1312 3076 \nQ 1544 2844 1878 2844 \nQ 2206 2844 2445 3078 \nQ 2684 3313 2684 3634 \nQ 2684 3963 2454 4191 \nQ 2225 4419 1878 4419 \nQ 1534 4419 1307 4195 \nQ 1081 3972 1081 3634 \nz\n\" transform=\"scale(0.015625)\"/>\n       </defs>\n       <use xlink:href=\"#MicrosoftYaHei-38\"/>\n      </g>\n     </g>\n    </g>\n   </g>\n   <g id=\"line2d_14\">\n    <path d=\"M 44.616062 106.139077 \nL 84.792063 106.139077 \nL 84.792063 65.819077 \nL 44.616062 65.819077 \nL 44.616062 106.139077 \n\" clip-path=\"url(#p16a470abec)\" style=\"fill: none; stroke: #000000; stroke-linecap: square\"/>\n   </g>\n   <g id=\"line2d_15\">\n    <path d=\"M 64.704063 106.139077 \nL 64.704063 130.951385 \n\" clip-path=\"url(#p16a470abec)\" style=\"fill: none; stroke: #000000; stroke-linecap: square\"/>\n   </g>\n   <g id=\"line2d_16\">\n    <path d=\"M 64.704063 65.819077 \nL 64.704063 19.296 \n\" clip-path=\"url(#p16a470abec)\" style=\"fill: none; stroke: #000000; stroke-linecap: square\"/>\n   </g>\n   <g id=\"line2d_17\">\n    <path d=\"M 54.660062 130.951385 \nL 74.748063 130.951385 \n\" clip-path=\"url(#p16a470abec)\" style=\"fill: none; stroke: #000000; stroke-linecap: square\"/>\n   </g>\n   <g id=\"line2d_18\">\n    <path d=\"M 54.660062 19.296 \nL 74.748063 19.296 \n\" clip-path=\"url(#p16a470abec)\" style=\"fill: none; stroke: #000000; stroke-linecap: square\"/>\n   </g>\n   <g id=\"line2d_19\"/>\n   <g id=\"line2d_20\">\n    <path d=\"M 133.896062 177.474462 \nL 174.072063 177.474462 \nL 174.072063 161.966769 \nL 133.896062 161.966769 \nL 133.896062 177.474462 \n\" clip-path=\"url(#p16a470abec)\" style=\"fill: none; stroke: #000000; stroke-linecap: square\"/>\n   </g>\n   <g id=\"line2d_21\">\n    <path d=\"M 153.984063 177.474462 \nL 153.984063 196.083692 \n\" clip-path=\"url(#p16a470abec)\" style=\"fill: none; stroke: #000000; stroke-linecap: square\"/>\n   </g>\n   <g id=\"line2d_22\">\n    <path d=\"M 153.984063 161.966769 \nL 153.984063 140.256 \n\" clip-path=\"url(#p16a470abec)\" style=\"fill: none; stroke: #000000; stroke-linecap: square\"/>\n   </g>\n   <g id=\"line2d_23\">\n    <path d=\"M 143.940063 196.083692 \nL 164.028063 196.083692 \n\" clip-path=\"url(#p16a470abec)\" style=\"fill: none; stroke: #000000; stroke-linecap: square\"/>\n   </g>\n   <g id=\"line2d_24\">\n    <path d=\"M 143.940063 140.256 \nL 164.028063 140.256 \n\" clip-path=\"url(#p16a470abec)\" style=\"fill: none; stroke: #000000; stroke-linecap: square\"/>\n   </g>\n   <g id=\"line2d_25\">\n    <defs>\n     <path id=\"meb930bebf7\" d=\"M 0 3 \nC 0.795609 3 1.55874 2.683901 2.12132 2.12132 \nC 2.683901 1.55874 3 0.795609 3 0 \nC 3 -0.795609 2.683901 -1.55874 2.12132 -2.12132 \nC 1.55874 -2.683901 0.795609 -3 0 -3 \nC -0.795609 -3 -1.55874 -2.683901 -2.12132 -2.12132 \nC -2.683901 -1.55874 -3 -0.795609 -3 0 \nC -3 0.795609 -2.683901 1.55874 -2.12132 2.12132 \nC -1.55874 2.683901 -0.795609 3 0 3 \nz\n\" style=\"stroke: #000000\"/>\n    </defs>\n    <g clip-path=\"url(#p16a470abec)\">\n     <use xlink:href=\"#meb930bebf7\" x=\"153.984063\" y=\"202.286769\" style=\"fill-opacity: 0; stroke: #000000\"/>\n     <use xlink:href=\"#meb930bebf7\" x=\"153.984063\" y=\"127.849846\" style=\"fill-opacity: 0; stroke: #000000\"/>\n     <use xlink:href=\"#meb930bebf7\" x=\"153.984063\" y=\"137.154462\" style=\"fill-opacity: 0; stroke: #000000\"/>\n     <use xlink:href=\"#meb930bebf7\" x=\"153.984063\" y=\"134.052923\" style=\"fill-opacity: 0; stroke: #000000\"/>\n    </g>\n   </g>\n   <g id=\"line2d_26\">\n    <path d=\"M 223.176063 214.692923 \nL 263.352063 214.692923 \nL 263.352063 106.139077 \nL 223.176063 106.139077 \nL 223.176063 214.692923 \n\" clip-path=\"url(#p16a470abec)\" style=\"fill: none; stroke: #000000; stroke-linecap: square\"/>\n   </g>\n   <g id=\"line2d_27\">\n    <path d=\"M 243.264063 214.692923 \nL 243.264063 233.302154 \n\" clip-path=\"url(#p16a470abec)\" style=\"fill: none; stroke: #000000; stroke-linecap: square\"/>\n   </g>\n   <g id=\"line2d_28\">\n    <path d=\"M 243.264063 106.139077 \nL 243.264063 50.311385 \n\" clip-path=\"url(#p16a470abec)\" style=\"fill: none; stroke: #000000; stroke-linecap: square\"/>\n   </g>\n   <g id=\"line2d_29\">\n    <path d=\"M 233.220063 233.302154 \nL 253.308063 233.302154 \n\" clip-path=\"url(#p16a470abec)\" style=\"fill: none; stroke: #000000; stroke-linecap: square\"/>\n   </g>\n   <g id=\"line2d_30\">\n    <path d=\"M 233.220063 50.311385 \nL 253.308063 50.311385 \n\" clip-path=\"url(#p16a470abec)\" style=\"fill: none; stroke: #000000; stroke-linecap: square\"/>\n   </g>\n   <g id=\"line2d_31\"/>\n   <g id=\"line2d_32\">\n    <path d=\"M 312.456063 255.012923 \nL 352.632063 255.012923 \nL 352.632063 208.489846 \nL 312.456063 208.489846 \nL 312.456063 255.012923 \n\" clip-path=\"url(#p16a470abec)\" style=\"fill: none; stroke: #000000; stroke-linecap: square\"/>\n   </g>\n   <g id=\"line2d_33\">\n    <path d=\"M 332.544063 255.012923 \nL 332.544063 261.216 \n\" clip-path=\"url(#p16a470abec)\" style=\"fill: none; stroke: #000000; stroke-linecap: square\"/>\n   </g>\n   <g id=\"line2d_34\">\n    <path d=\"M 332.544063 208.489846 \nL 332.544063 186.779077 \n\" clip-path=\"url(#p16a470abec)\" style=\"fill: none; stroke: #000000; stroke-linecap: square\"/>\n   </g>\n   <g id=\"line2d_35\">\n    <path d=\"M 322.500063 261.216 \nL 342.588063 261.216 \n\" clip-path=\"url(#p16a470abec)\" style=\"fill: none; stroke: #000000; stroke-linecap: square\"/>\n   </g>\n   <g id=\"line2d_36\">\n    <path d=\"M 322.500063 186.779077 \nL 342.588063 186.779077 \n\" clip-path=\"url(#p16a470abec)\" style=\"fill: none; stroke: #000000; stroke-linecap: square\"/>\n   </g>\n   <g id=\"line2d_37\"/>\n   <g id=\"line2d_38\">\n    <path d=\"M 44.616062 84.428308 \nL 84.792063 84.428308 \n\" clip-path=\"url(#p16a470abec)\" style=\"fill: none; stroke: #ff7f0e\"/>\n   </g>\n   <g id=\"line2d_39\">\n    <path d=\"M 133.896062 171.271385 \nL 174.072063 171.271385 \n\" clip-path=\"url(#p16a470abec)\" style=\"fill: none; stroke: #ff7f0e\"/>\n   </g>\n   <g id=\"line2d_40\">\n    <path d=\"M 223.176063 129.400615 \nL 263.352063 129.400615 \n\" clip-path=\"url(#p16a470abec)\" style=\"fill: none; stroke: #ff7f0e\"/>\n   </g>\n   <g id=\"line2d_41\">\n    <path d=\"M 312.456063 223.997538 \nL 352.632063 223.997538 \n\" clip-path=\"url(#p16a470abec)\" style=\"fill: none; stroke: #ff7f0e\"/>\n   </g>\n   <g id=\"patch_3\">\n    <path d=\"M 20.064062 273.312 \nL 20.064062 7.2 \n\" style=\"fill: none; stroke: #000000; stroke-width: 0.8; stroke-linejoin: miter; stroke-linecap: square\"/>\n   </g>\n   <g id=\"patch_4\">\n    <path d=\"M 377.184063 273.312 \nL 377.184063 7.2 \n\" style=\"fill: none; stroke: #000000; stroke-width: 0.8; stroke-linejoin: miter; stroke-linecap: square\"/>\n   </g>\n   <g id=\"patch_5\">\n    <path d=\"M 20.064062 273.312 \nL 377.184063 273.312 \n\" style=\"fill: none; stroke: #000000; stroke-width: 0.8; stroke-linejoin: miter; stroke-linecap: square\"/>\n   </g>\n   <g id=\"patch_6\">\n    <path d=\"M 20.064062 7.2 \nL 377.184063 7.2 \n\" style=\"fill: none; stroke: #000000; stroke-width: 0.8; stroke-linejoin: miter; stroke-linecap: square\"/>\n   </g>\n  </g>\n </g>\n <defs>\n  <clipPath id=\"p16a470abec\">\n   <rect x=\"20.064062\" y=\"7.2\" width=\"357.12\" height=\"266.112\"/>\n  </clipPath>\n </defs>\n</svg>\n"
     },
     "metadata": {},
     "output_type": "display_data"
    }
   ],
   "execution_count": 3
  },
  {
   "cell_type": "code",
   "execution_count": null,
   "id": "c32da8ad-f43e-4207-a5f5-b93512fcfe62",
   "metadata": {},
   "outputs": [],
   "source": []
  }
 ],
 "metadata": {
  "kernelspec": {
   "display_name": "Python 3 (ipykernel)",
   "language": "python",
   "name": "python3"
  },
  "language_info": {
   "codemirror_mode": {
    "name": "ipython",
    "version": 3
   },
   "file_extension": ".py",
   "mimetype": "text/x-python",
   "name": "python",
   "nbconvert_exporter": "python",
   "pygments_lexer": "ipython3",
   "version": "3.12.6"
  }
 },
 "nbformat": 4,
 "nbformat_minor": 5
}
