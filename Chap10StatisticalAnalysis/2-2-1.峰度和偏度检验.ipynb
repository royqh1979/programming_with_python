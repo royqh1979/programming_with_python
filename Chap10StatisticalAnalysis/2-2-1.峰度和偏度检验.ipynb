{
 "cells": [
  {
   "cell_type": "code",
   "id": "initial_id",
   "metadata": {
    "collapsed": true,
    "ExecuteTime": {
     "end_time": "2025-05-04T01:17:50.311575Z",
     "start_time": "2025-05-04T01:17:49.836426Z"
    }
   },
   "source": [
    "import numpy as np\n",
    "import scipy.stats as stats\n",
    "\n",
    "#s1来自均匀分布\n",
    "s1=np.random.uniform(0,100,1000)\n",
    "#s2来自正态分布\n",
    "s2=np.random.normal(0,1,1000)"
   ],
   "outputs": [],
   "execution_count": 1
  },
  {
   "metadata": {
    "ExecuteTime": {
     "end_time": "2025-05-04T01:17:51.624766Z",
     "start_time": "2025-05-04T01:17:51.618409Z"
    }
   },
   "cell_type": "code",
   "source": "stats.normaltest(s1)",
   "id": "54eb2b58ec3ca764",
   "outputs": [
    {
     "data": {
      "text/plain": [
       "NormaltestResult(statistic=686.4992934888894, pvalue=8.483449982799727e-150)"
      ]
     },
     "execution_count": 2,
     "metadata": {},
     "output_type": "execute_result"
    }
   ],
   "execution_count": 2
  },
  {
   "metadata": {
    "ExecuteTime": {
     "end_time": "2025-05-04T01:18:03.532031Z",
     "start_time": "2025-05-04T01:18:03.527342Z"
    }
   },
   "cell_type": "code",
   "source": "stats.normaltest(s2)",
   "id": "79bb9497b0af1b0c",
   "outputs": [
    {
     "data": {
      "text/plain": [
       "NormaltestResult(statistic=4.90673588181251, pvalue=0.08600344366566905)"
      ]
     },
     "execution_count": 3,
     "metadata": {},
     "output_type": "execute_result"
    }
   ],
   "execution_count": 3
  },
  {
   "metadata": {},
   "cell_type": "code",
   "outputs": [],
   "execution_count": null,
   "source": "",
   "id": "a07eb5ea90903116"
  }
 ],
 "metadata": {
  "kernelspec": {
   "display_name": "Python 3",
   "language": "python",
   "name": "python3"
  },
  "language_info": {
   "codemirror_mode": {
    "name": "ipython",
    "version": 2
   },
   "file_extension": ".py",
   "mimetype": "text/x-python",
   "name": "python",
   "nbconvert_exporter": "python",
   "pygments_lexer": "ipython2",
   "version": "2.7.6"
  }
 },
 "nbformat": 4,
 "nbformat_minor": 5
}
