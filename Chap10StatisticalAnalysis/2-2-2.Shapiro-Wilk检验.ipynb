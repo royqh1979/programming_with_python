{
 "cells": [
  {
   "cell_type": "code",
   "id": "initial_id",
   "metadata": {
    "collapsed": true,
    "ExecuteTime": {
     "end_time": "2025-05-04T01:29:47.017893Z",
     "start_time": "2025-05-04T01:29:46.544492Z"
    }
   },
   "source": [
    "import numpy as np\n",
    "import scipy.stats as stats\n",
    "\n",
    "#s1来自均匀分布\n",
    "s1=np.random.uniform(0,100,1000)\n",
    "#s2来自正态分布\n",
    "s2=np.random.normal(0,1,1000)"
   ],
   "outputs": [],
   "execution_count": 3
  },
  {
   "metadata": {
    "ExecuteTime": {
     "end_time": "2025-05-04T01:29:48.950457Z",
     "start_time": "2025-05-04T01:29:48.945522Z"
    }
   },
   "cell_type": "code",
   "source": "stats.shapiro(s1)",
   "id": "54eb2b58ec3ca764",
   "outputs": [
    {
     "data": {
      "text/plain": [
       "ShapiroResult(statistic=0.9581628761871002, pvalue=2.6388590994160135e-16)"
      ]
     },
     "execution_count": 4,
     "metadata": {},
     "output_type": "execute_result"
    }
   ],
   "execution_count": 4
  },
  {
   "metadata": {
    "ExecuteTime": {
     "end_time": "2025-05-04T01:30:01.172428Z",
     "start_time": "2025-05-04T01:30:01.168538Z"
    }
   },
   "cell_type": "code",
   "source": "stats.shapiro(s2)",
   "id": "79bb9497b0af1b0c",
   "outputs": [
    {
     "data": {
      "text/plain": [
       "ShapiroResult(statistic=0.9985763801201215, pvalue=0.6051907736512064)"
      ]
     },
     "execution_count": 6,
     "metadata": {},
     "output_type": "execute_result"
    }
   ],
   "execution_count": 6
  },
  {
   "metadata": {},
   "cell_type": "code",
   "outputs": [],
   "execution_count": null,
   "source": "",
   "id": "a07eb5ea90903116"
  }
 ],
 "metadata": {
  "kernelspec": {
   "display_name": "Python 3",
   "language": "python",
   "name": "python3"
  },
  "language_info": {
   "codemirror_mode": {
    "name": "ipython",
    "version": 2
   },
   "file_extension": ".py",
   "mimetype": "text/x-python",
   "name": "python",
   "nbconvert_exporter": "python",
   "pygments_lexer": "ipython2",
   "version": "2.7.6"
  }
 },
 "nbformat": 4,
 "nbformat_minor": 5
}
