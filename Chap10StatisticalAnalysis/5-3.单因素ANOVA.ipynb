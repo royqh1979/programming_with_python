{
 "cells": [
  {
   "cell_type": "code",
   "id": "2a379ef0-0106-4ba1-ad6c-e3940afd1cf0",
   "metadata": {
    "ExecuteTime": {
     "end_time": "2025-05-05T01:47:32.663660Z",
     "start_time": "2025-05-05T01:47:27.988083Z"
    }
   },
   "source": [
    "import pandas as pd\n",
    "import scipy.stats as stats\n",
    "\n",
    "import matplotlib.pyplot as plt\n",
    "import matplotlib as mpl\n",
    "\n",
    "#使用中文字体\n",
    "mpl.rcParams['font.family']=['Microsoft Yahei','sans-serif']\n",
    "mpl.rcParams['axes.unicode_minus']=False\n",
    "\n",
    "#使用svg格式，避免图形模糊\n",
    "%matplotlib inline\n",
    "%config InlineBackend.figure_format=\"svg\""
   ],
   "outputs": [],
   "execution_count": 1
  },
  {
   "cell_type": "code",
   "id": "d63fcf6a-b726-4052-879f-cb5c38cf6dad",
   "metadata": {
    "ExecuteTime": {
     "end_time": "2025-05-05T02:06:52.208668Z",
     "start_time": "2025-05-05T02:06:52.199685Z"
    }
   },
   "source": [
    "#导入数据\n",
    "df = pd.read_csv(\"students.csv\")\n",
    "df.head()"
   ],
   "outputs": [
    {
     "data": {
      "text/plain": [
       "     ids        bday enrolldate expgradate Rank                    Major  \\\n",
       "0  43783   3/22/1995                                                       \n",
       "1  20278    1/1/1995                                          Philosophy   \n",
       "2  20389  12/31/1994                                                       \n",
       "3  22820   12/1/1994                             business administration   \n",
       "4  24559  11/10/1994                                                       \n",
       "\n",
       "  Gender  Athlete Height  Weight  ... English Reading   Math Writing  \\\n",
       "0      0        0  72.35          ...   88.24    81.5  60.02   81.44   \n",
       "1      0        0  70.66   179.2  ...   89.45   85.25  70.19   73.27   \n",
       "2      0        0  70.68  198.52  ...   96.73   86.88   71.2   84.24   \n",
       "3      1        0         198.34  ...   74.06   88.68  55.89   73.16   \n",
       "4      1        1  67.43  128.17  ...   82.61    77.3  65.52   80.45   \n",
       "\n",
       "          State LiveOnCampus HowCommute CommuteTime SleepTime StudyTime  \n",
       "0      In state            1                                7         1  \n",
       "1                          1                                5         2  \n",
       "2      In state                                             8         7  \n",
       "3      In state            1                                2         6  \n",
       "4  Out of state            1                                7         3  \n",
       "\n",
       "[5 rows x 23 columns]"
      ],
      "text/html": [
       "<div>\n",
       "<style scoped>\n",
       "    .dataframe tbody tr th:only-of-type {\n",
       "        vertical-align: middle;\n",
       "    }\n",
       "\n",
       "    .dataframe tbody tr th {\n",
       "        vertical-align: top;\n",
       "    }\n",
       "\n",
       "    .dataframe thead th {\n",
       "        text-align: right;\n",
       "    }\n",
       "</style>\n",
       "<table border=\"1\" class=\"dataframe\">\n",
       "  <thead>\n",
       "    <tr style=\"text-align: right;\">\n",
       "      <th></th>\n",
       "      <th>ids</th>\n",
       "      <th>bday</th>\n",
       "      <th>enrolldate</th>\n",
       "      <th>expgradate</th>\n",
       "      <th>Rank</th>\n",
       "      <th>Major</th>\n",
       "      <th>Gender</th>\n",
       "      <th>Athlete</th>\n",
       "      <th>Height</th>\n",
       "      <th>Weight</th>\n",
       "      <th>...</th>\n",
       "      <th>English</th>\n",
       "      <th>Reading</th>\n",
       "      <th>Math</th>\n",
       "      <th>Writing</th>\n",
       "      <th>State</th>\n",
       "      <th>LiveOnCampus</th>\n",
       "      <th>HowCommute</th>\n",
       "      <th>CommuteTime</th>\n",
       "      <th>SleepTime</th>\n",
       "      <th>StudyTime</th>\n",
       "    </tr>\n",
       "  </thead>\n",
       "  <tbody>\n",
       "    <tr>\n",
       "      <th>0</th>\n",
       "      <td>43783</td>\n",
       "      <td>3/22/1995</td>\n",
       "      <td></td>\n",
       "      <td></td>\n",
       "      <td></td>\n",
       "      <td></td>\n",
       "      <td>0</td>\n",
       "      <td>0</td>\n",
       "      <td>72.35</td>\n",
       "      <td></td>\n",
       "      <td>...</td>\n",
       "      <td>88.24</td>\n",
       "      <td>81.5</td>\n",
       "      <td>60.02</td>\n",
       "      <td>81.44</td>\n",
       "      <td>In state</td>\n",
       "      <td>1</td>\n",
       "      <td></td>\n",
       "      <td></td>\n",
       "      <td>7</td>\n",
       "      <td>1</td>\n",
       "    </tr>\n",
       "    <tr>\n",
       "      <th>1</th>\n",
       "      <td>20278</td>\n",
       "      <td>1/1/1995</td>\n",
       "      <td></td>\n",
       "      <td></td>\n",
       "      <td></td>\n",
       "      <td>Philosophy</td>\n",
       "      <td>0</td>\n",
       "      <td>0</td>\n",
       "      <td>70.66</td>\n",
       "      <td>179.2</td>\n",
       "      <td>...</td>\n",
       "      <td>89.45</td>\n",
       "      <td>85.25</td>\n",
       "      <td>70.19</td>\n",
       "      <td>73.27</td>\n",
       "      <td></td>\n",
       "      <td>1</td>\n",
       "      <td></td>\n",
       "      <td></td>\n",
       "      <td>5</td>\n",
       "      <td>2</td>\n",
       "    </tr>\n",
       "    <tr>\n",
       "      <th>2</th>\n",
       "      <td>20389</td>\n",
       "      <td>12/31/1994</td>\n",
       "      <td></td>\n",
       "      <td></td>\n",
       "      <td></td>\n",
       "      <td></td>\n",
       "      <td>0</td>\n",
       "      <td>0</td>\n",
       "      <td>70.68</td>\n",
       "      <td>198.52</td>\n",
       "      <td>...</td>\n",
       "      <td>96.73</td>\n",
       "      <td>86.88</td>\n",
       "      <td>71.2</td>\n",
       "      <td>84.24</td>\n",
       "      <td>In state</td>\n",
       "      <td></td>\n",
       "      <td></td>\n",
       "      <td></td>\n",
       "      <td>8</td>\n",
       "      <td>7</td>\n",
       "    </tr>\n",
       "    <tr>\n",
       "      <th>3</th>\n",
       "      <td>22820</td>\n",
       "      <td>12/1/1994</td>\n",
       "      <td></td>\n",
       "      <td></td>\n",
       "      <td></td>\n",
       "      <td>business administration</td>\n",
       "      <td>1</td>\n",
       "      <td>0</td>\n",
       "      <td></td>\n",
       "      <td>198.34</td>\n",
       "      <td>...</td>\n",
       "      <td>74.06</td>\n",
       "      <td>88.68</td>\n",
       "      <td>55.89</td>\n",
       "      <td>73.16</td>\n",
       "      <td>In state</td>\n",
       "      <td>1</td>\n",
       "      <td></td>\n",
       "      <td></td>\n",
       "      <td>2</td>\n",
       "      <td>6</td>\n",
       "    </tr>\n",
       "    <tr>\n",
       "      <th>4</th>\n",
       "      <td>24559</td>\n",
       "      <td>11/10/1994</td>\n",
       "      <td></td>\n",
       "      <td></td>\n",
       "      <td></td>\n",
       "      <td></td>\n",
       "      <td>1</td>\n",
       "      <td>1</td>\n",
       "      <td>67.43</td>\n",
       "      <td>128.17</td>\n",
       "      <td>...</td>\n",
       "      <td>82.61</td>\n",
       "      <td>77.3</td>\n",
       "      <td>65.52</td>\n",
       "      <td>80.45</td>\n",
       "      <td>Out of state</td>\n",
       "      <td>1</td>\n",
       "      <td></td>\n",
       "      <td></td>\n",
       "      <td>7</td>\n",
       "      <td>3</td>\n",
       "    </tr>\n",
       "  </tbody>\n",
       "</table>\n",
       "<p>5 rows × 23 columns</p>\n",
       "</div>"
      ]
     },
     "execution_count": 27,
     "metadata": {},
     "output_type": "execute_result"
    }
   ],
   "execution_count": 27
  },
  {
   "cell_type": "code",
   "id": "ea03f7fa-5ef1-4e2a-87f6-844e77e488b1",
   "metadata": {
    "ExecuteTime": {
     "end_time": "2025-05-05T02:06:53.883877Z",
     "start_time": "2025-05-05T02:06:53.878813Z"
    }
   },
   "source": [
    "# 只保留sprint和smoking列\n",
    "df1=df[[\"Sprint\",\"Smoking\"]]\n",
    "df1.groupby(\"Smoking\").count()"
   ],
   "outputs": [
    {
     "data": {
      "text/plain": [
       "         Sprint\n",
       "Smoking        \n",
       "             24\n",
       "0           304\n",
       "1            37\n",
       "2            70"
      ],
      "text/html": [
       "<div>\n",
       "<style scoped>\n",
       "    .dataframe tbody tr th:only-of-type {\n",
       "        vertical-align: middle;\n",
       "    }\n",
       "\n",
       "    .dataframe tbody tr th {\n",
       "        vertical-align: top;\n",
       "    }\n",
       "\n",
       "    .dataframe thead th {\n",
       "        text-align: right;\n",
       "    }\n",
       "</style>\n",
       "<table border=\"1\" class=\"dataframe\">\n",
       "  <thead>\n",
       "    <tr style=\"text-align: right;\">\n",
       "      <th></th>\n",
       "      <th>Sprint</th>\n",
       "    </tr>\n",
       "    <tr>\n",
       "      <th>Smoking</th>\n",
       "      <th></th>\n",
       "    </tr>\n",
       "  </thead>\n",
       "  <tbody>\n",
       "    <tr>\n",
       "      <th></th>\n",
       "      <td>24</td>\n",
       "    </tr>\n",
       "    <tr>\n",
       "      <th>0</th>\n",
       "      <td>304</td>\n",
       "    </tr>\n",
       "    <tr>\n",
       "      <th>1</th>\n",
       "      <td>37</td>\n",
       "    </tr>\n",
       "    <tr>\n",
       "      <th>2</th>\n",
       "      <td>70</td>\n",
       "    </tr>\n",
       "  </tbody>\n",
       "</table>\n",
       "</div>"
      ]
     },
     "execution_count": 28,
     "metadata": {},
     "output_type": "execute_result"
    }
   ],
   "execution_count": 28
  },
  {
   "cell_type": "code",
   "id": "9a9e4ad5-f584-42bd-8c5c-fbd1e2e3caad",
   "metadata": {
    "ExecuteTime": {
     "end_time": "2025-05-05T02:31:19.486051Z",
     "start_time": "2025-05-05T02:31:19.480902Z"
    }
   },
   "source": [
    "#去除smoking和Sprint为缺失值的数据\n",
    "df1=df1[(df1[\"Smoking\"]!=' ') & (df1[\"Sprint\"]!=' ')]\n",
    "\n",
    "df1.groupby(\"Smoking\").count()"
   ],
   "outputs": [
    {
     "data": {
      "text/plain": [
       "         Sprint\n",
       "Smoking        \n",
       "0           261\n",
       "1            33\n",
       "2            59"
      ],
      "text/html": [
       "<div>\n",
       "<style scoped>\n",
       "    .dataframe tbody tr th:only-of-type {\n",
       "        vertical-align: middle;\n",
       "    }\n",
       "\n",
       "    .dataframe tbody tr th {\n",
       "        vertical-align: top;\n",
       "    }\n",
       "\n",
       "    .dataframe thead th {\n",
       "        text-align: right;\n",
       "    }\n",
       "</style>\n",
       "<table border=\"1\" class=\"dataframe\">\n",
       "  <thead>\n",
       "    <tr style=\"text-align: right;\">\n",
       "      <th></th>\n",
       "      <th>Sprint</th>\n",
       "    </tr>\n",
       "    <tr>\n",
       "      <th>Smoking</th>\n",
       "      <th></th>\n",
       "    </tr>\n",
       "  </thead>\n",
       "  <tbody>\n",
       "    <tr>\n",
       "      <th>0</th>\n",
       "      <td>261</td>\n",
       "    </tr>\n",
       "    <tr>\n",
       "      <th>1</th>\n",
       "      <td>33</td>\n",
       "    </tr>\n",
       "    <tr>\n",
       "      <th>2</th>\n",
       "      <td>59</td>\n",
       "    </tr>\n",
       "  </tbody>\n",
       "</table>\n",
       "</div>"
      ]
     },
     "execution_count": 34,
     "metadata": {},
     "output_type": "execute_result"
    }
   ],
   "execution_count": 34
  },
  {
   "cell_type": "code",
   "id": "ba16e621-3809-4578-a7e8-cd9866a7c755",
   "metadata": {
    "ExecuteTime": {
     "end_time": "2025-05-05T02:31:20.273300Z",
     "start_time": "2025-05-05T02:31:20.269565Z"
    }
   },
   "source": [
    "#将Sprint列转换为数值型\n",
    "df1[\"Smoking\"]=df1[\"Smoking\"].astype(int)\n",
    "df1[\"Sprint\"]=df1[\"Sprint\"].astype(float)"
   ],
   "outputs": [],
   "execution_count": 35
  },
  {
   "cell_type": "code",
   "id": "bdb2818b-1e67-4c72-864d-ef606d04e0a4",
   "metadata": {
    "ExecuteTime": {
     "end_time": "2025-05-05T02:31:24.400857Z",
     "start_time": "2025-05-05T02:31:24.356628Z"
    }
   },
   "source": [
    "#绘制箱型图\n",
    "df1.boxplot(\"Sprint\",\"Smoking\")\n",
    "plt.show()"
   ],
   "outputs": [
    {
     "data": {
      "text/plain": [
       "<Figure size 640x480 with 1 Axes>"
      ],
      "image/svg+xml": "<?xml version=\"1.0\" encoding=\"utf-8\" standalone=\"no\"?>\n<!DOCTYPE svg PUBLIC \"-//W3C//DTD SVG 1.1//EN\"\n  \"http://www.w3.org/Graphics/SVG/1.1/DTD/svg11.dtd\">\n<svg xmlns:xlink=\"http://www.w3.org/1999/xlink\" width=\"395.904062pt\" height=\"333.265187pt\" viewBox=\"0 0 395.904062 333.265187\" xmlns=\"http://www.w3.org/2000/svg\" version=\"1.1\">\n <metadata>\n  <rdf:RDF xmlns:dc=\"http://purl.org/dc/elements/1.1/\" xmlns:cc=\"http://creativecommons.org/ns#\" xmlns:rdf=\"http://www.w3.org/1999/02/22-rdf-syntax-ns#\">\n   <cc:Work>\n    <dc:type rdf:resource=\"http://purl.org/dc/dcmitype/StillImage\"/>\n    <dc:date>2025-05-05T10:31:24.386978</dc:date>\n    <dc:format>image/svg+xml</dc:format>\n    <dc:creator>\n     <cc:Agent>\n      <dc:title>Matplotlib v3.10.0, https://matplotlib.org/</dc:title>\n     </cc:Agent>\n    </dc:creator>\n   </cc:Work>\n  </rdf:RDF>\n </metadata>\n <defs>\n  <style type=\"text/css\">*{stroke-linejoin: round; stroke-linecap: butt}</style>\n </defs>\n <g id=\"figure_1\">\n  <g id=\"patch_1\">\n   <path d=\"M 0 333.265187 \nL 395.904062 333.265187 \nL 395.904062 -0 \nL 0 -0 \nz\n\" style=\"fill: #ffffff\"/>\n  </g>\n  <g id=\"axes_1\">\n   <g id=\"patch_2\">\n    <path d=\"M 20.064063 294.048 \nL 388.704063 294.048 \nL 388.704063 34.848 \nL 20.064063 34.848 \nz\n\" style=\"fill: #ffffff\"/>\n   </g>\n   <g id=\"matplotlib.axis_1\">\n    <g id=\"xtick_1\">\n     <g id=\"line2d_1\">\n      <path d=\"M 81.504063 294.048 \nL 81.504063 34.848 \n\" clip-path=\"url(#p042ff162e8)\" style=\"fill: none; stroke: #b0b0b0; stroke-width: 0.8; stroke-linecap: square\"/>\n     </g>\n     <g id=\"line2d_2\">\n      <defs>\n       <path id=\"m12cc4b6075\" d=\"M 0 0 \nL 0 3.5 \n\" style=\"stroke: #000000; stroke-width: 0.8\"/>\n      </defs>\n      <g>\n       <use xlink:href=\"#m12cc4b6075\" x=\"81.504063\" y=\"294.048\" style=\"stroke: #000000; stroke-width: 0.8\"/>\n      </g>\n     </g>\n     <g id=\"text_1\">\n      <!-- 0 -->\n      <g transform=\"translate(78.572031 309.04175) scale(0.1 -0.1)\">\n       <defs>\n        <path id=\"MicrosoftYaHei-30\" d=\"M 284 2325 \nQ 284 3606 709 4264 \nQ 1134 4922 1941 4922 \nQ 3478 4922 3478 2441 \nQ 3478 1216 3045 567 \nQ 2613 -81 1831 -81 \nQ 1094 -81 689 534 \nQ 284 1150 284 2325 \nz\nM 909 2353 \nQ 909 425 1888 425 \nQ 2850 425 2850 2384 \nQ 2850 4413 1906 4413 \nQ 909 4413 909 2353 \nz\n\" transform=\"scale(0.015625)\"/>\n       </defs>\n       <use xlink:href=\"#MicrosoftYaHei-30\"/>\n      </g>\n     </g>\n    </g>\n    <g id=\"xtick_2\">\n     <g id=\"line2d_3\">\n      <path d=\"M 204.384062 294.048 \nL 204.384062 34.848 \n\" clip-path=\"url(#p042ff162e8)\" style=\"fill: none; stroke: #b0b0b0; stroke-width: 0.8; stroke-linecap: square\"/>\n     </g>\n     <g id=\"line2d_4\">\n      <g>\n       <use xlink:href=\"#m12cc4b6075\" x=\"204.384062\" y=\"294.048\" style=\"stroke: #000000; stroke-width: 0.8\"/>\n      </g>\n     </g>\n     <g id=\"text_2\">\n      <!-- 1 -->\n      <g transform=\"translate(201.452031 309.04175) scale(0.1 -0.1)\">\n       <defs>\n        <path id=\"MicrosoftYaHei-31\" d=\"M 1781 0 \nL 1781 4141 \nQ 1638 3997 1295 3819 \nQ 953 3641 663 3569 \nL 663 4169 \nQ 1047 4275 1484 4508 \nQ 1922 4741 2156 4947 \nL 2388 4947 \nL 2388 0 \nL 1781 0 \nz\n\" transform=\"scale(0.015625)\"/>\n       </defs>\n       <use xlink:href=\"#MicrosoftYaHei-31\"/>\n      </g>\n     </g>\n    </g>\n    <g id=\"xtick_3\">\n     <g id=\"line2d_5\">\n      <path d=\"M 327.264063 294.048 \nL 327.264063 34.848 \n\" clip-path=\"url(#p042ff162e8)\" style=\"fill: none; stroke: #b0b0b0; stroke-width: 0.8; stroke-linecap: square\"/>\n     </g>\n     <g id=\"line2d_6\">\n      <g>\n       <use xlink:href=\"#m12cc4b6075\" x=\"327.264063\" y=\"294.048\" style=\"stroke: #000000; stroke-width: 0.8\"/>\n      </g>\n     </g>\n     <g id=\"text_3\">\n      <!-- 2 -->\n      <g transform=\"translate(324.332031 309.04175) scale(0.1 -0.1)\">\n       <defs>\n        <path id=\"MicrosoftYaHei-32\" d=\"M 2666 3572 \nQ 2666 3963 2419 4186 \nQ 2172 4409 1747 4409 \nQ 1447 4409 1140 4256 \nQ 834 4103 569 3819 \nL 569 4413 \nQ 806 4659 1107 4790 \nQ 1409 4922 1816 4922 \nQ 2472 4922 2872 4570 \nQ 3272 4219 3272 3619 \nQ 3272 3084 3026 2693 \nQ 2781 2303 2188 1894 \nQ 1581 1475 1376 1294 \nQ 1172 1113 1090 947 \nQ 1009 781 1009 544 \nL 3416 544 \nL 3416 0 \nL 372 0 \nL 372 241 \nQ 372 659 486 951 \nQ 600 1244 862 1520 \nQ 1125 1797 1681 2184 \nQ 2250 2584 2458 2886 \nQ 2666 3188 2666 3572 \nz\n\" transform=\"scale(0.015625)\"/>\n       </defs>\n       <use xlink:href=\"#MicrosoftYaHei-32\"/>\n      </g>\n     </g>\n    </g>\n    <g id=\"text_4\">\n     <!-- Smoking -->\n     <g transform=\"translate(183.302031 323.521437) scale(0.1 -0.1)\">\n      <defs>\n       <path id=\"MicrosoftYaHei-53\" d=\"M 400 909 \nQ 622 716 994 591 \nQ 1366 466 1700 466 \nQ 2719 466 2719 1191 \nQ 2719 1394 2609 1556 \nQ 2500 1719 2309 1844 \nQ 2119 1969 1594 2228 \nQ 866 2591 634 2902 \nQ 403 3213 403 3613 \nQ 403 4216 887 4569 \nQ 1372 4922 2109 4922 \nQ 2831 4922 3169 4747 \nL 3169 4066 \nQ 2731 4369 2063 4369 \nQ 1619 4369 1339 4183 \nQ 1059 3997 1059 3666 \nQ 1059 3372 1253 3187 \nQ 1447 3003 2094 2684 \nQ 2806 2344 3090 2003 \nQ 3375 1663 3375 1238 \nQ 3375 600 2912 259 \nQ 2450 -81 1628 -81 \nQ 1341 -81 958 -1 \nQ 575 78 400 197 \nL 400 909 \nz\n\" transform=\"scale(0.015625)\"/>\n       <path id=\"MicrosoftYaHei-6d\" d=\"M 5522 0 \nL 4909 0 \nL 4909 1984 \nQ 4909 2547 4734 2789 \nQ 4559 3031 4159 3031 \nQ 3822 3031 3581 2715 \nQ 3341 2400 3341 1969 \nL 3341 0 \nL 2728 0 \nL 2728 2047 \nQ 2728 3031 1969 3031 \nQ 1619 3031 1389 2731 \nQ 1159 2431 1159 1966 \nL 1159 0 \nL 547 0 \nL 547 3456 \nL 1159 3456 \nL 1159 2909 \nL 1172 2909 \nQ 1541 3538 2250 3538 \nQ 2597 3538 2862 3347 \nQ 3128 3156 3231 2831 \nQ 3616 3538 4381 3538 \nQ 5522 3538 5522 2131 \nL 5522 0 \nz\n\" transform=\"scale(0.015625)\"/>\n       <path id=\"MicrosoftYaHei-6f\" d=\"M 316 1691 \nQ 316 2547 794 3042 \nQ 1272 3538 2091 3538 \nQ 2869 3538 3311 3061 \nQ 3753 2584 3753 1744 \nQ 3753 925 3281 422 \nQ 2809 -81 2016 -81 \nQ 1241 -81 778 406 \nQ 316 894 316 1691 \nz\nM 941 1709 \nQ 941 1113 1242 769 \nQ 1544 425 2053 425 \nQ 2578 425 2853 761 \nQ 3128 1097 3128 1725 \nQ 3128 2356 2853 2693 \nQ 2578 3031 2053 3031 \nQ 1538 3031 1239 2678 \nQ 941 2325 941 1709 \nz\n\" transform=\"scale(0.015625)\"/>\n       <path id=\"MicrosoftYaHei-6b\" d=\"M 3484 0 \nL 2650 0 \nL 1172 1666 \nL 1159 1666 \nL 1159 0 \nL 547 0 \nL 547 5116 \nL 1159 5116 \nL 1159 1872 \nL 1172 1872 \nL 2575 3456 \nL 3363 3456 \nL 1800 1794 \nL 3484 0 \nz\n\" transform=\"scale(0.015625)\"/>\n       <path id=\"MicrosoftYaHei-69\" d=\"M 472 4675 \nQ 472 4838 583 4948 \nQ 694 5059 856 5059 \nQ 1022 5059 1136 4950 \nQ 1250 4841 1250 4675 \nQ 1250 4513 1136 4405 \nQ 1022 4297 856 4297 \nQ 691 4297 581 4405 \nQ 472 4513 472 4675 \nz\nM 544 0 \nL 544 3456 \nL 1156 3456 \nL 1156 0 \nL 544 0 \nz\n\" transform=\"scale(0.015625)\"/>\n       <path id=\"MicrosoftYaHei-6e\" d=\"M 3469 0 \nL 2859 0 \nL 2859 1966 \nQ 2859 3031 2081 3031 \nQ 1678 3031 1418 2731 \nQ 1159 2431 1159 1972 \nL 1159 0 \nL 547 0 \nL 547 3456 \nL 1159 3456 \nL 1159 2884 \nL 1172 2884 \nQ 1563 3538 2306 3538 \nQ 2875 3538 3172 3173 \nQ 3469 2809 3469 2113 \nL 3469 0 \nz\n\" transform=\"scale(0.015625)\"/>\n       <path id=\"MicrosoftYaHei-67\" d=\"M 3547 291 \nQ 3547 -1628 1684 -1628 \nQ 1041 -1628 566 -1388 \nL 566 -797 \nQ 1144 -1119 1675 -1119 \nQ 2934 -1119 2934 206 \nL 2934 572 \nL 2922 572 \nQ 2528 -81 1747 -81 \nQ 1097 -81 706 384 \nQ 316 850 316 1619 \nQ 316 2503 747 3020 \nQ 1178 3538 1897 3538 \nQ 2588 3538 2922 2988 \nL 2934 2988 \nL 2934 3456 \nL 3547 3456 \nL 3547 291 \nz\nM 2934 2056 \nQ 2938 2456 2666 2743 \nQ 2394 3031 1997 3031 \nQ 1497 3031 1219 2664 \nQ 941 2297 941 1656 \nQ 941 1106 1209 765 \nQ 1478 425 1922 425 \nQ 2369 425 2653 750 \nQ 2938 1075 2934 1575 \nL 2934 2056 \nz\n\" transform=\"scale(0.015625)\"/>\n      </defs>\n      <use xlink:href=\"#MicrosoftYaHei-53\"/>\n      <use xlink:href=\"#MicrosoftYaHei-6d\" transform=\"translate(57.714844 0)\"/>\n      <use xlink:href=\"#MicrosoftYaHei-6f\" transform=\"translate(151.416016 0)\"/>\n      <use xlink:href=\"#MicrosoftYaHei-6b\" transform=\"translate(214.990234 0)\"/>\n      <use xlink:href=\"#MicrosoftYaHei-69\" transform=\"translate(269.433594 0)\"/>\n      <use xlink:href=\"#MicrosoftYaHei-6e\" transform=\"translate(296.044922 0)\"/>\n      <use xlink:href=\"#MicrosoftYaHei-67\" transform=\"translate(357.666016 0)\"/>\n     </g>\n    </g>\n   </g>\n   <g id=\"matplotlib.axis_2\">\n    <g id=\"ytick_1\">\n     <g id=\"line2d_7\">\n      <path d=\"M 20.064063 259.27614 \nL 388.704063 259.27614 \n\" clip-path=\"url(#p042ff162e8)\" style=\"fill: none; stroke: #b0b0b0; stroke-width: 0.8; stroke-linecap: square\"/>\n     </g>\n     <g id=\"line2d_8\">\n      <defs>\n       <path id=\"ma59b05b29e\" d=\"M 0 0 \nL -3.5 0 \n\" style=\"stroke: #000000; stroke-width: 0.8\"/>\n      </defs>\n      <g>\n       <use xlink:href=\"#ma59b05b29e\" x=\"20.064063\" y=\"259.27614\" style=\"stroke: #000000; stroke-width: 0.8\"/>\n      </g>\n     </g>\n     <g id=\"text_5\">\n      <!-- 5 -->\n      <g transform=\"translate(7.2 263.273015) scale(0.1 -0.1)\">\n       <defs>\n        <path id=\"MicrosoftYaHei-35\" d=\"M 3294 1494 \nQ 3294 784 2823 350 \nQ 2353 -84 1559 -84 \nQ 878 -84 544 119 \nL 544 744 \nQ 1034 425 1544 425 \nQ 2050 425 2361 704 \nQ 2672 984 2672 1447 \nQ 2672 1909 2348 2167 \nQ 2025 2425 1434 2425 \nQ 978 2425 613 2384 \nL 791 4841 \nL 3053 4841 \nL 3053 4303 \nL 1306 4303 \nL 1206 2931 \nL 1647 2950 \nQ 2416 2950 2855 2567 \nQ 3294 2184 3294 1494 \nz\n\" transform=\"scale(0.015625)\"/>\n       </defs>\n       <use xlink:href=\"#MicrosoftYaHei-35\"/>\n      </g>\n     </g>\n    </g>\n    <g id=\"ytick_2\">\n     <g id=\"line2d_9\">\n      <path d=\"M 20.064063 213.018511 \nL 388.704063 213.018511 \n\" clip-path=\"url(#p042ff162e8)\" style=\"fill: none; stroke: #b0b0b0; stroke-width: 0.8; stroke-linecap: square\"/>\n     </g>\n     <g id=\"line2d_10\">\n      <g>\n       <use xlink:href=\"#ma59b05b29e\" x=\"20.064063\" y=\"213.018511\" style=\"stroke: #000000; stroke-width: 0.8\"/>\n      </g>\n     </g>\n     <g id=\"text_6\">\n      <!-- 6 -->\n      <g transform=\"translate(7.2 217.015386) scale(0.1 -0.1)\">\n       <defs>\n        <path id=\"MicrosoftYaHei-36\" d=\"M 3181 4219 \nQ 2803 4413 2391 4413 \nQ 1763 4413 1381 3866 \nQ 1000 3319 994 2372 \nL 1009 2372 \nQ 1353 3038 2106 3038 \nQ 2734 3038 3109 2628 \nQ 3484 2219 3484 1541 \nQ 3484 831 3051 375 \nQ 2619 -81 1947 -81 \nQ 1209 -81 789 495 \nQ 369 1072 369 2131 \nQ 369 3413 920 4167 \nQ 1472 4922 2372 4922 \nQ 2888 4922 3181 4781 \nL 3181 4219 \nz\nM 1031 1584 \nQ 1031 1106 1286 765 \nQ 1541 425 1963 425 \nQ 2363 425 2613 719 \nQ 2863 1013 2863 1475 \nQ 2863 1975 2627 2253 \nQ 2391 2531 1956 2531 \nQ 1544 2531 1287 2250 \nQ 1031 1969 1031 1584 \nz\n\" transform=\"scale(0.015625)\"/>\n       </defs>\n       <use xlink:href=\"#MicrosoftYaHei-36\"/>\n      </g>\n     </g>\n    </g>\n    <g id=\"ytick_3\">\n     <g id=\"line2d_11\">\n      <path d=\"M 20.064063 166.760881 \nL 388.704063 166.760881 \n\" clip-path=\"url(#p042ff162e8)\" style=\"fill: none; stroke: #b0b0b0; stroke-width: 0.8; stroke-linecap: square\"/>\n     </g>\n     <g id=\"line2d_12\">\n      <g>\n       <use xlink:href=\"#ma59b05b29e\" x=\"20.064063\" y=\"166.760881\" style=\"stroke: #000000; stroke-width: 0.8\"/>\n      </g>\n     </g>\n     <g id=\"text_7\">\n      <!-- 7 -->\n      <g transform=\"translate(7.2 170.757756) scale(0.1 -0.1)\">\n       <defs>\n        <path id=\"MicrosoftYaHei-37\" d=\"M 3422 4463 \nQ 2659 3131 2223 1998 \nQ 1788 866 1684 0 \nL 1047 0 \nQ 1163 853 1594 1947 \nQ 2025 3041 2747 4300 \nL 347 4300 \nL 347 4841 \nL 3422 4841 \nL 3422 4463 \nz\n\" transform=\"scale(0.015625)\"/>\n       </defs>\n       <use xlink:href=\"#MicrosoftYaHei-37\"/>\n      </g>\n     </g>\n    </g>\n    <g id=\"ytick_4\">\n     <g id=\"line2d_13\">\n      <path d=\"M 20.064063 120.503252 \nL 388.704063 120.503252 \n\" clip-path=\"url(#p042ff162e8)\" style=\"fill: none; stroke: #b0b0b0; stroke-width: 0.8; stroke-linecap: square\"/>\n     </g>\n     <g id=\"line2d_14\">\n      <g>\n       <use xlink:href=\"#ma59b05b29e\" x=\"20.064063\" y=\"120.503252\" style=\"stroke: #000000; stroke-width: 0.8\"/>\n      </g>\n     </g>\n     <g id=\"text_8\">\n      <!-- 8 -->\n      <g transform=\"translate(7.2 124.500127) scale(0.1 -0.1)\">\n       <defs>\n        <path id=\"MicrosoftYaHei-38\" d=\"M 306 1350 \nQ 306 1769 556 2122 \nQ 806 2475 1200 2625 \nQ 884 2803 700 3081 \nQ 516 3359 516 3684 \nQ 516 4028 692 4312 \nQ 869 4597 1183 4759 \nQ 1497 4922 1875 4922 \nQ 2256 4922 2572 4761 \nQ 2888 4600 3063 4315 \nQ 3238 4031 3238 3684 \nQ 3238 3366 3058 3086 \nQ 2878 2806 2559 2625 \nQ 2953 2472 3200 2119 \nQ 3447 1766 3447 1350 \nQ 3447 938 3250 611 \nQ 3053 284 2690 103 \nQ 2328 -78 1875 -78 \nQ 1425 -78 1065 103 \nQ 706 284 506 612 \nQ 306 941 306 1350 \nz\nM 906 1378 \nQ 906 947 1172 687 \nQ 1438 428 1878 428 \nQ 2309 428 2582 692 \nQ 2856 956 2856 1378 \nQ 2856 1778 2579 2051 \nQ 2303 2325 1878 2325 \nQ 1456 2325 1181 2058 \nQ 906 1791 906 1378 \nz\nM 1081 3634 \nQ 1081 3309 1312 3076 \nQ 1544 2844 1878 2844 \nQ 2206 2844 2445 3078 \nQ 2684 3313 2684 3634 \nQ 2684 3963 2454 4191 \nQ 2225 4419 1878 4419 \nQ 1534 4419 1307 4195 \nQ 1081 3972 1081 3634 \nz\n\" transform=\"scale(0.015625)\"/>\n       </defs>\n       <use xlink:href=\"#MicrosoftYaHei-38\"/>\n      </g>\n     </g>\n    </g>\n    <g id=\"ytick_5\">\n     <g id=\"line2d_15\">\n      <path d=\"M 20.064063 74.245623 \nL 388.704063 74.245623 \n\" clip-path=\"url(#p042ff162e8)\" style=\"fill: none; stroke: #b0b0b0; stroke-width: 0.8; stroke-linecap: square\"/>\n     </g>\n     <g id=\"line2d_16\">\n      <g>\n       <use xlink:href=\"#ma59b05b29e\" x=\"20.064063\" y=\"74.245623\" style=\"stroke: #000000; stroke-width: 0.8\"/>\n      </g>\n     </g>\n     <g id=\"text_9\">\n      <!-- 9 -->\n      <g transform=\"translate(7.2 78.242498) scale(0.1 -0.1)\">\n       <defs>\n        <path id=\"MicrosoftYaHei-39\" d=\"M 578 656 \nQ 978 425 1441 425 \nQ 2091 425 2448 937 \nQ 2806 1450 2806 2394 \nQ 2800 2388 2794 2394 \nQ 2475 1788 1722 1788 \nQ 1113 1788 713 2206 \nQ 313 2625 313 3294 \nQ 313 4006 750 4464 \nQ 1188 4922 1884 4922 \nQ 2606 4922 3012 4355 \nQ 3419 3788 3419 2703 \nQ 3419 1363 2894 641 \nQ 2369 -81 1441 -81 \nQ 931 -81 578 84 \nL 578 656 \nz\nM 931 3372 \nQ 931 2884 1181 2598 \nQ 1431 2313 1872 2313 \nQ 2253 2313 2512 2573 \nQ 2772 2834 2772 3206 \nQ 2772 3728 2514 4070 \nQ 2256 4413 1834 4413 \nQ 1444 4413 1187 4116 \nQ 931 3819 931 3372 \nz\n\" transform=\"scale(0.015625)\"/>\n       </defs>\n       <use xlink:href=\"#MicrosoftYaHei-39\"/>\n      </g>\n     </g>\n    </g>\n   </g>\n   <g id=\"line2d_17\">\n    <path d=\"M 63.072063 242.623394 \nL 99.936062 242.623394 \nL 99.936062 151.17206 \nL 63.072063 151.17206 \nL 63.072063 242.623394 \n\" clip-path=\"url(#p042ff162e8)\" style=\"fill: none; stroke: #1f77b4; stroke-linecap: square\"/>\n   </g>\n   <g id=\"line2d_18\">\n    <path d=\"M 81.504063 242.623394 \nL 81.504063 282.266182 \n\" clip-path=\"url(#p042ff162e8)\" style=\"fill: none; stroke: #1f77b4; stroke-linecap: square\"/>\n   </g>\n   <g id=\"line2d_19\">\n    <path d=\"M 81.504063 151.17206 \nL 81.504063 46.629818 \n\" clip-path=\"url(#p042ff162e8)\" style=\"fill: none; stroke: #1f77b4; stroke-linecap: square\"/>\n   </g>\n   <g id=\"line2d_20\">\n    <path d=\"M 72.288063 282.266182 \nL 90.720063 282.266182 \n\" clip-path=\"url(#p042ff162e8)\" style=\"fill: none; stroke: #000000; stroke-linecap: square\"/>\n   </g>\n   <g id=\"line2d_21\">\n    <path d=\"M 72.288063 46.629818 \nL 90.720063 46.629818 \n\" clip-path=\"url(#p042ff162e8)\" style=\"fill: none; stroke: #000000; stroke-linecap: square\"/>\n   </g>\n   <g id=\"line2d_22\"/>\n   <g id=\"line2d_23\">\n    <path d=\"M 185.952063 209.549189 \nL 222.816063 209.549189 \nL 222.816063 134.102995 \nL 185.952063 134.102995 \nL 185.952063 209.549189 \n\" clip-path=\"url(#p042ff162e8)\" style=\"fill: none; stroke: #1f77b4; stroke-linecap: square\"/>\n   </g>\n   <g id=\"line2d_24\">\n    <path d=\"M 204.384062 209.549189 \nL 204.384062 264.410737 \n\" clip-path=\"url(#p042ff162e8)\" style=\"fill: none; stroke: #1f77b4; stroke-linecap: square\"/>\n   </g>\n   <g id=\"line2d_25\">\n    <path d=\"M 204.384062 134.102995 \nL 204.384062 95.107814 \n\" clip-path=\"url(#p042ff162e8)\" style=\"fill: none; stroke: #1f77b4; stroke-linecap: square\"/>\n   </g>\n   <g id=\"line2d_26\">\n    <path d=\"M 195.168062 264.410737 \nL 213.600063 264.410737 \n\" clip-path=\"url(#p042ff162e8)\" style=\"fill: none; stroke: #000000; stroke-linecap: square\"/>\n   </g>\n   <g id=\"line2d_27\">\n    <path d=\"M 195.168062 95.107814 \nL 213.600063 95.107814 \n\" clip-path=\"url(#p042ff162e8)\" style=\"fill: none; stroke: #000000; stroke-linecap: square\"/>\n   </g>\n   <g id=\"line2d_28\"/>\n   <g id=\"line2d_29\">\n    <path d=\"M 308.832063 199.488154 \nL 345.696063 199.488154 \nL 345.696063 121.289632 \nL 308.832063 121.289632 \nL 308.832063 199.488154 \n\" clip-path=\"url(#p042ff162e8)\" style=\"fill: none; stroke: #1f77b4; stroke-linecap: square\"/>\n   </g>\n   <g id=\"line2d_30\">\n    <path d=\"M 327.264063 199.488154 \nL 327.264063 245.630139 \n\" clip-path=\"url(#p042ff162e8)\" style=\"fill: none; stroke: #1f77b4; stroke-linecap: square\"/>\n   </g>\n   <g id=\"line2d_31\">\n    <path d=\"M 327.264063 121.289632 \nL 327.264063 52.273249 \n\" clip-path=\"url(#p042ff162e8)\" style=\"fill: none; stroke: #1f77b4; stroke-linecap: square\"/>\n   </g>\n   <g id=\"line2d_32\">\n    <path d=\"M 318.048063 245.630139 \nL 336.480063 245.630139 \n\" clip-path=\"url(#p042ff162e8)\" style=\"fill: none; stroke: #000000; stroke-linecap: square\"/>\n   </g>\n   <g id=\"line2d_33\">\n    <path d=\"M 318.048063 52.273249 \nL 336.480063 52.273249 \n\" clip-path=\"url(#p042ff162e8)\" style=\"fill: none; stroke: #000000; stroke-linecap: square\"/>\n   </g>\n   <g id=\"line2d_34\"/>\n   <g id=\"line2d_35\">\n    <path d=\"M 63.072063 197.938524 \nL 99.936062 197.938524 \n\" clip-path=\"url(#p042ff162e8)\" style=\"fill: none; stroke: #2ca02c\"/>\n   </g>\n   <g id=\"line2d_36\">\n    <path d=\"M 185.952063 172.496827 \nL 222.816063 172.496827 \n\" clip-path=\"url(#p042ff162e8)\" style=\"fill: none; stroke: #2ca02c\"/>\n   </g>\n   <g id=\"line2d_37\">\n    <path d=\"M 308.832063 166.159532 \nL 345.696063 166.159532 \n\" clip-path=\"url(#p042ff162e8)\" style=\"fill: none; stroke: #2ca02c\"/>\n   </g>\n   <g id=\"patch_3\">\n    <path d=\"M 20.064063 294.048 \nL 20.064063 34.848 \n\" style=\"fill: none; stroke: #000000; stroke-width: 0.8; stroke-linejoin: miter; stroke-linecap: square\"/>\n   </g>\n   <g id=\"patch_4\">\n    <path d=\"M 388.704063 294.048 \nL 388.704063 34.848 \n\" style=\"fill: none; stroke: #000000; stroke-width: 0.8; stroke-linejoin: miter; stroke-linecap: square\"/>\n   </g>\n   <g id=\"patch_5\">\n    <path d=\"M 20.064063 294.048 \nL 388.704062 294.048 \n\" style=\"fill: none; stroke: #000000; stroke-width: 0.8; stroke-linejoin: miter; stroke-linecap: square\"/>\n   </g>\n   <g id=\"patch_6\">\n    <path d=\"M 20.064063 34.848 \nL 388.704062 34.848 \n\" style=\"fill: none; stroke: #000000; stroke-width: 0.8; stroke-linejoin: miter; stroke-linecap: square\"/>\n   </g>\n   <g id=\"text_10\">\n    <!-- Sprint -->\n    <g transform=\"translate(187.268125 28.848) scale(0.12 -0.12)\">\n     <defs>\n      <path id=\"MicrosoftYaHei-70\" d=\"M 1159 488 \nL 1159 -1591 \nL 547 -1591 \nL 547 3456 \nL 1159 3456 \nL 1159 2859 \nL 1172 2859 \nQ 1578 3538 2359 3538 \nQ 3022 3538 3398 3073 \nQ 3775 2609 3775 1828 \nQ 3775 966 3348 442 \nQ 2922 -81 2200 -81 \nQ 1534 -81 1172 488 \nL 1159 488 \nz\nM 1156 1425 \nQ 1156 1003 1428 714 \nQ 1700 425 2109 425 \nQ 2597 425 2872 800 \nQ 3147 1175 3147 1838 \nQ 3147 2397 2890 2714 \nQ 2634 3031 2191 3031 \nQ 1738 3031 1447 2709 \nQ 1156 2388 1156 1884 \nL 1156 1425 \nz\n\" transform=\"scale(0.015625)\"/>\n      <path id=\"MicrosoftYaHei-72\" d=\"M 2400 2850 \nQ 2247 2959 1978 2959 \nQ 1622 2959 1390 2626 \nQ 1159 2294 1159 1750 \nL 1159 0 \nL 547 0 \nL 547 3456 \nL 1159 3456 \nL 1159 2753 \nL 1172 2753 \nQ 1434 3516 2078 3516 \nQ 2288 3516 2400 3469 \nL 2400 2850 \nz\n\" transform=\"scale(0.015625)\"/>\n      <path id=\"MicrosoftYaHei-74\" d=\"M 2206 34 \nQ 2006 -75 1666 -75 \nQ 738 -75 738 953 \nL 738 2950 \nL 144 2950 \nL 144 3456 \nL 738 3456 \nL 738 4288 \nL 1347 4481 \nL 1347 3456 \nL 2206 3456 \nL 2206 2950 \nL 1347 2950 \nL 1347 1063 \nQ 1347 722 1462 575 \nQ 1578 428 1847 428 \nQ 2053 428 2206 544 \nL 2206 34 \nz\n\" transform=\"scale(0.015625)\"/>\n     </defs>\n     <use xlink:href=\"#MicrosoftYaHei-53\"/>\n     <use xlink:href=\"#MicrosoftYaHei-70\" transform=\"translate(57.714844 0)\"/>\n     <use xlink:href=\"#MicrosoftYaHei-72\" transform=\"translate(121.582031 0)\"/>\n     <use xlink:href=\"#MicrosoftYaHei-69\" transform=\"translate(159.765625 0)\"/>\n     <use xlink:href=\"#MicrosoftYaHei-6e\" transform=\"translate(186.376953 0)\"/>\n     <use xlink:href=\"#MicrosoftYaHei-74\" transform=\"translate(247.998047 0)\"/>\n    </g>\n   </g>\n  </g>\n  <g id=\"text_11\">\n   <!-- Boxplot grouped by Smoking -->\n   <g transform=\"translate(120.099063 16.7925) scale(0.12 -0.12)\">\n    <defs>\n     <path id=\"MicrosoftYaHei-42\" d=\"M 625 0 \nL 625 4841 \nL 2047 4841 \nQ 2684 4841 3065 4536 \nQ 3447 4231 3447 3728 \nQ 3447 3328 3220 3022 \nQ 2994 2716 2597 2588 \nL 2597 2575 \nQ 3091 2519 3386 2201 \nQ 3681 1884 3681 1397 \nQ 3681 772 3232 386 \nQ 2784 0 2084 0 \nL 625 0 \nz\nM 1250 4294 \nL 1250 2778 \nL 1819 2778 \nQ 2272 2778 2530 2998 \nQ 2788 3219 2788 3609 \nQ 2788 4294 1875 4294 \nL 1250 4294 \nz\nM 1250 2234 \nL 1250 547 \nL 2000 547 \nQ 2491 547 2758 773 \nQ 3025 1000 3025 1403 \nQ 3025 2234 1897 2234 \nL 1250 2234 \nz\n\" transform=\"scale(0.015625)\"/>\n     <path id=\"MicrosoftYaHei-78\" d=\"M 3163 3456 \nL 2006 1716 \nL 3147 0 \nL 2434 0 \nL 1775 1100 \nQ 1722 1188 1625 1369 \nL 1613 1369 \nQ 1609 1350 1456 1100 \nL 784 0 \nL 81 0 \nL 1256 1697 \nL 134 3456 \nL 847 3456 \nL 1494 2300 \nQ 1553 2194 1638 2025 \nL 1650 2025 \nL 2491 3456 \nL 3163 3456 \nz\n\" transform=\"scale(0.015625)\"/>\n     <path id=\"MicrosoftYaHei-6c\" d=\"M 544 0 \nL 544 5116 \nL 1156 5116 \nL 1156 0 \nL 544 0 \nz\n\" transform=\"scale(0.015625)\"/>\n     <path id=\"MicrosoftYaHei-20\" transform=\"scale(0.015625)\"/>\n     <path id=\"MicrosoftYaHei-75\" d=\"M 3400 0 \nL 2784 0 \nL 2784 544 \nL 2772 544 \nQ 2425 -81 1706 -81 \nQ 478 -81 478 1388 \nL 478 3456 \nL 1084 3456 \nL 1084 1478 \nQ 1084 425 1891 425 \nQ 2291 425 2537 720 \nQ 2784 1016 2784 1466 \nL 2784 3456 \nL 3400 3456 \nL 3400 0 \nz\n\" transform=\"scale(0.015625)\"/>\n     <path id=\"MicrosoftYaHei-65\" d=\"M 3363 1572 \nL 944 1572 \nQ 959 1019 1246 717 \nQ 1534 416 2050 416 \nQ 2631 416 3116 788 \nL 3116 241 \nQ 2659 -81 1906 -81 \nQ 1156 -81 736 394 \nQ 316 869 316 1713 \nQ 316 2506 777 3022 \nQ 1238 3538 1922 3538 \nQ 2600 3538 2981 3102 \nQ 3363 2666 3363 1881 \nL 3363 1572 \nz\nM 2750 2063 \nQ 2747 2531 2528 2787 \nQ 2309 3044 1913 3044 \nQ 1547 3044 1280 2772 \nQ 1013 2500 944 2063 \nL 2750 2063 \nz\n\" transform=\"scale(0.015625)\"/>\n     <path id=\"MicrosoftYaHei-64\" d=\"M 3547 0 \nL 2934 0 \nL 2934 575 \nL 2922 575 \nQ 2544 -81 1747 -81 \nQ 1091 -81 703 386 \nQ 316 853 316 1647 \nQ 316 2503 753 3020 \nQ 1191 3538 1897 3538 \nQ 2603 3538 2922 2988 \nL 2934 2988 \nL 2934 5116 \nL 3547 5116 \nL 3547 0 \nz\nM 2938 2056 \nQ 2938 2472 2664 2751 \nQ 2391 3031 1991 3031 \nQ 1503 3031 1222 2667 \nQ 941 2303 941 1675 \nQ 941 1097 1211 761 \nQ 1481 425 1931 425 \nQ 2375 425 2656 754 \nQ 2938 1084 2938 1575 \nL 2938 2056 \nz\n\" transform=\"scale(0.015625)\"/>\n     <path id=\"MicrosoftYaHei-62\" d=\"M 1159 488 \nL 1159 0 \nL 547 0 \nL 547 5116 \nL 1159 5116 \nL 1159 2859 \nL 1172 2859 \nQ 1578 3538 2359 3538 \nQ 3009 3538 3392 3080 \nQ 3775 2622 3775 1828 \nQ 3775 953 3345 436 \nQ 2916 -81 2200 -81 \nQ 1525 -81 1172 488 \nL 1159 488 \nz\nM 1156 1422 \nQ 1156 1003 1428 714 \nQ 1700 425 2109 425 \nQ 2597 425 2872 800 \nQ 3147 1175 3147 1838 \nQ 3147 2384 2890 2707 \nQ 2634 3031 2191 3031 \nQ 1741 3031 1448 2709 \nQ 1156 2388 1156 1891 \nL 1156 1422 \nz\n\" transform=\"scale(0.015625)\"/>\n     <path id=\"MicrosoftYaHei-79\" d=\"M 3359 3456 \nL 1791 -522 \nQ 1353 -1628 556 -1628 \nQ 328 -1628 166 -1578 \nL 166 -1041 \nQ 344 -1109 509 -1109 \nQ 925 -1109 1131 -622 \nL 1397 6 \nL 41 3456 \nL 719 3456 \nL 1622 859 \nL 1697 575 \nL 1713 575 \nQ 1731 672 1788 853 \nL 2731 3456 \nL 3359 3456 \nz\n\" transform=\"scale(0.015625)\"/>\n    </defs>\n    <use xlink:href=\"#MicrosoftYaHei-42\"/>\n    <use xlink:href=\"#MicrosoftYaHei-6f\" transform=\"translate(62.744141 0)\"/>\n    <use xlink:href=\"#MicrosoftYaHei-78\" transform=\"translate(124.943359 0)\"/>\n    <use xlink:href=\"#MicrosoftYaHei-70\" transform=\"translate(175.626953 0)\"/>\n    <use xlink:href=\"#MicrosoftYaHei-6c\" transform=\"translate(239.494141 0)\"/>\n    <use xlink:href=\"#MicrosoftYaHei-6f\" transform=\"translate(266.105469 0)\"/>\n    <use xlink:href=\"#MicrosoftYaHei-74\" transform=\"translate(329.679688 0)\"/>\n    <use xlink:href=\"#MicrosoftYaHei-20\" transform=\"translate(366.935547 0)\"/>\n    <use xlink:href=\"#MicrosoftYaHei-67\" transform=\"translate(396.525391 0)\"/>\n    <use xlink:href=\"#MicrosoftYaHei-72\" transform=\"translate(460.490234 0)\"/>\n    <use xlink:href=\"#MicrosoftYaHei-6f\" transform=\"translate(497.298828 0)\"/>\n    <use xlink:href=\"#MicrosoftYaHei-75\" transform=\"translate(560.873047 0)\"/>\n    <use xlink:href=\"#MicrosoftYaHei-70\" transform=\"translate(622.494141 0)\"/>\n    <use xlink:href=\"#MicrosoftYaHei-65\" transform=\"translate(686.361328 0)\"/>\n    <use xlink:href=\"#MicrosoftYaHei-64\" transform=\"translate(743.099609 0)\"/>\n    <use xlink:href=\"#MicrosoftYaHei-20\" transform=\"translate(807.064453 0)\"/>\n    <use xlink:href=\"#MicrosoftYaHei-62\" transform=\"translate(836.654297 0)\"/>\n    <use xlink:href=\"#MicrosoftYaHei-79\" transform=\"translate(900.521484 0)\"/>\n    <use xlink:href=\"#MicrosoftYaHei-20\" transform=\"translate(953.451172 0)\"/>\n    <use xlink:href=\"#MicrosoftYaHei-53\" transform=\"translate(983.041016 0)\"/>\n    <use xlink:href=\"#MicrosoftYaHei-6d\" transform=\"translate(1040.755859 0)\"/>\n    <use xlink:href=\"#MicrosoftYaHei-6f\" transform=\"translate(1134.457031 0)\"/>\n    <use xlink:href=\"#MicrosoftYaHei-6b\" transform=\"translate(1198.03125 0)\"/>\n    <use xlink:href=\"#MicrosoftYaHei-69\" transform=\"translate(1252.474609 0)\"/>\n    <use xlink:href=\"#MicrosoftYaHei-6e\" transform=\"translate(1279.085938 0)\"/>\n    <use xlink:href=\"#MicrosoftYaHei-67\" transform=\"translate(1340.707031 0)\"/>\n   </g>\n  </g>\n </g>\n <defs>\n  <clipPath id=\"p042ff162e8\">\n   <rect x=\"20.064063\" y=\"34.848\" width=\"368.64\" height=\"259.2\"/>\n  </clipPath>\n </defs>\n</svg>\n"
     },
     "metadata": {},
     "output_type": "display_data"
    }
   ],
   "execution_count": 36
  },
  {
   "metadata": {
    "ExecuteTime": {
     "end_time": "2025-05-05T02:32:49.055003Z",
     "start_time": "2025-05-05T02:32:49.049801Z"
    }
   },
   "cell_type": "code",
   "source": [
    "#使用statsmodels的anova_oneway函数进行ANOVA分析\n",
    "import statsmodels.api as sm\n",
    "\n",
    "sm.stats.anova_oneway(df1[\"Sprint\"],df1[\"Smoking\"], use_var=\"equal\")"
   ],
   "id": "eea4be641ba11be",
   "outputs": [
    {
     "data": {
      "text/plain": [
       "<class 'statsmodels.stats.base.HolderTuple'>\n",
       "statistic = np.float64(9.208599845380864)\n",
       "pvalue = np.float64(0.00012659768158160005)\n",
       "df = (2.0, np.float64(350.0))\n",
       "df_num = 2.0\n",
       "df_denom = np.float64(350.0)\n",
       "nobs_t = np.float64(353.0)\n",
       "n_groups = 3\n",
       "means = array([6.41148659, 6.83533333, 7.12091525])\n",
       "nobs = array([261.,  33.,  59.])\n",
       "vars_ = array([1.56696177, 1.0494261 , 1.17397208])\n",
       "use_var = 'equal'\n",
       "welch_correction = True\n",
       "tuple = (np.float64(9.208599845380864), np.float64(0.00012659768158160005))"
      ]
     },
     "execution_count": 43,
     "metadata": {},
     "output_type": "execute_result"
    }
   ],
   "execution_count": 43
  },
  {
   "metadata": {},
   "cell_type": "code",
   "outputs": [],
   "execution_count": 37,
   "source": [
    "#将数据按照分类拆分\n",
    "s0 = df1[df1[\"Smoking\"]==0][\"Sprint\"]\n",
    "s1 = df1[df1[\"Smoking\"]==1][\"Sprint\"]\n",
    "s2 = df1[df1[\"Smoking\"]==2][\"Sprint\"]"
   ],
   "id": "75b06879-f6cf-49e3-a6d2-40f81a96ea17"
  },
  {
   "metadata": {},
   "cell_type": "code",
   "outputs": [
    {
     "name": "stdout",
     "output_type": "stream",
     "text": [
      "261 33 59\n"
     ]
    }
   ],
   "execution_count": 38,
   "source": [
    "#验证数据拆分正确\n",
    "print(len(s0),len(s1),len(s2))"
   ],
   "id": "8bfb7806-3eaa-4451-949e-e7cd31565f3b"
  },
  {
   "metadata": {},
   "cell_type": "code",
   "outputs": [
    {
     "data": {
      "text/plain": [
       "F_onewayResult(statistic=np.float64(9.208599845380919), pvalue=np.float64(0.00012659768158159465))"
      ]
     },
     "execution_count": 39,
     "metadata": {},
     "output_type": "execute_result"
    }
   ],
   "execution_count": 39,
   "source": [
    "#使用F检验进行ANOVA分析\n",
    "stats.f_oneway(s0,s1,s2)"
   ],
   "id": "c9d9d377-ef9b-4880-a599-7a70c0f89240"
  },
  {
   "metadata": {},
   "cell_type": "code",
   "outputs": [
    {
     "data": {
      "text/plain": [
       "<class 'statsmodels.iolib.summary.Summary'>\n",
       "\"\"\"\n",
       "                            OLS Regression Results                            \n",
       "==============================================================================\n",
       "Dep. Variable:                 Sprint   R-squared:                       0.050\n",
       "Model:                            OLS   Adj. R-squared:                  0.045\n",
       "Method:                 Least Squares   F-statistic:                     9.209\n",
       "Date:                Mon, 05 May 2025   Prob (F-statistic):           0.000127\n",
       "Time:                        10:31:30   Log-Likelihood:                -565.51\n",
       "No. Observations:                 353   AIC:                             1137.\n",
       "Df Residuals:                     350   BIC:                             1149.\n",
       "Df Model:                           2                                         \n",
       "Covariance Type:            nonrobust                                         \n",
       "===================================================================================\n",
       "                      coef    std err          t      P>|t|      [0.025      0.975]\n",
       "-----------------------------------------------------------------------------------\n",
       "Intercept           6.4115      0.075     85.885      0.000       6.265       6.558\n",
       "C(Smoking)[T.1]     0.4238      0.223      1.902      0.058      -0.014       0.862\n",
       "C(Smoking)[T.2]     0.7094      0.174      4.081      0.000       0.367       1.051\n",
       "==============================================================================\n",
       "Omnibus:                       30.049   Durbin-Watson:                   2.064\n",
       "Prob(Omnibus):                  0.000   Jarque-Bera (JB):               14.952\n",
       "Skew:                           0.320   Prob(JB):                     0.000567\n",
       "Kurtosis:                       2.220   Cond. No.                         3.63\n",
       "==============================================================================\n",
       "\n",
       "Notes:\n",
       "[1] Standard Errors assume that the covariance matrix of the errors is correctly specified.\n",
       "\"\"\""
      ],
      "text/html": [
       "<table class=\"simpletable\">\n",
       "<caption>OLS Regression Results</caption>\n",
       "<tr>\n",
       "  <th>Dep. Variable:</th>         <td>Sprint</td>      <th>  R-squared:         </th> <td>   0.050</td>\n",
       "</tr>\n",
       "<tr>\n",
       "  <th>Model:</th>                   <td>OLS</td>       <th>  Adj. R-squared:    </th> <td>   0.045</td>\n",
       "</tr>\n",
       "<tr>\n",
       "  <th>Method:</th>             <td>Least Squares</td>  <th>  F-statistic:       </th> <td>   9.209</td>\n",
       "</tr>\n",
       "<tr>\n",
       "  <th>Date:</th>             <td>Mon, 05 May 2025</td> <th>  Prob (F-statistic):</th> <td>0.000127</td>\n",
       "</tr>\n",
       "<tr>\n",
       "  <th>Time:</th>                 <td>10:31:30</td>     <th>  Log-Likelihood:    </th> <td> -565.51</td>\n",
       "</tr>\n",
       "<tr>\n",
       "  <th>No. Observations:</th>      <td>   353</td>      <th>  AIC:               </th> <td>   1137.</td>\n",
       "</tr>\n",
       "<tr>\n",
       "  <th>Df Residuals:</th>          <td>   350</td>      <th>  BIC:               </th> <td>   1149.</td>\n",
       "</tr>\n",
       "<tr>\n",
       "  <th>Df Model:</th>              <td>     2</td>      <th>                     </th>     <td> </td>   \n",
       "</tr>\n",
       "<tr>\n",
       "  <th>Covariance Type:</th>      <td>nonrobust</td>    <th>                     </th>     <td> </td>   \n",
       "</tr>\n",
       "</table>\n",
       "<table class=\"simpletable\">\n",
       "<tr>\n",
       "         <td></td>            <th>coef</th>     <th>std err</th>      <th>t</th>      <th>P>|t|</th>  <th>[0.025</th>    <th>0.975]</th>  \n",
       "</tr>\n",
       "<tr>\n",
       "  <th>Intercept</th>       <td>    6.4115</td> <td>    0.075</td> <td>   85.885</td> <td> 0.000</td> <td>    6.265</td> <td>    6.558</td>\n",
       "</tr>\n",
       "<tr>\n",
       "  <th>C(Smoking)[T.1]</th> <td>    0.4238</td> <td>    0.223</td> <td>    1.902</td> <td> 0.058</td> <td>   -0.014</td> <td>    0.862</td>\n",
       "</tr>\n",
       "<tr>\n",
       "  <th>C(Smoking)[T.2]</th> <td>    0.7094</td> <td>    0.174</td> <td>    4.081</td> <td> 0.000</td> <td>    0.367</td> <td>    1.051</td>\n",
       "</tr>\n",
       "</table>\n",
       "<table class=\"simpletable\">\n",
       "<tr>\n",
       "  <th>Omnibus:</th>       <td>30.049</td> <th>  Durbin-Watson:     </th> <td>   2.064</td>\n",
       "</tr>\n",
       "<tr>\n",
       "  <th>Prob(Omnibus):</th> <td> 0.000</td> <th>  Jarque-Bera (JB):  </th> <td>  14.952</td>\n",
       "</tr>\n",
       "<tr>\n",
       "  <th>Skew:</th>          <td> 0.320</td> <th>  Prob(JB):          </th> <td>0.000567</td>\n",
       "</tr>\n",
       "<tr>\n",
       "  <th>Kurtosis:</th>      <td> 2.220</td> <th>  Cond. No.          </th> <td>    3.63</td>\n",
       "</tr>\n",
       "</table><br/><br/>Notes:<br/>[1] Standard Errors assume that the covariance matrix of the errors is correctly specified."
      ],
      "text/latex": "\\begin{center}\n\\begin{tabular}{lclc}\n\\toprule\n\\textbf{Dep. Variable:}    &      Sprint      & \\textbf{  R-squared:         } &     0.050   \\\\\n\\textbf{Model:}            &       OLS        & \\textbf{  Adj. R-squared:    } &     0.045   \\\\\n\\textbf{Method:}           &  Least Squares   & \\textbf{  F-statistic:       } &     9.209   \\\\\n\\textbf{Date:}             & Mon, 05 May 2025 & \\textbf{  Prob (F-statistic):} &  0.000127   \\\\\n\\textbf{Time:}             &     10:31:30     & \\textbf{  Log-Likelihood:    } &   -565.51   \\\\\n\\textbf{No. Observations:} &         353      & \\textbf{  AIC:               } &     1137.   \\\\\n\\textbf{Df Residuals:}     &         350      & \\textbf{  BIC:               } &     1149.   \\\\\n\\textbf{Df Model:}         &           2      & \\textbf{                     } &             \\\\\n\\textbf{Covariance Type:}  &    nonrobust     & \\textbf{                     } &             \\\\\n\\bottomrule\n\\end{tabular}\n\\begin{tabular}{lcccccc}\n                         & \\textbf{coef} & \\textbf{std err} & \\textbf{t} & \\textbf{P$> |$t$|$} & \\textbf{[0.025} & \\textbf{0.975]}  \\\\\n\\midrule\n\\textbf{Intercept}       &       6.4115  &        0.075     &    85.885  &         0.000        &        6.265    &        6.558     \\\\\n\\textbf{C(Smoking)[T.1]} &       0.4238  &        0.223     &     1.902  &         0.058        &       -0.014    &        0.862     \\\\\n\\textbf{C(Smoking)[T.2]} &       0.7094  &        0.174     &     4.081  &         0.000        &        0.367    &        1.051     \\\\\n\\bottomrule\n\\end{tabular}\n\\begin{tabular}{lclc}\n\\textbf{Omnibus:}       & 30.049 & \\textbf{  Durbin-Watson:     } &    2.064  \\\\\n\\textbf{Prob(Omnibus):} &  0.000 & \\textbf{  Jarque-Bera (JB):  } &   14.952  \\\\\n\\textbf{Skew:}          &  0.320 & \\textbf{  Prob(JB):          } & 0.000567  \\\\\n\\textbf{Kurtosis:}      &  2.220 & \\textbf{  Cond. No.          } &     3.63  \\\\\n\\bottomrule\n\\end{tabular}\n%\\caption{OLS Regression Results}\n\\end{center}\n\nNotes: \\newline\n [1] Standard Errors assume that the covariance matrix of the errors is correctly specified."
     },
     "execution_count": 40,
     "metadata": {},
     "output_type": "execute_result"
    }
   ],
   "execution_count": 40,
   "source": [
    "#回归分析\n",
    "from statsmodels.formula.api import ols\n",
    "\n",
    "model = ols(\"Sprint ~ C(Smoking)\", data=df1)\n",
    "lm = model.fit()\n",
    "lm.summary()"
   ],
   "id": "cf7dc54b2f628843"
  },
  {
   "metadata": {},
   "cell_type": "code",
   "outputs": [],
   "execution_count": null,
   "source": "",
   "id": "5b45604025eb8a51"
  }
 ],
 "metadata": {
  "kernelspec": {
   "display_name": "Python 3 (ipykernel)",
   "language": "python",
   "name": "python3"
  },
  "language_info": {
   "codemirror_mode": {
    "name": "ipython",
    "version": 3
   },
   "file_extension": ".py",
   "mimetype": "text/x-python",
   "name": "python",
   "nbconvert_exporter": "python",
   "pygments_lexer": "ipython3",
   "version": "3.11.9"
  }
 },
 "nbformat": 4,
 "nbformat_minor": 5
}
