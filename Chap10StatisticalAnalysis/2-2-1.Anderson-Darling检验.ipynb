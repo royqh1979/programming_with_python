{
 "cells": [
  {
   "cell_type": "code",
   "id": "initial_id",
   "metadata": {
    "collapsed": true,
    "ExecuteTime": {
     "end_time": "2025-05-03T10:23:25.647642Z",
     "start_time": "2025-05-03T10:23:25.644884Z"
    }
   },
   "source": [
    "import numpy as np\n",
    "import scipy.stats as stats\n",
    "\n",
    "#s1来自均匀分布\n",
    "s1=np.random.uniform(0,100,1000)\n",
    "#s2来自正态分布\n",
    "s2=np.random.normal(0,1,1000)"
   ],
   "outputs": [],
   "execution_count": 20
  },
  {
   "metadata": {
    "ExecuteTime": {
     "end_time": "2025-05-03T10:23:26.206510Z",
     "start_time": "2025-05-03T10:23:26.201839Z"
    }
   },
   "cell_type": "code",
   "source": [
    "# s1的统计量11.54大于1%显著性对应的临界值1.088，所以应拒绝原假设，s1不服从正态分布\n",
    "stats.anderson(s1,dist=\"norm\")"
   ],
   "id": "54eb2b58ec3ca764",
   "outputs": [
    {
     "data": {
      "text/plain": [
       "AndersonResult(statistic=11.541391377522473, critical_values=array([0.574, 0.653, 0.784, 0.914, 1.088]), significance_level=array([15. , 10. ,  5. ,  2.5,  1. ]), fit_result=  params: FitParams(loc=49.38438834943085, scale=29.13112285911039)\n",
       " success: True\n",
       " message: '`anderson` successfully fit the distribution to the data.')"
      ]
     },
     "execution_count": 21,
     "metadata": {},
     "output_type": "execute_result"
    }
   ],
   "execution_count": 21
  },
  {
   "metadata": {
    "ExecuteTime": {
     "end_time": "2025-05-03T10:18:58.966360Z",
     "start_time": "2025-05-03T10:18:58.961809Z"
    }
   },
   "cell_type": "code",
   "source": [
    "# s2的统计量小于15%显著性对应的临界值，所以不能拒绝原假设，可以认为s2服从正态分布\n",
    "stats.anderson(s2,dist=\"norm\")"
   ],
   "id": "79bb9497b0af1b0c",
   "outputs": [
    {
     "data": {
      "text/plain": [
       "AndersonResult(statistic=0.340892202541454, critical_values=array([0.574, 0.653, 0.784, 0.914, 1.088]), significance_level=array([15. , 10. ,  5. ,  2.5,  1. ]), fit_result=  params: FitParams(loc=-0.03187880584122229, scale=0.9969523966535642)\n",
       " success: True\n",
       " message: '`anderson` successfully fit the distribution to the data.')"
      ]
     },
     "execution_count": 19,
     "metadata": {},
     "output_type": "execute_result"
    }
   ],
   "execution_count": 19
  },
  {
   "metadata": {},
   "cell_type": "code",
   "outputs": [],
   "execution_count": null,
   "source": "",
   "id": "a07eb5ea90903116"
  }
 ],
 "metadata": {
  "kernelspec": {
   "display_name": "Python 3",
   "language": "python",
   "name": "python3"
  },
  "language_info": {
   "codemirror_mode": {
    "name": "ipython",
    "version": 2
   },
   "file_extension": ".py",
   "mimetype": "text/x-python",
   "name": "python",
   "nbconvert_exporter": "python",
   "pygments_lexer": "ipython2",
   "version": "2.7.6"
  }
 },
 "nbformat": 4,
 "nbformat_minor": 5
}
