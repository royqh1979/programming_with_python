{
 "cells": [
  {
   "cell_type": "code",
   "id": "initial_id",
   "metadata": {
    "collapsed": true,
    "ExecuteTime": {
     "end_time": "2025-05-04T00:55:50.783612Z",
     "start_time": "2025-05-04T00:55:46.985694Z"
    }
   },
   "source": [
    "import numpy as np\n",
    "import scipy.stats as stats\n",
    "\n",
    "#s1来自均匀分布\n",
    "s1=np.random.uniform(0,100,1000)\n",
    "#s2来自正态分布\n",
    "s2=np.random.normal(0,1,1000)"
   ],
   "outputs": [],
   "execution_count": 1
  },
  {
   "metadata": {
    "ExecuteTime": {
     "end_time": "2025-05-04T00:58:17.639993Z",
     "start_time": "2025-05-04T00:58:17.633643Z"
    }
   },
   "cell_type": "code",
   "source": "stats.kstest(s1,stats.norm.cdf)",
   "id": "54eb2b58ec3ca764",
   "outputs": [
    {
     "data": {
      "text/plain": [
       "KstestResult(statistic=0.9694479354478712, pvalue=0.0, statistic_location=2.4298726453053976, statistic_sign=-1)"
      ]
     },
     "execution_count": 3,
     "metadata": {},
     "output_type": "execute_result"
    }
   ],
   "execution_count": 3
  },
  {
   "metadata": {
    "ExecuteTime": {
     "end_time": "2025-05-04T00:58:43.221959Z",
     "start_time": "2025-05-04T00:58:43.216957Z"
    }
   },
   "cell_type": "code",
   "source": "stats.kstest(s2,stats.norm.cdf)",
   "id": "79bb9497b0af1b0c",
   "outputs": [
    {
     "data": {
      "text/plain": [
       "KstestResult(statistic=0.03586039142652003, pvalue=0.14907929236613937, statistic_location=-0.11591389557956785, statistic_sign=-1)"
      ]
     },
     "execution_count": 5,
     "metadata": {},
     "output_type": "execute_result"
    }
   ],
   "execution_count": 5
  },
  {
   "metadata": {},
   "cell_type": "code",
   "outputs": [],
   "execution_count": null,
   "source": "",
   "id": "a07eb5ea90903116"
  }
 ],
 "metadata": {
  "kernelspec": {
   "display_name": "Python 3",
   "language": "python",
   "name": "python3"
  },
  "language_info": {
   "codemirror_mode": {
    "name": "ipython",
    "version": 2
   },
   "file_extension": ".py",
   "mimetype": "text/x-python",
   "name": "python",
   "nbconvert_exporter": "python",
   "pygments_lexer": "ipython2",
   "version": "2.7.6"
  }
 },
 "nbformat": 4,
 "nbformat_minor": 5
}
