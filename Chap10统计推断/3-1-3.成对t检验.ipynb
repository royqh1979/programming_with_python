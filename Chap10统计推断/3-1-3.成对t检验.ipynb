{
 "cells": [
  {
   "cell_type": "code",
   "id": "bc60cd31-3856-48d0-8e93-ea79b1d15227",
   "metadata": {
    "ExecuteTime": {
     "end_time": "2025-05-04T09:59:50.962518Z",
     "start_time": "2025-05-04T09:59:49.889927Z"
    }
   },
   "source": [
    "import numpy as np\n",
    "import pandas as pd\n",
    "import scipy.stats as stats\n",
    "#导入pyplot模块\n",
    "import matplotlib.pyplot as plt\n",
    "\n",
    "#使用中文字体\n",
    "import matplotlib as mpl\n",
    "mpl.rcParams['font.family']=['Microsoft Yahei', 'sans-serif']\n",
    "mpl.rcParams['axes.unicode_minus']=False\n",
    "\n",
    "#使用svg格式，避免图形模糊\n",
    "#自动显示图形\n",
    "%matplotlib inline\n",
    "%config InlineBackend.figure_format=\"svg\""
   ],
   "outputs": [],
   "execution_count": 1
  },
  {
   "cell_type": "code",
   "id": "a480274a-46da-4cac-8e31-871d9693148f",
   "metadata": {
    "ExecuteTime": {
     "end_time": "2025-05-04T10:00:56.860632Z",
     "start_time": "2025-05-04T10:00:56.849828Z"
    }
   },
   "source": [
    "#数据准备\n",
    "df = pd.read_csv(\"矽肺治疗数据.csv\",encoding=\"UTF-8\",index_col=\"患者编号\")\n",
    "df"
   ],
   "outputs": [
    {
     "data": {
      "text/plain": [
       "      治疗前  治疗后\n",
       "患者编号          \n",
       "1     113  140\n",
       "2     150  158\n",
       "3     150  149\n",
       "4     135  138\n",
       "5     128  135\n",
       "6     100  120\n",
       "7     110  147\n",
       "8     120  118\n",
       "9     130  138\n",
       "10    123  125"
      ],
      "text/html": [
       "<div>\n",
       "<style scoped>\n",
       "    .dataframe tbody tr th:only-of-type {\n",
       "        vertical-align: middle;\n",
       "    }\n",
       "\n",
       "    .dataframe tbody tr th {\n",
       "        vertical-align: top;\n",
       "    }\n",
       "\n",
       "    .dataframe thead th {\n",
       "        text-align: right;\n",
       "    }\n",
       "</style>\n",
       "<table border=\"1\" class=\"dataframe\">\n",
       "  <thead>\n",
       "    <tr style=\"text-align: right;\">\n",
       "      <th></th>\n",
       "      <th>治疗前</th>\n",
       "      <th>治疗后</th>\n",
       "    </tr>\n",
       "    <tr>\n",
       "      <th>患者编号</th>\n",
       "      <th></th>\n",
       "      <th></th>\n",
       "    </tr>\n",
       "  </thead>\n",
       "  <tbody>\n",
       "    <tr>\n",
       "      <th>1</th>\n",
       "      <td>113</td>\n",
       "      <td>140</td>\n",
       "    </tr>\n",
       "    <tr>\n",
       "      <th>2</th>\n",
       "      <td>150</td>\n",
       "      <td>158</td>\n",
       "    </tr>\n",
       "    <tr>\n",
       "      <th>3</th>\n",
       "      <td>150</td>\n",
       "      <td>149</td>\n",
       "    </tr>\n",
       "    <tr>\n",
       "      <th>4</th>\n",
       "      <td>135</td>\n",
       "      <td>138</td>\n",
       "    </tr>\n",
       "    <tr>\n",
       "      <th>5</th>\n",
       "      <td>128</td>\n",
       "      <td>135</td>\n",
       "    </tr>\n",
       "    <tr>\n",
       "      <th>6</th>\n",
       "      <td>100</td>\n",
       "      <td>120</td>\n",
       "    </tr>\n",
       "    <tr>\n",
       "      <th>7</th>\n",
       "      <td>110</td>\n",
       "      <td>147</td>\n",
       "    </tr>\n",
       "    <tr>\n",
       "      <th>8</th>\n",
       "      <td>120</td>\n",
       "      <td>118</td>\n",
       "    </tr>\n",
       "    <tr>\n",
       "      <th>9</th>\n",
       "      <td>130</td>\n",
       "      <td>138</td>\n",
       "    </tr>\n",
       "    <tr>\n",
       "      <th>10</th>\n",
       "      <td>123</td>\n",
       "      <td>125</td>\n",
       "    </tr>\n",
       "  </tbody>\n",
       "</table>\n",
       "</div>"
      ]
     },
     "execution_count": 5,
     "metadata": {},
     "output_type": "execute_result"
    }
   ],
   "execution_count": 5
  },
  {
   "metadata": {
    "ExecuteTime": {
     "end_time": "2025-05-04T10:01:03.133983Z",
     "start_time": "2025-05-04T10:01:03.077220Z"
    }
   },
   "cell_type": "code",
   "source": [
    "df.plot.box()\n",
    "plt.show()"
   ],
   "id": "32a19607eacd72e3",
   "outputs": [
    {
     "data": {
      "text/plain": [
       "<Figure size 640x480 with 1 Axes>"
      ],
      "image/svg+xml": "<?xml version=\"1.0\" encoding=\"utf-8\" standalone=\"no\"?>\n<!DOCTYPE svg PUBLIC \"-//W3C//DTD SVG 1.1//EN\"\n  \"http://www.w3.org/Graphics/SVG/1.1/DTD/svg11.dtd\">\n<svg xmlns:xlink=\"http://www.w3.org/1999/xlink\" width=\"396.112187pt\" height=\"298.234631pt\" viewBox=\"0 0 396.112187 298.234631\" xmlns=\"http://www.w3.org/2000/svg\" version=\"1.1\">\n <metadata>\n  <rdf:RDF xmlns:dc=\"http://purl.org/dc/elements/1.1/\" xmlns:cc=\"http://creativecommons.org/ns#\" xmlns:rdf=\"http://www.w3.org/1999/02/22-rdf-syntax-ns#\">\n   <cc:Work>\n    <dc:type rdf:resource=\"http://purl.org/dc/dcmitype/StillImage\"/>\n    <dc:date>2025-05-04T18:01:03.117144</dc:date>\n    <dc:format>image/svg+xml</dc:format>\n    <dc:creator>\n     <cc:Agent>\n      <dc:title>Matplotlib v3.10.1, https://matplotlib.org/</dc:title>\n     </cc:Agent>\n    </dc:creator>\n   </cc:Work>\n  </rdf:RDF>\n </metadata>\n <defs>\n  <style type=\"text/css\">*{stroke-linejoin: round; stroke-linecap: butt}</style>\n </defs>\n <g id=\"figure_1\">\n  <g id=\"patch_1\">\n   <path d=\"M 0 298.234631 \nL 396.112187 298.234631 \nL 396.112187 0 \nL 0 0 \nz\n\" style=\"fill: #ffffff\"/>\n  </g>\n  <g id=\"axes_1\">\n   <g id=\"patch_2\">\n    <path d=\"M 31.792188 273.554944 \nL 388.912188 273.554944 \nL 388.912188 7.442944 \nL 31.792188 7.442944 \nz\n\" style=\"fill: #ffffff\"/>\n   </g>\n   <g id=\"matplotlib.axis_1\">\n    <g id=\"xtick_1\">\n     <g id=\"line2d_1\">\n      <defs>\n       <path id=\"m261f54ae32\" d=\"M 0 0 \nL 0 3.5 \n\" style=\"stroke: #000000; stroke-width: 0.8\"/>\n      </defs>\n      <g>\n       <use xlink:href=\"#m261f54ae32\" x=\"121.072188\" y=\"273.554944\" style=\"stroke: #000000; stroke-width: 0.8\"/>\n      </g>\n     </g>\n     <g id=\"text_1\">\n      <!-- 治疗前 -->\n      <g transform=\"translate(106.072188 288.548694) scale(0.1 -0.1)\">\n       <defs>\n        <path id=\"MicrosoftYaHei-6cbb\" d=\"M 2231 1934 \nL 5719 1934 \nL 5719 -822 \nL 5244 -822 \nL 5244 -403 \nL 2706 -403 \nL 2706 -822 \nL 2231 -822 \nL 2231 1934 \nz\nM 5019 4484 \nQ 5731 3522 6325 2534 \nL 5875 2259 \nQ 5706 2553 5538 2838 \nQ 3694 2759 2594 2666 \nQ 2344 2641 2081 2566 \nL 1831 3053 \nQ 2088 3147 2288 3372 \nQ 2931 4141 3519 5334 \nL 4019 5128 \nQ 3388 4059 2713 3153 \nQ 3853 3191 5281 3259 \nQ 4956 3775 4625 4247 \nL 5019 4484 \nz\nM 5244 1497 \nL 2706 1497 \nL 2706 34 \nL 5244 34 \nL 5244 1497 \nz\nM 1013 1903 \nQ 1263 1784 1525 1684 \nQ 1069 278 763 -766 \nL 231 -566 \nQ 656 509 1013 1903 \nz\nM 663 5209 \nQ 1338 4747 1819 4359 \nQ 1619 4128 1469 3953 \nQ 994 4378 356 4853 \nL 663 5209 \nz\nM 406 3647 \nQ 981 3266 1525 2847 \nQ 1431 2753 1188 2434 \nQ 563 2953 100 3291 \nL 406 3647 \nz\n\" transform=\"scale(0.015625)\"/>\n        <path id=\"MicrosoftYaHei-7597\" d=\"M 3244 5128 \nL 3694 5347 \nQ 3919 4959 4106 4584 \nL 6300 4584 \nL 6300 4134 \nL 1594 4134 \nL 1594 2384 \nQ 1594 141 750 -891 \nQ 569 -653 375 -466 \nQ 975 328 1094 1672 \nQ 525 1322 213 1128 \nL 94 1653 \nQ 600 1897 1125 2191 \nL 1125 4584 \nL 3550 4584 \nQ 3388 4903 3244 5128 \nz\nM 3763 2072 \nL 5063 2941 \nL 1988 2941 \nL 1988 3384 \nL 5838 3384 \nL 5838 2934 \nL 4250 1834 \nL 4250 28 \nQ 4250 -716 3531 -716 \nQ 3281 -716 2488 -703 \nQ 2469 -434 2413 -172 \nQ 3031 -234 3400 -234 \nQ 3763 -234 3763 134 \nL 3763 2072 \nz\nM 119 3778 \nL 513 3928 \nQ 738 3428 975 2734 \nL 538 2572 \nQ 344 3228 119 3778 \nz\n\" transform=\"scale(0.015625)\"/>\n        <path id=\"MicrosoftYaHei-524d\" d=\"M 1038 -841 \nL 563 -841 \nL 563 3322 \nL 3300 3322 \nL 3300 -172 \nQ 3300 -784 2669 -772 \nQ 2406 -772 1950 -759 \nQ 1913 -516 1856 -297 \nQ 2238 -328 2563 -328 \nQ 2825 -334 2825 -72 \nL 2825 722 \nL 1038 722 \nL 1038 -841 \nz\nM 150 4372 \nL 2169 4372 \nQ 1963 4697 1644 5078 \nL 2038 5347 \nQ 2425 4916 2663 4578 \nL 2353 4372 \nL 4063 4372 \nL 3813 4509 \nQ 4144 4916 4388 5359 \nL 4863 5084 \nQ 4575 4691 4284 4372 \nL 6263 4372 \nL 6263 3934 \nL 150 3934 \nL 150 4372 \nz\nM 5331 3522 \nL 5819 3522 \nL 5819 28 \nQ 5819 -741 5094 -747 \nQ 4763 -753 4269 -741 \nQ 4238 -484 4181 -216 \nQ 4644 -266 4931 -266 \nQ 5331 -266 5331 141 \nL 5331 3522 \nz\nM 4044 3222 \nL 4519 3222 \nL 4519 409 \nL 4044 409 \nL 4044 3222 \nz\nM 2825 2897 \nL 1038 2897 \nL 1038 2228 \nL 2825 2228 \nL 2825 2897 \nz\nM 1038 1141 \nL 2825 1141 \nL 2825 1809 \nL 1038 1809 \nL 1038 1141 \nz\n\" transform=\"scale(0.015625)\"/>\n       </defs>\n       <use xlink:href=\"#MicrosoftYaHei-6cbb\"/>\n       <use xlink:href=\"#MicrosoftYaHei-7597\" transform=\"translate(100 0)\"/>\n       <use xlink:href=\"#MicrosoftYaHei-524d\" transform=\"translate(200 0)\"/>\n      </g>\n     </g>\n    </g>\n    <g id=\"xtick_2\">\n     <g id=\"line2d_2\">\n      <g>\n       <use xlink:href=\"#m261f54ae32\" x=\"299.632187\" y=\"273.554944\" style=\"stroke: #000000; stroke-width: 0.8\"/>\n      </g>\n     </g>\n     <g id=\"text_2\">\n      <!-- 治疗后 -->\n      <g transform=\"translate(284.632187 288.548694) scale(0.1 -0.1)\">\n       <defs>\n        <path id=\"MicrosoftYaHei-540e\" d=\"M 1888 1984 \nL 5688 1984 \nL 5688 -828 \nL 5188 -828 \nL 5188 -403 \nL 2388 -403 \nL 2388 -828 \nL 1888 -828 \nL 1888 1984 \nz\nM 1313 2991 \nQ 1313 1272 1138 672 \nQ 963 -16 394 -847 \nQ 250 -634 50 -409 \nQ 494 222 650 859 \nQ 806 1472 806 2659 \nL 806 4766 \nQ 3544 4853 5631 5141 \nL 5931 4622 \nQ 3344 4359 1313 4284 \nL 1313 3459 \nL 6263 3459 \nL 6263 2991 \nL 1313 2991 \nz\nM 5188 1528 \nL 2388 1528 \nL 2388 41 \nL 5188 41 \nL 5188 1528 \nz\n\" transform=\"scale(0.015625)\"/>\n       </defs>\n       <use xlink:href=\"#MicrosoftYaHei-6cbb\"/>\n       <use xlink:href=\"#MicrosoftYaHei-7597\" transform=\"translate(100 0)\"/>\n       <use xlink:href=\"#MicrosoftYaHei-540e\" transform=\"translate(200 0)\"/>\n      </g>\n     </g>\n    </g>\n   </g>\n   <g id=\"matplotlib.axis_2\">\n    <g id=\"ytick_1\">\n     <g id=\"line2d_3\">\n      <defs>\n       <path id=\"me2205ef1aa\" d=\"M 0 0 \nL -3.5 0 \n\" style=\"stroke: #000000; stroke-width: 0.8\"/>\n      </defs>\n      <g>\n       <use xlink:href=\"#me2205ef1aa\" x=\"31.792188\" y=\"261.458944\" style=\"stroke: #000000; stroke-width: 0.8\"/>\n      </g>\n     </g>\n     <g id=\"text_3\">\n      <!-- 100 -->\n      <g transform=\"translate(7.2 265.455819) scale(0.1 -0.1)\">\n       <defs>\n        <path id=\"MicrosoftYaHei-31\" d=\"M 1781 0 \nL 1781 4141 \nQ 1638 3997 1295 3819 \nQ 953 3641 663 3569 \nL 663 4169 \nQ 1047 4275 1484 4508 \nQ 1922 4741 2156 4947 \nL 2388 4947 \nL 2388 0 \nL 1781 0 \nz\n\" transform=\"scale(0.015625)\"/>\n        <path id=\"MicrosoftYaHei-30\" d=\"M 284 2325 \nQ 284 3606 709 4264 \nQ 1134 4922 1941 4922 \nQ 3478 4922 3478 2441 \nQ 3478 1216 3045 567 \nQ 2613 -81 1831 -81 \nQ 1094 -81 689 534 \nQ 284 1150 284 2325 \nz\nM 909 2353 \nQ 909 425 1888 425 \nQ 2850 425 2850 2384 \nQ 2850 4413 1906 4413 \nQ 909 4413 909 2353 \nz\n\" transform=\"scale(0.015625)\"/>\n       </defs>\n       <use xlink:href=\"#MicrosoftYaHei-31\"/>\n       <use xlink:href=\"#MicrosoftYaHei-30\" transform=\"translate(58.642578 0)\"/>\n       <use xlink:href=\"#MicrosoftYaHei-30\" transform=\"translate(117.285156 0)\"/>\n      </g>\n     </g>\n    </g>\n    <g id=\"ytick_2\">\n     <g id=\"line2d_4\">\n      <g>\n       <use xlink:href=\"#me2205ef1aa\" x=\"31.792188\" y=\"219.748599\" style=\"stroke: #000000; stroke-width: 0.8\"/>\n      </g>\n     </g>\n     <g id=\"text_4\">\n      <!-- 110 -->\n      <g transform=\"translate(7.2 223.745474) scale(0.1 -0.1)\">\n       <use xlink:href=\"#MicrosoftYaHei-31\"/>\n       <use xlink:href=\"#MicrosoftYaHei-31\" transform=\"translate(58.642578 0)\"/>\n       <use xlink:href=\"#MicrosoftYaHei-30\" transform=\"translate(117.285156 0)\"/>\n      </g>\n     </g>\n    </g>\n    <g id=\"ytick_3\">\n     <g id=\"line2d_5\">\n      <g>\n       <use xlink:href=\"#me2205ef1aa\" x=\"31.792188\" y=\"178.038254\" style=\"stroke: #000000; stroke-width: 0.8\"/>\n      </g>\n     </g>\n     <g id=\"text_5\">\n      <!-- 120 -->\n      <g transform=\"translate(7.2 182.035129) scale(0.1 -0.1)\">\n       <defs>\n        <path id=\"MicrosoftYaHei-32\" d=\"M 2666 3572 \nQ 2666 3963 2419 4186 \nQ 2172 4409 1747 4409 \nQ 1447 4409 1140 4256 \nQ 834 4103 569 3819 \nL 569 4413 \nQ 806 4659 1107 4790 \nQ 1409 4922 1816 4922 \nQ 2472 4922 2872 4570 \nQ 3272 4219 3272 3619 \nQ 3272 3084 3026 2693 \nQ 2781 2303 2188 1894 \nQ 1581 1475 1376 1294 \nQ 1172 1113 1090 947 \nQ 1009 781 1009 544 \nL 3416 544 \nL 3416 0 \nL 372 0 \nL 372 241 \nQ 372 659 486 951 \nQ 600 1244 862 1520 \nQ 1125 1797 1681 2184 \nQ 2250 2584 2458 2886 \nQ 2666 3188 2666 3572 \nz\n\" transform=\"scale(0.015625)\"/>\n       </defs>\n       <use xlink:href=\"#MicrosoftYaHei-31\"/>\n       <use xlink:href=\"#MicrosoftYaHei-32\" transform=\"translate(58.642578 0)\"/>\n       <use xlink:href=\"#MicrosoftYaHei-30\" transform=\"translate(117.285156 0)\"/>\n      </g>\n     </g>\n    </g>\n    <g id=\"ytick_4\">\n     <g id=\"line2d_6\">\n      <g>\n       <use xlink:href=\"#me2205ef1aa\" x=\"31.792188\" y=\"136.327909\" style=\"stroke: #000000; stroke-width: 0.8\"/>\n      </g>\n     </g>\n     <g id=\"text_6\">\n      <!-- 130 -->\n      <g transform=\"translate(7.2 140.324784) scale(0.1 -0.1)\">\n       <defs>\n        <path id=\"MicrosoftYaHei-33\" d=\"M 447 809 \nQ 944 425 1569 425 \nQ 2069 425 2361 670 \nQ 2653 916 2653 1328 \nQ 2653 2247 1338 2247 \nL 934 2247 \nL 934 2753 \nL 1319 2753 \nQ 2484 2753 2484 3616 \nQ 2484 4413 1594 4413 \nQ 1084 4413 634 4069 \nL 634 4647 \nQ 1109 4922 1744 4922 \nQ 2363 4922 2738 4598 \nQ 3113 4275 3113 3759 \nQ 3113 2809 2144 2538 \nL 2144 2525 \nQ 2669 2469 2973 2155 \nQ 3278 1841 3278 1372 \nQ 3278 719 2808 319 \nQ 2338 -81 1556 -81 \nQ 869 -81 447 175 \nL 447 809 \nz\n\" transform=\"scale(0.015625)\"/>\n       </defs>\n       <use xlink:href=\"#MicrosoftYaHei-31\"/>\n       <use xlink:href=\"#MicrosoftYaHei-33\" transform=\"translate(58.642578 0)\"/>\n       <use xlink:href=\"#MicrosoftYaHei-30\" transform=\"translate(117.285156 0)\"/>\n      </g>\n     </g>\n    </g>\n    <g id=\"ytick_5\">\n     <g id=\"line2d_7\">\n      <g>\n       <use xlink:href=\"#me2205ef1aa\" x=\"31.792188\" y=\"94.617565\" style=\"stroke: #000000; stroke-width: 0.8\"/>\n      </g>\n     </g>\n     <g id=\"text_7\">\n      <!-- 140 -->\n      <g transform=\"translate(7.2 98.61444) scale(0.1 -0.1)\">\n       <defs>\n        <path id=\"MicrosoftYaHei-34\" d=\"M 2906 4841 \nL 2906 1644 \nL 3631 1644 \nL 3631 1138 \nL 2906 1138 \nL 2906 0 \nL 2313 0 \nL 2313 1138 \nL 53 1138 \nL 53 1616 \nQ 656 2294 1265 3178 \nQ 1875 4063 2272 4841 \nL 2906 4841 \nz\nM 741 1644 \nL 2313 1644 \nL 2313 3950 \nQ 1988 3366 1616 2817 \nQ 1244 2269 741 1644 \nz\n\" transform=\"scale(0.015625)\"/>\n       </defs>\n       <use xlink:href=\"#MicrosoftYaHei-31\"/>\n       <use xlink:href=\"#MicrosoftYaHei-34\" transform=\"translate(58.642578 0)\"/>\n       <use xlink:href=\"#MicrosoftYaHei-30\" transform=\"translate(117.285156 0)\"/>\n      </g>\n     </g>\n    </g>\n    <g id=\"ytick_6\">\n     <g id=\"line2d_8\">\n      <g>\n       <use xlink:href=\"#me2205ef1aa\" x=\"31.792188\" y=\"52.90722\" style=\"stroke: #000000; stroke-width: 0.8\"/>\n      </g>\n     </g>\n     <g id=\"text_8\">\n      <!-- 150 -->\n      <g transform=\"translate(7.2 56.904095) scale(0.1 -0.1)\">\n       <defs>\n        <path id=\"MicrosoftYaHei-35\" d=\"M 3294 1494 \nQ 3294 784 2823 350 \nQ 2353 -84 1559 -84 \nQ 878 -84 544 119 \nL 544 744 \nQ 1034 425 1544 425 \nQ 2050 425 2361 704 \nQ 2672 984 2672 1447 \nQ 2672 1909 2348 2167 \nQ 2025 2425 1434 2425 \nQ 978 2425 613 2384 \nL 791 4841 \nL 3053 4841 \nL 3053 4303 \nL 1306 4303 \nL 1206 2931 \nL 1647 2950 \nQ 2416 2950 2855 2567 \nQ 3294 2184 3294 1494 \nz\n\" transform=\"scale(0.015625)\"/>\n       </defs>\n       <use xlink:href=\"#MicrosoftYaHei-31\"/>\n       <use xlink:href=\"#MicrosoftYaHei-35\" transform=\"translate(58.642578 0)\"/>\n       <use xlink:href=\"#MicrosoftYaHei-30\" transform=\"translate(117.285156 0)\"/>\n      </g>\n     </g>\n    </g>\n    <g id=\"ytick_7\">\n     <g id=\"line2d_9\">\n      <g>\n       <use xlink:href=\"#me2205ef1aa\" x=\"31.792188\" y=\"11.196875\" style=\"stroke: #000000; stroke-width: 0.8\"/>\n      </g>\n     </g>\n     <g id=\"text_9\">\n      <!-- 160 -->\n      <g transform=\"translate(7.2 15.19375) scale(0.1 -0.1)\">\n       <defs>\n        <path id=\"MicrosoftYaHei-36\" d=\"M 3181 4219 \nQ 2803 4413 2391 4413 \nQ 1763 4413 1381 3866 \nQ 1000 3319 994 2372 \nL 1009 2372 \nQ 1353 3038 2106 3038 \nQ 2734 3038 3109 2628 \nQ 3484 2219 3484 1541 \nQ 3484 831 3051 375 \nQ 2619 -81 1947 -81 \nQ 1209 -81 789 495 \nQ 369 1072 369 2131 \nQ 369 3413 920 4167 \nQ 1472 4922 2372 4922 \nQ 2888 4922 3181 4781 \nL 3181 4219 \nz\nM 1031 1584 \nQ 1031 1106 1286 765 \nQ 1541 425 1963 425 \nQ 2363 425 2613 719 \nQ 2863 1013 2863 1475 \nQ 2863 1975 2627 2253 \nQ 2391 2531 1956 2531 \nQ 1544 2531 1287 2250 \nQ 1031 1969 1031 1584 \nz\n\" transform=\"scale(0.015625)\"/>\n       </defs>\n       <use xlink:href=\"#MicrosoftYaHei-31\"/>\n       <use xlink:href=\"#MicrosoftYaHei-36\" transform=\"translate(58.642578 0)\"/>\n       <use xlink:href=\"#MicrosoftYaHei-30\" transform=\"translate(117.285156 0)\"/>\n      </g>\n     </g>\n    </g>\n   </g>\n   <g id=\"line2d_10\">\n    <path d=\"M 107.680188 199.936185 \nL 134.464188 199.936185 \nL 134.464188 120.68653 \nL 107.680188 120.68653 \nL 107.680188 199.936185 \n\" clip-path=\"url(#pec46cfcfc6)\" style=\"fill: none; stroke: #1f77b4; stroke-linecap: square\"/>\n   </g>\n   <g id=\"line2d_11\">\n    <path d=\"M 121.072188 199.936185 \nL 121.072188 261.458944 \n\" clip-path=\"url(#pec46cfcfc6)\" style=\"fill: none; stroke: #1f77b4; stroke-linecap: square\"/>\n   </g>\n   <g id=\"line2d_12\">\n    <path d=\"M 121.072188 120.68653 \nL 121.072188 52.90722 \n\" clip-path=\"url(#pec46cfcfc6)\" style=\"fill: none; stroke: #1f77b4; stroke-linecap: square\"/>\n   </g>\n   <g id=\"line2d_13\">\n    <path d=\"M 114.376188 261.458944 \nL 127.768188 261.458944 \n\" clip-path=\"url(#pec46cfcfc6)\" style=\"fill: none; stroke: #1f77b4; stroke-linecap: square\"/>\n   </g>\n   <g id=\"line2d_14\">\n    <path d=\"M 114.376188 52.90722 \nL 127.768188 52.90722 \n\" clip-path=\"url(#pec46cfcfc6)\" style=\"fill: none; stroke: #1f77b4; stroke-linecap: square\"/>\n   </g>\n   <g id=\"line2d_15\"/>\n   <g id=\"line2d_16\">\n    <path d=\"M 286.240188 146.755496 \nL 313.024188 146.755496 \nL 313.024188 72.719634 \nL 286.240188 72.719634 \nL 286.240188 146.755496 \n\" clip-path=\"url(#pec46cfcfc6)\" style=\"fill: none; stroke: #1f77b4; stroke-linecap: square\"/>\n   </g>\n   <g id=\"line2d_17\">\n    <path d=\"M 299.632187 146.755496 \nL 299.632187 186.380323 \n\" clip-path=\"url(#pec46cfcfc6)\" style=\"fill: none; stroke: #1f77b4; stroke-linecap: square\"/>\n   </g>\n   <g id=\"line2d_18\">\n    <path d=\"M 299.632187 72.719634 \nL 299.632187 19.538944 \n\" clip-path=\"url(#pec46cfcfc6)\" style=\"fill: none; stroke: #1f77b4; stroke-linecap: square\"/>\n   </g>\n   <g id=\"line2d_19\">\n    <path d=\"M 292.936187 186.380323 \nL 306.328188 186.380323 \n\" clip-path=\"url(#pec46cfcfc6)\" style=\"fill: none; stroke: #1f77b4; stroke-linecap: square\"/>\n   </g>\n   <g id=\"line2d_20\">\n    <path d=\"M 292.936187 19.538944 \nL 306.328188 19.538944 \n\" clip-path=\"url(#pec46cfcfc6)\" style=\"fill: none; stroke: #1f77b4; stroke-linecap: square\"/>\n   </g>\n   <g id=\"line2d_21\"/>\n   <g id=\"line2d_22\">\n    <path d=\"M 107.680188 155.097565 \nL 134.464188 155.097565 \n\" clip-path=\"url(#pec46cfcfc6)\" style=\"fill: none; stroke: #2ca02c\"/>\n   </g>\n   <g id=\"line2d_23\">\n    <path d=\"M 286.240188 102.959634 \nL 313.024188 102.959634 \n\" clip-path=\"url(#pec46cfcfc6)\" style=\"fill: none; stroke: #2ca02c\"/>\n   </g>\n   <g id=\"patch_3\">\n    <path d=\"M 31.792188 273.554944 \nL 31.792188 7.442944 \n\" style=\"fill: none; stroke: #000000; stroke-width: 0.8; stroke-linejoin: miter; stroke-linecap: square\"/>\n   </g>\n   <g id=\"patch_4\">\n    <path d=\"M 388.912188 273.554944 \nL 388.912188 7.442944 \n\" style=\"fill: none; stroke: #000000; stroke-width: 0.8; stroke-linejoin: miter; stroke-linecap: square\"/>\n   </g>\n   <g id=\"patch_5\">\n    <path d=\"M 31.792188 273.554944 \nL 388.912187 273.554944 \n\" style=\"fill: none; stroke: #000000; stroke-width: 0.8; stroke-linejoin: miter; stroke-linecap: square\"/>\n   </g>\n   <g id=\"patch_6\">\n    <path d=\"M 31.792188 7.442944 \nL 388.912187 7.442944 \n\" style=\"fill: none; stroke: #000000; stroke-width: 0.8; stroke-linejoin: miter; stroke-linecap: square\"/>\n   </g>\n  </g>\n </g>\n <defs>\n  <clipPath id=\"pec46cfcfc6\">\n   <rect x=\"31.792188\" y=\"7.442944\" width=\"357.12\" height=\"266.112\"/>\n  </clipPath>\n </defs>\n</svg>\n"
     },
     "metadata": {},
     "output_type": "display_data"
    }
   ],
   "execution_count": 6
  },
  {
   "metadata": {
    "ExecuteTime": {
     "end_time": "2025-05-04T10:01:51.239703Z",
     "start_time": "2025-05-04T10:01:51.234302Z"
    }
   },
   "cell_type": "code",
   "source": [
    "#验证s1服从正态分布\n",
    "stats.normaltest(df[\"治疗前\"])"
   ],
   "id": "2058150df211bd8",
   "outputs": [
    {
     "name": "stderr",
     "output_type": "stream",
     "text": [
      "C:\\Program Files\\Python311\\Lib\\site-packages\\scipy\\stats\\_axis_nan_policy.py:430: UserWarning: `kurtosistest` p-value may be inaccurate with fewer than 20 observations; only n=10 observations were given.\n",
      "  return hypotest_fun_in(*args, **kwds)\n"
     ]
    },
    {
     "data": {
      "text/plain": [
       "NormaltestResult(statistic=0.1532873294544001, pvalue=0.9262198396093975)"
      ]
     },
     "execution_count": 10,
     "metadata": {},
     "output_type": "execute_result"
    }
   ],
   "execution_count": 10
  },
  {
   "metadata": {
    "ExecuteTime": {
     "end_time": "2025-05-04T10:02:02.098562Z",
     "start_time": "2025-05-04T10:02:02.094226Z"
    }
   },
   "cell_type": "code",
   "source": [
    "#验证s2服从正态分布\n",
    "stats.normaltest(df[\"治疗后\"])"
   ],
   "id": "b74a1abc6aba5500",
   "outputs": [
    {
     "name": "stderr",
     "output_type": "stream",
     "text": [
      "C:\\Program Files\\Python311\\Lib\\site-packages\\scipy\\stats\\_axis_nan_policy.py:430: UserWarning: `kurtosistest` p-value may be inaccurate with fewer than 20 observations; only n=10 observations were given.\n",
      "  return hypotest_fun_in(*args, **kwds)\n"
     ]
    },
    {
     "data": {
      "text/plain": [
       "NormaltestResult(statistic=0.18828904445294686, pvalue=0.9101512156551792)"
      ]
     },
     "execution_count": 11,
     "metadata": {},
     "output_type": "execute_result"
    }
   ],
   "execution_count": 11
  },
  {
   "metadata": {
    "ExecuteTime": {
     "end_time": "2025-05-04T10:03:42.657989Z",
     "start_time": "2025-05-04T10:03:42.653565Z"
    }
   },
   "cell_type": "code",
   "source": [
    "#验证s1和s2的方差齐性\n",
    "stats.bartlett(df[\"治疗前\"],df[\"治疗后\"])"
   ],
   "id": "98f7250673704260",
   "outputs": [
    {
     "data": {
      "text/plain": [
       "BartlettResult(statistic=0.7834023219983645, pvalue=0.3761026044135001)"
      ]
     },
     "execution_count": 12,
     "metadata": {},
     "output_type": "execute_result"
    }
   ],
   "execution_count": 12
  },
  {
   "metadata": {
    "ExecuteTime": {
     "end_time": "2025-05-04T10:11:33.238185Z",
     "start_time": "2025-05-04T10:11:33.233571Z"
    }
   },
   "cell_type": "code",
   "source": "stats.ttest_rel(df[\"治疗前\"],df[\"治疗后\"], alternative=\"less\")",
   "id": "26d6b4a14d9271d3",
   "outputs": [
    {
     "data": {
      "text/plain": [
       "TtestResult(statistic=-2.6655935666181687, pvalue=0.012904067416478928, df=9)"
      ]
     },
     "execution_count": 16,
     "metadata": {},
     "output_type": "execute_result"
    }
   ],
   "execution_count": 16
  },
  {
   "metadata": {},
   "cell_type": "code",
   "outputs": [],
   "execution_count": null,
   "source": "",
   "id": "d0dfb924354aabe8"
  }
 ],
 "metadata": {
  "kernelspec": {
   "display_name": "Python 3 (ipykernel)",
   "language": "python",
   "name": "python3"
  },
  "language_info": {
   "codemirror_mode": {
    "name": "ipython",
    "version": 3
   },
   "file_extension": ".py",
   "mimetype": "text/x-python",
   "name": "python",
   "nbconvert_exporter": "python",
   "pygments_lexer": "ipython3",
   "version": "3.12.6"
  }
 },
 "nbformat": 4,
 "nbformat_minor": 5
}
