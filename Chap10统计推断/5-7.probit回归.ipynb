{
 "cells": [
  {
   "cell_type": "code",
   "execution_count": 5,
   "id": "1bbc1513-c0e2-4483-a732-09cdf003cfe4",
   "metadata": {
    "ExecuteTime": {
     "end_time": "2025-05-05T03:27:51.187075Z",
     "start_time": "2025-05-05T03:27:51.182431Z"
    }
   },
   "outputs": [],
   "source": [
    "import matplotlib.pyplot as plt\n",
    "import matplotlib as mpl\n",
    "\n",
    "#使用中文字体\n",
    "mpl.rcParams['font.family']=['Microsoft Yahei','sans-serif']\n",
    "mpl.rcParams['axes.unicode_minus']=False\n",
    "\n",
    "#使用svg格式，避免图形模糊\n",
    "%matplotlib inline\n",
    "%config InlineBackend.figure_format=\"svg\""
   ]
  },
  {
   "cell_type": "code",
   "execution_count": 6,
   "id": "f18e050c-42ff-47cc-9377-c82580f61be1",
   "metadata": {
    "ExecuteTime": {
     "end_time": "2025-05-05T03:27:51.220054Z",
     "start_time": "2025-05-05T03:27:51.209612Z"
    }
   },
   "outputs": [
    {
     "data": {
      "text/html": [
       "<div>\n",
       "<style scoped>\n",
       "    .dataframe tbody tr th:only-of-type {\n",
       "        vertical-align: middle;\n",
       "    }\n",
       "\n",
       "    .dataframe tbody tr th {\n",
       "        vertical-align: top;\n",
       "    }\n",
       "\n",
       "    .dataframe thead th {\n",
       "        text-align: right;\n",
       "    }\n",
       "</style>\n",
       "<table border=\"1\" class=\"dataframe\">\n",
       "  <thead>\n",
       "    <tr style=\"text-align: right;\">\n",
       "      <th></th>\n",
       "      <th>default</th>\n",
       "      <th>student</th>\n",
       "      <th>balance</th>\n",
       "      <th>income</th>\n",
       "    </tr>\n",
       "    <tr>\n",
       "      <th>no</th>\n",
       "      <th></th>\n",
       "      <th></th>\n",
       "      <th></th>\n",
       "      <th></th>\n",
       "    </tr>\n",
       "  </thead>\n",
       "  <tbody>\n",
       "    <tr>\n",
       "      <th>1</th>\n",
       "      <td>No</td>\n",
       "      <td>No</td>\n",
       "      <td>729.526495</td>\n",
       "      <td>44361.625074</td>\n",
       "    </tr>\n",
       "    <tr>\n",
       "      <th>2</th>\n",
       "      <td>No</td>\n",
       "      <td>Yes</td>\n",
       "      <td>817.180407</td>\n",
       "      <td>12106.134700</td>\n",
       "    </tr>\n",
       "    <tr>\n",
       "      <th>3</th>\n",
       "      <td>No</td>\n",
       "      <td>No</td>\n",
       "      <td>1073.549164</td>\n",
       "      <td>31767.138947</td>\n",
       "    </tr>\n",
       "    <tr>\n",
       "      <th>4</th>\n",
       "      <td>No</td>\n",
       "      <td>No</td>\n",
       "      <td>529.250605</td>\n",
       "      <td>35704.493935</td>\n",
       "    </tr>\n",
       "    <tr>\n",
       "      <th>5</th>\n",
       "      <td>No</td>\n",
       "      <td>No</td>\n",
       "      <td>785.655883</td>\n",
       "      <td>38463.495879</td>\n",
       "    </tr>\n",
       "  </tbody>\n",
       "</table>\n",
       "</div>"
      ],
      "text/plain": [
       "   default student      balance        income\n",
       "no                                           \n",
       "1       No      No   729.526495  44361.625074\n",
       "2       No     Yes   817.180407  12106.134700\n",
       "3       No      No  1073.549164  31767.138947\n",
       "4       No      No   529.250605  35704.493935\n",
       "5       No      No   785.655883  38463.495879"
      ]
     },
     "execution_count": 6,
     "metadata": {},
     "output_type": "execute_result"
    }
   ],
   "source": [
    "import pandas as pd\n",
    "df=pd.read_csv(\"default.csv\",index_col=\"no\")\n",
    "df.head()"
   ]
  },
  {
   "cell_type": "code",
   "execution_count": 7,
   "id": "95df6d21-3850-4a7f-bfdd-230089bbadb6",
   "metadata": {
    "ExecuteTime": {
     "end_time": "2025-05-05T03:27:51.254192Z",
     "start_time": "2025-05-05T03:27:51.249454Z"
    }
   },
   "outputs": [
    {
     "data": {
      "text/plain": [
       "no\n",
       "1         No\n",
       "2        Yes\n",
       "3         No\n",
       "4         No\n",
       "5         No\n",
       "        ... \n",
       "9996      No\n",
       "9997      No\n",
       "9998      No\n",
       "9999      No\n",
       "10000    Yes\n",
       "Name: student, Length: 10000, dtype: category\n",
       "Categories (2, object): ['No', 'Yes']"
      ]
     },
     "execution_count": 7,
     "metadata": {},
     "output_type": "execute_result"
    }
   ],
   "source": [
    "df[\"student\"].astype(\"category\")"
   ]
  },
  {
   "cell_type": "code",
   "execution_count": 8,
   "id": "c39b7558-72b3-4acf-b084-27834820b41d",
   "metadata": {
    "ExecuteTime": {
     "end_time": "2025-05-05T03:27:51.296279Z",
     "start_time": "2025-05-05T03:27:51.291337Z"
    }
   },
   "outputs": [
    {
     "data": {
      "text/plain": [
       "no\n",
       "1        No\n",
       "2        No\n",
       "3        No\n",
       "4        No\n",
       "5        No\n",
       "         ..\n",
       "9996     No\n",
       "9997     No\n",
       "9998     No\n",
       "9999     No\n",
       "10000    No\n",
       "Name: default, Length: 10000, dtype: category\n",
       "Categories (2, object): ['No', 'Yes']"
      ]
     },
     "execution_count": 8,
     "metadata": {},
     "output_type": "execute_result"
    }
   ],
   "source": [
    "df[\"default\"].astype(\"category\")"
   ]
  },
  {
   "cell_type": "code",
   "execution_count": 9,
   "id": "f917ad23-eb91-4647-bb42-7cd0d1d5810b",
   "metadata": {
    "ExecuteTime": {
     "end_time": "2025-05-05T03:27:51.369373Z",
     "start_time": "2025-05-05T03:27:51.362966Z"
    }
   },
   "outputs": [
    {
     "data": {
      "text/html": [
       "<div>\n",
       "<style scoped>\n",
       "    .dataframe tbody tr th:only-of-type {\n",
       "        vertical-align: middle;\n",
       "    }\n",
       "\n",
       "    .dataframe tbody tr th {\n",
       "        vertical-align: top;\n",
       "    }\n",
       "\n",
       "    .dataframe thead th {\n",
       "        text-align: right;\n",
       "    }\n",
       "</style>\n",
       "<table border=\"1\" class=\"dataframe\">\n",
       "  <thead>\n",
       "    <tr style=\"text-align: right;\">\n",
       "      <th></th>\n",
       "      <th>default</th>\n",
       "      <th>student</th>\n",
       "      <th>balance</th>\n",
       "      <th>income</th>\n",
       "    </tr>\n",
       "    <tr>\n",
       "      <th>no</th>\n",
       "      <th></th>\n",
       "      <th></th>\n",
       "      <th></th>\n",
       "      <th></th>\n",
       "    </tr>\n",
       "  </thead>\n",
       "  <tbody>\n",
       "    <tr>\n",
       "      <th>1</th>\n",
       "      <td>0</td>\n",
       "      <td>No</td>\n",
       "      <td>729.526495</td>\n",
       "      <td>44361.625074</td>\n",
       "    </tr>\n",
       "    <tr>\n",
       "      <th>2</th>\n",
       "      <td>0</td>\n",
       "      <td>Yes</td>\n",
       "      <td>817.180407</td>\n",
       "      <td>12106.134700</td>\n",
       "    </tr>\n",
       "    <tr>\n",
       "      <th>3</th>\n",
       "      <td>0</td>\n",
       "      <td>No</td>\n",
       "      <td>1073.549164</td>\n",
       "      <td>31767.138947</td>\n",
       "    </tr>\n",
       "    <tr>\n",
       "      <th>4</th>\n",
       "      <td>0</td>\n",
       "      <td>No</td>\n",
       "      <td>529.250605</td>\n",
       "      <td>35704.493935</td>\n",
       "    </tr>\n",
       "    <tr>\n",
       "      <th>5</th>\n",
       "      <td>0</td>\n",
       "      <td>No</td>\n",
       "      <td>785.655883</td>\n",
       "      <td>38463.495879</td>\n",
       "    </tr>\n",
       "    <tr>\n",
       "      <th>...</th>\n",
       "      <td>...</td>\n",
       "      <td>...</td>\n",
       "      <td>...</td>\n",
       "      <td>...</td>\n",
       "    </tr>\n",
       "    <tr>\n",
       "      <th>9996</th>\n",
       "      <td>0</td>\n",
       "      <td>No</td>\n",
       "      <td>711.555020</td>\n",
       "      <td>52992.378914</td>\n",
       "    </tr>\n",
       "    <tr>\n",
       "      <th>9997</th>\n",
       "      <td>0</td>\n",
       "      <td>No</td>\n",
       "      <td>757.962918</td>\n",
       "      <td>19660.721768</td>\n",
       "    </tr>\n",
       "    <tr>\n",
       "      <th>9998</th>\n",
       "      <td>0</td>\n",
       "      <td>No</td>\n",
       "      <td>845.411989</td>\n",
       "      <td>58636.156984</td>\n",
       "    </tr>\n",
       "    <tr>\n",
       "      <th>9999</th>\n",
       "      <td>0</td>\n",
       "      <td>No</td>\n",
       "      <td>1569.009053</td>\n",
       "      <td>36669.112365</td>\n",
       "    </tr>\n",
       "    <tr>\n",
       "      <th>10000</th>\n",
       "      <td>0</td>\n",
       "      <td>Yes</td>\n",
       "      <td>200.922183</td>\n",
       "      <td>16862.952321</td>\n",
       "    </tr>\n",
       "  </tbody>\n",
       "</table>\n",
       "<p>10000 rows × 4 columns</p>\n",
       "</div>"
      ],
      "text/plain": [
       "       default student      balance        income\n",
       "no                                               \n",
       "1            0      No   729.526495  44361.625074\n",
       "2            0     Yes   817.180407  12106.134700\n",
       "3            0      No  1073.549164  31767.138947\n",
       "4            0      No   529.250605  35704.493935\n",
       "5            0      No   785.655883  38463.495879\n",
       "...        ...     ...          ...           ...\n",
       "9996         0      No   711.555020  52992.378914\n",
       "9997         0      No   757.962918  19660.721768\n",
       "9998         0      No   845.411989  58636.156984\n",
       "9999         0      No  1569.009053  36669.112365\n",
       "10000        0     Yes   200.922183  16862.952321\n",
       "\n",
       "[10000 rows x 4 columns]"
      ]
     },
     "execution_count": 9,
     "metadata": {},
     "output_type": "execute_result"
    }
   ],
   "source": [
    "tmp = (df[\"default\"] == 'Yes')\n",
    "df[\"default\"] = tmp.astype(int)\n",
    "df"
   ]
  },
  {
   "cell_type": "code",
   "execution_count": 10,
   "id": "5171edf0-c2f3-4d23-892e-4d8808426bc5",
   "metadata": {
    "ExecuteTime": {
     "end_time": "2025-05-05T03:27:57.875652Z",
     "start_time": "2025-05-05T03:27:51.429360Z"
    }
   },
   "outputs": [
    {
     "name": "stdout",
     "output_type": "stream",
     "text": [
      "Optimization terminated successfully.\n",
      "         Current function value: 0.079161\n",
      "         Iterations 9\n"
     ]
    },
    {
     "data": {
      "text/html": [
       "<table class=\"simpletable\">\n",
       "<caption>Probit Regression Results</caption>\n",
       "<tr>\n",
       "  <th>Dep. Variable:</th>        <td>default</td>     <th>  No. Observations:  </th>   <td> 10000</td>  \n",
       "</tr>\n",
       "<tr>\n",
       "  <th>Model:</th>                <td>Probit</td>      <th>  Df Residuals:      </th>   <td>  9996</td>  \n",
       "</tr>\n",
       "<tr>\n",
       "  <th>Method:</th>                 <td>MLE</td>       <th>  Df Model:          </th>   <td>     3</td>  \n",
       "</tr>\n",
       "<tr>\n",
       "  <th>Date:</th>            <td>Mon, 05 May 2025</td> <th>  Pseudo R-squ.:     </th>   <td>0.4579</td>  \n",
       "</tr>\n",
       "<tr>\n",
       "  <th>Time:</th>                <td>11:27:57</td>     <th>  Log-Likelihood:    </th>  <td> -791.61</td> \n",
       "</tr>\n",
       "<tr>\n",
       "  <th>converged:</th>             <td>True</td>       <th>  LL-Null:           </th>  <td> -1460.3</td> \n",
       "</tr>\n",
       "<tr>\n",
       "  <th>Covariance Type:</th>     <td>nonrobust</td>    <th>  LLR p-value:       </th> <td>1.111e-289</td>\n",
       "</tr>\n",
       "</table>\n",
       "<table class=\"simpletable\">\n",
       "<tr>\n",
       "          <td></td>             <th>coef</th>     <th>std err</th>      <th>z</th>      <th>P>|z|</th>  <th>[0.025</th>    <th>0.975]</th>  \n",
       "</tr>\n",
       "<tr>\n",
       "  <th>Intercept</th>         <td>   -5.4754</td> <td>    0.238</td> <td>  -23.040</td> <td> 0.000</td> <td>   -5.941</td> <td>   -5.010</td>\n",
       "</tr>\n",
       "<tr>\n",
       "  <th>C(student)[T.Yes]</th> <td>   -0.2960</td> <td>    0.119</td> <td>   -2.495</td> <td> 0.013</td> <td>   -0.529</td> <td>   -0.063</td>\n",
       "</tr>\n",
       "<tr>\n",
       "  <th>income</th>            <td> 2.101e-06</td> <td> 4.12e-06</td> <td>    0.510</td> <td> 0.610</td> <td>-5.98e-06</td> <td> 1.02e-05</td>\n",
       "</tr>\n",
       "<tr>\n",
       "  <th>balance</th>           <td>    0.0028</td> <td>    0.000</td> <td>   24.975</td> <td> 0.000</td> <td>    0.003</td> <td>    0.003</td>\n",
       "</tr>\n",
       "</table><br/><br/>Possibly complete quasi-separation: A fraction 0.35 of observations can be<br/>perfectly predicted. This might indicate that there is complete<br/>quasi-separation. In this case some parameters will not be identified."
      ],
      "text/latex": [
       "\\begin{center}\n",
       "\\begin{tabular}{lclc}\n",
       "\\toprule\n",
       "\\textbf{Dep. Variable:}    &     default      & \\textbf{  No. Observations:  } &    10000    \\\\\n",
       "\\textbf{Model:}            &      Probit      & \\textbf{  Df Residuals:      } &     9996    \\\\\n",
       "\\textbf{Method:}           &       MLE        & \\textbf{  Df Model:          } &        3    \\\\\n",
       "\\textbf{Date:}             & Mon, 05 May 2025 & \\textbf{  Pseudo R-squ.:     } &   0.4579    \\\\\n",
       "\\textbf{Time:}             &     11:27:57     & \\textbf{  Log-Likelihood:    } &   -791.61   \\\\\n",
       "\\textbf{converged:}        &       True       & \\textbf{  LL-Null:           } &   -1460.3   \\\\\n",
       "\\textbf{Covariance Type:}  &    nonrobust     & \\textbf{  LLR p-value:       } & 1.111e-289  \\\\\n",
       "\\bottomrule\n",
       "\\end{tabular}\n",
       "\\begin{tabular}{lcccccc}\n",
       "                           & \\textbf{coef} & \\textbf{std err} & \\textbf{z} & \\textbf{P$> |$z$|$} & \\textbf{[0.025} & \\textbf{0.975]}  \\\\\n",
       "\\midrule\n",
       "\\textbf{Intercept}         &      -5.4754  &        0.238     &   -23.040  &         0.000        &       -5.941    &       -5.010     \\\\\n",
       "\\textbf{C(student)[T.Yes]} &      -0.2960  &        0.119     &    -2.495  &         0.013        &       -0.529    &       -0.063     \\\\\n",
       "\\textbf{income}            &    2.101e-06  &     4.12e-06     &     0.510  &         0.610        &    -5.98e-06    &     1.02e-05     \\\\\n",
       "\\textbf{balance}           &       0.0028  &        0.000     &    24.975  &         0.000        &        0.003    &        0.003     \\\\\n",
       "\\bottomrule\n",
       "\\end{tabular}\n",
       "%\\caption{Probit Regression Results}\n",
       "\\end{center}\n",
       "\n",
       "Possibly complete quasi-separation: A fraction 0.35 of observations can be \\newline\n",
       " perfectly predicted. This might indicate that there is complete \\newline\n",
       " quasi-separation. In this case some parameters will not be identified."
      ],
      "text/plain": [
       "<class 'statsmodels.iolib.summary.Summary'>\n",
       "\"\"\"\n",
       "                          Probit Regression Results                           \n",
       "==============================================================================\n",
       "Dep. Variable:                default   No. Observations:                10000\n",
       "Model:                         Probit   Df Residuals:                     9996\n",
       "Method:                           MLE   Df Model:                            3\n",
       "Date:                Mon, 05 May 2025   Pseudo R-squ.:                  0.4579\n",
       "Time:                        11:27:57   Log-Likelihood:                -791.61\n",
       "converged:                       True   LL-Null:                       -1460.3\n",
       "Covariance Type:            nonrobust   LLR p-value:                1.111e-289\n",
       "=====================================================================================\n",
       "                        coef    std err          z      P>|z|      [0.025      0.975]\n",
       "-------------------------------------------------------------------------------------\n",
       "Intercept            -5.4754      0.238    -23.040      0.000      -5.941      -5.010\n",
       "C(student)[T.Yes]    -0.2960      0.119     -2.495      0.013      -0.529      -0.063\n",
       "income             2.101e-06   4.12e-06      0.510      0.610   -5.98e-06    1.02e-05\n",
       "balance               0.0028      0.000     24.975      0.000       0.003       0.003\n",
       "=====================================================================================\n",
       "\n",
       "Possibly complete quasi-separation: A fraction 0.35 of observations can be\n",
       "perfectly predicted. This might indicate that there is complete\n",
       "quasi-separation. In this case some parameters will not be identified.\n",
       "\"\"\""
      ]
     },
     "execution_count": 10,
     "metadata": {},
     "output_type": "execute_result"
    }
   ],
   "source": [
    "from statsmodels.formula.api import probit\n",
    "model = probit(\"default ~ C(student) + income + balance\", data=df)\n",
    "lm = model.fit()\n",
    "lm.summary()"
   ]
  }
 ],
 "metadata": {
  "kernelspec": {
   "display_name": "Python 3 (ipykernel)",
   "language": "python",
   "name": "python3"
  },
  "language_info": {
   "codemirror_mode": {
    "name": "ipython",
    "version": 3
   },
   "file_extension": ".py",
   "mimetype": "text/x-python",
   "name": "python",
   "nbconvert_exporter": "python",
   "pygments_lexer": "ipython3",
   "version": "3.12.6"
  }
 },
 "nbformat": 4,
 "nbformat_minor": 5
}
