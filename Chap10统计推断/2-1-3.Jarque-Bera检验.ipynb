{
 "cells": [
  {
   "cell_type": "code",
   "id": "initial_id",
   "metadata": {
    "collapsed": true,
    "ExecuteTime": {
     "end_time": "2025-05-04T01:34:10.790400Z",
     "start_time": "2025-05-04T01:34:10.319815Z"
    }
   },
   "source": [
    "import numpy as np\n",
    "import scipy.stats as stats\n",
    "\n",
    "#s1来自均匀分布\n",
    "s1=np.random.uniform(0,100,1000)\n",
    "#s2来自正态分布\n",
    "s2=np.random.normal(0,1,1000)"
   ],
   "outputs": [],
   "execution_count": 1
  },
  {
   "metadata": {
    "ExecuteTime": {
     "end_time": "2025-05-04T01:34:10.801530Z",
     "start_time": "2025-05-04T01:34:10.795676Z"
    }
   },
   "cell_type": "code",
   "source": "stats.jarque_bera(s1)",
   "id": "54eb2b58ec3ca764",
   "outputs": [
    {
     "data": {
      "text/plain": [
       "SignificanceResult(statistic=55.73473460651501, pvalue=7.895073091912662e-13)"
      ]
     },
     "execution_count": 2,
     "metadata": {},
     "output_type": "execute_result"
    }
   ],
   "execution_count": 2
  },
  {
   "metadata": {
    "ExecuteTime": {
     "end_time": "2025-05-04T01:34:12.511602Z",
     "start_time": "2025-05-04T01:34:12.507573Z"
    }
   },
   "cell_type": "code",
   "source": "stats.jarque_bera(s2)",
   "id": "79bb9497b0af1b0c",
   "outputs": [
    {
     "data": {
      "text/plain": [
       "SignificanceResult(statistic=2.267543948040231, pvalue=0.32181707850910074)"
      ]
     },
     "execution_count": 3,
     "metadata": {},
     "output_type": "execute_result"
    }
   ],
   "execution_count": 3
  },
  {
   "metadata": {},
   "cell_type": "code",
   "outputs": [],
   "execution_count": null,
   "source": "",
   "id": "a07eb5ea90903116"
  }
 ],
 "metadata": {
  "kernelspec": {
   "display_name": "Python 3",
   "language": "python",
   "name": "python3"
  },
  "language_info": {
   "codemirror_mode": {
    "name": "ipython",
    "version": 2
   },
   "file_extension": ".py",
   "mimetype": "text/x-python",
   "name": "python",
   "nbconvert_exporter": "python",
   "pygments_lexer": "ipython2",
   "version": "2.7.6"
  }
 },
 "nbformat": 4,
 "nbformat_minor": 5
}
