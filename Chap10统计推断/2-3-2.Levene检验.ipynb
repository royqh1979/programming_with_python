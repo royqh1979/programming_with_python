{
 "cells": [
  {
   "cell_type": "code",
   "id": "initial_id",
   "metadata": {
    "collapsed": true,
    "ExecuteTime": {
     "end_time": "2025-05-04T02:05:15.417073Z",
     "start_time": "2025-05-04T02:05:14.939959Z"
    }
   },
   "source": [
    "import numpy as np\n",
    "import scipy.stats as stats\n",
    "\n",
    "s1=np.random.normal(0,1,1000)\n",
    "s2=np.random.normal(0,2,1000)\n",
    "s3=np.random.normal(0,1,2000)"
   ],
   "outputs": [],
   "execution_count": 1
  },
  {
   "metadata": {
    "ExecuteTime": {
     "end_time": "2025-05-04T02:05:24.397233Z",
     "start_time": "2025-05-04T02:05:24.391122Z"
    }
   },
   "cell_type": "code",
   "source": "stats.levene(s1,s2)",
   "id": "54eb2b58ec3ca764",
   "outputs": [
    {
     "data": {
      "text/plain": [
       "LeveneResult(statistic=365.8882348449781, pvalue=4.978810763770107e-75)"
      ]
     },
     "execution_count": 2,
     "metadata": {},
     "output_type": "execute_result"
    }
   ],
   "execution_count": 2
  },
  {
   "metadata": {
    "ExecuteTime": {
     "end_time": "2025-05-04T02:05:30.109731Z",
     "start_time": "2025-05-04T02:05:30.104740Z"
    }
   },
   "cell_type": "code",
   "source": "stats.levene(s1,s3)",
   "id": "79bb9497b0af1b0c",
   "outputs": [
    {
     "data": {
      "text/plain": [
       "LeveneResult(statistic=0.6842159774596897, pvalue=0.4082045686735646)"
      ]
     },
     "execution_count": 3,
     "metadata": {},
     "output_type": "execute_result"
    }
   ],
   "execution_count": 3
  },
  {
   "metadata": {},
   "cell_type": "code",
   "outputs": [],
   "execution_count": null,
   "source": "",
   "id": "a07eb5ea90903116"
  }
 ],
 "metadata": {
  "kernelspec": {
   "display_name": "Python 3",
   "language": "python",
   "name": "python3"
  },
  "language_info": {
   "codemirror_mode": {
    "name": "ipython",
    "version": 2
   },
   "file_extension": ".py",
   "mimetype": "text/x-python",
   "name": "python",
   "nbconvert_exporter": "python",
   "pygments_lexer": "ipython2",
   "version": "2.7.6"
  }
 },
 "nbformat": 4,
 "nbformat_minor": 5
}
