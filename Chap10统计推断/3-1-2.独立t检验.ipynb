{
 "cells": [
  {
   "cell_type": "code",
   "id": "bc60cd31-3856-48d0-8e93-ea79b1d15227",
   "metadata": {
    "ExecuteTime": {
     "end_time": "2025-05-04T09:36:01.500445Z",
     "start_time": "2025-05-04T09:35:58.152417Z"
    }
   },
   "source": [
    "import numpy as np\n",
    "import pandas as pd\n",
    "import scipy.stats as stats\n",
    "#导入pyplot模块\n",
    "import matplotlib.pyplot as plt\n",
    "\n",
    "#使用中文字体\n",
    "import matplotlib as mpl\n",
    "mpl.rcParams['font.family']=['Microsoft Yahei', 'sans-serif']\n",
    "mpl.rcParams['axes.unicode_minus']=False\n",
    "\n",
    "#使用svg格式，避免图形模糊\n",
    "#自动显示图形\n",
    "%matplotlib inline\n",
    "%config InlineBackend.figure_format=\"svg\""
   ],
   "outputs": [],
   "execution_count": 14
  },
  {
   "cell_type": "code",
   "id": "a480274a-46da-4cac-8e31-871d9693148f",
   "metadata": {
    "ExecuteTime": {
     "end_time": "2025-05-04T09:36:02.231474Z",
     "start_time": "2025-05-04T09:36:02.227502Z"
    }
   },
   "source": [
    "#数据准备\n",
    "s1=[4.4,5.1,5.2,6.1,3.9,4.2,4.3,4.6,5.2,4.1,4.3,3.5,3.9,4.4,5.7,4.3,6.4,4.4,3.0,5.0]\n",
    "s2=[6.1,5.7,7.4,4.7,5.4,4.5,6.6,7.2,5.2,5.5,4.6,5.1,6.5,5.6,4.3,5.9,7.2,5.7]\n"
   ],
   "outputs": [],
   "execution_count": 15
  },
  {
   "metadata": {
    "ExecuteTime": {
     "end_time": "2025-05-04T09:36:03.165639Z",
     "start_time": "2025-05-04T09:36:03.114333Z"
    }
   },
   "cell_type": "code",
   "source": [
    "plt.boxplot([s1,s2])\n",
    "plt.xticks([1,2],[\"健康人\",\"冠心病人\"])\n",
    "plt.show()"
   ],
   "id": "32a19607eacd72e3",
   "outputs": [
    {
     "data": {
      "text/plain": [
       "<Figure size 640x480 with 1 Axes>"
      ],
      "image/svg+xml": "<?xml version=\"1.0\" encoding=\"utf-8\" standalone=\"no\"?>\n<!DOCTYPE svg PUBLIC \"-//W3C//DTD SVG 1.1//EN\"\n  \"http://www.w3.org/Graphics/SVG/1.1/DTD/svg11.dtd\">\n<svg xmlns:xlink=\"http://www.w3.org/1999/xlink\" width=\"384.384062pt\" height=\"297.991687pt\" viewBox=\"0 0 384.384062 297.991687\" xmlns=\"http://www.w3.org/2000/svg\" version=\"1.1\">\n <metadata>\n  <rdf:RDF xmlns:dc=\"http://purl.org/dc/elements/1.1/\" xmlns:cc=\"http://creativecommons.org/ns#\" xmlns:rdf=\"http://www.w3.org/1999/02/22-rdf-syntax-ns#\">\n   <cc:Work>\n    <dc:type rdf:resource=\"http://purl.org/dc/dcmitype/StillImage\"/>\n    <dc:date>2025-05-04T17:36:03.151265</dc:date>\n    <dc:format>image/svg+xml</dc:format>\n    <dc:creator>\n     <cc:Agent>\n      <dc:title>Matplotlib v3.10.1, https://matplotlib.org/</dc:title>\n     </cc:Agent>\n    </dc:creator>\n   </cc:Work>\n  </rdf:RDF>\n </metadata>\n <defs>\n  <style type=\"text/css\">*{stroke-linejoin: round; stroke-linecap: butt}</style>\n </defs>\n <g id=\"figure_1\">\n  <g id=\"patch_1\">\n   <path d=\"M 0 297.991687 \nL 384.384062 297.991687 \nL 384.384062 0 \nL 0 0 \nz\n\" style=\"fill: #ffffff\"/>\n  </g>\n  <g id=\"axes_1\">\n   <g id=\"patch_2\">\n    <path d=\"M 20.064062 273.312 \nL 377.184063 273.312 \nL 377.184063 7.2 \nL 20.064062 7.2 \nz\n\" style=\"fill: #ffffff\"/>\n   </g>\n   <g id=\"matplotlib.axis_1\">\n    <g id=\"xtick_1\">\n     <g id=\"line2d_1\">\n      <defs>\n       <path id=\"med35d2d7b5\" d=\"M 0 0 \nL 0 3.5 \n\" style=\"stroke: #000000; stroke-width: 0.8\"/>\n      </defs>\n      <g>\n       <use xlink:href=\"#med35d2d7b5\" x=\"109.344063\" y=\"273.312\" style=\"stroke: #000000; stroke-width: 0.8\"/>\n      </g>\n     </g>\n     <g id=\"text_1\">\n      <!-- 健康人 -->\n      <g transform=\"translate(94.344063 288.30575) scale(0.1 -0.1)\">\n       <defs>\n        <path id=\"MicrosoftYaHei-5065\" d=\"M 3069 997 \nL 4194 997 \nL 4194 1547 \nL 3213 1547 \nL 3213 1897 \nL 4194 1897 \nL 4194 2447 \nL 3300 2447 \nL 3300 2797 \nL 4194 2797 \nL 4194 3341 \nL 2988 3341 \nL 2988 3703 \nL 4194 3703 \nL 4194 4247 \nL 3313 4247 \nL 3313 4597 \nL 4194 4597 \nL 4194 5247 \nL 4619 5247 \nL 4619 4597 \nL 5744 4597 \nL 5744 3703 \nL 6263 3703 \nL 6263 3341 \nL 5744 3341 \nL 5744 2297 \nL 5325 2297 \nL 5325 2447 \nL 4619 2447 \nL 4619 1897 \nL 5850 1897 \nL 5850 1547 \nL 4619 1547 \nL 4619 997 \nL 5944 997 \nL 5944 647 \nL 4619 647 \nL 4619 -3 \nL 4194 -3 \nL 4194 647 \nL 3069 647 \nL 3069 997 \nz\nM 1850 1959 \nQ 1994 1297 2281 841 \nQ 2556 1534 2569 2372 \nL 1638 2372 \nL 1638 2784 \nL 2500 4222 \nL 1675 4222 \nL 1675 4622 \nL 3000 4622 \nL 3000 4216 \nL 2131 2772 \nL 3000 2772 \nL 3000 2341 \nQ 2975 1297 2594 447 \nQ 3263 -216 4431 -178 \nQ 5338 -191 6319 -141 \nQ 6225 -378 6125 -641 \nQ 5263 -641 4381 -628 \nQ 3125 -647 2381 34 \nQ 2100 -447 1688 -866 \nQ 1513 -659 1356 -522 \nQ 1788 -103 2069 391 \nQ 1663 947 1481 1803 \nL 1850 1959 \nz\nM 56 2259 \nQ 869 3603 1225 5291 \nL 1656 5184 \nQ 1488 4416 1225 3709 \nL 1225 -816 \nL 813 -816 \nL 813 2753 \nQ 556 2241 250 1766 \nQ 169 2034 56 2259 \nz\nM 5325 2797 \nL 5325 3341 \nL 4619 3341 \nL 4619 2797 \nL 5325 2797 \nz\nM 5325 4247 \nL 4619 4247 \nL 4619 3703 \nL 5325 3703 \nL 5325 4247 \nz\n\" transform=\"scale(0.015625)\"/>\n        <path id=\"MicrosoftYaHei-5eb7\" d=\"M 3100 5116 \nL 3531 5347 \nQ 3719 5047 3931 4672 \nL 6194 4672 \nL 6194 4259 \nL 1213 4259 \nL 1213 2866 \nL 3319 2866 \nL 3319 3334 \nL 1606 3334 \nL 1606 3709 \nL 3319 3709 \nL 3319 4122 \nL 3769 4122 \nL 3769 3709 \nL 5569 3709 \nL 5569 2866 \nL 6275 2866 \nL 6275 2484 \nL 5569 2484 \nL 5569 1503 \nL 5144 1503 \nL 5144 1634 \nL 3769 1634 \nL 3769 1497 \nQ 4075 1122 4425 816 \nQ 5063 1147 5563 1466 \nL 5856 1097 \nQ 5356 828 4763 547 \nQ 5419 53 6213 -203 \nQ 6025 -453 5900 -641 \nQ 4519 -34 3769 891 \nL 3769 -134 \nQ 3769 -797 3081 -797 \nQ 2794 -797 2325 -784 \nQ 2300 -528 2250 -291 \nQ 2756 -334 3006 -334 \nQ 3306 -334 3319 -22 \nL 3319 353 \nQ 2350 28 1225 -353 \nL 1106 91 \nQ 2394 466 3319 784 \nL 3319 1634 \nL 1569 1634 \nL 1569 2009 \nL 3319 2009 \nL 3319 2484 \nL 1213 2484 \nL 1213 2328 \nQ 1213 328 431 -853 \nQ 275 -641 88 -428 \nQ 738 603 738 2303 \nL 738 4672 \nL 3369 4672 \nQ 3244 4878 3100 5116 \nz\nM 5144 2009 \nL 5144 2484 \nL 3769 2484 \nL 3769 2009 \nL 5144 2009 \nz\nM 5144 3334 \nL 3769 3334 \nL 3769 2866 \nL 5144 2866 \nL 5144 3334 \nz\nM 1531 1172 \nL 1781 1478 \nQ 2275 1197 2650 922 \nL 2363 572 \nQ 1988 884 1531 1172 \nz\n\" transform=\"scale(0.015625)\"/>\n        <path id=\"MicrosoftYaHei-4eba\" d=\"M 100 -303 \nQ 2825 1272 2981 5222 \nL 3531 5222 \nQ 3497 4553 3400 3947 \nQ 4175 822 6313 -166 \nQ 6050 -453 5850 -709 \nQ 3994 341 3203 3006 \nQ 2519 431 494 -778 \nQ 325 -547 100 -303 \nz\n\" transform=\"scale(0.015625)\"/>\n       </defs>\n       <use xlink:href=\"#MicrosoftYaHei-5065\"/>\n       <use xlink:href=\"#MicrosoftYaHei-5eb7\" transform=\"translate(100 0)\"/>\n       <use xlink:href=\"#MicrosoftYaHei-4eba\" transform=\"translate(200 0)\"/>\n      </g>\n     </g>\n    </g>\n    <g id=\"xtick_2\">\n     <g id=\"line2d_2\">\n      <g>\n       <use xlink:href=\"#med35d2d7b5\" x=\"287.904063\" y=\"273.312\" style=\"stroke: #000000; stroke-width: 0.8\"/>\n      </g>\n     </g>\n     <g id=\"text_2\">\n      <!-- 冠心病人 -->\n      <g transform=\"translate(267.904063 288.30575) scale(0.1 -0.1)\">\n       <defs>\n        <path id=\"MicrosoftYaHei-51a0\" d=\"M 1069 1403 \nL 1069 2016 \nL 300 2016 \nL 300 2453 \nL 3263 2453 \nL 3263 2016 \nL 2656 2016 \nL 2656 259 \nQ 2656 -178 3063 -184 \nL 5163 -184 \nQ 5600 -184 5663 222 \nQ 5725 641 5763 1241 \nQ 5956 1153 6238 1066 \nQ 6181 484 6119 103 \nQ 6013 -634 5219 -634 \nL 2969 -634 \nQ 2181 -653 2194 247 \nL 2194 2016 \nL 1525 2016 \nL 1525 1503 \nQ 1525 659 1369 234 \nQ 1156 -353 419 -822 \nQ 281 -634 119 -441 \nQ 731 -72 925 384 \nQ 1069 716 1069 1403 \nz\nM 3169 3253 \nL 4850 3253 \nL 4850 3978 \nL 5313 3978 \nL 5313 3253 \nL 6113 3253 \nL 6113 2816 \nL 5313 2816 \nL 5313 991 \nQ 5313 216 4538 209 \nQ 4131 203 3731 209 \nQ 3706 328 3638 697 \nQ 4050 666 4431 672 \nQ 4850 678 4850 1084 \nL 4850 2816 \nL 3169 2816 \nL 3169 3253 \nz\nM 350 4959 \nL 6000 4959 \nL 6000 3791 \nL 5525 3791 \nL 5525 4522 \nL 825 4522 \nL 825 3791 \nL 350 3791 \nL 350 4959 \nz\nM 663 3684 \nL 2950 3684 \nL 2950 3247 \nL 663 3247 \nL 663 3684 \nz\nM 3431 2234 \nL 3819 2422 \nQ 4144 1903 4438 1391 \nL 4013 1184 \nQ 3719 1759 3431 2234 \nz\n\" transform=\"scale(0.015625)\"/>\n        <path id=\"MicrosoftYaHei-5fc3\" d=\"M 1706 4116 \nL 2225 4116 \nL 2225 453 \nQ 2225 -116 2731 -116 \nL 4075 -116 \nQ 4613 -116 4681 334 \nQ 4750 728 4800 1278 \nQ 5063 1172 5338 1078 \nQ 5244 422 5163 97 \nQ 4994 -603 4175 -603 \nL 2606 -603 \nQ 1706 -603 1706 334 \nL 1706 4116 \nz\nM 5231 3641 \nQ 5763 2634 6338 1353 \nL 5819 1097 \nQ 5338 2309 4763 3422 \nL 5231 3641 \nz\nM 788 3447 \nL 1288 3309 \nQ 1000 1978 600 722 \nL 100 916 \nQ 513 2091 788 3447 \nz\nM 3081 5372 \nQ 3675 4384 4088 3591 \nQ 3794 3441 3588 3322 \nQ 3150 4291 2644 5147 \nL 3081 5372 \nz\n\" transform=\"scale(0.015625)\"/>\n        <path id=\"MicrosoftYaHei-75c5\" d=\"M 1725 3541 \nL 6163 3541 \nL 6163 3103 \nL 4225 3103 \nQ 4219 2728 4197 2416 \nL 5981 2416 \nL 5981 47 \nQ 5981 -684 5225 -691 \nQ 4788 -697 4163 -684 \nQ 4125 -466 4063 -191 \nQ 4563 -228 5081 -228 \nQ 5506 -228 5506 147 \nL 5506 1991 \nL 4147 1991 \nQ 4131 1878 4109 1775 \nQ 4781 1056 5250 503 \nL 4888 141 \nQ 4428 747 3963 1288 \nQ 3675 591 2819 -16 \nQ 2675 166 2494 378 \nQ 3575 1041 3688 1991 \nL 2388 1991 \nL 2388 -766 \nL 1913 -766 \nL 1913 2416 \nL 3744 2416 \nQ 3769 2722 3775 3103 \nL 1725 3103 \nL 1725 3541 \nz\nM 1481 2484 \nQ 1481 178 506 -778 \nQ 363 -572 163 -366 \nQ 831 328 969 1619 \nQ 666 1425 213 1153 \nL 94 1678 \nQ 669 1953 1013 2159 \nL 1013 4584 \nL 3472 4584 \nQ 3309 4838 3094 5128 \nL 3506 5366 \nQ 3775 5022 3963 4734 \nL 3713 4584 \nL 6300 4584 \nL 6300 4147 \nL 1481 4147 \nL 1481 2484 \nz\nM 175 3834 \nL 581 3959 \nQ 750 3384 919 2728 \nL 469 2597 \nQ 344 3247 175 3834 \nz\n\" transform=\"scale(0.015625)\"/>\n       </defs>\n       <use xlink:href=\"#MicrosoftYaHei-51a0\"/>\n       <use xlink:href=\"#MicrosoftYaHei-5fc3\" transform=\"translate(100 0)\"/>\n       <use xlink:href=\"#MicrosoftYaHei-75c5\" transform=\"translate(200 0)\"/>\n       <use xlink:href=\"#MicrosoftYaHei-4eba\" transform=\"translate(300 0)\"/>\n      </g>\n     </g>\n    </g>\n   </g>\n   <g id=\"matplotlib.axis_2\">\n    <g id=\"ytick_1\">\n     <g id=\"line2d_3\">\n      <defs>\n       <path id=\"mffaf028114\" d=\"M 0 0 \nL -3.5 0 \n\" style=\"stroke: #000000; stroke-width: 0.8\"/>\n      </defs>\n      <g>\n       <use xlink:href=\"#mffaf028114\" x=\"20.064062\" y=\"261.216\" style=\"stroke: #000000; stroke-width: 0.8\"/>\n      </g>\n     </g>\n     <g id=\"text_3\">\n      <!-- 3 -->\n      <g transform=\"translate(7.2 265.212875) scale(0.1 -0.1)\">\n       <defs>\n        <path id=\"MicrosoftYaHei-33\" d=\"M 447 809 \nQ 944 425 1569 425 \nQ 2069 425 2361 670 \nQ 2653 916 2653 1328 \nQ 2653 2247 1338 2247 \nL 934 2247 \nL 934 2753 \nL 1319 2753 \nQ 2484 2753 2484 3616 \nQ 2484 4413 1594 4413 \nQ 1084 4413 634 4069 \nL 634 4647 \nQ 1109 4922 1744 4922 \nQ 2363 4922 2738 4598 \nQ 3113 4275 3113 3759 \nQ 3113 2809 2144 2538 \nL 2144 2525 \nQ 2669 2469 2973 2155 \nQ 3278 1841 3278 1372 \nQ 3278 719 2808 319 \nQ 2338 -81 1556 -81 \nQ 869 -81 447 175 \nL 447 809 \nz\n\" transform=\"scale(0.015625)\"/>\n       </defs>\n       <use xlink:href=\"#MicrosoftYaHei-33\"/>\n      </g>\n     </g>\n    </g>\n    <g id=\"ytick_2\">\n     <g id=\"line2d_4\">\n      <g>\n       <use xlink:href=\"#mffaf028114\" x=\"20.064062\" y=\"206.234182\" style=\"stroke: #000000; stroke-width: 0.8\"/>\n      </g>\n     </g>\n     <g id=\"text_4\">\n      <!-- 4 -->\n      <g transform=\"translate(7.2 210.231057) scale(0.1 -0.1)\">\n       <defs>\n        <path id=\"MicrosoftYaHei-34\" d=\"M 2906 4841 \nL 2906 1644 \nL 3631 1644 \nL 3631 1138 \nL 2906 1138 \nL 2906 0 \nL 2313 0 \nL 2313 1138 \nL 53 1138 \nL 53 1616 \nQ 656 2294 1265 3178 \nQ 1875 4063 2272 4841 \nL 2906 4841 \nz\nM 741 1644 \nL 2313 1644 \nL 2313 3950 \nQ 1988 3366 1616 2817 \nQ 1244 2269 741 1644 \nz\n\" transform=\"scale(0.015625)\"/>\n       </defs>\n       <use xlink:href=\"#MicrosoftYaHei-34\"/>\n      </g>\n     </g>\n    </g>\n    <g id=\"ytick_3\">\n     <g id=\"line2d_5\">\n      <g>\n       <use xlink:href=\"#mffaf028114\" x=\"20.064062\" y=\"151.252364\" style=\"stroke: #000000; stroke-width: 0.8\"/>\n      </g>\n     </g>\n     <g id=\"text_5\">\n      <!-- 5 -->\n      <g transform=\"translate(7.2 155.249239) scale(0.1 -0.1)\">\n       <defs>\n        <path id=\"MicrosoftYaHei-35\" d=\"M 3294 1494 \nQ 3294 784 2823 350 \nQ 2353 -84 1559 -84 \nQ 878 -84 544 119 \nL 544 744 \nQ 1034 425 1544 425 \nQ 2050 425 2361 704 \nQ 2672 984 2672 1447 \nQ 2672 1909 2348 2167 \nQ 2025 2425 1434 2425 \nQ 978 2425 613 2384 \nL 791 4841 \nL 3053 4841 \nL 3053 4303 \nL 1306 4303 \nL 1206 2931 \nL 1647 2950 \nQ 2416 2950 2855 2567 \nQ 3294 2184 3294 1494 \nz\n\" transform=\"scale(0.015625)\"/>\n       </defs>\n       <use xlink:href=\"#MicrosoftYaHei-35\"/>\n      </g>\n     </g>\n    </g>\n    <g id=\"ytick_4\">\n     <g id=\"line2d_6\">\n      <g>\n       <use xlink:href=\"#mffaf028114\" x=\"20.064062\" y=\"96.270545\" style=\"stroke: #000000; stroke-width: 0.8\"/>\n      </g>\n     </g>\n     <g id=\"text_6\">\n      <!-- 6 -->\n      <g transform=\"translate(7.2 100.26742) scale(0.1 -0.1)\">\n       <defs>\n        <path id=\"MicrosoftYaHei-36\" d=\"M 3181 4219 \nQ 2803 4413 2391 4413 \nQ 1763 4413 1381 3866 \nQ 1000 3319 994 2372 \nL 1009 2372 \nQ 1353 3038 2106 3038 \nQ 2734 3038 3109 2628 \nQ 3484 2219 3484 1541 \nQ 3484 831 3051 375 \nQ 2619 -81 1947 -81 \nQ 1209 -81 789 495 \nQ 369 1072 369 2131 \nQ 369 3413 920 4167 \nQ 1472 4922 2372 4922 \nQ 2888 4922 3181 4781 \nL 3181 4219 \nz\nM 1031 1584 \nQ 1031 1106 1286 765 \nQ 1541 425 1963 425 \nQ 2363 425 2613 719 \nQ 2863 1013 2863 1475 \nQ 2863 1975 2627 2253 \nQ 2391 2531 1956 2531 \nQ 1544 2531 1287 2250 \nQ 1031 1969 1031 1584 \nz\n\" transform=\"scale(0.015625)\"/>\n       </defs>\n       <use xlink:href=\"#MicrosoftYaHei-36\"/>\n      </g>\n     </g>\n    </g>\n    <g id=\"ytick_5\">\n     <g id=\"line2d_7\">\n      <g>\n       <use xlink:href=\"#mffaf028114\" x=\"20.064062\" y=\"41.288727\" style=\"stroke: #000000; stroke-width: 0.8\"/>\n      </g>\n     </g>\n     <g id=\"text_7\">\n      <!-- 7 -->\n      <g transform=\"translate(7.2 45.285602) scale(0.1 -0.1)\">\n       <defs>\n        <path id=\"MicrosoftYaHei-37\" d=\"M 3422 4463 \nQ 2659 3131 2223 1998 \nQ 1788 866 1684 0 \nL 1047 0 \nQ 1163 853 1594 1947 \nQ 2025 3041 2747 4300 \nL 347 4300 \nL 347 4841 \nL 3422 4841 \nL 3422 4463 \nz\n\" transform=\"scale(0.015625)\"/>\n       </defs>\n       <use xlink:href=\"#MicrosoftYaHei-37\"/>\n      </g>\n     </g>\n    </g>\n   </g>\n   <g id=\"line2d_8\">\n    <path d=\"M 95.952063 196.612364 \nL 122.736063 196.612364 \nL 122.736063 144.379636 \nL 95.952063 144.379636 \nL 95.952063 196.612364 \n\" clip-path=\"url(#p786eed639b)\" style=\"fill: none; stroke: #000000; stroke-linecap: square\"/>\n   </g>\n   <g id=\"line2d_9\">\n    <path d=\"M 109.344063 196.612364 \nL 109.344063 261.216 \n\" clip-path=\"url(#p786eed639b)\" style=\"fill: none; stroke: #000000; stroke-linecap: square\"/>\n   </g>\n   <g id=\"line2d_10\">\n    <path d=\"M 109.344063 144.379636 \nL 109.344063 74.277818 \n\" clip-path=\"url(#p786eed639b)\" style=\"fill: none; stroke: #000000; stroke-linecap: square\"/>\n   </g>\n   <g id=\"line2d_11\">\n    <path d=\"M 102.648063 261.216 \nL 116.040063 261.216 \n\" clip-path=\"url(#p786eed639b)\" style=\"fill: none; stroke: #000000; stroke-linecap: square\"/>\n   </g>\n   <g id=\"line2d_12\">\n    <path d=\"M 102.648063 74.277818 \nL 116.040063 74.277818 \n\" clip-path=\"url(#p786eed639b)\" style=\"fill: none; stroke: #000000; stroke-linecap: square\"/>\n   </g>\n   <g id=\"line2d_13\"/>\n   <g id=\"line2d_14\">\n    <path d=\"M 274.512063 144.379636 \nL 301.296063 144.379636 \nL 301.296063 74.277818 \nL 274.512063 74.277818 \nL 274.512063 144.379636 \n\" clip-path=\"url(#p786eed639b)\" style=\"fill: none; stroke: #000000; stroke-linecap: square\"/>\n   </g>\n   <g id=\"line2d_15\">\n    <path d=\"M 287.904063 144.379636 \nL 287.904063 189.739636 \n\" clip-path=\"url(#p786eed639b)\" style=\"fill: none; stroke: #000000; stroke-linecap: square\"/>\n   </g>\n   <g id=\"line2d_16\">\n    <path d=\"M 287.904063 74.277818 \nL 287.904063 19.296 \n\" clip-path=\"url(#p786eed639b)\" style=\"fill: none; stroke: #000000; stroke-linecap: square\"/>\n   </g>\n   <g id=\"line2d_17\">\n    <path d=\"M 281.208062 189.739636 \nL 294.600063 189.739636 \n\" clip-path=\"url(#p786eed639b)\" style=\"fill: none; stroke: #000000; stroke-linecap: square\"/>\n   </g>\n   <g id=\"line2d_18\">\n    <path d=\"M 281.208062 19.296 \nL 294.600063 19.296 \n\" clip-path=\"url(#p786eed639b)\" style=\"fill: none; stroke: #000000; stroke-linecap: square\"/>\n   </g>\n   <g id=\"line2d_19\"/>\n   <g id=\"line2d_20\">\n    <path d=\"M 95.952063 184.241455 \nL 122.736063 184.241455 \n\" clip-path=\"url(#p786eed639b)\" style=\"fill: none; stroke: #ff7f0e\"/>\n   </g>\n   <g id=\"line2d_21\">\n    <path d=\"M 274.512063 115.514182 \nL 301.296063 115.514182 \n\" clip-path=\"url(#p786eed639b)\" style=\"fill: none; stroke: #ff7f0e\"/>\n   </g>\n   <g id=\"patch_3\">\n    <path d=\"M 20.064062 273.312 \nL 20.064062 7.2 \n\" style=\"fill: none; stroke: #000000; stroke-width: 0.8; stroke-linejoin: miter; stroke-linecap: square\"/>\n   </g>\n   <g id=\"patch_4\">\n    <path d=\"M 377.184063 273.312 \nL 377.184063 7.2 \n\" style=\"fill: none; stroke: #000000; stroke-width: 0.8; stroke-linejoin: miter; stroke-linecap: square\"/>\n   </g>\n   <g id=\"patch_5\">\n    <path d=\"M 20.064062 273.312 \nL 377.184063 273.312 \n\" style=\"fill: none; stroke: #000000; stroke-width: 0.8; stroke-linejoin: miter; stroke-linecap: square\"/>\n   </g>\n   <g id=\"patch_6\">\n    <path d=\"M 20.064062 7.2 \nL 377.184063 7.2 \n\" style=\"fill: none; stroke: #000000; stroke-width: 0.8; stroke-linejoin: miter; stroke-linecap: square\"/>\n   </g>\n  </g>\n </g>\n <defs>\n  <clipPath id=\"p786eed639b\">\n   <rect x=\"20.064062\" y=\"7.2\" width=\"357.12\" height=\"266.112\"/>\n  </clipPath>\n </defs>\n</svg>\n"
     },
     "metadata": {},
     "output_type": "display_data"
    }
   ],
   "execution_count": 16
  },
  {
   "metadata": {
    "ExecuteTime": {
     "end_time": "2025-05-04T09:36:04.098569Z",
     "start_time": "2025-05-04T09:36:04.093872Z"
    }
   },
   "cell_type": "code",
   "source": [
    "#验证s1服从正态分布\n",
    "stats.normaltest(s1)"
   ],
   "id": "2058150df211bd8",
   "outputs": [
    {
     "data": {
      "text/plain": [
       "NormaltestResult(statistic=1.156279322544252, pvalue=0.5609409366464637)"
      ]
     },
     "execution_count": 17,
     "metadata": {},
     "output_type": "execute_result"
    }
   ],
   "execution_count": 17
  },
  {
   "metadata": {
    "ExecuteTime": {
     "end_time": "2025-05-04T09:36:11.447614Z",
     "start_time": "2025-05-04T09:36:11.430069Z"
    }
   },
   "cell_type": "code",
   "source": [
    "#验证s2服从正态分布\n",
    "stats.normaltest(s2)"
   ],
   "id": "b74a1abc6aba5500",
   "outputs": [
    {
     "name": "stderr",
     "output_type": "stream",
     "text": [
      "C:\\Program Files\\Python311\\Lib\\site-packages\\scipy\\stats\\_axis_nan_policy.py:430: UserWarning: `kurtosistest` p-value may be inaccurate with fewer than 20 observations; only n=18 observations were given.\n",
      "  return hypotest_fun_in(*args, **kwds)\n"
     ]
    },
    {
     "data": {
      "text/plain": [
       "NormaltestResult(statistic=1.0690225395784534, pvalue=0.5859555943774749)"
      ]
     },
     "execution_count": 18,
     "metadata": {},
     "output_type": "execute_result"
    }
   ],
   "execution_count": 18
  },
  {
   "metadata": {
    "ExecuteTime": {
     "end_time": "2025-05-04T09:37:13.894528Z",
     "start_time": "2025-05-04T09:37:13.890075Z"
    }
   },
   "cell_type": "code",
   "source": [
    "#验证s1和s2的方差齐性\n",
    "stats.bartlett(s1,s2)"
   ],
   "id": "98f7250673704260",
   "outputs": [
    {
     "data": {
      "text/plain": [
       "BartlettResult(statistic=0.2744931384195503, pvalue=0.6003335382988233)"
      ]
     },
     "execution_count": 19,
     "metadata": {},
     "output_type": "execute_result"
    }
   ],
   "execution_count": 19
  },
  {
   "metadata": {
    "ExecuteTime": {
     "end_time": "2025-05-04T09:37:30.382590Z",
     "start_time": "2025-05-04T09:37:30.377096Z"
    }
   },
   "cell_type": "code",
   "source": "stats.ttest_ind(s1,s2)",
   "id": "26d6b4a14d9271d3",
   "outputs": [
    {
     "data": {
      "text/plain": [
       "TtestResult(statistic=-3.9027786804897273, pvalue=0.00039999644877797833, df=36.0)"
      ]
     },
     "execution_count": 20,
     "metadata": {},
     "output_type": "execute_result"
    }
   ],
   "execution_count": 20
  },
  {
   "metadata": {},
   "cell_type": "code",
   "outputs": [],
   "execution_count": null,
   "source": "",
   "id": "d0dfb924354aabe8"
  }
 ],
 "metadata": {
  "kernelspec": {
   "display_name": "Python 3 (ipykernel)",
   "language": "python",
   "name": "python3"
  },
  "language_info": {
   "codemirror_mode": {
    "name": "ipython",
    "version": 3
   },
   "file_extension": ".py",
   "mimetype": "text/x-python",
   "name": "python",
   "nbconvert_exporter": "python",
   "pygments_lexer": "ipython3",
   "version": "3.12.6"
  }
 },
 "nbformat": 4,
 "nbformat_minor": 5
}
