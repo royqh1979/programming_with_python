{
 "cells": [
  {
   "cell_type": "code",
   "id": "9193b7f3-c7f5-4d95-addb-84074ea7547d",
   "metadata": {
    "ExecuteTime": {
     "end_time": "2025-05-03T09:13:03.283952Z",
     "start_time": "2025-05-03T09:13:03.274706Z"
    }
   },
   "source": [
    "import numpy as np\n",
    "import pandas as pd\n",
    "\n",
    "#导入pyplot模块\n",
    "import matplotlib.pyplot as plt\n",
    "\n",
    "#使用中文字体\n",
    "from pylab import mpl\n",
    "mpl.rcParams['font.sans-serif']=\"Simsun\"\n",
    "mpl.rcParams['axes.unicode_minus']=False\n",
    "\n",
    "#使用svg格式，避免图形模糊\n",
    "%matplotlib inline\n",
    "%config InlineBackend.figure_format=\"svg\""
   ],
   "outputs": [],
   "execution_count": 7
  },
  {
   "metadata": {
    "ExecuteTime": {
     "end_time": "2025-05-03T09:13:04.208546Z",
     "start_time": "2025-05-03T09:13:04.199952Z"
    }
   },
   "cell_type": "code",
   "source": [
    "#读取数据\n",
    "df = pd.read_csv(\"学生成绩.csv\",encoding=\"GBK\")\n",
    "\n",
    "df.head()"
   ],
   "id": "317e7f82f73965e6",
   "outputs": [
    {
     "data": {
      "text/plain": [
       "          学号    姓名    班级 性别  出生年份  籍贯  数学   语文  英语\n",
       "0  166241101   童绮琴  信管19  男  2001  天津  99   71  65\n",
       "1  166241102   酆友容  信管20  女  2002  广西  81   64  52\n",
       "2  166241103  端木孤菱  信管21  男  2002  湖南  67   90  98\n",
       "3  166241104   闳芳苓  信管22  女  2002  湖北  89  100  90\n",
       "4  166241105   温靖易  信管23  女  2002  吉林  80   70  77"
      ],
      "text/html": [
       "<div>\n",
       "<style scoped>\n",
       "    .dataframe tbody tr th:only-of-type {\n",
       "        vertical-align: middle;\n",
       "    }\n",
       "\n",
       "    .dataframe tbody tr th {\n",
       "        vertical-align: top;\n",
       "    }\n",
       "\n",
       "    .dataframe thead th {\n",
       "        text-align: right;\n",
       "    }\n",
       "</style>\n",
       "<table border=\"1\" class=\"dataframe\">\n",
       "  <thead>\n",
       "    <tr style=\"text-align: right;\">\n",
       "      <th></th>\n",
       "      <th>学号</th>\n",
       "      <th>姓名</th>\n",
       "      <th>班级</th>\n",
       "      <th>性别</th>\n",
       "      <th>出生年份</th>\n",
       "      <th>籍贯</th>\n",
       "      <th>数学</th>\n",
       "      <th>语文</th>\n",
       "      <th>英语</th>\n",
       "    </tr>\n",
       "  </thead>\n",
       "  <tbody>\n",
       "    <tr>\n",
       "      <th>0</th>\n",
       "      <td>166241101</td>\n",
       "      <td>童绮琴</td>\n",
       "      <td>信管19</td>\n",
       "      <td>男</td>\n",
       "      <td>2001</td>\n",
       "      <td>天津</td>\n",
       "      <td>99</td>\n",
       "      <td>71</td>\n",
       "      <td>65</td>\n",
       "    </tr>\n",
       "    <tr>\n",
       "      <th>1</th>\n",
       "      <td>166241102</td>\n",
       "      <td>酆友容</td>\n",
       "      <td>信管20</td>\n",
       "      <td>女</td>\n",
       "      <td>2002</td>\n",
       "      <td>广西</td>\n",
       "      <td>81</td>\n",
       "      <td>64</td>\n",
       "      <td>52</td>\n",
       "    </tr>\n",
       "    <tr>\n",
       "      <th>2</th>\n",
       "      <td>166241103</td>\n",
       "      <td>端木孤菱</td>\n",
       "      <td>信管21</td>\n",
       "      <td>男</td>\n",
       "      <td>2002</td>\n",
       "      <td>湖南</td>\n",
       "      <td>67</td>\n",
       "      <td>90</td>\n",
       "      <td>98</td>\n",
       "    </tr>\n",
       "    <tr>\n",
       "      <th>3</th>\n",
       "      <td>166241104</td>\n",
       "      <td>闳芳苓</td>\n",
       "      <td>信管22</td>\n",
       "      <td>女</td>\n",
       "      <td>2002</td>\n",
       "      <td>湖北</td>\n",
       "      <td>89</td>\n",
       "      <td>100</td>\n",
       "      <td>90</td>\n",
       "    </tr>\n",
       "    <tr>\n",
       "      <th>4</th>\n",
       "      <td>166241105</td>\n",
       "      <td>温靖易</td>\n",
       "      <td>信管23</td>\n",
       "      <td>女</td>\n",
       "      <td>2002</td>\n",
       "      <td>吉林</td>\n",
       "      <td>80</td>\n",
       "      <td>70</td>\n",
       "      <td>77</td>\n",
       "    </tr>\n",
       "  </tbody>\n",
       "</table>\n",
       "</div>"
      ]
     },
     "execution_count": 8,
     "metadata": {},
     "output_type": "execute_result"
    }
   ],
   "execution_count": 8
  },
  {
   "metadata": {
    "ExecuteTime": {
     "end_time": "2025-05-03T09:09:10.013083Z",
     "start_time": "2025-05-03T09:09:10.008586Z"
    }
   },
   "cell_type": "code",
   "source": [
    "#转换为分类型\n",
    "df[\"性别\"]=df[\"性别\"].astype(\"category\")"
   ],
   "id": "589cd1f1a2f63f9e",
   "outputs": [],
   "execution_count": 2
  },
  {
   "cell_type": "code",
   "id": "731d02c1-46b1-4038-9237-019e32712899",
   "metadata": {
    "ExecuteTime": {
     "end_time": "2025-05-03T09:09:28.515036Z",
     "start_time": "2025-05-03T09:09:28.510214Z"
    }
   },
   "source": [
    "#获取所有不同的类别\n",
    "df[\"性别\"].cat.categories"
   ],
   "outputs": [
    {
     "data": {
      "text/plain": [
       "Index(['女', '男'], dtype='object')"
      ]
     },
     "execution_count": 3,
     "metadata": {},
     "output_type": "execute_result"
    }
   ],
   "execution_count": 3
  },
  {
   "metadata": {
    "ExecuteTime": {
     "end_time": "2025-05-03T09:09:46.058441Z",
     "start_time": "2025-05-03T09:09:46.053109Z"
    }
   },
   "cell_type": "code",
   "source": [
    "#籍贯列的描述性统计\n",
    "df[\"性别\"].describe()"
   ],
   "id": "b6fdbf97560fd333",
   "outputs": [
    {
     "data": {
      "text/plain": [
       "count     57\n",
       "unique     2\n",
       "top        男\n",
       "freq      30\n",
       "Name: 性别, dtype: object"
      ]
     },
     "execution_count": 4,
     "metadata": {},
     "output_type": "execute_result"
    }
   ],
   "execution_count": 4
  },
  {
   "metadata": {
    "ExecuteTime": {
     "end_time": "2025-05-03T09:09:56.524149Z",
     "start_time": "2025-05-03T09:09:56.518672Z"
    }
   },
   "cell_type": "code",
   "source": "df[\"性别\"].value_counts()",
   "id": "799f4b6047274667",
   "outputs": [
    {
     "data": {
      "text/plain": [
       "性别\n",
       "男    30\n",
       "女    27\n",
       "Name: count, dtype: int64"
      ]
     },
     "execution_count": 5,
     "metadata": {},
     "output_type": "execute_result"
    }
   ],
   "execution_count": 5
  },
  {
   "metadata": {
    "ExecuteTime": {
     "end_time": "2025-05-03T09:29:29.005752Z",
     "start_time": "2025-05-03T09:29:28.975068Z"
    }
   },
   "cell_type": "code",
   "source": [
    "df[\"性别\"].value_counts().plot.pie()\n",
    "plt.show()"
   ],
   "id": "581f270676062f2f",
   "outputs": [
    {
     "data": {
      "text/plain": [
       "<Figure size 640x480 with 1 Axes>"
      ],
      "image/svg+xml": "<?xml version=\"1.0\" encoding=\"utf-8\" standalone=\"no\"?>\n<!DOCTYPE svg PUBLIC \"-//W3C//DTD SVG 1.1//EN\"\n  \"http://www.w3.org/Graphics/SVG/1.1/DTD/svg11.dtd\">\n<svg xmlns:xlink=\"http://www.w3.org/1999/xlink\" width=\"292.9495pt\" height=\"280.512pt\" viewBox=\"0 0 292.9495 280.512\" xmlns=\"http://www.w3.org/2000/svg\" version=\"1.1\">\n <metadata>\n  <rdf:RDF xmlns:dc=\"http://purl.org/dc/elements/1.1/\" xmlns:cc=\"http://creativecommons.org/ns#\" xmlns:rdf=\"http://www.w3.org/1999/02/22-rdf-syntax-ns#\">\n   <cc:Work>\n    <dc:type rdf:resource=\"http://purl.org/dc/dcmitype/StillImage\"/>\n    <dc:date>2025-05-03T17:29:28.999306</dc:date>\n    <dc:format>image/svg+xml</dc:format>\n    <dc:creator>\n     <cc:Agent>\n      <dc:title>Matplotlib v3.10.1, https://matplotlib.org/</dc:title>\n     </cc:Agent>\n    </dc:creator>\n   </cc:Work>\n  </rdf:RDF>\n </metadata>\n <defs>\n  <style type=\"text/css\">*{stroke-linejoin: round; stroke-linecap: butt}</style>\n </defs>\n <g id=\"figure_1\">\n  <g id=\"patch_1\">\n   <path d=\"M 0 280.512 \nL 292.9495 280.512 \nL 292.9495 0 \nL 0 0 \nz\n\" style=\"fill: #ffffff\"/>\n  </g>\n  <g id=\"axes_1\">\n   <g id=\"patch_2\">\n    <path d=\"M 259.1383 140.256 \nC 259.1383 125.537048 256.085344 110.976833 250.172808 97.497609 \nC 244.260272 84.018386 235.615684 71.910888 224.786599 61.942013 \nC 213.957514 51.973139 201.177504 44.357907 187.256066 39.578671 \nC 173.334627 34.799436 158.572031 32.959281 143.903352 34.174763 \nC 129.234673 35.390246 114.976299 39.635148 102.031368 46.640596 \nC 89.086437 53.646044 77.734157 63.260936 68.693591 74.876258 \nC 59.653024 86.49158 53.119167 99.856801 49.50588 114.125357 \nC 45.892592 128.393913 45.277809 143.258046 47.70047 157.776251 \nL 152.6935 140.256 \nz\n\" style=\"fill: #1f77b4\"/>\n   </g>\n   <g id=\"patch_3\">\n    <path d=\"M 47.70047 157.776251 \nC 52.09532 184.113123 66.242887 207.855797 87.313762 224.255913 \nC 108.384637 240.656028 134.873816 248.542194 161.483658 246.337236 \nC 188.0935 244.132277 212.923378 231.993685 231.007497 212.349088 \nC 249.091616 192.704491 259.138305 166.95702 259.1383 140.25598 \nL 152.6935 140.256 \nz\n\" style=\"fill: #ff7f0e\"/>\n   </g>\n   <g id=\"patch_4\">\n    <path d=\"M 259.1383 140.256 \nC 259.1383 125.537048 256.085344 110.976833 250.172808 97.497609 \nC 244.260272 84.018386 235.615684 71.910888 224.786599 61.942013 \nC 213.957514 51.973139 201.177504 44.357907 187.256066 39.578671 \nC 173.334627 34.799436 158.572031 32.959281 143.903352 34.174763 \nC 129.234673 35.390246 114.976299 39.635148 102.031368 46.640596 \nC 89.086437 53.646044 77.734157 63.260936 68.693591 74.876258 \nC 59.653024 86.49158 53.119167 99.856801 49.50588 114.125357 \nC 45.892592 128.393913 45.277809 143.258046 47.70047 157.776251 \nL 152.6935 140.256 \nz\n\" style=\"fill: #1f77b4\"/>\n   </g>\n   <g id=\"patch_5\">\n    <path d=\"M 47.70047 157.776251 \nC 52.09532 184.113123 66.242887 207.855797 87.313762 224.255913 \nC 108.384637 240.656028 134.873816 248.542194 161.483658 246.337236 \nC 188.0935 244.132277 212.923378 231.993685 231.007497 212.349088 \nC 249.091616 192.704491 259.138305 166.95702 259.1383 140.25598 \nL 152.6935 140.256 \nz\n\" style=\"fill: #ff7f0e\"/>\n   </g>\n   <g id=\"matplotlib.axis_1\"/>\n   <g id=\"matplotlib.axis_2\">\n    <g id=\"text_1\">\n     <!-- count -->\n     <g transform=\"translate(14.348437 152.756) rotate(-90) scale(0.1 -0.1)\">\n      <defs>\n       <path id=\"SimSun-63\" d=\"M 2150 2225 \nQ 2150 2300 2175 2325 \nQ 2175 2350 2200 2425 \nQ 2225 2525 2100 2662 \nQ 1975 2800 1675 2800 \nQ 1300 2800 1037 2437 \nQ 775 2075 775 1475 \nQ 775 925 1000 587 \nQ 1225 250 1750 250 \nQ 2100 250 2337 475 \nQ 2575 700 2675 1000 \nL 2800 950 \nQ 2700 575 2425 312 \nQ 2150 50 1675 50 \nQ 1075 50 725 425 \nQ 375 800 375 1500 \nQ 375 2125 750 2537 \nQ 1125 2950 1725 2950 \nQ 2150 2950 2387 2725 \nQ 2625 2500 2625 2275 \nQ 2625 2125 2562 2062 \nQ 2500 2000 2375 2000 \nQ 2275 2000 2212 2062 \nQ 2150 2125 2150 2225 \nz\n\" transform=\"scale(0.015625)\"/>\n       <path id=\"SimSun-6f\" d=\"M 2900 1500 \nQ 2900 875 2525 462 \nQ 2150 50 1600 50 \nQ 1025 50 662 475 \nQ 300 900 300 1500 \nQ 300 2050 662 2500 \nQ 1025 2950 1600 2950 \nQ 2200 2950 2550 2500 \nQ 2900 2050 2900 1500 \nz\nM 700 1475 \nQ 700 825 962 512 \nQ 1225 200 1600 200 \nQ 2025 200 2262 537 \nQ 2500 875 2500 1475 \nQ 2500 2125 2237 2462 \nQ 1975 2800 1600 2800 \nQ 1250 2800 975 2462 \nQ 700 2125 700 1475 \nz\n\" transform=\"scale(0.015625)\"/>\n       <path id=\"SimSun-75\" d=\"M 1450 325 \nQ 1750 325 1962 475 \nQ 2175 625 2275 950 \nL 2275 2525 \nQ 2275 2625 2225 2687 \nQ 2175 2750 2050 2750 \nL 1900 2750 \nL 1900 2900 \nL 2050 2900 \nQ 2200 2900 2325 2925 \nQ 2450 2950 2575 3050 \nL 2625 3050 \nL 2625 600 \nQ 2625 500 2687 450 \nQ 2750 400 2850 400 \nL 3000 400 \nL 3000 250 \nL 2850 250 \nQ 2725 250 2600 212 \nQ 2475 175 2325 100 \nL 2275 100 \nL 2275 625 \nQ 2150 350 1900 212 \nQ 1650 75 1325 75 \nQ 925 75 725 300 \nQ 525 525 525 1025 \nL 525 2525 \nQ 525 2625 475 2687 \nQ 425 2750 300 2750 \nL 150 2750 \nL 150 2900 \nL 300 2900 \nQ 450 2900 575 2925 \nQ 700 2950 825 3050 \nL 875 3050 \nL 875 975 \nQ 875 625 1025 475 \nQ 1175 325 1450 325 \nz\n\" transform=\"scale(0.015625)\"/>\n       <path id=\"SimSun-6e\" d=\"M 200 100 \nL 200 250 \nL 325 250 \nQ 450 250 500 300 \nQ 550 350 550 450 \nL 550 2600 \nQ 550 2675 525 2712 \nQ 500 2750 425 2750 \nL 225 2750 \nL 225 2900 \nL 400 2900 \nQ 525 2900 637 2925 \nQ 750 2950 850 3025 \nL 900 3025 \nL 900 2450 \nQ 1125 2700 1350 2825 \nQ 1575 2950 1825 2950 \nQ 2250 2950 2450 2725 \nQ 2650 2500 2650 2050 \nL 2650 450 \nQ 2650 350 2712 300 \nQ 2775 250 2875 250 \nL 3000 250 \nL 3000 100 \nL 1950 100 \nL 1950 250 \nL 2075 250 \nQ 2200 250 2250 300 \nQ 2300 350 2300 450 \nL 2300 2125 \nQ 2300 2425 2175 2587 \nQ 2050 2750 1800 2750 \nQ 1575 2750 1337 2600 \nQ 1100 2450 900 2175 \nL 900 450 \nQ 900 350 962 300 \nQ 1025 250 1125 250 \nL 1250 250 \nL 1250 100 \nL 200 100 \nz\n\" transform=\"scale(0.015625)\"/>\n       <path id=\"SimSun-74\" d=\"M 1500 900 \nQ 1500 550 1625 425 \nQ 1750 300 2000 300 \nQ 2250 300 2400 462 \nQ 2550 625 2600 925 \nL 2725 875 \nQ 2675 525 2462 300 \nQ 2250 75 1900 75 \nQ 1525 75 1337 300 \nQ 1150 525 1150 1000 \nL 1150 2750 \nL 400 2750 \nL 400 2900 \nL 600 2900 \nQ 900 2900 1087 3087 \nQ 1275 3275 1325 3675 \nL 1350 3875 \nL 1500 3875 \nL 1500 2900 \nL 2500 2900 \nL 2500 2750 \nL 1500 2750 \nL 1500 900 \nz\n\" transform=\"scale(0.015625)\"/>\n      </defs>\n      <use xlink:href=\"#SimSun-63\"/>\n      <use xlink:href=\"#SimSun-6f\" transform=\"translate(50 0)\"/>\n      <use xlink:href=\"#SimSun-75\" transform=\"translate(100 0)\"/>\n      <use xlink:href=\"#SimSun-6e\" transform=\"translate(150 0)\"/>\n      <use xlink:href=\"#SimSun-74\" transform=\"translate(200 0)\"/>\n     </g>\n    </g>\n   </g>\n   <g id=\"text_2\">\n    <!-- 男 -->\n    <g transform=\"translate(133.024337 26.808827) scale(0.1 -0.1)\">\n     <defs>\n      <path id=\"SimSun-7537\" d=\"M 2975 1775 \nQ 3025 2350 3025 2650 \nL 3600 2350 \nL 3425 2225 \nQ 3375 2025 3325 1775 \nL 5100 1775 \nL 5300 2025 \nL 5700 1675 \nL 5475 1525 \nQ 5325 575 5212 212 \nQ 5100 -150 4937 -312 \nQ 4775 -475 4275 -550 \nQ 4325 -200 3550 100 \nL 3575 200 \nQ 4550 -75 4687 0 \nQ 4825 75 4925 450 \nQ 5025 825 5125 1625 \nL 3300 1625 \nQ 3075 600 2412 87 \nQ 1750 -425 525 -625 \nL 500 -550 \nQ 1550 -225 2137 237 \nQ 2725 700 2950 1625 \nL 1625 1625 \nQ 1300 1625 1025 1550 \nL 800 1775 \nL 2975 1775 \nz\nM 1325 2300 \nQ 1375 2850 1375 3725 \nQ 1375 4600 1350 5150 \nL 1700 4950 \nL 4750 4950 \nL 4925 5175 \nL 5300 4875 \nL 5125 4700 \nL 5125 3350 \nQ 5125 2975 5150 2525 \nL 4775 2400 \nL 4775 2675 \nL 1700 2675 \nL 1700 2450 \nL 1325 2300 \nz\nM 1700 4800 \nL 1700 3875 \nL 3050 3875 \nL 3050 4800 \nL 1700 4800 \nz\nM 3375 4800 \nL 3375 3875 \nL 4775 3875 \nL 4775 4800 \nL 3375 4800 \nz\nM 1700 3725 \nL 1700 2825 \nL 3050 2825 \nL 3050 3725 \nL 1700 3725 \nz\nM 3375 3725 \nL 3375 2825 \nL 4775 2825 \nL 4775 3725 \nL 3375 3725 \nz\n\" transform=\"scale(0.015625)\"/>\n     </defs>\n     <use xlink:href=\"#SimSun-7537\"/>\n    </g>\n   </g>\n   <g id=\"text_3\">\n    <!-- 女 -->\n    <g transform=\"translate(162.362674 260.226609) scale(0.1 -0.1)\">\n     <defs>\n      <path id=\"SimSun-5973\" d=\"M 2825 3225 \nQ 2600 2675 2150 1500 \nQ 3075 1225 3500 1100 \nQ 4000 1975 4325 3225 \nL 2825 3225 \nz\nM 2975 5200 \nL 3575 4875 \nL 3350 4725 \nQ 3100 4050 2850 3375 \nL 5150 3375 \nL 5550 3775 \nL 6100 3225 \nL 4775 3225 \nQ 4400 1900 3875 975 \nQ 4900 600 5237 375 \nQ 5575 150 5562 -125 \nQ 5550 -400 5450 -400 \nQ 5350 -400 5100 -175 \nQ 4625 275 3675 725 \nQ 3300 325 2512 -50 \nQ 1725 -425 575 -650 \nL 525 -525 \nQ 1500 -300 2200 62 \nQ 2900 425 3325 875 \nQ 2425 1250 1725 1450 \nQ 2050 2125 2425 3225 \nL 1250 3225 \nQ 925 3225 650 3150 \nL 425 3375 \nL 2475 3375 \nQ 2775 4275 2975 5200 \nz\n\" transform=\"scale(0.015625)\"/>\n     </defs>\n     <use xlink:href=\"#SimSun-5973\"/>\n    </g>\n   </g>\n   <g id=\"text_4\">\n    <!-- 男 -->\n    <g transform=\"translate(133.024337 26.808827) scale(0.1 -0.1)\">\n     <use xlink:href=\"#SimSun-7537\"/>\n    </g>\n   </g>\n   <g id=\"text_5\">\n    <!-- 女 -->\n    <g transform=\"translate(162.362674 260.226609) scale(0.1 -0.1)\">\n     <use xlink:href=\"#SimSun-5973\"/>\n    </g>\n   </g>\n  </g>\n </g>\n</svg>\n"
     },
     "metadata": {},
     "output_type": "display_data"
    }
   ],
   "execution_count": 10
  },
  {
   "metadata": {},
   "cell_type": "code",
   "outputs": [],
   "execution_count": null,
   "source": "",
   "id": "62c3e5c519138116"
  }
 ],
 "metadata": {
  "kernelspec": {
   "display_name": "Python 3 (ipykernel)",
   "language": "python",
   "name": "python3"
  },
  "language_info": {
   "codemirror_mode": {
    "name": "ipython",
    "version": 3
   },
   "file_extension": ".py",
   "mimetype": "text/x-python",
   "name": "python",
   "nbconvert_exporter": "python",
   "pygments_lexer": "ipython3",
   "version": "3.11.9"
  }
 },
 "nbformat": 4,
 "nbformat_minor": 5
}
