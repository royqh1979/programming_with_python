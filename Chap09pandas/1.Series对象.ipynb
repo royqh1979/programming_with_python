{
 "cells": [
  {
   "cell_type": "code",
   "id": "de2bb9a2-43c9-4842-b3d9-8e2643656ef8",
   "metadata": {
    "tags": [],
    "ExecuteTime": {
     "end_time": "2025-05-02T00:59:24.638414Z",
     "start_time": "2025-05-02T00:59:23.565544Z"
    }
   },
   "source": [
    "import pandas as pd\n",
    "import numpy as np\n"
   ],
   "outputs": [],
   "execution_count": 1
  },
  {
   "cell_type": "markdown",
   "id": "12a04636-1032-41bc-b6a9-ecd076f6976e",
   "metadata": {
    "tags": []
   },
   "source": [
    "## Series\n",
    "\n",
    "Series可以看成是一维numpy数组的扩展：\n",
    " * 存放一组数据，其中每个元素的类型都相同。大多数情况下可以当作一维numpy数组使用\n",
    " * 除了整数下标外，每个元素还可以有一个标签，可以使用标签作为下标获取对应的元素。\n",
    " * 与字典不同，多个元素的标签可以相同，即一个标签可以对应多个元素。\n",
    " * **注意**：两个序列进行运算时，会**按照标签**查找对应元素进行相应运算\n",
    " * Series各元素的标签组成的列表，称为Index\n"
   ]
  },
  {
   "cell_type": "markdown",
   "id": "bf16fa45-1ff2-49dc-9d0e-4c21e9026e14",
   "metadata": {},
   "source": [
    "### 生成Series\n",
    "\n",
    "可在列表、字典或者NumPy数组的基础上生成Series。"
   ]
  },
  {
   "cell_type": "code",
   "execution_count": 2,
   "id": "535c73a2-8b80-4637-9b3f-5fe98d610de1",
   "metadata": {
    "tags": []
   },
   "outputs": [
    {
     "data": {
      "text/plain": [
       "a    0.701349\n",
       "a    1.072689\n",
       "c    2.955502\n",
       "d    0.545747\n",
       "e   -0.841626\n",
       "dtype: float64"
      ]
     },
     "execution_count": 2,
     "metadata": {},
     "output_type": "execute_result"
    }
   ],
   "source": [
    "s = pd.Series(np.random.randn(5), index=[\"a\", \"a\", \"c\", \"d\", \"e\"])\n",
    "s"
   ]
  },
  {
   "cell_type": "code",
   "execution_count": 3,
   "id": "4d8bdddc-2523-427f-9222-4fc18b34ecca",
   "metadata": {
    "tags": []
   },
   "outputs": [
    {
     "data": {
      "text/plain": [
       "a    1\n",
       "b    2\n",
       "c    3\n",
       "d    4\n",
       "e    5\n",
       "dtype: int64"
      ]
     },
     "execution_count": 3,
     "metadata": {},
     "output_type": "execute_result"
    }
   ],
   "source": [
    "# 用字典生成Series\n",
    "\n",
    "dic={'a':1,'b':2,'c':3,'d':4,'e':5}\n",
    "s2 = pd.Series(dic)\n",
    "s2"
   ]
  },
  {
   "cell_type": "markdown",
   "id": "b6589cc7-9ddf-4d47-80ea-2f2abf378825",
   "metadata": {},
   "source": [
    "### 基本使用\n",
    "\n",
    "series可直接作为一维数组使用。"
   ]
  },
  {
   "cell_type": "code",
   "execution_count": 4,
   "id": "903a598d-b879-4395-a45e-08e2d32bf5f9",
   "metadata": {
    "tags": []
   },
   "outputs": [
    {
     "data": {
      "text/plain": [
       "0.7013494005496487"
      ]
     },
     "execution_count": 4,
     "metadata": {},
     "output_type": "execute_result"
    }
   ],
   "source": [
    "# 用整数下标访问元素或切片\n",
    "s[0]"
   ]
  },
  {
   "cell_type": "code",
   "execution_count": 5,
   "id": "ce6a2e07-e467-4d57-9bc6-91417aa4e114",
   "metadata": {
    "tags": []
   },
   "outputs": [
    {
     "data": {
      "text/plain": [
       "a    2.701349\n",
       "a    3.072689\n",
       "c    4.955502\n",
       "d    2.545747\n",
       "e    1.158374\n",
       "dtype: float64"
      ]
     },
     "execution_count": 5,
     "metadata": {},
     "output_type": "execute_result"
    }
   ],
   "source": [
    "# 与数做运算\n",
    "s+2"
   ]
  },
  {
   "cell_type": "code",
   "execution_count": 6,
   "id": "5d2be999-8a62-48c1-a691-7ac0676b3b19",
   "metadata": {
    "tags": []
   },
   "outputs": [
    {
     "data": {
      "text/plain": [
       "a    1.701349\n",
       "a    2.072689\n",
       "c    3.955502\n",
       "d    1.545747\n",
       "e    0.158374\n",
       "dtype: float64"
      ]
     },
     "execution_count": 6,
     "metadata": {},
     "output_type": "execute_result"
    }
   ],
   "source": [
    "# 与NumPy数组做运算\n",
    "s+np.linspace(1,5,1)"
   ]
  },
  {
   "cell_type": "markdown",
   "id": "376049ff-9034-4a3d-ae21-40230fe600cc",
   "metadata": {},
   "source": [
    "### 使用标签下标访问元素"
   ]
  },
  {
   "cell_type": "code",
   "execution_count": 7,
   "id": "3de2ed5f-bb32-468f-b2af-89301e63690c",
   "metadata": {
    "tags": []
   },
   "outputs": [
    {
     "data": {
      "text/plain": [
       "2.955502349243385"
      ]
     },
     "execution_count": 7,
     "metadata": {},
     "output_type": "execute_result"
    }
   ],
   "source": [
    "s['c']"
   ]
  },
  {
   "cell_type": "markdown",
   "id": "917c3f98-3e05-4419-8f3f-da1af2f24e8e",
   "metadata": {},
   "source": [
    "当一个标签对应不止一个元素时，返回Series形式的视图。"
   ]
  },
  {
   "cell_type": "code",
   "execution_count": 8,
   "id": "185190be-922b-44c1-b2b0-eff7c35b0fc0",
   "metadata": {
    "tags": []
   },
   "outputs": [
    {
     "data": {
      "text/plain": [
       "a    0.701349\n",
       "a    1.072689\n",
       "dtype: float64"
      ]
     },
     "execution_count": 8,
     "metadata": {},
     "output_type": "execute_result"
    }
   ],
   "source": [
    "s['a']"
   ]
  },
  {
   "cell_type": "markdown",
   "id": "7ffcd289-1a69-466f-80ef-309b7f556da1",
   "metadata": {},
   "source": [
    "### Series和Series运算\n",
    "\n",
    "当两个Series进行运算时，执行的是相同标签元素之间的两两运算，类似于SQL数据库的外部join操作。\n",
    "因此，不需要两个Series的长度相同。\n",
    "\n",
    "这个行为和numpy一维数组**不一致**，需要特别注意。"
   ]
  },
  {
   "cell_type": "code",
   "execution_count": 9,
   "id": "9c0d3876-a83b-4028-b33b-df5e18ea2ebb",
   "metadata": {
    "tags": []
   },
   "outputs": [
    {
     "data": {
      "text/plain": [
       "a    1.701349\n",
       "a    2.072689\n",
       "b         NaN\n",
       "c    5.955502\n",
       "d    4.545747\n",
       "e    4.158374\n",
       "dtype: float64"
      ]
     },
     "execution_count": 9,
     "metadata": {},
     "output_type": "execute_result"
    }
   ],
   "source": [
    "s+s2"
   ]
  },
  {
   "cell_type": "code",
   "execution_count": 10,
   "id": "6eb91bd7-df22-4d48-8903-7b98fccbbd26",
   "metadata": {},
   "outputs": [
    {
     "data": {
      "text/plain": [
       "0    4.0\n",
       "1    4.0\n",
       "2    4.0\n",
       "3    NaN\n",
       "4    NaN\n",
       "dtype: float64"
      ]
     },
     "execution_count": 10,
     "metadata": {},
     "output_type": "execute_result"
    }
   ],
   "source": [
    "pd.Series(np.linspace(1,5,5))+pd.Series([3,2,1])"
   ]
  }
 ],
 "metadata": {
  "kernelspec": {
   "display_name": "Python 3 (ipykernel)",
   "language": "python",
   "name": "python3"
  },
  "language_info": {
   "codemirror_mode": {
    "name": "ipython",
    "version": 3
   },
   "file_extension": ".py",
   "mimetype": "text/x-python",
   "name": "python",
   "nbconvert_exporter": "python",
   "pygments_lexer": "ipython3",
   "version": "3.11.9"
  },
  "toc-autonumbering": true
 },
 "nbformat": 4,
 "nbformat_minor": 5
}
