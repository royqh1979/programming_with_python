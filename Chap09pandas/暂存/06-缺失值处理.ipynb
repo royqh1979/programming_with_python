{
 "cells": [
  {
   "cell_type": "code",
   "execution_count": 2,
   "id": "62f7ef14-e15a-44db-81e0-ad8183219ba7",
   "metadata": {},
   "outputs": [],
   "source": [
    "import pandas as pd\n",
    "import numpy as np\n",
    "\n",
    "#导入pyplot模块\n",
    "import matplotlib.pyplot as plt\n",
    "\n",
    "#使用中文字体\n",
    "from pylab import mpl\n",
    "mpl.rcParams['font.sans-serif']=\"Simsun\"\n",
    "mpl.rcParams['axes.unicode_minus']=False\n",
    "\n",
    "#使用svg格式，避免图形模糊\n",
    "%matplotlib inline\n",
    "%config InlineBackend.figure_format=\"svg\"\n",
    "\n",
    "#设置缺省颜色和线型\n",
    "from cycler import cycler\n",
    "mpl.rcParams['axes.prop_cycle'] = (\n",
    "    cycler(color=['steelblue', 'lightcoral', 'forestgreen', 'darkorange']) \n",
    "    + cycler(linestyle=['-', '--', '-.', ':']))"
   ]
  },
  {
   "cell_type": "markdown",
   "id": "de4008cd-aa8e-4bd8-9fb1-5b8bade9a966",
   "metadata": {},
   "source": [
    "# 缺失值简介\n",
    "\n",
    "来源于现实中的数据，经常会出现变量值缺失的现象。比如，某份调查文件漏填；参加某项药物实验的病人中途退出等等。\n",
    "\n",
    "另外，在合并不同来源的DateFrame时，也会出现缺失值。\n",
    "\n",
    "在pandas和numpy中使用np.NaN表示缺失值。"
   ]
  },
  {
   "cell_type": "code",
   "execution_count": 10,
   "id": "f2cc2086-03d9-475a-b02a-7e5e5bd1e5f8",
   "metadata": {
    "tags": []
   },
   "outputs": [
    {
     "data": {
      "text/html": [
       "<div>\n",
       "<style scoped>\n",
       "    .dataframe tbody tr th:only-of-type {\n",
       "        vertical-align: middle;\n",
       "    }\n",
       "\n",
       "    .dataframe tbody tr th {\n",
       "        vertical-align: top;\n",
       "    }\n",
       "\n",
       "    .dataframe thead th {\n",
       "        text-align: right;\n",
       "    }\n",
       "</style>\n",
       "<table border=\"1\" class=\"dataframe\">\n",
       "  <thead>\n",
       "    <tr style=\"text-align: right;\">\n",
       "      <th></th>\n",
       "      <th>one</th>\n",
       "      <th>two</th>\n",
       "      <th>three</th>\n",
       "    </tr>\n",
       "  </thead>\n",
       "  <tbody>\n",
       "    <tr>\n",
       "      <th>a</th>\n",
       "      <td>NaN</td>\n",
       "      <td>-2.317314</td>\n",
       "      <td>-0.249741</td>\n",
       "    </tr>\n",
       "    <tr>\n",
       "      <th>c</th>\n",
       "      <td>-0.575932</td>\n",
       "      <td>NaN</td>\n",
       "      <td>0.248711</td>\n",
       "    </tr>\n",
       "    <tr>\n",
       "      <th>e</th>\n",
       "      <td>-0.139722</td>\n",
       "      <td>-0.038832</td>\n",
       "      <td>0.475237</td>\n",
       "    </tr>\n",
       "    <tr>\n",
       "      <th>f</th>\n",
       "      <td>-0.302565</td>\n",
       "      <td>-0.292386</td>\n",
       "      <td>-1.068755</td>\n",
       "    </tr>\n",
       "    <tr>\n",
       "      <th>h</th>\n",
       "      <td>-1.220479</td>\n",
       "      <td>0.414333</td>\n",
       "      <td>0.260448</td>\n",
       "    </tr>\n",
       "  </tbody>\n",
       "</table>\n",
       "</div>"
      ],
      "text/plain": [
       "        one       two     three\n",
       "a       NaN -2.317314 -0.249741\n",
       "c -0.575932       NaN  0.248711\n",
       "e -0.139722 -0.038832  0.475237\n",
       "f -0.302565 -0.292386 -1.068755\n",
       "h -1.220479  0.414333  0.260448"
      ]
     },
     "execution_count": 10,
     "metadata": {},
     "output_type": "execute_result"
    }
   ],
   "source": [
    "df = pd.DataFrame(\n",
    "    np.random.randn(5, 3),\n",
    "    index=[\"a\", \"c\", \"e\", \"f\", \"h\"],\n",
    "    columns=[\"one\", \"two\", \"three\"],\n",
    ")\n",
    "df[\"one\"][\"a\"]=np.NaN\n",
    "df[\"two\"][\"c\"]=np.NaN\n",
    "df"
   ]
  },
  {
   "cell_type": "markdown",
   "id": "05fe73aa-fe4c-44c7-919e-c84c303b2233",
   "metadata": {},
   "source": [
    "# 涉及缺失值的运算"
   ]
  },
  {
   "cell_type": "markdown",
   "id": "c25283ef-87d4-4b0d-a8ac-512591777efc",
   "metadata": {},
   "source": [
    "## 算术运算\n",
    "\n",
    "np.NaN参与的所有算术运算结果均为np.NaN"
   ]
  },
  {
   "cell_type": "code",
   "execution_count": 11,
   "id": "53207ba3-e710-4a47-b385-57bfc04f4227",
   "metadata": {
    "tags": []
   },
   "outputs": [
    {
     "data": {
      "text/plain": [
       "a         NaN\n",
       "c         NaN\n",
       "e   -0.178554\n",
       "f   -0.594951\n",
       "h   -0.806146\n",
       "dtype: float64"
      ]
     },
     "execution_count": 11,
     "metadata": {},
     "output_type": "execute_result"
    }
   ],
   "source": [
    "df[\"one\"]+df[\"two\"]"
   ]
  },
  {
   "cell_type": "markdown",
   "id": "12dd4dcc-2900-42ef-b1dc-e1f674b03a53",
   "metadata": {},
   "source": [
    "## 关系运算\n",
    "\n",
    "**isna**方法返回是否是缺失值；**notna**方法返回是否不是缺失值。\n",
    "\n",
    "np.NaN参与的所有比较运算结果均为**假**。\n",
    "\n",
    "注意：np.NaN==np.NaN为假，所以不能用直接和np.Nan比较的方法判断是否为缺失值。\n",
    "\n"
   ]
  },
  {
   "cell_type": "code",
   "execution_count": 4,
   "id": "3bf3e8c7-3a67-4b8a-958f-fa84faf6a7c5",
   "metadata": {
    "tags": []
   },
   "outputs": [
    {
     "data": {
      "text/html": [
       "<div>\n",
       "<style scoped>\n",
       "    .dataframe tbody tr th:only-of-type {\n",
       "        vertical-align: middle;\n",
       "    }\n",
       "\n",
       "    .dataframe tbody tr th {\n",
       "        vertical-align: top;\n",
       "    }\n",
       "\n",
       "    .dataframe thead th {\n",
       "        text-align: right;\n",
       "    }\n",
       "</style>\n",
       "<table border=\"1\" class=\"dataframe\">\n",
       "  <thead>\n",
       "    <tr style=\"text-align: right;\">\n",
       "      <th></th>\n",
       "      <th>one</th>\n",
       "      <th>two</th>\n",
       "      <th>three</th>\n",
       "    </tr>\n",
       "  </thead>\n",
       "  <tbody>\n",
       "    <tr>\n",
       "      <th>a</th>\n",
       "      <td>False</td>\n",
       "      <td>False</td>\n",
       "      <td>False</td>\n",
       "    </tr>\n",
       "    <tr>\n",
       "      <th>b</th>\n",
       "      <td>True</td>\n",
       "      <td>True</td>\n",
       "      <td>True</td>\n",
       "    </tr>\n",
       "    <tr>\n",
       "      <th>c</th>\n",
       "      <td>False</td>\n",
       "      <td>False</td>\n",
       "      <td>False</td>\n",
       "    </tr>\n",
       "    <tr>\n",
       "      <th>d</th>\n",
       "      <td>True</td>\n",
       "      <td>True</td>\n",
       "      <td>True</td>\n",
       "    </tr>\n",
       "    <tr>\n",
       "      <th>e</th>\n",
       "      <td>False</td>\n",
       "      <td>False</td>\n",
       "      <td>False</td>\n",
       "    </tr>\n",
       "    <tr>\n",
       "      <th>f</th>\n",
       "      <td>False</td>\n",
       "      <td>False</td>\n",
       "      <td>False</td>\n",
       "    </tr>\n",
       "    <tr>\n",
       "      <th>g</th>\n",
       "      <td>True</td>\n",
       "      <td>True</td>\n",
       "      <td>True</td>\n",
       "    </tr>\n",
       "    <tr>\n",
       "      <th>h</th>\n",
       "      <td>False</td>\n",
       "      <td>False</td>\n",
       "      <td>False</td>\n",
       "    </tr>\n",
       "  </tbody>\n",
       "</table>\n",
       "</div>"
      ],
      "text/plain": [
       "     one    two  three\n",
       "a  False  False  False\n",
       "b   True   True   True\n",
       "c  False  False  False\n",
       "d   True   True   True\n",
       "e  False  False  False\n",
       "f  False  False  False\n",
       "g   True   True   True\n",
       "h  False  False  False"
      ]
     },
     "execution_count": 4,
     "metadata": {},
     "output_type": "execute_result"
    }
   ],
   "source": [
    "df.isna()"
   ]
  },
  {
   "cell_type": "code",
   "execution_count": 6,
   "id": "bec327f2-f661-4bdc-a94e-dcc6c805150e",
   "metadata": {
    "tags": []
   },
   "outputs": [
    {
     "data": {
      "text/plain": [
       "False"
      ]
     },
     "execution_count": 6,
     "metadata": {},
     "output_type": "execute_result"
    }
   ],
   "source": [
    "np.NaN >= 1"
   ]
  },
  {
   "cell_type": "markdown",
   "id": "3a9b4042-47b7-41fa-acb4-3a63ad266abb",
   "metadata": {},
   "source": [
    "## 汇总计算\n",
    "\n",
    "pandas的mean/sum等汇总函数在计算时会自动忽略NaN。"
   ]
  },
  {
   "cell_type": "code",
   "execution_count": 12,
   "id": "d306a407-ea45-4fd3-b737-3b5b984b6ace",
   "metadata": {
    "tags": []
   },
   "outputs": [
    {
     "data": {
      "text/plain": [
       "one      4\n",
       "two      4\n",
       "three    5\n",
       "dtype: int64"
      ]
     },
     "execution_count": 12,
     "metadata": {},
     "output_type": "execute_result"
    }
   ],
   "source": [
    "df.count()"
   ]
  },
  {
   "cell_type": "code",
   "execution_count": 13,
   "id": "545be18c-fca2-4cd2-859d-76184a03ad94",
   "metadata": {
    "tags": []
   },
   "outputs": [
    {
     "data": {
      "text/plain": [
       "one     -0.559674\n",
       "two     -0.558550\n",
       "three   -0.066820\n",
       "dtype: float64"
      ]
     },
     "execution_count": 13,
     "metadata": {},
     "output_type": "execute_result"
    }
   ],
   "source": [
    "df.mean()"
   ]
  },
  {
   "cell_type": "markdown",
   "id": "04ee7410-80ec-4268-a650-ddcfdaa4c527",
   "metadata": {},
   "source": [
    "# 填补缺失值\n",
    "\n",
    "使用**fillna**方法可以填补缺失值"
   ]
  },
  {
   "cell_type": "markdown",
   "id": "e9398d48-fb3a-4959-b112-37ef663c3726",
   "metadata": {},
   "source": [
    "## 统一替换\n",
    "\n",
    "最简单的办法是用一个固定值代替NaN"
   ]
  },
  {
   "cell_type": "code",
   "execution_count": 14,
   "id": "f67eeb7f-54c7-4f40-bb88-b477b850af4b",
   "metadata": {
    "tags": []
   },
   "outputs": [
    {
     "data": {
      "text/html": [
       "<div>\n",
       "<style scoped>\n",
       "    .dataframe tbody tr th:only-of-type {\n",
       "        vertical-align: middle;\n",
       "    }\n",
       "\n",
       "    .dataframe tbody tr th {\n",
       "        vertical-align: top;\n",
       "    }\n",
       "\n",
       "    .dataframe thead th {\n",
       "        text-align: right;\n",
       "    }\n",
       "</style>\n",
       "<table border=\"1\" class=\"dataframe\">\n",
       "  <thead>\n",
       "    <tr style=\"text-align: right;\">\n",
       "      <th></th>\n",
       "      <th>one</th>\n",
       "      <th>two</th>\n",
       "      <th>three</th>\n",
       "    </tr>\n",
       "  </thead>\n",
       "  <tbody>\n",
       "    <tr>\n",
       "      <th>a</th>\n",
       "      <td>10.000000</td>\n",
       "      <td>-2.317314</td>\n",
       "      <td>-0.249741</td>\n",
       "    </tr>\n",
       "    <tr>\n",
       "      <th>c</th>\n",
       "      <td>-0.575932</td>\n",
       "      <td>10.000000</td>\n",
       "      <td>0.248711</td>\n",
       "    </tr>\n",
       "    <tr>\n",
       "      <th>e</th>\n",
       "      <td>-0.139722</td>\n",
       "      <td>-0.038832</td>\n",
       "      <td>0.475237</td>\n",
       "    </tr>\n",
       "    <tr>\n",
       "      <th>f</th>\n",
       "      <td>-0.302565</td>\n",
       "      <td>-0.292386</td>\n",
       "      <td>-1.068755</td>\n",
       "    </tr>\n",
       "    <tr>\n",
       "      <th>h</th>\n",
       "      <td>-1.220479</td>\n",
       "      <td>0.414333</td>\n",
       "      <td>0.260448</td>\n",
       "    </tr>\n",
       "  </tbody>\n",
       "</table>\n",
       "</div>"
      ],
      "text/plain": [
       "         one        two     three\n",
       "a  10.000000  -2.317314 -0.249741\n",
       "c  -0.575932  10.000000  0.248711\n",
       "e  -0.139722  -0.038832  0.475237\n",
       "f  -0.302565  -0.292386 -1.068755\n",
       "h  -1.220479   0.414333  0.260448"
      ]
     },
     "execution_count": 14,
     "metadata": {},
     "output_type": "execute_result"
    }
   ],
   "source": [
    "df.fillna(10)"
   ]
  },
  {
   "cell_type": "markdown",
   "id": "2f92106f-ecf4-45e6-b0c9-9c8424b69afb",
   "metadata": {},
   "source": [
    "## 用最近的上一个有效值填补\n",
    "\n",
    "在**fillna**时将**method**参数设为 **\"ffill\"**，就会用之前最近的有效值代替NaN。"
   ]
  },
  {
   "cell_type": "code",
   "execution_count": 15,
   "id": "75bde239-7c0b-4ea9-86d4-0afca278072a",
   "metadata": {
    "tags": []
   },
   "outputs": [
    {
     "data": {
      "text/html": [
       "<div>\n",
       "<style scoped>\n",
       "    .dataframe tbody tr th:only-of-type {\n",
       "        vertical-align: middle;\n",
       "    }\n",
       "\n",
       "    .dataframe tbody tr th {\n",
       "        vertical-align: top;\n",
       "    }\n",
       "\n",
       "    .dataframe thead th {\n",
       "        text-align: right;\n",
       "    }\n",
       "</style>\n",
       "<table border=\"1\" class=\"dataframe\">\n",
       "  <thead>\n",
       "    <tr style=\"text-align: right;\">\n",
       "      <th></th>\n",
       "      <th>one</th>\n",
       "      <th>two</th>\n",
       "      <th>three</th>\n",
       "    </tr>\n",
       "  </thead>\n",
       "  <tbody>\n",
       "    <tr>\n",
       "      <th>a</th>\n",
       "      <td>NaN</td>\n",
       "      <td>-2.317314</td>\n",
       "      <td>-0.249741</td>\n",
       "    </tr>\n",
       "    <tr>\n",
       "      <th>c</th>\n",
       "      <td>-0.575932</td>\n",
       "      <td>-2.317314</td>\n",
       "      <td>0.248711</td>\n",
       "    </tr>\n",
       "    <tr>\n",
       "      <th>e</th>\n",
       "      <td>-0.139722</td>\n",
       "      <td>-0.038832</td>\n",
       "      <td>0.475237</td>\n",
       "    </tr>\n",
       "    <tr>\n",
       "      <th>f</th>\n",
       "      <td>-0.302565</td>\n",
       "      <td>-0.292386</td>\n",
       "      <td>-1.068755</td>\n",
       "    </tr>\n",
       "    <tr>\n",
       "      <th>h</th>\n",
       "      <td>-1.220479</td>\n",
       "      <td>0.414333</td>\n",
       "      <td>0.260448</td>\n",
       "    </tr>\n",
       "  </tbody>\n",
       "</table>\n",
       "</div>"
      ],
      "text/plain": [
       "        one       two     three\n",
       "a       NaN -2.317314 -0.249741\n",
       "c -0.575932 -2.317314  0.248711\n",
       "e -0.139722 -0.038832  0.475237\n",
       "f -0.302565 -0.292386 -1.068755\n",
       "h -1.220479  0.414333  0.260448"
      ]
     },
     "execution_count": 15,
     "metadata": {},
     "output_type": "execute_result"
    }
   ],
   "source": [
    "df.fillna(method=\"ffill\")"
   ]
  },
  {
   "cell_type": "markdown",
   "id": "2460f0e6-648c-42ac-8647-f457114b15ec",
   "metadata": {},
   "source": [
    "## 用最近的下一个有效值填补\n",
    "\n",
    "在**fillna**时将**method**参数设为 **\"bfill\"**，就会用之后最近的有效值代替NaN。"
   ]
  },
  {
   "cell_type": "code",
   "execution_count": 16,
   "id": "081e5087-b23c-40f6-965b-f48dacbfd6b1",
   "metadata": {
    "tags": []
   },
   "outputs": [
    {
     "data": {
      "text/html": [
       "<div>\n",
       "<style scoped>\n",
       "    .dataframe tbody tr th:only-of-type {\n",
       "        vertical-align: middle;\n",
       "    }\n",
       "\n",
       "    .dataframe tbody tr th {\n",
       "        vertical-align: top;\n",
       "    }\n",
       "\n",
       "    .dataframe thead th {\n",
       "        text-align: right;\n",
       "    }\n",
       "</style>\n",
       "<table border=\"1\" class=\"dataframe\">\n",
       "  <thead>\n",
       "    <tr style=\"text-align: right;\">\n",
       "      <th></th>\n",
       "      <th>one</th>\n",
       "      <th>two</th>\n",
       "      <th>three</th>\n",
       "    </tr>\n",
       "  </thead>\n",
       "  <tbody>\n",
       "    <tr>\n",
       "      <th>a</th>\n",
       "      <td>-0.575932</td>\n",
       "      <td>-2.317314</td>\n",
       "      <td>-0.249741</td>\n",
       "    </tr>\n",
       "    <tr>\n",
       "      <th>c</th>\n",
       "      <td>-0.575932</td>\n",
       "      <td>-0.038832</td>\n",
       "      <td>0.248711</td>\n",
       "    </tr>\n",
       "    <tr>\n",
       "      <th>e</th>\n",
       "      <td>-0.139722</td>\n",
       "      <td>-0.038832</td>\n",
       "      <td>0.475237</td>\n",
       "    </tr>\n",
       "    <tr>\n",
       "      <th>f</th>\n",
       "      <td>-0.302565</td>\n",
       "      <td>-0.292386</td>\n",
       "      <td>-1.068755</td>\n",
       "    </tr>\n",
       "    <tr>\n",
       "      <th>h</th>\n",
       "      <td>-1.220479</td>\n",
       "      <td>0.414333</td>\n",
       "      <td>0.260448</td>\n",
       "    </tr>\n",
       "  </tbody>\n",
       "</table>\n",
       "</div>"
      ],
      "text/plain": [
       "        one       two     three\n",
       "a -0.575932 -2.317314 -0.249741\n",
       "c -0.575932 -0.038832  0.248711\n",
       "e -0.139722 -0.038832  0.475237\n",
       "f -0.302565 -0.292386 -1.068755\n",
       "h -1.220479  0.414333  0.260448"
      ]
     },
     "execution_count": 16,
     "metadata": {},
     "output_type": "execute_result"
    }
   ],
   "source": [
    "df.fillna(method=\"bfill\")"
   ]
  },
  {
   "cell_type": "code",
   "execution_count": null,
   "id": "7e7459e4-331c-4878-86fa-42ab8e3a1886",
   "metadata": {},
   "outputs": [],
   "source": []
  }
 ],
 "metadata": {
  "kernelspec": {
   "display_name": "Python 3 (ipykernel)",
   "language": "python",
   "name": "python3"
  },
  "language_info": {
   "codemirror_mode": {
    "name": "ipython",
    "version": 3
   },
   "file_extension": ".py",
   "mimetype": "text/x-python",
   "name": "python",
   "nbconvert_exporter": "python",
   "pygments_lexer": "ipython3",
   "version": "3.11.9"
  },
  "toc-autonumbering": true
 },
 "nbformat": 4,
 "nbformat_minor": 5
}
