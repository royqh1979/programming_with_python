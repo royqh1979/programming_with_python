{
 "cells": [
  {
   "cell_type": "code",
   "id": "9193b7f3-c7f5-4d95-addb-84074ea7547d",
   "metadata": {
    "ExecuteTime": {
     "end_time": "2025-05-02T03:31:17.002175Z",
     "start_time": "2025-05-02T03:31:15.597621Z"
    }
   },
   "source": [
    "import numpy as np\n",
    "import pandas as pd\n",
    "\n",
    "df = pd.read_csv(\"学生成绩.csv\",encoding=\"GBK\")\n",
    "\n",
    "df.head()"
   ],
   "outputs": [
    {
     "data": {
      "text/plain": [
       "          学号    姓名    班级 性别  出生年份  籍贯  数学   语文  英语\n",
       "0  166241101   童绮琴  信管19  男  2001  天津  99   71  65\n",
       "1  166241102   酆友容  信管20  女  2002  广西  81   64  52\n",
       "2  166241103  端木孤菱  信管21  男  2002  湖南  67   90  98\n",
       "3  166241104   闳芳苓  信管22  女  2002  湖北  89  100  90\n",
       "4  166241105   温靖易  信管23  女  2002  吉林  80   70  77"
      ],
      "text/html": [
       "<div>\n",
       "<style scoped>\n",
       "    .dataframe tbody tr th:only-of-type {\n",
       "        vertical-align: middle;\n",
       "    }\n",
       "\n",
       "    .dataframe tbody tr th {\n",
       "        vertical-align: top;\n",
       "    }\n",
       "\n",
       "    .dataframe thead th {\n",
       "        text-align: right;\n",
       "    }\n",
       "</style>\n",
       "<table border=\"1\" class=\"dataframe\">\n",
       "  <thead>\n",
       "    <tr style=\"text-align: right;\">\n",
       "      <th></th>\n",
       "      <th>学号</th>\n",
       "      <th>姓名</th>\n",
       "      <th>班级</th>\n",
       "      <th>性别</th>\n",
       "      <th>出生年份</th>\n",
       "      <th>籍贯</th>\n",
       "      <th>数学</th>\n",
       "      <th>语文</th>\n",
       "      <th>英语</th>\n",
       "    </tr>\n",
       "  </thead>\n",
       "  <tbody>\n",
       "    <tr>\n",
       "      <th>0</th>\n",
       "      <td>166241101</td>\n",
       "      <td>童绮琴</td>\n",
       "      <td>信管19</td>\n",
       "      <td>男</td>\n",
       "      <td>2001</td>\n",
       "      <td>天津</td>\n",
       "      <td>99</td>\n",
       "      <td>71</td>\n",
       "      <td>65</td>\n",
       "    </tr>\n",
       "    <tr>\n",
       "      <th>1</th>\n",
       "      <td>166241102</td>\n",
       "      <td>酆友容</td>\n",
       "      <td>信管20</td>\n",
       "      <td>女</td>\n",
       "      <td>2002</td>\n",
       "      <td>广西</td>\n",
       "      <td>81</td>\n",
       "      <td>64</td>\n",
       "      <td>52</td>\n",
       "    </tr>\n",
       "    <tr>\n",
       "      <th>2</th>\n",
       "      <td>166241103</td>\n",
       "      <td>端木孤菱</td>\n",
       "      <td>信管21</td>\n",
       "      <td>男</td>\n",
       "      <td>2002</td>\n",
       "      <td>湖南</td>\n",
       "      <td>67</td>\n",
       "      <td>90</td>\n",
       "      <td>98</td>\n",
       "    </tr>\n",
       "    <tr>\n",
       "      <th>3</th>\n",
       "      <td>166241104</td>\n",
       "      <td>闳芳苓</td>\n",
       "      <td>信管22</td>\n",
       "      <td>女</td>\n",
       "      <td>2002</td>\n",
       "      <td>湖北</td>\n",
       "      <td>89</td>\n",
       "      <td>100</td>\n",
       "      <td>90</td>\n",
       "    </tr>\n",
       "    <tr>\n",
       "      <th>4</th>\n",
       "      <td>166241105</td>\n",
       "      <td>温靖易</td>\n",
       "      <td>信管23</td>\n",
       "      <td>女</td>\n",
       "      <td>2002</td>\n",
       "      <td>吉林</td>\n",
       "      <td>80</td>\n",
       "      <td>70</td>\n",
       "      <td>77</td>\n",
       "    </tr>\n",
       "  </tbody>\n",
       "</table>\n",
       "</div>"
      ]
     },
     "execution_count": 2,
     "metadata": {},
     "output_type": "execute_result"
    }
   ],
   "execution_count": 2
  },
  {
   "metadata": {
    "ExecuteTime": {
     "end_time": "2025-05-02T03:31:48.315175Z",
     "start_time": "2025-05-02T03:31:48.306890Z"
    }
   },
   "cell_type": "code",
   "source": [
    "#生成成绩列\n",
    "def get_score_cat(row):\n",
    "    average = (row[\"数学\"]+row[\"语文\"]+row[\"英语\"])/3\n",
    "    if average<60:\n",
    "        return \"不及格\"\n",
    "    elif average>=90:\n",
    "        return \"优秀\"\n",
    "    elif average>=80:\n",
    "        return \"良好\"\n",
    "    else:\n",
    "        return \"及格\"\n",
    "\n",
    "df[\"成绩\"] = df.apply(get_score_cat, axis=1)\n",
    "df.head()"
   ],
   "id": "589cd1f1a2f63f9e",
   "outputs": [
    {
     "data": {
      "text/plain": [
       "          学号    姓名    班级 性别  出生年份  籍贯  数学   语文  英语  成绩\n",
       "0  166241101   童绮琴  信管19  男  2001  天津  99   71  65  及格\n",
       "1  166241102   酆友容  信管20  女  2002  广西  81   64  52  及格\n",
       "2  166241103  端木孤菱  信管21  男  2002  湖南  67   90  98  良好\n",
       "3  166241104   闳芳苓  信管22  女  2002  湖北  89  100  90  优秀\n",
       "4  166241105   温靖易  信管23  女  2002  吉林  80   70  77  及格"
      ],
      "text/html": [
       "<div>\n",
       "<style scoped>\n",
       "    .dataframe tbody tr th:only-of-type {\n",
       "        vertical-align: middle;\n",
       "    }\n",
       "\n",
       "    .dataframe tbody tr th {\n",
       "        vertical-align: top;\n",
       "    }\n",
       "\n",
       "    .dataframe thead th {\n",
       "        text-align: right;\n",
       "    }\n",
       "</style>\n",
       "<table border=\"1\" class=\"dataframe\">\n",
       "  <thead>\n",
       "    <tr style=\"text-align: right;\">\n",
       "      <th></th>\n",
       "      <th>学号</th>\n",
       "      <th>姓名</th>\n",
       "      <th>班级</th>\n",
       "      <th>性别</th>\n",
       "      <th>出生年份</th>\n",
       "      <th>籍贯</th>\n",
       "      <th>数学</th>\n",
       "      <th>语文</th>\n",
       "      <th>英语</th>\n",
       "      <th>成绩</th>\n",
       "    </tr>\n",
       "  </thead>\n",
       "  <tbody>\n",
       "    <tr>\n",
       "      <th>0</th>\n",
       "      <td>166241101</td>\n",
       "      <td>童绮琴</td>\n",
       "      <td>信管19</td>\n",
       "      <td>男</td>\n",
       "      <td>2001</td>\n",
       "      <td>天津</td>\n",
       "      <td>99</td>\n",
       "      <td>71</td>\n",
       "      <td>65</td>\n",
       "      <td>及格</td>\n",
       "    </tr>\n",
       "    <tr>\n",
       "      <th>1</th>\n",
       "      <td>166241102</td>\n",
       "      <td>酆友容</td>\n",
       "      <td>信管20</td>\n",
       "      <td>女</td>\n",
       "      <td>2002</td>\n",
       "      <td>广西</td>\n",
       "      <td>81</td>\n",
       "      <td>64</td>\n",
       "      <td>52</td>\n",
       "      <td>及格</td>\n",
       "    </tr>\n",
       "    <tr>\n",
       "      <th>2</th>\n",
       "      <td>166241103</td>\n",
       "      <td>端木孤菱</td>\n",
       "      <td>信管21</td>\n",
       "      <td>男</td>\n",
       "      <td>2002</td>\n",
       "      <td>湖南</td>\n",
       "      <td>67</td>\n",
       "      <td>90</td>\n",
       "      <td>98</td>\n",
       "      <td>良好</td>\n",
       "    </tr>\n",
       "    <tr>\n",
       "      <th>3</th>\n",
       "      <td>166241104</td>\n",
       "      <td>闳芳苓</td>\n",
       "      <td>信管22</td>\n",
       "      <td>女</td>\n",
       "      <td>2002</td>\n",
       "      <td>湖北</td>\n",
       "      <td>89</td>\n",
       "      <td>100</td>\n",
       "      <td>90</td>\n",
       "      <td>优秀</td>\n",
       "    </tr>\n",
       "    <tr>\n",
       "      <th>4</th>\n",
       "      <td>166241105</td>\n",
       "      <td>温靖易</td>\n",
       "      <td>信管23</td>\n",
       "      <td>女</td>\n",
       "      <td>2002</td>\n",
       "      <td>吉林</td>\n",
       "      <td>80</td>\n",
       "      <td>70</td>\n",
       "      <td>77</td>\n",
       "      <td>及格</td>\n",
       "    </tr>\n",
       "  </tbody>\n",
       "</table>\n",
       "</div>"
      ]
     },
     "execution_count": 5,
     "metadata": {},
     "output_type": "execute_result"
    }
   ],
   "execution_count": 5
  },
  {
   "cell_type": "code",
   "id": "731d02c1-46b1-4038-9237-019e32712899",
   "metadata": {
    "ExecuteTime": {
     "end_time": "2025-05-02T03:32:28.362605Z",
     "start_time": "2025-05-02T03:32:28.358665Z"
    }
   },
   "source": [
    "#转换为分类型\n",
    "df[\"成绩\"]=df[\"成绩\"].astype(\"category\")"
   ],
   "outputs": [],
   "execution_count": 6
  },
  {
   "metadata": {
    "ExecuteTime": {
     "end_time": "2025-05-02T03:32:38.526711Z",
     "start_time": "2025-05-02T03:32:38.523418Z"
    }
   },
   "cell_type": "code",
   "source": [
    "#查看性别列的类型\n",
    "df[\"成绩\"].dtype"
   ],
   "id": "eeeeba7c9046d7a5",
   "outputs": [
    {
     "data": {
      "text/plain": [
       "CategoricalDtype(categories=['不及格', '优秀', '及格', '良好'], ordered=False, categories_dtype=object)"
      ]
     },
     "execution_count": 8,
     "metadata": {},
     "output_type": "execute_result"
    }
   ],
   "execution_count": 8
  },
  {
   "metadata": {
    "ExecuteTime": {
     "end_time": "2025-05-02T03:33:57.177432Z",
     "start_time": "2025-05-02T03:33:57.173063Z"
    }
   },
   "cell_type": "code",
   "source": "df[\"成绩\"]=df[\"成绩\"].cat.reorder_categories([\"不及格\",\"及格\",\"良好\",\"优秀\"],ordered=True)",
   "id": "5d3e768c11a83439",
   "outputs": [],
   "execution_count": 9
  },
  {
   "metadata": {
    "ExecuteTime": {
     "end_time": "2025-05-02T03:34:36.568637Z",
     "start_time": "2025-05-02T03:34:36.564640Z"
    }
   },
   "cell_type": "code",
   "source": "df[\"成绩\"].dtype",
   "id": "a9b2aeb41162c3f2",
   "outputs": [
    {
     "data": {
      "text/plain": [
       "CategoricalDtype(categories=['不及格', '及格', '良好', '优秀'], ordered=True, categories_dtype=object)"
      ]
     },
     "execution_count": 13,
     "metadata": {},
     "output_type": "execute_result"
    }
   ],
   "execution_count": 13
  },
  {
   "metadata": {
    "ExecuteTime": {
     "end_time": "2025-05-02T03:35:53.714293Z",
     "start_time": "2025-05-02T03:35:53.711006Z"
    }
   },
   "cell_type": "code",
   "source": [
    "#获取所有不同的类别\n",
    "df[\"成绩\"].cat.categories"
   ],
   "id": "1efad6f0b1c30d32",
   "outputs": [
    {
     "data": {
      "text/plain": [
       "Index(['不及格', '及格', '良好', '优秀'], dtype='object')"
      ]
     },
     "execution_count": 14,
     "metadata": {},
     "output_type": "execute_result"
    }
   ],
   "execution_count": 14
  },
  {
   "metadata": {
    "ExecuteTime": {
     "end_time": "2025-05-02T03:38:37.299145Z",
     "start_time": "2025-05-02T03:38:37.294119Z"
    }
   },
   "cell_type": "code",
   "source": [
    "#成绩列的描述性统计\n",
    "df[\"成绩\"].value_counts()"
   ],
   "id": "679cec8b2ce255d7",
   "outputs": [
    {
     "data": {
      "text/plain": [
       "成绩\n",
       "及格     40\n",
       "良好     15\n",
       "不及格     1\n",
       "优秀      1\n",
       "Name: count, dtype: int64"
      ]
     },
     "execution_count": 20,
     "metadata": {},
     "output_type": "execute_result"
    }
   ],
   "execution_count": 20
  },
  {
   "metadata": {},
   "cell_type": "code",
   "outputs": [],
   "execution_count": null,
   "source": "",
   "id": "d6e5e3cdb11d3de5"
  }
 ],
 "metadata": {
  "kernelspec": {
   "display_name": "Python 3 (ipykernel)",
   "language": "python",
   "name": "python3"
  },
  "language_info": {
   "codemirror_mode": {
    "name": "ipython",
    "version": 3
   },
   "file_extension": ".py",
   "mimetype": "text/x-python",
   "name": "python",
   "nbconvert_exporter": "python",
   "pygments_lexer": "ipython3",
   "version": "3.11.9"
  }
 },
 "nbformat": 4,
 "nbformat_minor": 5
}
