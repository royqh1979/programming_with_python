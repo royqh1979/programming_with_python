{
 "cells": [
  {
   "cell_type": "code",
   "id": "a561b8c460f4d5b8",
   "metadata": {
    "tags": [],
    "ExecuteTime": {
     "end_time": "2025-05-03T02:29:50.304593Z",
     "start_time": "2025-05-03T02:29:49.628365Z"
    }
   },
   "source": [
    "import pandas as pd\n",
    "import numpy as np\n",
    "\n",
    "#导入pyplot模块\n",
    "import matplotlib.pyplot as plt\n",
    "\n",
    "#使用中文字体\n",
    "from pylab import mpl\n",
    "mpl.rcParams['font.sans-serif']=\"Simsun\"\n",
    "mpl.rcParams['axes.unicode_minus']=False\n",
    "\n",
    "#使用svg格式，避免图形模糊\n",
    "%matplotlib inline\n",
    "%config InlineBackend.figure_format=\"svg\""
   ],
   "outputs": [],
   "execution_count": 1
  },
  {
   "metadata": {
    "ExecuteTime": {
     "end_time": "2025-05-03T02:30:45.440418Z",
     "start_time": "2025-05-03T02:30:45.431443Z"
    }
   },
   "cell_type": "code",
   "source": [
    "df = pd.DataFrame({'mass': [0.330, 4.87 , 5.97],\n",
    "                   'radius': [2439.7, 6051.8, 6378.1]},\n",
    "                  index=['Mercury', 'Venus', 'Earth'])\n",
    "df"
   ],
   "id": "581fbe89cc0b69fe",
   "outputs": [
    {
     "data": {
      "text/plain": [
       "         mass  radius\n",
       "Mercury  0.33  2439.7\n",
       "Venus    4.87  6051.8\n",
       "Earth    5.97  6378.1"
      ],
      "text/html": [
       "<div>\n",
       "<style scoped>\n",
       "    .dataframe tbody tr th:only-of-type {\n",
       "        vertical-align: middle;\n",
       "    }\n",
       "\n",
       "    .dataframe tbody tr th {\n",
       "        vertical-align: top;\n",
       "    }\n",
       "\n",
       "    .dataframe thead th {\n",
       "        text-align: right;\n",
       "    }\n",
       "</style>\n",
       "<table border=\"1\" class=\"dataframe\">\n",
       "  <thead>\n",
       "    <tr style=\"text-align: right;\">\n",
       "      <th></th>\n",
       "      <th>mass</th>\n",
       "      <th>radius</th>\n",
       "    </tr>\n",
       "  </thead>\n",
       "  <tbody>\n",
       "    <tr>\n",
       "      <th>Mercury</th>\n",
       "      <td>0.33</td>\n",
       "      <td>2439.7</td>\n",
       "    </tr>\n",
       "    <tr>\n",
       "      <th>Venus</th>\n",
       "      <td>4.87</td>\n",
       "      <td>6051.8</td>\n",
       "    </tr>\n",
       "    <tr>\n",
       "      <th>Earth</th>\n",
       "      <td>5.97</td>\n",
       "      <td>6378.1</td>\n",
       "    </tr>\n",
       "  </tbody>\n",
       "</table>\n",
       "</div>"
      ]
     },
     "execution_count": 4,
     "metadata": {},
     "output_type": "execute_result"
    }
   ],
   "execution_count": 4
  },
  {
   "metadata": {
    "ExecuteTime": {
     "end_time": "2025-05-03T02:33:49.207460Z",
     "start_time": "2025-05-03T02:33:49.152913Z"
    }
   },
   "cell_type": "code",
   "source": [
    "ax = df.plot.pie(y=\"mass\",figsize=(5,5))\n",
    "plt.show()"
   ],
   "id": "c579258e48cdb516",
   "outputs": [
    {
     "data": {
      "text/plain": [
       "<Figure size 500x500 with 1 Axes>"
      ],
      "image/svg+xml": "<?xml version=\"1.0\" encoding=\"utf-8\" standalone=\"no\"?>\n<!DOCTYPE svg PUBLIC \"-//W3C//DTD SVG 1.1//EN\"\n  \"http://www.w3.org/Graphics/SVG/1.1/DTD/svg11.dtd\">\n<svg xmlns:xlink=\"http://www.w3.org/1999/xlink\" width=\"321.880541pt\" height=\"291.6pt\" viewBox=\"0 0 321.880541 291.6\" xmlns=\"http://www.w3.org/2000/svg\" version=\"1.1\">\n <metadata>\n  <rdf:RDF xmlns:dc=\"http://purl.org/dc/elements/1.1/\" xmlns:cc=\"http://creativecommons.org/ns#\" xmlns:rdf=\"http://www.w3.org/1999/02/22-rdf-syntax-ns#\">\n   <cc:Work>\n    <dc:type rdf:resource=\"http://purl.org/dc/dcmitype/StillImage\"/>\n    <dc:date>2025-05-03T10:33:49.190810</dc:date>\n    <dc:format>image/svg+xml</dc:format>\n    <dc:creator>\n     <cc:Agent>\n      <dc:title>Matplotlib v3.10.1, https://matplotlib.org/</dc:title>\n     </cc:Agent>\n    </dc:creator>\n   </cc:Work>\n  </rdf:RDF>\n </metadata>\n <defs>\n  <style type=\"text/css\">*{stroke-linejoin: round; stroke-linecap: butt}</style>\n </defs>\n <g id=\"figure_1\">\n  <g id=\"patch_1\">\n   <path d=\"M -0 291.6 \nL 321.880541 291.6 \nL 321.880541 0 \nL -0 0 \nz\n\" style=\"fill: #ffffff\"/>\n  </g>\n  <g id=\"axes_1\">\n   <g id=\"patch_2\">\n    <path d=\"M 269.1175 145.8 \nC 269.1175 142.369002 268.95825 138.939851 268.640265 135.52362 \nC 268.322279 132.107389 267.8459 128.707757 267.212666 125.3357 \nL 158.2375 145.8 \nz\n\" style=\"fill: #1f77b4\"/>\n   </g>\n   <g id=\"patch_3\">\n    <path d=\"M 267.212666 125.3357 \nC 262.495854 100.218039 249.237018 77.48743 229.695429 61.017108 \nC 210.153839 44.546786 185.50628 35.328586 159.952632 34.933266 \nC 134.398983 34.537946 109.478073 42.98931 89.436358 58.84727 \nC 69.394643 74.70523 55.439025 97.014826 49.947505 121.974562 \nL 158.2375 145.8 \nz\n\" style=\"fill: #ff7f0e\"/>\n   </g>\n   <g id=\"patch_4\">\n    <path d=\"M 49.947505 121.974562 \nC 46.601584 137.18225 46.496418 152.925585 49.638874 168.176615 \nC 52.781331 183.427645 59.101493 197.84705 68.186688 210.493321 \nC 77.271884 223.139592 88.919977 233.731362 102.370411 241.577047 \nC 115.820845 249.422733 130.77436 254.347774 146.254576 256.030594 \nC 161.734791 257.713414 177.397286 256.116571 192.219387 251.344331 \nC 207.041488 246.57209 220.693416 238.730629 232.283778 228.331952 \nC 243.874139 217.933276 253.145058 205.208743 259.491195 190.989197 \nC 265.837333 176.769651 269.117493 161.371463 269.1175 145.800048 \nL 158.2375 145.8 \nz\n\" style=\"fill: #2ca02c\"/>\n   </g>\n   <g id=\"matplotlib.axis_1\"/>\n   <g id=\"matplotlib.axis_2\">\n    <g id=\"text_1\">\n     <!-- mass -->\n     <g transform=\"translate(14.348438 155.8) rotate(-90) scale(0.1 -0.1)\">\n      <defs>\n       <path id=\"SimSun-6d\" d=\"M 175 2900 \nQ 300 2900 425 2925 \nQ 550 2950 625 3000 \nL 675 3000 \nL 675 2575 \nQ 800 2775 950 2862 \nQ 1100 2950 1275 2950 \nQ 1500 2950 1625 2862 \nQ 1750 2775 1775 2575 \nQ 1900 2775 2062 2862 \nQ 2225 2950 2400 2950 \nQ 2700 2950 2812 2775 \nQ 2925 2600 2925 2325 \nL 2925 425 \nQ 2925 325 2975 287 \nQ 3025 250 3125 250 \nL 3175 250 \nL 3175 100 \nL 2325 100 \nL 2325 250 \nL 2375 250 \nQ 2475 250 2525 287 \nQ 2575 325 2575 425 \nL 2575 2300 \nQ 2575 2575 2512 2662 \nQ 2450 2750 2325 2750 \nQ 2150 2750 2012 2625 \nQ 1875 2500 1800 2275 \nL 1800 425 \nQ 1800 325 1850 287 \nQ 1900 250 2000 250 \nL 2050 250 \nL 2050 100 \nL 1200 100 \nL 1200 250 \nL 1250 250 \nQ 1350 250 1400 287 \nQ 1450 325 1450 425 \nL 1450 2300 \nQ 1450 2525 1400 2637 \nQ 1350 2750 1200 2750 \nQ 1025 2750 887 2625 \nQ 750 2500 675 2250 \nL 675 425 \nQ 675 325 725 287 \nQ 775 250 875 250 \nL 925 250 \nL 925 100 \nL 75 100 \nL 75 250 \nL 125 250 \nQ 225 250 275 287 \nQ 325 325 325 425 \nL 325 2600 \nQ 325 2675 300 2712 \nQ 275 2750 200 2750 \nL 100 2750 \nL 100 2900 \nL 175 2900 \nz\n\" transform=\"scale(0.015625)\"/>\n       <path id=\"SimSun-61\" d=\"M 1225 75 \nQ 775 75 525 287 \nQ 275 500 275 775 \nQ 275 1225 662 1512 \nQ 1050 1800 2200 1925 \nL 2200 2225 \nQ 2200 2475 2087 2637 \nQ 1975 2800 1575 2800 \nQ 1150 2800 975 2662 \nQ 800 2525 850 2375 \nQ 875 2325 875 2275 \nQ 875 2225 837 2150 \nQ 800 2075 650 2075 \nQ 550 2075 487 2137 \nQ 425 2200 425 2325 \nQ 425 2550 750 2750 \nQ 1075 2950 1550 2950 \nQ 2050 2950 2300 2762 \nQ 2550 2575 2550 2225 \nL 2550 575 \nQ 2550 375 2587 337 \nQ 2625 300 2725 300 \nQ 2850 300 2900 412 \nQ 2950 525 2950 725 \nL 3075 725 \nQ 3075 375 2950 237 \nQ 2825 100 2625 100 \nQ 2450 100 2350 175 \nQ 2250 250 2200 425 \nQ 1950 250 1737 162 \nQ 1525 75 1225 75 \nz\nM 700 850 \nQ 700 625 837 437 \nQ 975 250 1275 250 \nQ 1500 250 1725 337 \nQ 1950 425 2200 600 \nL 2200 1775 \nQ 1350 1675 1025 1437 \nQ 700 1200 700 850 \nz\n\" transform=\"scale(0.015625)\"/>\n       <path id=\"SimSun-73\" d=\"M 625 2175 \nQ 625 2550 912 2750 \nQ 1200 2950 1600 2950 \nQ 1825 2950 2025 2900 \nQ 2225 2825 2300 2825 \nQ 2375 2825 2425 2850 \nQ 2475 2875 2550 2950 \nL 2650 2125 \nL 2500 2100 \nQ 2400 2425 2162 2612 \nQ 1925 2800 1625 2800 \nQ 1300 2800 1112 2675 \nQ 925 2550 925 2325 \nQ 925 2125 1012 2012 \nQ 1100 1900 1325 1850 \nQ 1500 1775 1775 1700 \nQ 2025 1600 2250 1500 \nQ 2450 1400 2587 1237 \nQ 2725 1075 2725 875 \nQ 2725 500 2462 287 \nQ 2200 75 1700 75 \nQ 1375 75 1225 150 \nQ 1050 200 950 200 \nQ 875 200 787 162 \nQ 700 125 600 75 \nL 525 1000 \nL 675 1025 \nQ 750 625 1000 425 \nQ 1250 225 1700 225 \nQ 2050 225 2237 350 \nQ 2425 475 2425 725 \nQ 2425 900 2325 1012 \nQ 2225 1125 2125 1175 \nQ 1875 1275 1575 1400 \nQ 1275 1500 1050 1600 \nQ 825 1700 725 1850 \nQ 625 2000 625 2175 \nz\n\" transform=\"scale(0.015625)\"/>\n      </defs>\n      <use xlink:href=\"#SimSun-6d\"/>\n      <use xlink:href=\"#SimSun-61\" transform=\"translate(50 0)\"/>\n      <use xlink:href=\"#SimSun-73\" transform=\"translate(100 0)\"/>\n      <use xlink:href=\"#SimSun-73\" transform=\"translate(150 0)\"/>\n     </g>\n    </g>\n   </g>\n   <g id=\"text_2\">\n    <!-- Mercury -->\n    <g transform=\"translate(279.680541 137.425669) scale(0.1 -0.1)\">\n     <defs>\n      <path id=\"SimSun-4d\" d=\"M 2800 450 \nQ 2800 350 2862 300 \nQ 2925 250 3025 250 \nL 3125 250 \nL 3125 100 \nL 2050 100 \nL 2050 250 \nL 2175 250 \nQ 2300 250 2350 300 \nQ 2400 350 2400 450 \nL 2400 3725 \nL 2350 3725 \nL 1500 100 \nL 1350 100 \nL 575 3650 \nL 525 3650 \nL 525 450 \nQ 525 350 587 300 \nQ 650 250 750 250 \nL 825 250 \nL 825 100 \nL 75 100 \nL 75 250 \nL 150 250 \nQ 275 250 325 300 \nQ 375 350 375 450 \nL 375 4025 \nQ 375 4125 325 4175 \nQ 275 4225 150 4225 \nL 50 4225 \nL 50 4375 \nL 775 4375 \nL 1500 1025 \nL 1550 1025 \nL 2325 4375 \nL 3125 4375 \nL 3125 4225 \nL 3025 4225 \nQ 2925 4225 2862 4175 \nQ 2800 4125 2800 4025 \nL 2800 450 \nz\n\" transform=\"scale(0.015625)\"/>\n      <path id=\"SimSun-65\" d=\"M 2400 1650 \nQ 2425 2200 2212 2487 \nQ 2000 2775 1650 2775 \nQ 1275 2775 1037 2475 \nQ 800 2175 800 1650 \nL 2400 1650 \nz\nM 800 1500 \nQ 800 825 1062 537 \nQ 1325 250 1750 250 \nQ 2075 250 2300 437 \nQ 2525 625 2625 900 \nL 2750 850 \nQ 2675 575 2412 312 \nQ 2150 50 1700 50 \nQ 1125 50 762 425 \nQ 400 800 400 1500 \nQ 400 2125 762 2537 \nQ 1125 2950 1650 2950 \nQ 2125 2950 2475 2625 \nQ 2825 2300 2825 1500 \nL 800 1500 \nz\n\" transform=\"scale(0.015625)\"/>\n      <path id=\"SimSun-72\" d=\"M 1275 2125 \nQ 1525 2525 1812 2737 \nQ 2100 2950 2400 2950 \nQ 2650 2950 2787 2837 \nQ 2925 2725 2925 2575 \nQ 2925 2450 2862 2375 \nQ 2800 2300 2675 2300 \nQ 2550 2300 2487 2375 \nQ 2425 2450 2450 2575 \nQ 2450 2650 2425 2700 \nQ 2400 2750 2275 2750 \nQ 2075 2750 1787 2500 \nQ 1500 2250 1275 1800 \nL 1275 450 \nQ 1275 350 1337 300 \nQ 1400 250 1500 250 \nL 2050 250 \nL 2050 100 \nL 200 100 \nL 200 250 \nL 700 250 \nQ 825 250 875 300 \nQ 925 350 925 450 \nL 925 2525 \nQ 925 2625 875 2687 \nQ 825 2750 700 2750 \nL 225 2750 \nL 225 2900 \nL 425 2900 \nQ 600 2900 837 2937 \nQ 1075 2975 1200 3025 \nL 1275 3025 \nL 1275 2125 \nz\n\" transform=\"scale(0.015625)\"/>\n      <path id=\"SimSun-63\" d=\"M 2150 2225 \nQ 2150 2300 2175 2325 \nQ 2175 2350 2200 2425 \nQ 2225 2525 2100 2662 \nQ 1975 2800 1675 2800 \nQ 1300 2800 1037 2437 \nQ 775 2075 775 1475 \nQ 775 925 1000 587 \nQ 1225 250 1750 250 \nQ 2100 250 2337 475 \nQ 2575 700 2675 1000 \nL 2800 950 \nQ 2700 575 2425 312 \nQ 2150 50 1675 50 \nQ 1075 50 725 425 \nQ 375 800 375 1500 \nQ 375 2125 750 2537 \nQ 1125 2950 1725 2950 \nQ 2150 2950 2387 2725 \nQ 2625 2500 2625 2275 \nQ 2625 2125 2562 2062 \nQ 2500 2000 2375 2000 \nQ 2275 2000 2212 2062 \nQ 2150 2125 2150 2225 \nz\n\" transform=\"scale(0.015625)\"/>\n      <path id=\"SimSun-75\" d=\"M 1450 325 \nQ 1750 325 1962 475 \nQ 2175 625 2275 950 \nL 2275 2525 \nQ 2275 2625 2225 2687 \nQ 2175 2750 2050 2750 \nL 1900 2750 \nL 1900 2900 \nL 2050 2900 \nQ 2200 2900 2325 2925 \nQ 2450 2950 2575 3050 \nL 2625 3050 \nL 2625 600 \nQ 2625 500 2687 450 \nQ 2750 400 2850 400 \nL 3000 400 \nL 3000 250 \nL 2850 250 \nQ 2725 250 2600 212 \nQ 2475 175 2325 100 \nL 2275 100 \nL 2275 625 \nQ 2150 350 1900 212 \nQ 1650 75 1325 75 \nQ 925 75 725 300 \nQ 525 525 525 1025 \nL 525 2525 \nQ 525 2625 475 2687 \nQ 425 2750 300 2750 \nL 150 2750 \nL 150 2900 \nL 300 2900 \nQ 450 2900 575 2925 \nQ 700 2950 825 3050 \nL 875 3050 \nL 875 975 \nQ 875 625 1025 475 \nQ 1175 325 1450 325 \nz\n\" transform=\"scale(0.015625)\"/>\n      <path id=\"SimSun-79\" d=\"M 1650 800 \nL 1700 800 \nL 2250 2475 \nQ 2300 2600 2237 2675 \nQ 2175 2750 2075 2750 \nL 1925 2750 \nL 1925 2900 \nL 2975 2900 \nL 2975 2750 \nL 2825 2750 \nQ 2725 2750 2625 2675 \nQ 2525 2600 2475 2475 \nL 1625 0 \nQ 1500 -375 1312 -587 \nQ 1125 -800 825 -800 \nQ 650 -800 550 -737 \nQ 450 -675 450 -550 \nQ 450 -475 512 -400 \nQ 575 -325 700 -325 \nQ 800 -325 900 -425 \nQ 1000 -500 1050 -500 \nQ 1125 -500 1175 -475 \nQ 1225 -450 1250 -375 \nQ 1325 -250 1400 -62 \nQ 1475 125 1525 325 \nL 675 2525 \nQ 650 2625 562 2687 \nQ 475 2750 375 2750 \nL 275 2750 \nL 275 2900 \nL 1325 2900 \nL 1325 2750 \nL 1225 2750 \nQ 1125 2750 1075 2687 \nQ 1025 2625 1050 2500 \nL 1650 800 \nz\nM 950 2750 \nL 950 2750 \nz\nM 600 2750 \nL 600 2750 \nz\nM 2575 2750 \nL 2575 2750 \nz\nM 2325 2750 \nL 2325 2750 \nz\n\" transform=\"scale(0.015625)\"/>\n     </defs>\n     <use xlink:href=\"#SimSun-4d\"/>\n     <use xlink:href=\"#SimSun-65\" transform=\"translate(50 0)\"/>\n     <use xlink:href=\"#SimSun-72\" transform=\"translate(100 0)\"/>\n     <use xlink:href=\"#SimSun-63\" transform=\"translate(150 0)\"/>\n     <use xlink:href=\"#SimSun-75\" transform=\"translate(200 0)\"/>\n     <use xlink:href=\"#SimSun-72\" transform=\"translate(250 0)\"/>\n     <use xlink:href=\"#SimSun-79\" transform=\"translate(300 0)\"/>\n    </g>\n   </g>\n   <g id=\"text_3\">\n    <!-- Venus -->\n    <g transform=\"translate(160.124145 26.77628) scale(0.1 -0.1)\">\n     <defs>\n      <path id=\"SimSun-56\" d=\"M 2125 4225 \nL 2125 4375 \nL 3025 4375 \nL 3025 4225 \nL 2925 4225 \nQ 2825 4225 2737 4150 \nQ 2650 4075 2600 3875 \nL 1575 100 \nL 1425 100 \nL 500 3875 \nQ 475 4050 412 4137 \nQ 350 4225 225 4225 \nL 100 4225 \nL 100 4375 \nL 1175 4375 \nL 1175 4225 \nL 1075 4225 \nQ 950 4225 912 4150 \nQ 875 4075 900 3950 \nL 1600 1025 \nL 1650 1025 \nL 2400 3875 \nQ 2425 3975 2425 4025 \nQ 2425 4100 2387 4162 \nQ 2350 4225 2200 4225 \nL 2125 4225 \nz\nM 825 4225 \nL 825 4225 \nz\nM 425 4225 \nL 425 4225 \nz\nM 2700 4225 \nL 2700 4225 \nz\nM 2500 4225 \nL 2500 4225 \nz\n\" transform=\"scale(0.015625)\"/>\n      <path id=\"SimSun-6e\" d=\"M 200 100 \nL 200 250 \nL 325 250 \nQ 450 250 500 300 \nQ 550 350 550 450 \nL 550 2600 \nQ 550 2675 525 2712 \nQ 500 2750 425 2750 \nL 225 2750 \nL 225 2900 \nL 400 2900 \nQ 525 2900 637 2925 \nQ 750 2950 850 3025 \nL 900 3025 \nL 900 2450 \nQ 1125 2700 1350 2825 \nQ 1575 2950 1825 2950 \nQ 2250 2950 2450 2725 \nQ 2650 2500 2650 2050 \nL 2650 450 \nQ 2650 350 2712 300 \nQ 2775 250 2875 250 \nL 3000 250 \nL 3000 100 \nL 1950 100 \nL 1950 250 \nL 2075 250 \nQ 2200 250 2250 300 \nQ 2300 350 2300 450 \nL 2300 2125 \nQ 2300 2425 2175 2587 \nQ 2050 2750 1800 2750 \nQ 1575 2750 1337 2600 \nQ 1100 2450 900 2175 \nL 900 450 \nQ 900 350 962 300 \nQ 1025 250 1125 250 \nL 1250 250 \nL 1250 100 \nL 200 100 \nz\n\" transform=\"scale(0.015625)\"/>\n     </defs>\n     <use xlink:href=\"#SimSun-56\"/>\n     <use xlink:href=\"#SimSun-65\" transform=\"translate(50 0)\"/>\n     <use xlink:href=\"#SimSun-6e\" transform=\"translate(100 0)\"/>\n     <use xlink:href=\"#SimSun-75\" transform=\"translate(150 0)\"/>\n     <use xlink:href=\"#SimSun-73\" transform=\"translate(200 0)\"/>\n    </g>\n   </g>\n   <g id=\"text_4\">\n    <!-- Earth -->\n    <g transform=\"translate(120.056283 269.983341) scale(0.1 -0.1)\">\n     <defs>\n      <path id=\"SimSun-45\" d=\"M 200 4225 \nL 200 4375 \nL 2650 4375 \nL 2925 3525 \nL 2800 3475 \nQ 2600 3850 2375 4037 \nQ 2150 4225 1875 4225 \nL 1175 4225 \nQ 1075 4225 1012 4175 \nQ 950 4125 950 4025 \nL 950 2475 \nL 1675 2475 \nQ 1925 2475 2037 2600 \nQ 2150 2725 2150 2975 \nL 2150 3125 \nL 2300 3125 \nL 2300 1650 \nL 2150 1650 \nL 2150 1750 \nQ 2150 2025 2037 2175 \nQ 1925 2325 1675 2325 \nL 950 2325 \nL 950 450 \nQ 950 350 1012 300 \nQ 1075 250 1175 250 \nL 1825 250 \nQ 2200 250 2462 462 \nQ 2725 675 2875 1125 \nL 3000 1075 \nL 2725 100 \nL 175 100 \nL 175 250 \nL 325 250 \nQ 450 250 500 300 \nQ 550 350 550 450 \nL 550 4025 \nQ 550 4125 500 4175 \nQ 450 4225 325 4225 \nL 200 4225 \nz\n\" transform=\"scale(0.015625)\"/>\n      <path id=\"SimSun-74\" d=\"M 1500 900 \nQ 1500 550 1625 425 \nQ 1750 300 2000 300 \nQ 2250 300 2400 462 \nQ 2550 625 2600 925 \nL 2725 875 \nQ 2675 525 2462 300 \nQ 2250 75 1900 75 \nQ 1525 75 1337 300 \nQ 1150 525 1150 1000 \nL 1150 2750 \nL 400 2750 \nL 400 2900 \nL 600 2900 \nQ 900 2900 1087 3087 \nQ 1275 3275 1325 3675 \nL 1350 3875 \nL 1500 3875 \nL 1500 2900 \nL 2500 2900 \nL 2500 2750 \nL 1500 2750 \nL 1500 900 \nz\n\" transform=\"scale(0.015625)\"/>\n      <path id=\"SimSun-68\" d=\"M 200 100 \nL 200 250 \nL 325 250 \nQ 450 250 500 300 \nQ 550 350 550 450 \nL 550 4025 \nQ 550 4125 500 4175 \nQ 450 4225 325 4225 \nL 175 4225 \nL 175 4375 \nL 450 4375 \nQ 550 4375 650 4425 \nQ 750 4475 850 4575 \nL 900 4575 \nL 900 2450 \nQ 1125 2725 1362 2837 \nQ 1600 2950 1875 2950 \nQ 2250 2950 2450 2737 \nQ 2650 2525 2650 2075 \nL 2650 450 \nQ 2650 350 2712 300 \nQ 2775 250 2875 250 \nL 3000 250 \nL 3000 100 \nL 1950 100 \nL 1950 250 \nL 2075 250 \nQ 2200 250 2250 300 \nQ 2300 350 2300 450 \nL 2300 2025 \nQ 2300 2450 2162 2587 \nQ 2025 2725 1800 2725 \nQ 1600 2725 1362 2600 \nQ 1125 2475 900 2175 \nL 900 450 \nQ 900 350 962 300 \nQ 1025 250 1125 250 \nL 1250 250 \nL 1250 100 \nL 200 100 \nz\n\" transform=\"scale(0.015625)\"/>\n     </defs>\n     <use xlink:href=\"#SimSun-45\"/>\n     <use xlink:href=\"#SimSun-61\" transform=\"translate(50 0)\"/>\n     <use xlink:href=\"#SimSun-72\" transform=\"translate(100 0)\"/>\n     <use xlink:href=\"#SimSun-74\" transform=\"translate(150 0)\"/>\n     <use xlink:href=\"#SimSun-68\" transform=\"translate(200 0)\"/>\n    </g>\n   </g>\n   <g id=\"legend_1\">\n    <g id=\"patch_5\">\n     <path d=\"M 222.8375 55.5125 \nL 289.8375 55.5125 \nQ 291.8375 55.5125 291.8375 53.5125 \nL 291.8375 14.2 \nQ 291.8375 12.2 289.8375 12.2 \nL 222.8375 12.2 \nQ 220.8375 12.2 220.8375 14.2 \nL 220.8375 53.5125 \nQ 220.8375 55.5125 222.8375 55.5125 \nz\n\" style=\"fill: #ffffff; opacity: 0.8; stroke: #cccccc; stroke-linejoin: miter\"/>\n    </g>\n    <g id=\"patch_6\">\n     <path d=\"M 224.8375 23.348437 \nL 244.8375 23.348437 \nL 244.8375 16.348437 \nL 224.8375 16.348437 \nz\n\" style=\"fill: #1f77b4\"/>\n    </g>\n    <g id=\"text_5\">\n     <!-- Mercury -->\n     <g transform=\"translate(252.8375 23.348437) scale(0.1 -0.1)\">\n      <use xlink:href=\"#SimSun-4d\"/>\n      <use xlink:href=\"#SimSun-65\" transform=\"translate(50 0)\"/>\n      <use xlink:href=\"#SimSun-72\" transform=\"translate(100 0)\"/>\n      <use xlink:href=\"#SimSun-63\" transform=\"translate(150 0)\"/>\n      <use xlink:href=\"#SimSun-75\" transform=\"translate(200 0)\"/>\n      <use xlink:href=\"#SimSun-72\" transform=\"translate(250 0)\"/>\n      <use xlink:href=\"#SimSun-79\" transform=\"translate(300 0)\"/>\n     </g>\n    </g>\n    <g id=\"patch_7\">\n     <path d=\"M 224.8375 36.785937 \nL 244.8375 36.785937 \nL 244.8375 29.785937 \nL 224.8375 29.785937 \nz\n\" style=\"fill: #ff7f0e\"/>\n    </g>\n    <g id=\"text_6\">\n     <!-- Venus -->\n     <g transform=\"translate(252.8375 36.785937) scale(0.1 -0.1)\">\n      <use xlink:href=\"#SimSun-56\"/>\n      <use xlink:href=\"#SimSun-65\" transform=\"translate(50 0)\"/>\n      <use xlink:href=\"#SimSun-6e\" transform=\"translate(100 0)\"/>\n      <use xlink:href=\"#SimSun-75\" transform=\"translate(150 0)\"/>\n      <use xlink:href=\"#SimSun-73\" transform=\"translate(200 0)\"/>\n     </g>\n    </g>\n    <g id=\"patch_8\">\n     <path d=\"M 224.8375 50.223437 \nL 244.8375 50.223437 \nL 244.8375 43.223437 \nL 224.8375 43.223437 \nz\n\" style=\"fill: #2ca02c\"/>\n    </g>\n    <g id=\"text_7\">\n     <!-- Earth -->\n     <g transform=\"translate(252.8375 50.223437) scale(0.1 -0.1)\">\n      <use xlink:href=\"#SimSun-45\"/>\n      <use xlink:href=\"#SimSun-61\" transform=\"translate(50 0)\"/>\n      <use xlink:href=\"#SimSun-72\" transform=\"translate(100 0)\"/>\n      <use xlink:href=\"#SimSun-74\" transform=\"translate(150 0)\"/>\n      <use xlink:href=\"#SimSun-68\" transform=\"translate(200 0)\"/>\n     </g>\n    </g>\n   </g>\n  </g>\n </g>\n</svg>\n"
     },
     "metadata": {},
     "output_type": "display_data"
    }
   ],
   "execution_count": 10
  },
  {
   "metadata": {},
   "cell_type": "code",
   "outputs": [],
   "execution_count": null,
   "source": "",
   "id": "b701ae9c15db7f8a"
  }
 ],
 "metadata": {
  "kernelspec": {
   "display_name": "Python 3 (ipykernel)",
   "language": "python",
   "name": "python3"
  },
  "language_info": {
   "codemirror_mode": {
    "name": "ipython",
    "version": 3
   },
   "file_extension": ".py",
   "mimetype": "text/x-python",
   "name": "python",
   "nbconvert_exporter": "python",
   "pygments_lexer": "ipython3",
   "version": "3.11.9"
  },
  "toc-autonumbering": true
 },
 "nbformat": 4,
 "nbformat_minor": 5
}
