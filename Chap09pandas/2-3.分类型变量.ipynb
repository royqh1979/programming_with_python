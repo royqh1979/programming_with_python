{
 "cells": [
  {
   "cell_type": "code",
   "id": "9193b7f3-c7f5-4d95-addb-84074ea7547d",
   "metadata": {
    "ExecuteTime": {
     "end_time": "2025-05-02T03:03:43.659225Z",
     "start_time": "2025-05-02T03:03:42.438284Z"
    }
   },
   "source": [
    "import numpy as np\n",
    "import pandas as pd\n",
    "\n",
    "df = pd.read_csv(\"学生成绩.csv\",encoding=\"GBK\")\n",
    "\n",
    "df.head()"
   ],
   "outputs": [
    {
     "data": {
      "text/plain": [
       "          学号    姓名    班级 性别  出生年份  籍贯  数学   语文  英语\n",
       "0  166241101   童绮琴  信管19  男  2001  天津  99   71  65\n",
       "1  166241102   酆友容  信管20  女  2002  广西  81   64  52\n",
       "2  166241103  端木孤菱  信管21  男  2002  湖南  67   90  98\n",
       "3  166241104   闳芳苓  信管22  女  2002  湖北  89  100  90\n",
       "4  166241105   温靖易  信管23  女  2002  吉林  80   70  77"
      ],
      "text/html": [
       "<div>\n",
       "<style scoped>\n",
       "    .dataframe tbody tr th:only-of-type {\n",
       "        vertical-align: middle;\n",
       "    }\n",
       "\n",
       "    .dataframe tbody tr th {\n",
       "        vertical-align: top;\n",
       "    }\n",
       "\n",
       "    .dataframe thead th {\n",
       "        text-align: right;\n",
       "    }\n",
       "</style>\n",
       "<table border=\"1\" class=\"dataframe\">\n",
       "  <thead>\n",
       "    <tr style=\"text-align: right;\">\n",
       "      <th></th>\n",
       "      <th>学号</th>\n",
       "      <th>姓名</th>\n",
       "      <th>班级</th>\n",
       "      <th>性别</th>\n",
       "      <th>出生年份</th>\n",
       "      <th>籍贯</th>\n",
       "      <th>数学</th>\n",
       "      <th>语文</th>\n",
       "      <th>英语</th>\n",
       "    </tr>\n",
       "  </thead>\n",
       "  <tbody>\n",
       "    <tr>\n",
       "      <th>0</th>\n",
       "      <td>166241101</td>\n",
       "      <td>童绮琴</td>\n",
       "      <td>信管19</td>\n",
       "      <td>男</td>\n",
       "      <td>2001</td>\n",
       "      <td>天津</td>\n",
       "      <td>99</td>\n",
       "      <td>71</td>\n",
       "      <td>65</td>\n",
       "    </tr>\n",
       "    <tr>\n",
       "      <th>1</th>\n",
       "      <td>166241102</td>\n",
       "      <td>酆友容</td>\n",
       "      <td>信管20</td>\n",
       "      <td>女</td>\n",
       "      <td>2002</td>\n",
       "      <td>广西</td>\n",
       "      <td>81</td>\n",
       "      <td>64</td>\n",
       "      <td>52</td>\n",
       "    </tr>\n",
       "    <tr>\n",
       "      <th>2</th>\n",
       "      <td>166241103</td>\n",
       "      <td>端木孤菱</td>\n",
       "      <td>信管21</td>\n",
       "      <td>男</td>\n",
       "      <td>2002</td>\n",
       "      <td>湖南</td>\n",
       "      <td>67</td>\n",
       "      <td>90</td>\n",
       "      <td>98</td>\n",
       "    </tr>\n",
       "    <tr>\n",
       "      <th>3</th>\n",
       "      <td>166241104</td>\n",
       "      <td>闳芳苓</td>\n",
       "      <td>信管22</td>\n",
       "      <td>女</td>\n",
       "      <td>2002</td>\n",
       "      <td>湖北</td>\n",
       "      <td>89</td>\n",
       "      <td>100</td>\n",
       "      <td>90</td>\n",
       "    </tr>\n",
       "    <tr>\n",
       "      <th>4</th>\n",
       "      <td>166241105</td>\n",
       "      <td>温靖易</td>\n",
       "      <td>信管23</td>\n",
       "      <td>女</td>\n",
       "      <td>2002</td>\n",
       "      <td>吉林</td>\n",
       "      <td>80</td>\n",
       "      <td>70</td>\n",
       "      <td>77</td>\n",
       "    </tr>\n",
       "  </tbody>\n",
       "</table>\n",
       "</div>"
      ]
     },
     "execution_count": 1,
     "metadata": {},
     "output_type": "execute_result"
    }
   ],
   "execution_count": 1
  },
  {
   "metadata": {
    "ExecuteTime": {
     "end_time": "2025-05-02T03:03:43.685610Z",
     "start_time": "2025-05-02T03:03:43.681170Z"
    }
   },
   "cell_type": "code",
   "source": [
    "#查看性别列的类型\n",
    "df[\"性别\"].dtype"
   ],
   "id": "589cd1f1a2f63f9e",
   "outputs": [
    {
     "data": {
      "text/plain": [
       "dtype('O')"
      ]
     },
     "execution_count": 2,
     "metadata": {},
     "output_type": "execute_result"
    }
   ],
   "execution_count": 2
  },
  {
   "cell_type": "code",
   "id": "731d02c1-46b1-4038-9237-019e32712899",
   "metadata": {
    "ExecuteTime": {
     "end_time": "2025-05-02T03:03:43.726283Z",
     "start_time": "2025-05-02T03:03:43.720172Z"
    }
   },
   "source": [
    "#转换为分类型\n",
    "df[\"性别\"]=df[\"性别\"].astype(\"category\")"
   ],
   "outputs": [],
   "execution_count": 3
  },
  {
   "metadata": {
    "ExecuteTime": {
     "end_time": "2025-05-02T03:03:43.792422Z",
     "start_time": "2025-05-02T03:03:43.789105Z"
    }
   },
   "cell_type": "code",
   "source": [
    "#查看性别列的类型\n",
    "df[\"性别\"].dtype"
   ],
   "id": "eeeeba7c9046d7a5",
   "outputs": [
    {
     "data": {
      "text/plain": [
       "CategoricalDtype(categories=['女', '男'], ordered=False, categories_dtype=object)"
      ]
     },
     "execution_count": 4,
     "metadata": {},
     "output_type": "execute_result"
    }
   ],
   "execution_count": 4
  },
  {
   "metadata": {
    "ExecuteTime": {
     "end_time": "2025-05-02T03:03:43.835327Z",
     "start_time": "2025-05-02T03:03:43.827333Z"
    }
   },
   "cell_type": "code",
   "source": [
    "#0-1独热编码\n",
    "pd.get_dummies(df[\"性别\"])"
   ],
   "id": "5d3e768c11a83439",
   "outputs": [
    {
     "data": {
      "text/plain": [
       "        女      男\n",
       "0   False   True\n",
       "1    True  False\n",
       "2   False   True\n",
       "3    True  False\n",
       "4    True  False\n",
       "5    True  False\n",
       "6   False   True\n",
       "7    True  False\n",
       "8   False   True\n",
       "9    True  False\n",
       "10   True  False\n",
       "11   True  False\n",
       "12   True  False\n",
       "13  False   True\n",
       "14   True  False\n",
       "15   True  False\n",
       "16  False   True\n",
       "17  False   True\n",
       "18  False   True\n",
       "19  False   True\n",
       "20  False   True\n",
       "21   True  False\n",
       "22  False   True\n",
       "23   True  False\n",
       "24  False   True\n",
       "25   True  False\n",
       "26   True  False\n",
       "27   True  False\n",
       "28   True  False\n",
       "29  False   True\n",
       "30  False   True\n",
       "31  False   True\n",
       "32  False   True\n",
       "33  False   True\n",
       "34   True  False\n",
       "35  False   True\n",
       "36  False   True\n",
       "37   True  False\n",
       "38   True  False\n",
       "39   True  False\n",
       "40   True  False\n",
       "41  False   True\n",
       "42   True  False\n",
       "43   True  False\n",
       "44  False   True\n",
       "45  False   True\n",
       "46  False   True\n",
       "47  False   True\n",
       "48  False   True\n",
       "49  False   True\n",
       "50   True  False\n",
       "51   True  False\n",
       "52  False   True\n",
       "53  False   True\n",
       "54   True  False\n",
       "55  False   True\n",
       "56  False   True"
      ],
      "text/html": [
       "<div>\n",
       "<style scoped>\n",
       "    .dataframe tbody tr th:only-of-type {\n",
       "        vertical-align: middle;\n",
       "    }\n",
       "\n",
       "    .dataframe tbody tr th {\n",
       "        vertical-align: top;\n",
       "    }\n",
       "\n",
       "    .dataframe thead th {\n",
       "        text-align: right;\n",
       "    }\n",
       "</style>\n",
       "<table border=\"1\" class=\"dataframe\">\n",
       "  <thead>\n",
       "    <tr style=\"text-align: right;\">\n",
       "      <th></th>\n",
       "      <th>女</th>\n",
       "      <th>男</th>\n",
       "    </tr>\n",
       "  </thead>\n",
       "  <tbody>\n",
       "    <tr>\n",
       "      <th>0</th>\n",
       "      <td>False</td>\n",
       "      <td>True</td>\n",
       "    </tr>\n",
       "    <tr>\n",
       "      <th>1</th>\n",
       "      <td>True</td>\n",
       "      <td>False</td>\n",
       "    </tr>\n",
       "    <tr>\n",
       "      <th>2</th>\n",
       "      <td>False</td>\n",
       "      <td>True</td>\n",
       "    </tr>\n",
       "    <tr>\n",
       "      <th>3</th>\n",
       "      <td>True</td>\n",
       "      <td>False</td>\n",
       "    </tr>\n",
       "    <tr>\n",
       "      <th>4</th>\n",
       "      <td>True</td>\n",
       "      <td>False</td>\n",
       "    </tr>\n",
       "    <tr>\n",
       "      <th>5</th>\n",
       "      <td>True</td>\n",
       "      <td>False</td>\n",
       "    </tr>\n",
       "    <tr>\n",
       "      <th>6</th>\n",
       "      <td>False</td>\n",
       "      <td>True</td>\n",
       "    </tr>\n",
       "    <tr>\n",
       "      <th>7</th>\n",
       "      <td>True</td>\n",
       "      <td>False</td>\n",
       "    </tr>\n",
       "    <tr>\n",
       "      <th>8</th>\n",
       "      <td>False</td>\n",
       "      <td>True</td>\n",
       "    </tr>\n",
       "    <tr>\n",
       "      <th>9</th>\n",
       "      <td>True</td>\n",
       "      <td>False</td>\n",
       "    </tr>\n",
       "    <tr>\n",
       "      <th>10</th>\n",
       "      <td>True</td>\n",
       "      <td>False</td>\n",
       "    </tr>\n",
       "    <tr>\n",
       "      <th>11</th>\n",
       "      <td>True</td>\n",
       "      <td>False</td>\n",
       "    </tr>\n",
       "    <tr>\n",
       "      <th>12</th>\n",
       "      <td>True</td>\n",
       "      <td>False</td>\n",
       "    </tr>\n",
       "    <tr>\n",
       "      <th>13</th>\n",
       "      <td>False</td>\n",
       "      <td>True</td>\n",
       "    </tr>\n",
       "    <tr>\n",
       "      <th>14</th>\n",
       "      <td>True</td>\n",
       "      <td>False</td>\n",
       "    </tr>\n",
       "    <tr>\n",
       "      <th>15</th>\n",
       "      <td>True</td>\n",
       "      <td>False</td>\n",
       "    </tr>\n",
       "    <tr>\n",
       "      <th>16</th>\n",
       "      <td>False</td>\n",
       "      <td>True</td>\n",
       "    </tr>\n",
       "    <tr>\n",
       "      <th>17</th>\n",
       "      <td>False</td>\n",
       "      <td>True</td>\n",
       "    </tr>\n",
       "    <tr>\n",
       "      <th>18</th>\n",
       "      <td>False</td>\n",
       "      <td>True</td>\n",
       "    </tr>\n",
       "    <tr>\n",
       "      <th>19</th>\n",
       "      <td>False</td>\n",
       "      <td>True</td>\n",
       "    </tr>\n",
       "    <tr>\n",
       "      <th>20</th>\n",
       "      <td>False</td>\n",
       "      <td>True</td>\n",
       "    </tr>\n",
       "    <tr>\n",
       "      <th>21</th>\n",
       "      <td>True</td>\n",
       "      <td>False</td>\n",
       "    </tr>\n",
       "    <tr>\n",
       "      <th>22</th>\n",
       "      <td>False</td>\n",
       "      <td>True</td>\n",
       "    </tr>\n",
       "    <tr>\n",
       "      <th>23</th>\n",
       "      <td>True</td>\n",
       "      <td>False</td>\n",
       "    </tr>\n",
       "    <tr>\n",
       "      <th>24</th>\n",
       "      <td>False</td>\n",
       "      <td>True</td>\n",
       "    </tr>\n",
       "    <tr>\n",
       "      <th>25</th>\n",
       "      <td>True</td>\n",
       "      <td>False</td>\n",
       "    </tr>\n",
       "    <tr>\n",
       "      <th>26</th>\n",
       "      <td>True</td>\n",
       "      <td>False</td>\n",
       "    </tr>\n",
       "    <tr>\n",
       "      <th>27</th>\n",
       "      <td>True</td>\n",
       "      <td>False</td>\n",
       "    </tr>\n",
       "    <tr>\n",
       "      <th>28</th>\n",
       "      <td>True</td>\n",
       "      <td>False</td>\n",
       "    </tr>\n",
       "    <tr>\n",
       "      <th>29</th>\n",
       "      <td>False</td>\n",
       "      <td>True</td>\n",
       "    </tr>\n",
       "    <tr>\n",
       "      <th>30</th>\n",
       "      <td>False</td>\n",
       "      <td>True</td>\n",
       "    </tr>\n",
       "    <tr>\n",
       "      <th>31</th>\n",
       "      <td>False</td>\n",
       "      <td>True</td>\n",
       "    </tr>\n",
       "    <tr>\n",
       "      <th>32</th>\n",
       "      <td>False</td>\n",
       "      <td>True</td>\n",
       "    </tr>\n",
       "    <tr>\n",
       "      <th>33</th>\n",
       "      <td>False</td>\n",
       "      <td>True</td>\n",
       "    </tr>\n",
       "    <tr>\n",
       "      <th>34</th>\n",
       "      <td>True</td>\n",
       "      <td>False</td>\n",
       "    </tr>\n",
       "    <tr>\n",
       "      <th>35</th>\n",
       "      <td>False</td>\n",
       "      <td>True</td>\n",
       "    </tr>\n",
       "    <tr>\n",
       "      <th>36</th>\n",
       "      <td>False</td>\n",
       "      <td>True</td>\n",
       "    </tr>\n",
       "    <tr>\n",
       "      <th>37</th>\n",
       "      <td>True</td>\n",
       "      <td>False</td>\n",
       "    </tr>\n",
       "    <tr>\n",
       "      <th>38</th>\n",
       "      <td>True</td>\n",
       "      <td>False</td>\n",
       "    </tr>\n",
       "    <tr>\n",
       "      <th>39</th>\n",
       "      <td>True</td>\n",
       "      <td>False</td>\n",
       "    </tr>\n",
       "    <tr>\n",
       "      <th>40</th>\n",
       "      <td>True</td>\n",
       "      <td>False</td>\n",
       "    </tr>\n",
       "    <tr>\n",
       "      <th>41</th>\n",
       "      <td>False</td>\n",
       "      <td>True</td>\n",
       "    </tr>\n",
       "    <tr>\n",
       "      <th>42</th>\n",
       "      <td>True</td>\n",
       "      <td>False</td>\n",
       "    </tr>\n",
       "    <tr>\n",
       "      <th>43</th>\n",
       "      <td>True</td>\n",
       "      <td>False</td>\n",
       "    </tr>\n",
       "    <tr>\n",
       "      <th>44</th>\n",
       "      <td>False</td>\n",
       "      <td>True</td>\n",
       "    </tr>\n",
       "    <tr>\n",
       "      <th>45</th>\n",
       "      <td>False</td>\n",
       "      <td>True</td>\n",
       "    </tr>\n",
       "    <tr>\n",
       "      <th>46</th>\n",
       "      <td>False</td>\n",
       "      <td>True</td>\n",
       "    </tr>\n",
       "    <tr>\n",
       "      <th>47</th>\n",
       "      <td>False</td>\n",
       "      <td>True</td>\n",
       "    </tr>\n",
       "    <tr>\n",
       "      <th>48</th>\n",
       "      <td>False</td>\n",
       "      <td>True</td>\n",
       "    </tr>\n",
       "    <tr>\n",
       "      <th>49</th>\n",
       "      <td>False</td>\n",
       "      <td>True</td>\n",
       "    </tr>\n",
       "    <tr>\n",
       "      <th>50</th>\n",
       "      <td>True</td>\n",
       "      <td>False</td>\n",
       "    </tr>\n",
       "    <tr>\n",
       "      <th>51</th>\n",
       "      <td>True</td>\n",
       "      <td>False</td>\n",
       "    </tr>\n",
       "    <tr>\n",
       "      <th>52</th>\n",
       "      <td>False</td>\n",
       "      <td>True</td>\n",
       "    </tr>\n",
       "    <tr>\n",
       "      <th>53</th>\n",
       "      <td>False</td>\n",
       "      <td>True</td>\n",
       "    </tr>\n",
       "    <tr>\n",
       "      <th>54</th>\n",
       "      <td>True</td>\n",
       "      <td>False</td>\n",
       "    </tr>\n",
       "    <tr>\n",
       "      <th>55</th>\n",
       "      <td>False</td>\n",
       "      <td>True</td>\n",
       "    </tr>\n",
       "    <tr>\n",
       "      <th>56</th>\n",
       "      <td>False</td>\n",
       "      <td>True</td>\n",
       "    </tr>\n",
       "  </tbody>\n",
       "</table>\n",
       "</div>"
      ]
     },
     "execution_count": 5,
     "metadata": {},
     "output_type": "execute_result"
    }
   ],
   "execution_count": 5
  },
  {
   "metadata": {
    "ExecuteTime": {
     "end_time": "2025-05-02T03:03:43.944169Z",
     "start_time": "2025-05-02T03:03:43.938682Z"
    }
   },
   "cell_type": "code",
   "source": [
    "#序数编码\n",
    "pd.factorize(df[\"性别\"])"
   ],
   "id": "a9b2aeb41162c3f2",
   "outputs": [
    {
     "data": {
      "text/plain": [
       "(array([0, 1, 0, 1, 1, 1, 0, 1, 0, 1, 1, 1, 1, 0, 1, 1, 0, 0, 0, 0, 0, 1,\n",
       "        0, 1, 0, 1, 1, 1, 1, 0, 0, 0, 0, 0, 1, 0, 0, 1, 1, 1, 1, 0, 1, 1,\n",
       "        0, 0, 0, 0, 0, 0, 1, 1, 0, 0, 1, 0, 0], dtype=int64),\n",
       " CategoricalIndex(['男', '女'], categories=['女', '男'], ordered=False, dtype='category'))"
      ]
     },
     "execution_count": 6,
     "metadata": {},
     "output_type": "execute_result"
    }
   ],
   "execution_count": 6
  },
  {
   "metadata": {
    "ExecuteTime": {
     "end_time": "2025-05-02T03:07:19.403796Z",
     "start_time": "2025-05-02T03:07:19.399967Z"
    }
   },
   "cell_type": "code",
   "source": [
    "#获取所有不同的类别\n",
    "df[\"性别\"].cat.categories"
   ],
   "id": "1efad6f0b1c30d32",
   "outputs": [
    {
     "data": {
      "text/plain": [
       "Index(['女', '男'], dtype='object')"
      ]
     },
     "execution_count": 9,
     "metadata": {},
     "output_type": "execute_result"
    }
   ],
   "execution_count": 9
  },
  {
   "metadata": {
    "ExecuteTime": {
     "end_time": "2025-05-02T03:03:44.098245Z",
     "start_time": "2025-05-02T03:03:44.092348Z"
    }
   },
   "cell_type": "code",
   "source": [
    "#性别列的描述性统计\n",
    "df[\"性别\"].describe()"
   ],
   "id": "679cec8b2ce255d7",
   "outputs": [
    {
     "data": {
      "text/plain": [
       "count     57\n",
       "unique     2\n",
       "top        男\n",
       "freq      30\n",
       "Name: 性别, dtype: object"
      ]
     },
     "execution_count": 8,
     "metadata": {},
     "output_type": "execute_result"
    }
   ],
   "execution_count": 8
  },
  {
   "metadata": {
    "ExecuteTime": {
     "end_time": "2025-05-02T03:39:11.423390Z",
     "start_time": "2025-05-02T03:39:11.416997Z"
    }
   },
   "cell_type": "code",
   "source": "df[\"性别\"].value_counts()",
   "id": "5716e40fddd43cd9",
   "outputs": [
    {
     "data": {
      "text/plain": [
       "性别\n",
       "男    30\n",
       "女    27\n",
       "Name: count, dtype: int64"
      ]
     },
     "execution_count": 10,
     "metadata": {},
     "output_type": "execute_result"
    }
   ],
   "execution_count": 10
  },
  {
   "metadata": {},
   "cell_type": "code",
   "outputs": [],
   "execution_count": null,
   "source": "",
   "id": "205006d47f35d6ed"
  }
 ],
 "metadata": {
  "kernelspec": {
   "display_name": "Python 3 (ipykernel)",
   "language": "python",
   "name": "python3"
  },
  "language_info": {
   "codemirror_mode": {
    "name": "ipython",
    "version": 3
   },
   "file_extension": ".py",
   "mimetype": "text/x-python",
   "name": "python",
   "nbconvert_exporter": "python",
   "pygments_lexer": "ipython3",
   "version": "3.11.9"
  }
 },
 "nbformat": 4,
 "nbformat_minor": 5
}
