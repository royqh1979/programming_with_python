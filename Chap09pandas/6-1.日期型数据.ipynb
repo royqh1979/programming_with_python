{
 "cells": [
  {
   "cell_type": "code",
   "id": "9193b7f3-c7f5-4d95-addb-84074ea7547d",
   "metadata": {
    "ExecuteTime": {
     "end_time": "2025-05-03T09:45:50.687449Z",
     "start_time": "2025-05-03T09:45:50.354623Z"
    }
   },
   "source": [
    "import numpy as np\n",
    "import pandas as pd\n",
    "\n",
    "df = pd.read_csv(\"bank_stock.csv\", encoding=\"GBK\")\n",
    "\n",
    "df.head()"
   ],
   "outputs": [
    {
     "data": {
      "text/plain": [
       "           日期     股票代码    名称    收盘价    最高价    最低价    开盘价    前收盘   涨跌额     涨跌幅  \\\n",
       "0  2019-02-15  '600000  浦发银行  10.66  10.85  10.66  10.78  10.82 -0.16 -1.4787   \n",
       "1  2019-02-14  '600000  浦发银行  10.82  10.91  10.80  10.85  10.86 -0.04 -0.3683   \n",
       "2  2019-02-13  '600000  浦发银行  10.86  10.93  10.68  10.74  10.72  0.14  1.3060   \n",
       "3  2019-02-12  '600000  浦发银行  10.72  10.73  10.63  10.71  10.70  0.02  0.1869   \n",
       "4  2019-02-11  '600000  浦发银行  10.70  10.73  10.62  10.62  10.77 -0.07 -0.6500   \n",
       "\n",
       "      换手率       成交量         成交金额           总市值          流通市值  \n",
       "0  0.0632  17758789  190960435.0  3.128932e+11  2.995861e+11  \n",
       "1  0.0705  19815286  215023175.0  3.175895e+11  3.040827e+11  \n",
       "2  0.1076  30248695  325845959.0  3.187636e+11  3.052069e+11  \n",
       "3  0.0597  16769601  179099038.0  3.146543e+11  3.012723e+11  \n",
       "4  0.0719  20216568  215903077.0  3.140673e+11  3.007103e+11  "
      ],
      "text/html": [
       "<div>\n",
       "<style scoped>\n",
       "    .dataframe tbody tr th:only-of-type {\n",
       "        vertical-align: middle;\n",
       "    }\n",
       "\n",
       "    .dataframe tbody tr th {\n",
       "        vertical-align: top;\n",
       "    }\n",
       "\n",
       "    .dataframe thead th {\n",
       "        text-align: right;\n",
       "    }\n",
       "</style>\n",
       "<table border=\"1\" class=\"dataframe\">\n",
       "  <thead>\n",
       "    <tr style=\"text-align: right;\">\n",
       "      <th></th>\n",
       "      <th>日期</th>\n",
       "      <th>股票代码</th>\n",
       "      <th>名称</th>\n",
       "      <th>收盘价</th>\n",
       "      <th>最高价</th>\n",
       "      <th>最低价</th>\n",
       "      <th>开盘价</th>\n",
       "      <th>前收盘</th>\n",
       "      <th>涨跌额</th>\n",
       "      <th>涨跌幅</th>\n",
       "      <th>换手率</th>\n",
       "      <th>成交量</th>\n",
       "      <th>成交金额</th>\n",
       "      <th>总市值</th>\n",
       "      <th>流通市值</th>\n",
       "    </tr>\n",
       "  </thead>\n",
       "  <tbody>\n",
       "    <tr>\n",
       "      <th>0</th>\n",
       "      <td>2019-02-15</td>\n",
       "      <td>'600000</td>\n",
       "      <td>浦发银行</td>\n",
       "      <td>10.66</td>\n",
       "      <td>10.85</td>\n",
       "      <td>10.66</td>\n",
       "      <td>10.78</td>\n",
       "      <td>10.82</td>\n",
       "      <td>-0.16</td>\n",
       "      <td>-1.4787</td>\n",
       "      <td>0.0632</td>\n",
       "      <td>17758789</td>\n",
       "      <td>190960435.0</td>\n",
       "      <td>3.128932e+11</td>\n",
       "      <td>2.995861e+11</td>\n",
       "    </tr>\n",
       "    <tr>\n",
       "      <th>1</th>\n",
       "      <td>2019-02-14</td>\n",
       "      <td>'600000</td>\n",
       "      <td>浦发银行</td>\n",
       "      <td>10.82</td>\n",
       "      <td>10.91</td>\n",
       "      <td>10.80</td>\n",
       "      <td>10.85</td>\n",
       "      <td>10.86</td>\n",
       "      <td>-0.04</td>\n",
       "      <td>-0.3683</td>\n",
       "      <td>0.0705</td>\n",
       "      <td>19815286</td>\n",
       "      <td>215023175.0</td>\n",
       "      <td>3.175895e+11</td>\n",
       "      <td>3.040827e+11</td>\n",
       "    </tr>\n",
       "    <tr>\n",
       "      <th>2</th>\n",
       "      <td>2019-02-13</td>\n",
       "      <td>'600000</td>\n",
       "      <td>浦发银行</td>\n",
       "      <td>10.86</td>\n",
       "      <td>10.93</td>\n",
       "      <td>10.68</td>\n",
       "      <td>10.74</td>\n",
       "      <td>10.72</td>\n",
       "      <td>0.14</td>\n",
       "      <td>1.3060</td>\n",
       "      <td>0.1076</td>\n",
       "      <td>30248695</td>\n",
       "      <td>325845959.0</td>\n",
       "      <td>3.187636e+11</td>\n",
       "      <td>3.052069e+11</td>\n",
       "    </tr>\n",
       "    <tr>\n",
       "      <th>3</th>\n",
       "      <td>2019-02-12</td>\n",
       "      <td>'600000</td>\n",
       "      <td>浦发银行</td>\n",
       "      <td>10.72</td>\n",
       "      <td>10.73</td>\n",
       "      <td>10.63</td>\n",
       "      <td>10.71</td>\n",
       "      <td>10.70</td>\n",
       "      <td>0.02</td>\n",
       "      <td>0.1869</td>\n",
       "      <td>0.0597</td>\n",
       "      <td>16769601</td>\n",
       "      <td>179099038.0</td>\n",
       "      <td>3.146543e+11</td>\n",
       "      <td>3.012723e+11</td>\n",
       "    </tr>\n",
       "    <tr>\n",
       "      <th>4</th>\n",
       "      <td>2019-02-11</td>\n",
       "      <td>'600000</td>\n",
       "      <td>浦发银行</td>\n",
       "      <td>10.70</td>\n",
       "      <td>10.73</td>\n",
       "      <td>10.62</td>\n",
       "      <td>10.62</td>\n",
       "      <td>10.77</td>\n",
       "      <td>-0.07</td>\n",
       "      <td>-0.6500</td>\n",
       "      <td>0.0719</td>\n",
       "      <td>20216568</td>\n",
       "      <td>215903077.0</td>\n",
       "      <td>3.140673e+11</td>\n",
       "      <td>3.007103e+11</td>\n",
       "    </tr>\n",
       "  </tbody>\n",
       "</table>\n",
       "</div>"
      ]
     },
     "execution_count": 1,
     "metadata": {},
     "output_type": "execute_result"
    }
   ],
   "execution_count": 1
  },
  {
   "metadata": {
    "ExecuteTime": {
     "end_time": "2025-05-03T09:45:52.361424Z",
     "start_time": "2025-05-03T09:45:52.354334Z"
    }
   },
   "cell_type": "code",
   "source": "df[\"日期\"]=pd.to_datetime(df[\"日期\"])",
   "id": "589cd1f1a2f63f9e",
   "outputs": [],
   "execution_count": 2
  },
  {
   "cell_type": "code",
   "id": "731d02c1-46b1-4038-9237-019e32712899",
   "metadata": {
    "ExecuteTime": {
     "end_time": "2025-05-03T09:45:57.346833Z",
     "start_time": "2025-05-03T09:45:57.342633Z"
    }
   },
   "source": "df.dtypes",
   "outputs": [
    {
     "data": {
      "text/plain": [
       "日期      datetime64[ns]\n",
       "股票代码            object\n",
       "名称              object\n",
       "收盘价            float64\n",
       "最高价            float64\n",
       "最低价            float64\n",
       "开盘价            float64\n",
       "前收盘            float64\n",
       "涨跌额            float64\n",
       "涨跌幅            float64\n",
       "换手率            float64\n",
       "成交量              int64\n",
       "成交金额           float64\n",
       "总市值            float64\n",
       "流通市值           float64\n",
       "dtype: object"
      ]
     },
     "execution_count": 3,
     "metadata": {},
     "output_type": "execute_result"
    }
   ],
   "execution_count": 3
  },
  {
   "metadata": {
    "ExecuteTime": {
     "end_time": "2025-05-03T09:46:02.318617Z",
     "start_time": "2025-05-03T09:46:02.313008Z"
    }
   },
   "cell_type": "code",
   "source": [
    "#获取年份\n",
    "df[\"日期\"].dt.year"
   ],
   "id": "2735fe0266a0c7c2",
   "outputs": [
    {
     "data": {
      "text/plain": [
       "0       2019\n",
       "1       2019\n",
       "2       2019\n",
       "3       2019\n",
       "4       2019\n",
       "        ... \n",
       "1243    2014\n",
       "1244    2014\n",
       "1245    2014\n",
       "1246    2014\n",
       "1247    2014\n",
       "Name: 日期, Length: 1248, dtype: int32"
      ]
     },
     "execution_count": 4,
     "metadata": {},
     "output_type": "execute_result"
    }
   ],
   "execution_count": 4
  },
  {
   "metadata": {
    "ExecuteTime": {
     "end_time": "2025-05-03T09:46:05.889749Z",
     "start_time": "2025-05-03T09:46:05.883160Z"
    }
   },
   "cell_type": "code",
   "source": [
    "#计算相差的天数\n",
    "diff=df[\"日期\"]-pd.to_datetime(\"2018-1-1\")\n",
    "diff.dt.days"
   ],
   "id": "24672bf8e27d8089",
   "outputs": [
    {
     "data": {
      "text/plain": [
       "0        410\n",
       "1        409\n",
       "2        408\n",
       "3        407\n",
       "4        406\n",
       "        ... \n",
       "1243   -1454\n",
       "1244   -1455\n",
       "1245   -1456\n",
       "1246   -1459\n",
       "1247   -1460\n",
       "Name: 日期, Length: 1248, dtype: int64"
      ]
     },
     "execution_count": 5,
     "metadata": {},
     "output_type": "execute_result"
    }
   ],
   "execution_count": 5
  },
  {
   "metadata": {
    "ExecuteTime": {
     "end_time": "2025-05-03T09:46:08.391905Z",
     "start_time": "2025-05-03T09:46:08.385116Z"
    }
   },
   "cell_type": "code",
   "source": [
    "#计算相差的月份\n",
    "end_date = pd.to_datetime(\"2018-1-1\")\n",
    "(df[\"日期\"].dt.year-end_date.year)*12+(df[\"日期\"].dt.month-end_date.month)"
   ],
   "id": "6112e939cdc82314",
   "outputs": [
    {
     "data": {
      "text/plain": [
       "0       13\n",
       "1       13\n",
       "2       13\n",
       "3       13\n",
       "4       13\n",
       "        ..\n",
       "1243   -48\n",
       "1244   -48\n",
       "1245   -48\n",
       "1246   -48\n",
       "1247   -48\n",
       "Name: 日期, Length: 1248, dtype: int32"
      ]
     },
     "execution_count": 6,
     "metadata": {},
     "output_type": "execute_result"
    }
   ],
   "execution_count": 6
  },
  {
   "metadata": {},
   "cell_type": "code",
   "outputs": [],
   "execution_count": null,
   "source": "",
   "id": "e7236b95f8a2d3ad"
  }
 ],
 "metadata": {
  "kernelspec": {
   "display_name": "Python 3 (ipykernel)",
   "language": "python",
   "name": "python3"
  },
  "language_info": {
   "codemirror_mode": {
    "name": "ipython",
    "version": 3
   },
   "file_extension": ".py",
   "mimetype": "text/x-python",
   "name": "python",
   "nbconvert_exporter": "python",
   "pygments_lexer": "ipython3",
   "version": "3.11.9"
  }
 },
 "nbformat": 4,
 "nbformat_minor": 5
}
